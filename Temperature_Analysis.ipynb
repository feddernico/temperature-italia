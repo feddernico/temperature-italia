{
  "nbformat": 4,
  "nbformat_minor": 5,
  "metadata": {
    "noteable-chatgpt": {
      "create_notebook": {
        "openai_conversation_id": "eaee611d-6cc6-5f36-9b62-cfa371307b93",
        "openai_ephemeral_user_id": "be039cd3-9340-5470-933a-47ea4a13b329"
      }
    },
    "kernel_info": {
      "name": "python3"
    },
    "noteable": {
      "last_transaction_id": "dea565b6-0bd2-406f-af7e-3d08a110dea7"
    },
    "kernelspec": {
      "display_name": "Python 3.9",
      "language": "python",
      "name": "python3"
    },
    "selected_hardware_size": "small"
  },
  "cells": [
    {
      "id": "b492f677-eb05-4734-828e-a8a3c4f045bd",
      "cell_type": "code",
      "metadata": {
        "noteable": {
          "cell_type": "code",
          "output_collection_id": "7b2cfe03-9e32-43cd-af11-62d03f80f8cd"
        },
        "ExecuteTime": {
          "end_time": "2023-08-05T04:18:00.897867+00:00",
          "start_time": "2023-08-05T04:18:00.462437+00:00"
        }
      },
      "execution_count": null,
      "source": "import pandas as pd\nfile_path = 'Tavole-Dati-Meteoclimatici-Anno-2021.xlsx'\nxls = pd.ExcelFile(file_path)\nsheet_names = xls.sheet_names\nsheet_names",
      "outputs": []
    },
    {
      "id": "a0bd0904-d0b1-43fc-9f76-e6851fe3f8ee",
      "cell_type": "code",
      "metadata": {
        "noteable": {
          "cell_type": "code",
          "output_collection_id": "a704fb1e-8a6d-4558-a480-eb587635261e"
        },
        "ExecuteTime": {
          "end_time": "2023-08-05T04:19:11.414142+00:00",
          "start_time": "2023-08-05T04:19:10.882970+00:00"
        },
        "datalink": {
          "f1022e5d-93e3-4444-9e38-55a0e6641ea5": {
            "applied_filters": [],
            "dataframe_info": {
              "default_index_used": true,
              "orig_num_cols": 34,
              "orig_num_rows": 5,
              "orig_size_bytes": 1400,
              "truncated_num_cols": 34,
              "truncated_num_rows": 5,
              "truncated_size_bytes": 1400,
              "truncated_string_columns": []
            },
            "display_id": "f1022e5d-93e3-4444-9e38-55a0e6641ea5",
            "dx_settings": {
              "ALLOW_NOTEABLE_ATTRS": true,
              "COLUMN_SAMPLING_METHOD": "outer",
              "DB_LOCATION": ":memory:",
              "DEV_MODE": false,
              "DISPLAY_MAX_COLUMNS": 100,
              "DISPLAY_MAX_ROWS": 50000,
              "DISPLAY_MODE": "simple",
              "ENABLE_ASSIGNMENT": true,
              "ENABLE_DATALINK": true,
              "FLATTEN_COLUMN_VALUES": true,
              "FLATTEN_INDEX_VALUES": false,
              "GENERATE_DEX_METADATA": false,
              "HTML_TABLE_SCHEMA": false,
              "LOG_LEVEL": 30,
              "MAX_RENDER_SIZE_BYTES": 104857600,
              "MAX_STRING_LENGTH": 250,
              "NUM_PAST_SAMPLES_TRACKED": 3,
              "RANDOM_STATE": 12648430,
              "RESET_INDEX_VALUES": false,
              "ROW_SAMPLING_METHOD": "random",
              "SAMPLING_FACTOR": 0.1,
              "SAMPLING_METHOD": "random",
              "STRINGIFY_COLUMN_VALUES": true,
              "STRINGIFY_INDEX_VALUES": false
            },
            "sample_history": [],
            "sampling_time": "2023-08-05T04:19:11.251301",
            "user_variable_name": null,
            "variable_name": "unk_dataframe_6970a44ab5374c73853da4e29d7b4e40"
          }
        }
      },
      "execution_count": null,
      "source": "tavola_1_df = pd.read_excel(file_path, sheet_name='Tavola_1')\ntavola_1_df.head()",
      "outputs": []
    },
    {
      "id": "1a11096c-d7f1-456a-a35f-54388d0ad74d",
      "cell_type": "code",
      "metadata": {
        "noteable": {
          "cell_type": "code",
          "output_collection_id": "7a5525ea-7f41-4667-9cdc-cc803c0b445c"
        },
        "ExecuteTime": {
          "end_time": "2023-08-05T04:20:16.956119+00:00",
          "start_time": "2023-08-05T04:20:16.766074+00:00"
        },
        "datalink": {
          "ef390c1f-85e0-4c0a-9a29-b33c541ac6a4": {
            "applied_filters": [],
            "dataframe_info": {
              "default_index_used": false,
              "orig_num_cols": 1,
              "orig_num_rows": 34,
              "orig_size_bytes": 544,
              "truncated_num_cols": 1,
              "truncated_num_rows": 34,
              "truncated_size_bytes": 544,
              "truncated_string_columns": []
            },
            "display_id": "ef390c1f-85e0-4c0a-9a29-b33c541ac6a4",
            "dx_settings": {
              "ALLOW_NOTEABLE_ATTRS": true,
              "COLUMN_SAMPLING_METHOD": "outer",
              "DB_LOCATION": ":memory:",
              "DEV_MODE": false,
              "DISPLAY_MAX_COLUMNS": 100,
              "DISPLAY_MAX_ROWS": 50000,
              "DISPLAY_MODE": "simple",
              "ENABLE_ASSIGNMENT": true,
              "ENABLE_DATALINK": true,
              "FLATTEN_COLUMN_VALUES": true,
              "FLATTEN_INDEX_VALUES": false,
              "GENERATE_DEX_METADATA": false,
              "HTML_TABLE_SCHEMA": false,
              "LOG_LEVEL": 30,
              "MAX_RENDER_SIZE_BYTES": 104857600,
              "MAX_STRING_LENGTH": 250,
              "NUM_PAST_SAMPLES_TRACKED": 3,
              "RANDOM_STATE": 12648430,
              "RESET_INDEX_VALUES": false,
              "ROW_SAMPLING_METHOD": "random",
              "SAMPLING_FACTOR": 0.1,
              "SAMPLING_METHOD": "random",
              "STRINGIFY_COLUMN_VALUES": true,
              "STRINGIFY_INDEX_VALUES": false
            },
            "sample_history": [],
            "sampling_time": "2023-08-05T04:20:16.799639",
            "user_variable_name": null,
            "variable_name": "unk_dataframe_4cced1ed9ec0413692ce16f492b0c5cb"
          }
        }
      },
      "execution_count": null,
      "source": "tavola_1_df.dtypes",
      "outputs": []
    },
    {
      "id": "3fc5d6e1-aa93-45df-9cde-99dbc36c95ee",
      "cell_type": "code",
      "metadata": {
        "noteable": {
          "cell_type": "code",
          "output_collection_id": "2f51d0b5-1552-4bcf-b603-03a60526ef56"
        },
        "ExecuteTime": {
          "end_time": "2023-08-05T04:23:49.290000+00:00",
          "start_time": "2023-08-05T04:23:48.661565+00:00"
        },
        "datalink": {
          "711dc651-1af3-4be5-8fc1-b21db7bc7a40": {
            "applied_filters": [],
            "dataframe_info": {
              "default_index_used": true,
              "orig_num_cols": 34,
              "orig_num_rows": 5,
              "orig_size_bytes": 1400,
              "truncated_num_cols": 34,
              "truncated_num_rows": 5,
              "truncated_size_bytes": 1400,
              "truncated_string_columns": []
            },
            "display_id": "711dc651-1af3-4be5-8fc1-b21db7bc7a40",
            "dx_settings": {
              "ALLOW_NOTEABLE_ATTRS": true,
              "COLUMN_SAMPLING_METHOD": "outer",
              "DB_LOCATION": ":memory:",
              "DEV_MODE": false,
              "DISPLAY_MAX_COLUMNS": 100,
              "DISPLAY_MAX_ROWS": 50000,
              "DISPLAY_MODE": "simple",
              "ENABLE_ASSIGNMENT": true,
              "ENABLE_DATALINK": true,
              "FLATTEN_COLUMN_VALUES": true,
              "FLATTEN_INDEX_VALUES": false,
              "GENERATE_DEX_METADATA": false,
              "HTML_TABLE_SCHEMA": false,
              "LOG_LEVEL": 30,
              "MAX_RENDER_SIZE_BYTES": 104857600,
              "MAX_STRING_LENGTH": 250,
              "NUM_PAST_SAMPLES_TRACKED": 3,
              "RANDOM_STATE": 12648430,
              "RESET_INDEX_VALUES": false,
              "ROW_SAMPLING_METHOD": "random",
              "SAMPLING_FACTOR": 0.1,
              "SAMPLING_METHOD": "random",
              "STRINGIFY_COLUMN_VALUES": true,
              "STRINGIFY_INDEX_VALUES": false
            },
            "sample_history": [],
            "sampling_time": "2023-08-05T04:23:49.127678",
            "user_variable_name": null,
            "variable_name": "unk_dataframe_f3afc78dda7e470dbb6a6f30fec2bb33"
          }
        }
      },
      "execution_count": null,
      "source": "tavola_1_df = pd.read_excel(file_path, sheet_name='Tavola_1', header=3)\ntavola_1_df.head()",
      "outputs": []
    },
    {
      "id": "a25c83a7-89fb-4f17-b1a1-8e71ee45e535",
      "cell_type": "code",
      "metadata": {
        "noteable": {
          "cell_type": "code",
          "output_collection_id": "46e4b7ce-f1bc-4df2-9a62-7c222d0f33ae"
        },
        "ExecuteTime": {
          "end_time": "2023-08-05T04:24:51.969119+00:00",
          "start_time": "2023-08-05T04:24:51.636104+00:00"
        },
        "datalink": {
          "bcc62391-2ee4-47c5-afa8-baca133fedeb": {
            "applied_filters": [],
            "dataframe_info": {
              "default_index_used": true,
              "orig_num_cols": 34,
              "orig_num_rows": 5,
              "orig_size_bytes": 1400,
              "truncated_num_cols": 34,
              "truncated_num_rows": 5,
              "truncated_size_bytes": 1400,
              "truncated_string_columns": []
            },
            "display_id": "bcc62391-2ee4-47c5-afa8-baca133fedeb",
            "dx_settings": {
              "ALLOW_NOTEABLE_ATTRS": true,
              "COLUMN_SAMPLING_METHOD": "outer",
              "DB_LOCATION": ":memory:",
              "DEV_MODE": false,
              "DISPLAY_MAX_COLUMNS": 100,
              "DISPLAY_MAX_ROWS": 50000,
              "DISPLAY_MODE": "simple",
              "ENABLE_ASSIGNMENT": true,
              "ENABLE_DATALINK": true,
              "FLATTEN_COLUMN_VALUES": true,
              "FLATTEN_INDEX_VALUES": false,
              "GENERATE_DEX_METADATA": false,
              "HTML_TABLE_SCHEMA": false,
              "LOG_LEVEL": 30,
              "MAX_RENDER_SIZE_BYTES": 104857600,
              "MAX_STRING_LENGTH": 250,
              "NUM_PAST_SAMPLES_TRACKED": 3,
              "RANDOM_STATE": 12648430,
              "RESET_INDEX_VALUES": false,
              "ROW_SAMPLING_METHOD": "random",
              "SAMPLING_FACTOR": 0.1,
              "SAMPLING_METHOD": "random",
              "STRINGIFY_COLUMN_VALUES": true,
              "STRINGIFY_INDEX_VALUES": false
            },
            "sample_history": [],
            "sampling_time": "2023-08-05T04:24:51.806301",
            "user_variable_name": null,
            "variable_name": "unk_dataframe_fd74acff6dd34715b9ec27abc7a6dcb7"
          }
        }
      },
      "execution_count": null,
      "source": "tavola_1_df.rename(columns={'Unnamed: 0': 'City'}, inplace=True)\ntavola_1_df.head()",
      "outputs": []
    },
    {
      "id": "8af9d0e0-e8b5-44a0-bb9b-d40a603b1793",
      "cell_type": "code",
      "metadata": {
        "noteable": {
          "cell_type": "code",
          "output_collection_id": "d6e02f6f-b7e5-40ea-be32-bcc78337027a"
        },
        "ExecuteTime": {
          "end_time": "2023-08-05T04:27:09.813705+00:00",
          "start_time": "2023-08-05T04:27:09.606425+00:00"
        },
        "datalink": {
          "ab811830-1be9-4c4b-a739-7dff44df69f3": {
            "applied_filters": [],
            "dataframe_info": {
              "default_index_used": true,
              "orig_num_cols": 3,
              "orig_num_rows": 5,
              "orig_size_bytes": 160,
              "truncated_num_cols": 3,
              "truncated_num_rows": 5,
              "truncated_size_bytes": 160,
              "truncated_string_columns": []
            },
            "display_id": "ab811830-1be9-4c4b-a739-7dff44df69f3",
            "dx_settings": {
              "ALLOW_NOTEABLE_ATTRS": true,
              "COLUMN_SAMPLING_METHOD": "outer",
              "DB_LOCATION": ":memory:",
              "DEV_MODE": false,
              "DISPLAY_MAX_COLUMNS": 100,
              "DISPLAY_MAX_ROWS": 50000,
              "DISPLAY_MODE": "simple",
              "ENABLE_ASSIGNMENT": true,
              "ENABLE_DATALINK": true,
              "FLATTEN_COLUMN_VALUES": true,
              "FLATTEN_INDEX_VALUES": false,
              "GENERATE_DEX_METADATA": false,
              "HTML_TABLE_SCHEMA": false,
              "LOG_LEVEL": 30,
              "MAX_RENDER_SIZE_BYTES": 104857600,
              "MAX_STRING_LENGTH": 250,
              "NUM_PAST_SAMPLES_TRACKED": 3,
              "RANDOM_STATE": 12648430,
              "RESET_INDEX_VALUES": false,
              "ROW_SAMPLING_METHOD": "random",
              "SAMPLING_FACTOR": 0.1,
              "SAMPLING_METHOD": "random",
              "STRINGIFY_COLUMN_VALUES": true,
              "STRINGIFY_INDEX_VALUES": false
            },
            "sample_history": [],
            "sampling_time": "2023-08-05T04:27:09.657154",
            "user_variable_name": null,
            "variable_name": "unk_dataframe_5e912266b5584a6c9a8c90a862caecd0"
          }
        }
      },
      "execution_count": null,
      "source": "tavola_1_long_df = tavola_1_df.melt(id_vars=['City'], var_name='Year', value_name='Temperature')\ntavola_1_long_df = tavola_1_long_df[tavola_1_long_df['Year'].apply(lambda x: str(x).isnumeric())]\ntavola_1_long_df['Year'] = tavola_1_long_df['Year'].astype(int)\ntavola_1_long_df.head()",
      "outputs": []
    },
    {
      "id": "78340b3f-8aca-4866-a30c-684e46b462c6",
      "cell_type": "code",
      "metadata": {
        "noteable": {
          "cell_type": "code",
          "output_collection_id": "86a2bbb2-ba4f-4799-8ff2-cff93577687a"
        },
        "ExecuteTime": {
          "end_time": "2023-08-05T04:28:21.487325+00:00",
          "start_time": "2023-08-05T04:28:20.450474+00:00"
        }
      },
      "execution_count": null,
      "source": "import matplotlib.pyplot as plt\nvercelli_data = tavola_1_long_df[tavola_1_long_df['City'] == 'Vercelli']\nplt.figure(figsize=(10, 6))\nplt.plot(vercelli_data['Year'], vercelli_data['Temperature'], marker='o')\nplt.title('Average Temperatures in Vercelli (2006-2021)')\nplt.xlabel('Year')\nplt.ylabel('Temperature (°C)')\nplt.grid(True)\nplt.show()",
      "outputs": []
    },
    {
      "id": "97477e3e-99ca-419c-a7f8-0fcec4a43a0e",
      "cell_type": "code",
      "metadata": {
        "noteable": {
          "cell_type": "code",
          "output_collection_id": "de709da2-9c48-4d4e-83b8-7735b71e9441"
        },
        "ExecuteTime": {
          "end_time": "2023-08-05T04:32:48.270810+00:00",
          "start_time": "2023-08-05T04:32:47.823268+00:00"
        },
        "datalink": {
          "1181827c-a109-4f59-979d-8916bff85d3f": {
            "applied_filters": [],
            "dataframe_info": {
              "default_index_used": true,
              "orig_num_cols": 16,
              "orig_num_rows": 5,
              "orig_size_bytes": 680,
              "truncated_num_cols": 16,
              "truncated_num_rows": 5,
              "truncated_size_bytes": 680,
              "truncated_string_columns": []
            },
            "display_id": "1181827c-a109-4f59-979d-8916bff85d3f",
            "dx_settings": {
              "ALLOW_NOTEABLE_ATTRS": true,
              "COLUMN_SAMPLING_METHOD": "outer",
              "DB_LOCATION": ":memory:",
              "DEV_MODE": false,
              "DISPLAY_MAX_COLUMNS": 100,
              "DISPLAY_MAX_ROWS": 50000,
              "DISPLAY_MODE": "simple",
              "ENABLE_ASSIGNMENT": true,
              "ENABLE_DATALINK": true,
              "FLATTEN_COLUMN_VALUES": true,
              "FLATTEN_INDEX_VALUES": false,
              "GENERATE_DEX_METADATA": false,
              "HTML_TABLE_SCHEMA": false,
              "LOG_LEVEL": 30,
              "MAX_RENDER_SIZE_BYTES": 104857600,
              "MAX_STRING_LENGTH": 250,
              "NUM_PAST_SAMPLES_TRACKED": 3,
              "RANDOM_STATE": 12648430,
              "RESET_INDEX_VALUES": false,
              "ROW_SAMPLING_METHOD": "random",
              "SAMPLING_FACTOR": 0.1,
              "SAMPLING_METHOD": "random",
              "STRINGIFY_COLUMN_VALUES": true,
              "STRINGIFY_INDEX_VALUES": false
            },
            "sample_history": [],
            "sampling_time": "2023-08-05T04:32:48.109283",
            "user_variable_name": null,
            "variable_name": "unk_dataframe_2e6fb5c940234d46a69ab26d759ea3e1"
          }
        }
      },
      "execution_count": null,
      "source": "tavola_1_temp_df = pd.read_excel(file_path, sheet_name='Tavola_1', header=3, usecols='B:Q')\ntavola_1_temp_df.rename(columns={'Unnamed: 0': 'City'}, inplace=True)\ntavola_1_temp_df.head()",
      "outputs": []
    },
    {
      "id": "7c11cb77-3c94-43c0-98ea-0aba769f13df",
      "cell_type": "code",
      "metadata": {
        "noteable": {
          "cell_type": "code",
          "output_collection_id": "b4744fd6-c15f-4a29-a774-63028b2fbb5b"
        },
        "ExecuteTime": {
          "end_time": "2023-08-05T04:36:14.369937+00:00",
          "start_time": "2023-08-05T04:36:12.524058+00:00"
        }
      },
      "execution_count": null,
      "source": "olbia_data = tavola_1_temp_df[tavola_1_temp_df['City'] == 'Olbia']\nolbia_data = olbia_data.melt(id_vars=['City'], var_name='Year', value_name='Temperature')\nplt.figure(figsize=(10, 6))\nplt.plot(olbia_data['Year'], olbia_data['Temperature'], marker='o')\nplt.title('Average Temperatures in Olbia (2006-2021)')\nplt.xlabel('Year')\nplt.ylabel('Temperature (°C)')\nplt.grid(True)\nplt.show()",
      "outputs": []
    },
    {
      "id": "d2a843e0-9870-40a3-9a10-597d991a0d86",
      "cell_type": "code",
      "metadata": {
        "noteable": {
          "cell_type": "code",
          "output_collection_id": "d2929e43-5186-432b-b1df-ce9809369b93"
        },
        "ExecuteTime": {
          "end_time": "2023-08-05T04:36:27.599284+00:00",
          "start_time": "2023-08-05T04:36:27.322414+00:00"
        },
        "datalink": {
          "abc7f232-a2d8-4a32-a7da-b0bea3aa4acc": {
            "applied_filters": [],
            "dataframe_info": {
              "default_index_used": true,
              "orig_num_cols": 16,
              "orig_num_rows": 5,
              "orig_size_bytes": 680,
              "truncated_num_cols": 16,
              "truncated_num_rows": 5,
              "truncated_size_bytes": 680,
              "truncated_string_columns": []
            },
            "display_id": "abc7f232-a2d8-4a32-a7da-b0bea3aa4acc",
            "dx_settings": {
              "ALLOW_NOTEABLE_ATTRS": true,
              "COLUMN_SAMPLING_METHOD": "outer",
              "DB_LOCATION": ":memory:",
              "DEV_MODE": false,
              "DISPLAY_MAX_COLUMNS": 100,
              "DISPLAY_MAX_ROWS": 50000,
              "DISPLAY_MODE": "simple",
              "ENABLE_ASSIGNMENT": true,
              "ENABLE_DATALINK": true,
              "FLATTEN_COLUMN_VALUES": true,
              "FLATTEN_INDEX_VALUES": false,
              "GENERATE_DEX_METADATA": false,
              "HTML_TABLE_SCHEMA": false,
              "LOG_LEVEL": 30,
              "MAX_RENDER_SIZE_BYTES": 104857600,
              "MAX_STRING_LENGTH": 250,
              "NUM_PAST_SAMPLES_TRACKED": 3,
              "RANDOM_STATE": 12648430,
              "RESET_INDEX_VALUES": false,
              "ROW_SAMPLING_METHOD": "random",
              "SAMPLING_FACTOR": 0.1,
              "SAMPLING_METHOD": "random",
              "STRINGIFY_COLUMN_VALUES": true,
              "STRINGIFY_INDEX_VALUES": false
            },
            "sample_history": [],
            "sampling_time": "2023-08-05T04:36:27.437220",
            "user_variable_name": null,
            "variable_name": "unk_dataframe_bc925ad0ce6b403ead91ca0179509a85"
          }
        }
      },
      "execution_count": null,
      "source": "tavola_1_temp_df.head()",
      "outputs": []
    },
    {
      "id": "968a8134-31a5-4804-8eaf-811c965b3695",
      "cell_type": "code",
      "metadata": {
        "noteable": {
          "cell_type": "code",
          "output_collection_id": "1f28732a-bc0a-4b15-96b0-0ba0e8350ef1"
        },
        "ExecuteTime": {
          "end_time": "2023-08-05T04:36:43.119832+00:00",
          "start_time": "2023-08-05T04:36:42.640202+00:00"
        },
        "datalink": {
          "92f5d1a7-6cc0-4a53-a84d-e1cc25dfa7a9": {
            "applied_filters": [],
            "dataframe_info": {
              "default_index_used": true,
              "orig_num_cols": 17,
              "orig_num_rows": 5,
              "orig_size_bytes": 720,
              "truncated_num_cols": 17,
              "truncated_num_rows": 5,
              "truncated_size_bytes": 720,
              "truncated_string_columns": []
            },
            "display_id": "92f5d1a7-6cc0-4a53-a84d-e1cc25dfa7a9",
            "dx_settings": {
              "ALLOW_NOTEABLE_ATTRS": true,
              "COLUMN_SAMPLING_METHOD": "outer",
              "DB_LOCATION": ":memory:",
              "DEV_MODE": false,
              "DISPLAY_MAX_COLUMNS": 100,
              "DISPLAY_MAX_ROWS": 50000,
              "DISPLAY_MODE": "simple",
              "ENABLE_ASSIGNMENT": true,
              "ENABLE_DATALINK": true,
              "FLATTEN_COLUMN_VALUES": true,
              "FLATTEN_INDEX_VALUES": false,
              "GENERATE_DEX_METADATA": false,
              "HTML_TABLE_SCHEMA": false,
              "LOG_LEVEL": 30,
              "MAX_RENDER_SIZE_BYTES": 104857600,
              "MAX_STRING_LENGTH": 250,
              "NUM_PAST_SAMPLES_TRACKED": 3,
              "RANDOM_STATE": 12648430,
              "RESET_INDEX_VALUES": false,
              "ROW_SAMPLING_METHOD": "random",
              "SAMPLING_FACTOR": 0.1,
              "SAMPLING_METHOD": "random",
              "STRINGIFY_COLUMN_VALUES": true,
              "STRINGIFY_INDEX_VALUES": false
            },
            "sample_history": [],
            "sampling_time": "2023-08-05T04:36:42.958030",
            "user_variable_name": null,
            "variable_name": "unk_dataframe_1e7f7df7683041b8b74d4a181ca50d95"
          }
        }
      },
      "execution_count": null,
      "source": "tavola_1_temp_df = pd.read_excel(file_path, sheet_name='Tavola_1', header=3, skiprows=[4], usecols='A:Q')\ntavola_1_temp_df.rename(columns={'Unnamed: 0': 'City'}, inplace=True)\ntavola_1_temp_df.head()",
      "outputs": []
    },
    {
      "id": "2f7ea4aa-40c5-4474-805a-df460a6c3914",
      "cell_type": "code",
      "metadata": {
        "noteable": {
          "cell_type": "code",
          "output_collection_id": "ebfc8b32-26b9-40e0-b03d-27e442c25966"
        },
        "ExecuteTime": {
          "end_time": "2023-08-05T04:37:02.559528+00:00",
          "start_time": "2023-08-05T04:37:02.077881+00:00"
        }
      },
      "execution_count": null,
      "source": "olbia_data = tavola_1_temp_df[tavola_1_temp_df['City'] == 'Olbia']\nolbia_data = olbia_data.melt(id_vars=['City'], var_name='Year', value_name='Temperature')\nplt.figure(figsize=(10, 6))\nplt.plot(olbia_data['Year'], olbia_data['Temperature'], marker='o')\nplt.title('Average Temperatures in Olbia (2006-2021)')\nplt.xlabel('Year')\nplt.ylabel('Temperature (°C)')\nplt.grid(True)\nplt.show()",
      "outputs": []
    },
    {
      "id": "b1430f46-da6f-44fa-8ce8-b0e1dff4e8d8",
      "cell_type": "code",
      "metadata": {
        "noteable": {
          "cell_type": "code",
          "output_collection_id": "44ed62dc-df64-4bb7-87d6-e74966f60f64"
        },
        "ExecuteTime": {
          "end_time": "2023-08-05T04:37:47.416304+00:00",
          "start_time": "2023-08-05T04:37:46.912161+00:00"
        }
      },
      "execution_count": null,
      "source": "cities_starting_with_o = tavola_1_temp_df['City'][tavola_1_temp_df['City'].str.startswith('O')]\ncities_starting_with_o",
      "outputs": []
    },
    {
      "id": "6d26720f-392d-4e90-bc90-0438bf2754b5",
      "cell_type": "code",
      "metadata": {
        "noteable": {
          "cell_type": "code",
          "output_collection_id": "717baf2c-7b61-4e32-8baa-ff0821a3d028"
        },
        "ExecuteTime": {
          "end_time": "2023-08-05T04:37:59.739282+00:00",
          "start_time": "2023-08-05T04:37:59.575987+00:00"
        }
      },
      "execution_count": null,
      "source": "tavola_1_temp_df['City'].unique()",
      "outputs": []
    },
    {
      "id": "dcb04b05-a0d5-4a03-b0c2-23e99364d10a",
      "cell_type": "code",
      "metadata": {
        "noteable": {
          "cell_type": "code",
          "output_collection_id": "a3b30e80-520d-4b2e-a59a-56bdb5cd438c"
        },
        "ExecuteTime": {
          "end_time": "2023-08-05T04:40:20.055808+00:00",
          "start_time": "2023-08-05T04:40:19.789100+00:00"
        },
        "datalink": {
          "29a09d36-5130-4652-80a2-f70bba55200f": {
            "applied_filters": [],
            "dataframe_info": {
              "default_index_used": true,
              "orig_num_cols": 17,
              "orig_num_rows": 0,
              "orig_size_bytes": 0,
              "truncated_num_cols": 17,
              "truncated_num_rows": 0,
              "truncated_size_bytes": 0,
              "truncated_string_columns": []
            },
            "display_id": "29a09d36-5130-4652-80a2-f70bba55200f",
            "dx_settings": {
              "ALLOW_NOTEABLE_ATTRS": true,
              "COLUMN_SAMPLING_METHOD": "outer",
              "DB_LOCATION": ":memory:",
              "DEV_MODE": false,
              "DISPLAY_MAX_COLUMNS": 100,
              "DISPLAY_MAX_ROWS": 50000,
              "DISPLAY_MODE": "simple",
              "ENABLE_ASSIGNMENT": true,
              "ENABLE_DATALINK": true,
              "FLATTEN_COLUMN_VALUES": true,
              "FLATTEN_INDEX_VALUES": false,
              "GENERATE_DEX_METADATA": false,
              "HTML_TABLE_SCHEMA": false,
              "LOG_LEVEL": 30,
              "MAX_RENDER_SIZE_BYTES": 104857600,
              "MAX_STRING_LENGTH": 250,
              "NUM_PAST_SAMPLES_TRACKED": 3,
              "RANDOM_STATE": 12648430,
              "RESET_INDEX_VALUES": false,
              "ROW_SAMPLING_METHOD": "random",
              "SAMPLING_FACTOR": 0.1,
              "SAMPLING_METHOD": "random",
              "STRINGIFY_COLUMN_VALUES": true,
              "STRINGIFY_INDEX_VALUES": false
            },
            "sample_history": [],
            "sampling_time": "2023-08-05T04:40:19.895382",
            "user_variable_name": "olbia_data",
            "variable_name": "olbia_data"
          }
        }
      },
      "execution_count": null,
      "source": "olbia_data = tavola_1_temp_df[tavola_1_temp_df['City'].str.contains('Olbia', na=False)]\nolbia_data",
      "outputs": []
    },
    {
      "id": "be9e44f9-9c9b-4bea-94b6-f1db6a1baf10",
      "cell_type": "code",
      "metadata": {
        "noteable": {
          "cell_type": "code",
          "output_collection_id": "b239e331-51e8-401b-8c5c-7e7a38c2c341"
        },
        "ExecuteTime": {
          "end_time": "2023-08-05T04:40:33.540435+00:00",
          "start_time": "2023-08-05T04:40:33.380432+00:00"
        }
      },
      "execution_count": null,
      "source": "unique_cities = tavola_1_temp_df['City'].dropna().unique()\nunique_cities",
      "outputs": []
    },
    {
      "id": "1543b3ee-600a-4b0b-8dd5-db2292bc6556",
      "cell_type": "code",
      "metadata": {
        "noteable": {
          "cell_type": "code",
          "output_collection_id": "c22e0a8c-52fb-4b1b-832d-9b4a03cd2d68"
        },
        "ExecuteTime": {
          "end_time": "2023-08-05T04:48:02.606448+00:00",
          "start_time": "2023-08-05T04:48:02.441043+00:00"
        }
      },
      "execution_count": null,
      "source": "northern_region_mapping = {\n    'Bergamo': 'Lombardy', 'Brescia': 'Lombardy', 'Como': 'Lombardy', 'Cremona': 'Lombardy', 'Lecco': 'Lombardy', 'Lodi': 'Lombardy', 'Mantua': 'Lombardy', 'Milan': 'Lombardy', 'Monza and Brianza': 'Lombardy', 'Pavia': 'Lombardy', 'Sondrio': 'Lombardy', 'Varese': 'Lombardy',\n    'Alessandria': 'Piedmont', 'Asti': 'Piedmont', 'Biella': 'Piedmont', 'Cuneo': 'Piedmont', 'Novara': 'Piedmont', 'Turin': 'Piedmont', 'Verbano-Cusio-Ossola': 'Piedmont', 'Vercelli': 'Piedmont',\n    'Genoa': 'Liguria', 'Imperia': 'Liguria', 'La Spezia': 'Liguria', 'Savona': 'Liguria',\n    'Belluno': 'Veneto', 'Padua': 'Veneto', 'Rovigo': 'Veneto', 'Treviso': 'Veneto', 'Venice': 'Veneto', 'Verona': 'Veneto', 'Vicenza': 'Veneto',\n    'Bologna': 'Emilia-Romagna', 'Ferrara': 'Emilia-Romagna', 'Forlì-Cesena': 'Emilia-Romagna', 'Modena': 'Emilia-Romagna', 'Parma': 'Emilia-Romagna', 'Piacenza': 'Emilia-Romagna', 'Ravenna': 'Emilia-Romagna', 'Reggio Emilia': 'Emilia-Romagna', 'Rimini': 'Emilia-Romagna',\n    'Gorizia': 'Friuli-Venezia Giulia', 'Pordenone': 'Friuli-Venezia Giulia', 'Trieste': 'Friuli-Venezia Giulia', 'Udine': 'Friuli-Venezia Giulia',\n    'Bolzano': 'Trentino-Alto Adige', 'Trento': 'Trentino-Alto Adige',\n    'Aosta': 'Aosta Valley'\n}\nnorthern_region_mapping",
      "outputs": []
    },
    {
      "id": "99489129-9276-4dc9-a620-e39e34ef1936",
      "cell_type": "code",
      "metadata": {
        "noteable": {
          "cell_type": "code",
          "output_collection_id": "2c18a5f3-7e8c-444e-9081-df0260603986"
        },
        "ExecuteTime": {
          "end_time": "2023-08-05T04:48:42.518027+00:00",
          "start_time": "2023-08-05T04:48:42.355874+00:00"
        }
      },
      "execution_count": null,
      "source": "central_region_mapping = {\n    'Arezzo': 'Tuscany', 'Florence': 'Tuscany', 'Grosseto': 'Tuscany', 'Livorno': 'Tuscany', 'Lucca': 'Tuscany', 'Massa and Carrara': 'Tuscany', 'Pisa': 'Tuscany', 'Pistoia': 'Tuscany', 'Prato': 'Tuscany', 'Siena': 'Tuscany',\n    'Ancona': 'Marche', 'Ascoli Piceno': 'Marche', 'Fermo': 'Marche', 'Macerata': 'Marche', 'Pesaro and Urbino': 'Marche',\n    'Perugia': 'Umbria', 'Terni': 'Umbria',\n    'Frosinone': 'Lazio', 'Latina': 'Lazio', 'Rieti': 'Lazio', 'Rome': 'Lazio', 'Viterbo': 'Lazio'\n}\nsouthern_region_mapping = {\n    'Chieti': 'Abruzzo', 'L'Aquila': 'Abruzzo', 'Pescara': 'Abruzzo', 'Teramo': 'Abruzzo',\n    'Avellino': 'Campania', 'Benevento': 'Campania', 'Caserta': 'Campania', 'Naples': 'Campania', 'Salerno': 'Campania',\n    'Campobasso': 'Molise', 'Isernia': 'Molise',\n    'Bari': 'Apulia', 'Barletta-Andria-Trani': 'Apulia', 'Brindisi': 'Apulia', 'Foggia': 'Apulia', 'Lecce': 'Apulia', 'Taranto': 'Apulia',\n    'Matera': 'Basilicata', 'Potenza': 'Basilicata',\n    'Catanzaro': 'Calabria', 'Cosenza': 'Calabria', 'Crotone': 'Calabria', 'Reggio Calabria': 'Calabria', 'Vibo Valentia': 'Calabria'\n}\ninsular_region_mapping = {\n    'Cagliari': 'Sardinia', 'Nuoro': 'Sardinia', 'Oristano': 'Sardinia', 'Sassari': 'Sardinia',\n    'Agrigento': 'Sicily', 'Caltanissetta': 'Sicily', 'Catania': 'Sicily', 'Enna': 'Sicily', 'Messina': 'Sicily', 'Palermo': 'Sicily', 'Ragusa': 'Sicily', 'Siracusa': 'Sicily', 'Trapani': 'Sicily'\n}\ncentral_region_mapping, southern_region_mapping, insular_region_mapping",
      "outputs": []
    },
    {
      "id": "8420cae0-9301-405e-8d6e-1ce12fb499f8",
      "cell_type": "code",
      "metadata": {
        "noteable": {
          "cell_type": "code",
          "output_collection_id": "2994a451-1fc2-4c2a-8eea-dcea0861be79"
        },
        "ExecuteTime": {
          "end_time": "2023-08-05T04:49:04.739787+00:00",
          "start_time": "2023-08-05T04:49:04.576005+00:00"
        }
      },
      "execution_count": null,
      "source": "central_region_mapping = {\n    'Arezzo': 'Tuscany', 'Florence': 'Tuscany', 'Grosseto': 'Tuscany', 'Livorno': 'Tuscany', 'Lucca': 'Tuscany', 'Massa and Carrara': 'Tuscany', 'Pisa': 'Tuscany', 'Pistoia': 'Tuscany', 'Prato': 'Tuscany', 'Siena': 'Tuscany',\n    'Ancona': 'Marche', 'Ascoli Piceno': 'Marche', 'Fermo': 'Marche', 'Macerata': 'Marche', 'Pesaro and Urbino': 'Marche',\n    'Perugia': 'Umbria', 'Terni': 'Umbria',\n    'Frosinone': 'Lazio', 'Latina': 'Lazio', 'Rieti': 'Lazio', 'Rome': 'Lazio', 'Viterbo': 'Lazio'\n}\ncentral_region_mapping",
      "outputs": []
    },
    {
      "id": "ea4992ec-ddd9-4d6e-976a-e1481991ddbd",
      "cell_type": "code",
      "metadata": {
        "noteable": {
          "cell_type": "code",
          "output_collection_id": "93fe2449-1f96-4135-a0e7-3245bd8d86f4"
        },
        "ExecuteTime": {
          "end_time": "2023-08-05T04:49:27.340019+00:00",
          "start_time": "2023-08-05T04:49:27.179656+00:00"
        }
      },
      "execution_count": null,
      "source": "southern_region_mapping = {\n    'Chieti': 'Abruzzo', 'L'Aquila': 'Abruzzo', 'Pescara': 'Abruzzo', 'Teramo': 'Abruzzo',\n    'Avellino': 'Campania', 'Benevento': 'Campania', 'Caserta': 'Campania', 'Naples': 'Campania', 'Salerno': 'Campania',\n    'Campobasso': 'Molise', 'Isernia': 'Molise',\n    'Bari': 'Apulia', 'Barletta-Andria-Trani': 'Apulia', 'Brindisi': 'Apulia', 'Foggia': 'Apulia', 'Lecce': 'Apulia', 'Taranto': 'Apulia',\n    'Matera': 'Basilicata', 'Potenza': 'Basilicata',\n    'Catanzaro': 'Calabria', 'Cosenza': 'Calabria', 'Crotone': 'Calabria', 'Reggio Calabria': 'Calabria', 'Vibo Valentia': 'Calabria'\n}\nsouthern_region_mapping",
      "outputs": []
    },
    {
      "id": "ea7c8f85-3b97-452f-8041-0691c218b984",
      "cell_type": "code",
      "metadata": {
        "noteable": {
          "cell_type": "code",
          "output_collection_id": "0e6f1faa-a3a4-4eee-9957-5b48d9fead6f"
        },
        "ExecuteTime": {
          "end_time": "2023-08-05T04:49:51.800719+00:00",
          "start_time": "2023-08-05T04:49:51.638672+00:00"
        }
      },
      "execution_count": null,
      "source": "southern_region_mapping = {\n    'Chieti': 'Abruzzo', \"L'Aquila\": 'Abruzzo', 'Pescara': 'Abruzzo', 'Teramo': 'Abruzzo',\n    'Avellino': 'Campania', 'Benevento': 'Campania', 'Caserta': 'Campania', 'Naples': 'Campania', 'Salerno': 'Campania',\n    'Campobasso': 'Molise', 'Isernia': 'Molise',\n    'Bari': 'Apulia', 'Barletta-Andria-Trani': 'Apulia', 'Brindisi': 'Apulia', 'Foggia': 'Apulia', 'Lecce': 'Apulia', 'Taranto': 'Apulia',\n    'Matera': 'Basilicata', 'Potenza': 'Basilicata',\n    'Catanzaro': 'Calabria', 'Cosenza': 'Calabria', 'Crotone': 'Calabria', 'Reggio Calabria': 'Calabria', 'Vibo Valentia': 'Calabria'\n}\nsouthern_region_mapping",
      "outputs": []
    },
    {
      "id": "81c7ef55-0018-4a9d-b7c0-75671b6eaedf",
      "cell_type": "code",
      "metadata": {
        "noteable": {
          "cell_type": "code",
          "output_collection_id": "949ddc54-2e44-4781-a9a7-7c9b166d1d5f"
        },
        "ExecuteTime": {
          "end_time": "2023-08-05T04:50:09.334642+00:00",
          "start_time": "2023-08-05T04:50:09.171984+00:00"
        }
      },
      "execution_count": null,
      "source": "insular_region_mapping = {\n    'Cagliari': 'Sardinia', 'Nuoro': 'Sardinia', 'Oristano': 'Sardinia', 'Sassari': 'Sardinia',\n    'Agrigento': 'Sicily', 'Caltanissetta': 'Sicily', 'Catania': 'Sicily', 'Enna': 'Sicily', 'Messina': 'Sicily', 'Palermo': 'Sicily', 'Ragusa': 'Sicily', 'Siracusa': 'Sicily', 'Trapani': 'Sicily'\n}\ninsular_region_mapping",
      "outputs": []
    },
    {
      "id": "cbbde7fc-8375-435c-afc8-460c740133ca",
      "cell_type": "code",
      "metadata": {
        "noteable": {
          "cell_type": "code",
          "output_collection_id": "10b7d9c9-1776-489d-a155-07474e659c31"
        },
        "ExecuteTime": {
          "end_time": "2023-08-05T04:50:36.057076+00:00",
          "start_time": "2023-08-05T04:50:35.871752+00:00"
        }
      },
      "execution_count": null,
      "source": "# Combine all the region mappings\nregion_mapping = {**northern_region_mapping, **central_region_mapping, **southern_region_mapping, **insular_region_mapping}\n# Apply the mapping to create the 'Region' variable\nitaly_data['Region'] = italy_data['Province'].map(region_mapping)\n# Define the sector mapping based on the regions\nsector_mapping = {\n    'Lombardy': 'Northern', 'Piedmont': 'Northern', 'Liguria': 'Northern', 'Veneto': 'Northern', 'Emilia-Romagna': 'Northern', 'Friuli-Venezia Giulia': 'Northern', 'Trentino-Alto Adige': 'Northern', 'Aosta Valley': 'Northern',\n    'Tuscany': 'Central', 'Marche': 'Central', 'Umbria': 'Central', 'Lazio': 'Central',\n    'Abruzzo': 'Southern', 'Campania': 'Southern', 'Molise': 'Southern', 'Apulia': 'Southern', 'Basilicata': 'Southern', 'Calabria': 'Southern',\n    'Sardinia': 'Insular', 'Sicily': 'Insular'\n}\n# Apply the mapping to create the 'Sector' variable\nitaly_data['Sector'] = italy_data['Region'].map(sector_mapping)\nitaly_data[['Province', 'Region', 'Sector']].head()",
      "outputs": []
    },
    {
      "id": "3e0ac740-5d0c-4ceb-a731-a793f6e85ab7",
      "cell_type": "code",
      "metadata": {
        "noteable": {
          "cell_type": "code",
          "output_collection_id": "90c463c8-5d03-4ead-90a6-36f114fc0196"
        },
        "ExecuteTime": {
          "end_time": "2023-08-05T04:50:53.057947+00:00",
          "start_time": "2023-08-05T04:50:52.877269+00:00"
        }
      },
      "execution_count": null,
      "source": "# Load the dataset into the variable 'italy_data'\nitaly_data = df.copy()\n# Apply the region mapping to create the 'Region' variable\nitaly_data['Region'] = italy_data['Province'].map(region_mapping)\n# Apply the sector mapping to create the 'Sector' variable\nitaly_data['Sector'] = italy_data['Region'].map(sector_mapping)\nitaly_data[['Province', 'Region', 'Sector']].head()",
      "outputs": []
    }
  ]
}