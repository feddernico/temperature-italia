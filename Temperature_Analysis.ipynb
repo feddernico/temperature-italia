{
  "nbformat": 4,
  "nbformat_minor": 5,
  "metadata": {
    "noteable-chatgpt": {
      "create_notebook": {
        "openai_conversation_id": "eaee611d-6cc6-5f36-9b62-cfa371307b93",
        "openai_ephemeral_user_id": "be039cd3-9340-5470-933a-47ea4a13b329"
      }
    },
    "kernel_info": {
      "name": "python3"
    },
    "noteable": {
      "last_transaction_id": "4446cb81-a2f9-453f-beae-622aa06f0c1d"
    },
    "kernelspec": {
      "display_name": "Python 3.9",
      "language": "python",
      "name": "python3"
    }
  },
  "cells": [
    {
      "id": "b492f677-eb05-4734-828e-a8a3c4f045bd",
      "cell_type": "code",
      "metadata": {
        "noteable": {
          "cell_type": "code",
          "output_collection_id": "7b2cfe03-9e32-43cd-af11-62d03f80f8cd"
        },
        "ExecuteTime": {
          "end_time": "2023-08-05T04:18:00.897867+00:00",
          "start_time": "2023-08-05T04:18:00.462437+00:00"
        }
      },
      "execution_count": null,
      "source": "import pandas as pd\nfile_path = 'Tavole-Dati-Meteoclimatici-Anno-2021.xlsx'\nxls = pd.ExcelFile(file_path)\nsheet_names = xls.sheet_names\nsheet_names",
      "outputs": []
    }
  ]
}