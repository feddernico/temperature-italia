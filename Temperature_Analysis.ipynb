{
  "nbformat": 4,
  "nbformat_minor": 5,
  "metadata": {
    "noteable-chatgpt": {
      "create_notebook": {
        "openai_conversation_id": "eaee611d-6cc6-5f36-9b62-cfa371307b93",
        "openai_ephemeral_user_id": "be039cd3-9340-5470-933a-47ea4a13b329"
      }
    },
    "kernel_info": {
      "name": "python3"
    },
    "noteable": {
      "last_transaction_id": "0df6d681-cf01-46fd-bd50-1d7f21f8c267"
    },
    "kernelspec": {
      "display_name": "Python 3.9",
      "language": "python",
      "name": "python3"
    }
  },
  "cells": [
    {
      "id": "b492f677-eb05-4734-828e-a8a3c4f045bd",
      "cell_type": "code",
      "metadata": {
        "noteable": {
          "cell_type": "code"
        }
      },
      "execution_count": null,
      "source": "import pandas as pd\nfile_path = 'Tavole-Dati-Meteoclimatici-Anno-2021.xlsx'\nxls = pd.ExcelFile(file_path)\nsheet_names = xls.sheet_names\nsheet_names",
      "outputs": []
    }
  ]
}