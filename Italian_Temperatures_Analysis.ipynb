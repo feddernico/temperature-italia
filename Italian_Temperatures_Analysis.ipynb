{
  "nbformat": 4,
  "nbformat_minor": 5,
  "metadata": {
    "noteable-chatgpt": {
      "create_notebook": {
        "openai_conversation_id": "eaee611d-6cc6-5f36-9b62-cfa371307b93",
        "openai_ephemeral_user_id": "be039cd3-9340-5470-933a-47ea4a13b329"
      }
    },
    "kernel_info": {
      "name": "python3"
    },
    "noteable": {
      "last_transaction_id": "bb10a138-a6a3-48bd-aaa8-e1764bd707e0"
    },
    "kernelspec": {
      "display_name": "Python 3.9",
      "language": "python",
      "name": "python3"
    }
  },
  "cells": [
    {
      "id": "f9a56a7f-50b3-4dc1-9edb-7e810474f867",
      "cell_type": "code",
      "metadata": {
        "noteable": {
          "cell_type": "code"
        }
      },
      "execution_count": null,
      "source": "import pandas as pd\nfile_path = 'Tavole-Dati-Meteoclimatici-Anno-2021.xlsx'\nsheet_name = 'Tavola 1'\nitaly_data = pd.read_excel(file_path, sheet_name=sheet_name, header=3)\nitaly_data.columns = ['Province'] + [f'Year_{year}' for year in range(1921, 2022)]\nitaly_data = italy_data.melt(id_vars=['Province'], var_name='Year', value_name='Temperature')\nitaly_data['Year'] = italy_data['Year'].str.extract('Year_(\\d+)').astype(int)\nitaly_data.head()",
      "outputs": []
    }
  ]
}