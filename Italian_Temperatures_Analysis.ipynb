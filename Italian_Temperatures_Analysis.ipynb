{
  "nbformat": 4,
  "nbformat_minor": 5,
  "metadata": {
    "noteable-chatgpt": {
      "create_notebook": {
        "openai_conversation_id": "eaee611d-6cc6-5f36-9b62-cfa371307b93",
        "openai_ephemeral_user_id": "be039cd3-9340-5470-933a-47ea4a13b329"
      }
    },
    "kernel_info": {
      "name": "python3"
    },
    "noteable": {
      "last_transaction_id": "227beb73-9146-4bcf-a64c-f3d76b776e57"
    },
    "kernelspec": {
      "display_name": "Python 3.9",
      "language": "python",
      "name": "python3"
    },
    "selected_hardware_size": "small"
  },
  "cells": [
    {
      "id": "4efedc7c-f6c8-43f8-9c62-88ec826ac1e6",
      "cell_type": "code",
      "metadata": {
        "jupyter": {
          "outputs_hidden": false,
          "source_hidden": false
        },
        "noteable": {
          "cell_type": "code",
          "output_collection_id": "1ca42fd3-4e34-47dd-a8a5-93d00c926b71"
        },
        "ExecuteTime": {
          "end_time": "2023-08-06T20:14:33.906858+00:00",
          "start_time": "2023-08-06T20:14:33.749877+00:00"
        }
      },
      "execution_count": null,
      "source": "import numpy as np\nimport pandas as pd\nimport matplotlib.pyplot as plt\nimport seaborn as sns",
      "outputs": []
    },
    {
      "id": "45e4f14a-6b5e-4956-83ed-9ce188230e8c",
      "cell_type": "code",
      "metadata": {
        "noteable": {
          "cell_type": "code",
          "output_collection_id": "39cd52c5-a27b-43a8-84d1-882fc479dfca"
        },
        "ExecuteTime": {
          "end_time": "2023-08-06T19:45:06.489384+00:00",
          "start_time": "2023-08-06T19:45:06.054130+00:00"
        },
        "jupyter": {
          "outputs_hidden": true
        }
      },
      "execution_count": null,
      "source": "import pandas as pd\nfile_path = 'Tavole-Dati-Meteoclimatici-Anno-2021.xlsx'\nxls = pd.ExcelFile(file_path)\nsheet_names = xls.sheet_names\nsheet_names",
      "outputs": []
    },
    {
      "id": "6a9d9698-3651-4bfd-bb74-aa784efdb0a2",
      "cell_type": "code",
      "metadata": {
        "noteable": {
          "cell_type": "code",
          "output_collection_id": "640082eb-6619-4121-be65-6d812df70f3c"
        },
        "ExecuteTime": {
          "end_time": "2023-08-06T19:45:14.275091+00:00",
          "start_time": "2023-08-06T19:45:13.890828+00:00"
        },
        "datalink": {
          "cd42676e-64e7-4a7b-bc79-fc2ddd546d1b": {
            "applied_filters": [],
            "dataframe_info": {
              "default_index_used": true,
              "orig_num_cols": 3,
              "orig_num_rows": 5,
              "orig_size_bytes": 160,
              "truncated_num_cols": 3,
              "truncated_num_rows": 5,
              "truncated_size_bytes": 160,
              "truncated_string_columns": []
            },
            "display_id": "cd42676e-64e7-4a7b-bc79-fc2ddd546d1b",
            "dx_settings": {
              "ALLOW_NOTEABLE_ATTRS": true,
              "COLUMN_SAMPLING_METHOD": "outer",
              "DB_LOCATION": ":memory:",
              "DEV_MODE": false,
              "DISPLAY_MAX_COLUMNS": 100,
              "DISPLAY_MAX_ROWS": 50000,
              "DISPLAY_MODE": "simple",
              "ENABLE_ASSIGNMENT": true,
              "ENABLE_DATALINK": true,
              "FLATTEN_COLUMN_VALUES": true,
              "FLATTEN_INDEX_VALUES": false,
              "GENERATE_DEX_METADATA": false,
              "HTML_TABLE_SCHEMA": false,
              "LOG_LEVEL": 30,
              "MAX_RENDER_SIZE_BYTES": 104857600,
              "MAX_STRING_LENGTH": 250,
              "NUM_PAST_SAMPLES_TRACKED": 3,
              "RANDOM_STATE": 12648430,
              "RESET_INDEX_VALUES": false,
              "ROW_SAMPLING_METHOD": "random",
              "SAMPLING_FACTOR": 0.1,
              "SAMPLING_METHOD": "random",
              "STRINGIFY_COLUMN_VALUES": true,
              "STRINGIFY_INDEX_VALUES": false
            },
            "sample_history": [],
            "sampling_time": "2023-08-06T07:14:56.945224",
            "user_variable_name": null,
            "variable_name": "unk_dataframe_ec6a94b0edf14e439856e8ce7f3eab4a"
          },
          "74fa3460-45b5-4929-a7b6-ffeb7f928777": {
            "applied_filters": [],
            "dataframe_info": {
              "default_index_used": true,
              "orig_num_cols": 3,
              "orig_num_rows": 5,
              "orig_size_bytes": 160,
              "truncated_num_cols": 3,
              "truncated_num_rows": 5,
              "truncated_size_bytes": 160,
              "truncated_string_columns": []
            },
            "display_id": "74fa3460-45b5-4929-a7b6-ffeb7f928777",
            "dx_settings": {
              "ALLOW_NOTEABLE_ATTRS": true,
              "COLUMN_SAMPLING_METHOD": "outer",
              "DB_LOCATION": ":memory:",
              "DEV_MODE": false,
              "DISPLAY_MAX_COLUMNS": 100,
              "DISPLAY_MAX_ROWS": 50000,
              "DISPLAY_MODE": "simple",
              "ENABLE_ASSIGNMENT": true,
              "ENABLE_DATALINK": true,
              "FLATTEN_COLUMN_VALUES": true,
              "FLATTEN_INDEX_VALUES": false,
              "GENERATE_DEX_METADATA": false,
              "HTML_TABLE_SCHEMA": false,
              "LOG_LEVEL": 30,
              "MAX_RENDER_SIZE_BYTES": 104857600,
              "MAX_STRING_LENGTH": 250,
              "NUM_PAST_SAMPLES_TRACKED": 3,
              "RANDOM_STATE": 12648430,
              "RESET_INDEX_VALUES": false,
              "ROW_SAMPLING_METHOD": "random",
              "SAMPLING_FACTOR": 0.1,
              "SAMPLING_METHOD": "random",
              "STRINGIFY_COLUMN_VALUES": true,
              "STRINGIFY_INDEX_VALUES": false
            },
            "sample_history": [],
            "sampling_time": "2023-08-06T07:25:15.116761",
            "user_variable_name": null,
            "variable_name": "unk_dataframe_a452712c41a14fd28dc9c7a9d02c7e09"
          },
          "1fd9dae8-ef7e-4e4b-aa16-2446b1d93ed0": {
            "applied_filters": [],
            "dataframe_info": {
              "default_index_used": true,
              "orig_num_cols": 17,
              "orig_num_rows": 5,
              "orig_size_bytes": 720,
              "truncated_num_cols": 17,
              "truncated_num_rows": 5,
              "truncated_size_bytes": 720,
              "truncated_string_columns": []
            },
            "display_id": "1fd9dae8-ef7e-4e4b-aa16-2446b1d93ed0",
            "dx_settings": {
              "ALLOW_NOTEABLE_ATTRS": true,
              "COLUMN_SAMPLING_METHOD": "outer",
              "DB_LOCATION": ":memory:",
              "DEV_MODE": false,
              "DISPLAY_MAX_COLUMNS": 100,
              "DISPLAY_MAX_ROWS": 50000,
              "DISPLAY_MODE": "simple",
              "ENABLE_ASSIGNMENT": true,
              "ENABLE_DATALINK": true,
              "FLATTEN_COLUMN_VALUES": true,
              "FLATTEN_INDEX_VALUES": false,
              "GENERATE_DEX_METADATA": false,
              "HTML_TABLE_SCHEMA": false,
              "LOG_LEVEL": 30,
              "MAX_RENDER_SIZE_BYTES": 104857600,
              "MAX_STRING_LENGTH": 250,
              "NUM_PAST_SAMPLES_TRACKED": 3,
              "RANDOM_STATE": 12648430,
              "RESET_INDEX_VALUES": false,
              "ROW_SAMPLING_METHOD": "random",
              "SAMPLING_FACTOR": 0.1,
              "SAMPLING_METHOD": "random",
              "STRINGIFY_COLUMN_VALUES": true,
              "STRINGIFY_INDEX_VALUES": false
            },
            "sample_history": [],
            "sampling_time": "2023-08-06T07:27:39.406592",
            "user_variable_name": null,
            "variable_name": "unk_dataframe_c3562918394946f983139bb6186bb61f"
          },
          "8d6fd055-e5e5-4327-9eff-5df02591fb96": {
            "applied_filters": [],
            "dataframe_info": {
              "default_index_used": true,
              "orig_num_cols": 3,
              "orig_num_rows": 5,
              "orig_size_bytes": 160,
              "truncated_num_cols": 3,
              "truncated_num_rows": 5,
              "truncated_size_bytes": 160,
              "truncated_string_columns": []
            },
            "display_id": "8d6fd055-e5e5-4327-9eff-5df02591fb96",
            "dx_settings": {
              "ALLOW_NOTEABLE_ATTRS": true,
              "COLUMN_SAMPLING_METHOD": "outer",
              "DB_LOCATION": ":memory:",
              "DEV_MODE": false,
              "DISPLAY_MAX_COLUMNS": 100,
              "DISPLAY_MAX_ROWS": 50000,
              "DISPLAY_MODE": "simple",
              "ENABLE_ASSIGNMENT": true,
              "ENABLE_DATALINK": true,
              "FLATTEN_COLUMN_VALUES": true,
              "FLATTEN_INDEX_VALUES": false,
              "GENERATE_DEX_METADATA": false,
              "HTML_TABLE_SCHEMA": false,
              "LOG_LEVEL": 30,
              "MAX_RENDER_SIZE_BYTES": 104857600,
              "MAX_STRING_LENGTH": 250,
              "NUM_PAST_SAMPLES_TRACKED": 3,
              "RANDOM_STATE": 12648430,
              "RESET_INDEX_VALUES": false,
              "ROW_SAMPLING_METHOD": "random",
              "SAMPLING_FACTOR": 0.1,
              "SAMPLING_METHOD": "random",
              "STRINGIFY_COLUMN_VALUES": true,
              "STRINGIFY_INDEX_VALUES": false
            },
            "sample_history": [],
            "sampling_time": "2023-08-06T07:30:31.752400",
            "user_variable_name": null,
            "variable_name": "unk_dataframe_d65ee7bb31684cdcbd1be154ccc19838"
          },
          "f3187da2-eddf-404d-9076-e2c2196a15c7": {
            "applied_filters": [],
            "dataframe_info": {
              "default_index_used": true,
              "orig_num_cols": 3,
              "orig_num_rows": 5,
              "orig_size_bytes": 160,
              "truncated_num_cols": 3,
              "truncated_num_rows": 5,
              "truncated_size_bytes": 160,
              "truncated_string_columns": []
            },
            "display_id": "f3187da2-eddf-404d-9076-e2c2196a15c7",
            "dx_settings": {
              "ALLOW_NOTEABLE_ATTRS": true,
              "COLUMN_SAMPLING_METHOD": "outer",
              "DB_LOCATION": ":memory:",
              "DEV_MODE": false,
              "DISPLAY_MAX_COLUMNS": 100,
              "DISPLAY_MAX_ROWS": 50000,
              "DISPLAY_MODE": "simple",
              "ENABLE_ASSIGNMENT": true,
              "ENABLE_DATALINK": true,
              "FLATTEN_COLUMN_VALUES": true,
              "FLATTEN_INDEX_VALUES": false,
              "GENERATE_DEX_METADATA": false,
              "HTML_TABLE_SCHEMA": false,
              "LOG_LEVEL": 30,
              "MAX_RENDER_SIZE_BYTES": 104857600,
              "MAX_STRING_LENGTH": 250,
              "NUM_PAST_SAMPLES_TRACKED": 3,
              "RANDOM_STATE": 12648430,
              "RESET_INDEX_VALUES": false,
              "ROW_SAMPLING_METHOD": "random",
              "SAMPLING_FACTOR": 0.1,
              "SAMPLING_METHOD": "random",
              "STRINGIFY_COLUMN_VALUES": true,
              "STRINGIFY_INDEX_VALUES": false
            },
            "sample_history": [],
            "sampling_time": "2023-08-06T13:56:12.728388",
            "user_variable_name": null,
            "variable_name": "unk_dataframe_81166ba56b5c46a1b5d800adb4d87d49"
          },
          "bbf06601-bd89-405f-b922-b50106f2d2fc": {
            "applied_filters": [],
            "dataframe_info": {
              "default_index_used": true,
              "orig_num_cols": 3,
              "orig_num_rows": 5,
              "orig_size_bytes": 160,
              "truncated_num_cols": 3,
              "truncated_num_rows": 5,
              "truncated_size_bytes": 160,
              "truncated_string_columns": []
            },
            "display_id": "bbf06601-bd89-405f-b922-b50106f2d2fc",
            "dx_settings": {
              "ALLOW_NOTEABLE_ATTRS": true,
              "COLUMN_SAMPLING_METHOD": "outer",
              "DB_LOCATION": ":memory:",
              "DEV_MODE": false,
              "DISPLAY_MAX_COLUMNS": 100,
              "DISPLAY_MAX_ROWS": 50000,
              "DISPLAY_MODE": "simple",
              "ENABLE_ASSIGNMENT": true,
              "ENABLE_DATALINK": true,
              "FLATTEN_COLUMN_VALUES": true,
              "FLATTEN_INDEX_VALUES": false,
              "GENERATE_DEX_METADATA": false,
              "HTML_TABLE_SCHEMA": false,
              "LOG_LEVEL": 30,
              "MAX_RENDER_SIZE_BYTES": 104857600,
              "MAX_STRING_LENGTH": 250,
              "NUM_PAST_SAMPLES_TRACKED": 3,
              "RANDOM_STATE": 12648430,
              "RESET_INDEX_VALUES": false,
              "ROW_SAMPLING_METHOD": "random",
              "SAMPLING_FACTOR": 0.1,
              "SAMPLING_METHOD": "random",
              "STRINGIFY_COLUMN_VALUES": true,
              "STRINGIFY_INDEX_VALUES": false
            },
            "sample_history": [],
            "sampling_time": "2023-08-06T14:30:02.060931",
            "user_variable_name": null,
            "variable_name": "unk_dataframe_ad72b677ee0a434a998cb1172fd1cac6"
          },
          "c0877d4e-81a9-4d37-b01b-905be086c5af": {
            "applied_filters": [],
            "dataframe_info": {
              "default_index_used": true,
              "orig_num_cols": 3,
              "orig_num_rows": 5,
              "orig_size_bytes": 160,
              "truncated_num_cols": 3,
              "truncated_num_rows": 5,
              "truncated_size_bytes": 160,
              "truncated_string_columns": []
            },
            "display_id": "c0877d4e-81a9-4d37-b01b-905be086c5af",
            "dx_settings": {
              "ALLOW_NOTEABLE_ATTRS": true,
              "COLUMN_SAMPLING_METHOD": "outer",
              "DB_LOCATION": ":memory:",
              "DEV_MODE": false,
              "DISPLAY_MAX_COLUMNS": 100,
              "DISPLAY_MAX_ROWS": 50000,
              "DISPLAY_MODE": "simple",
              "ENABLE_ASSIGNMENT": true,
              "ENABLE_DATALINK": true,
              "FLATTEN_COLUMN_VALUES": true,
              "FLATTEN_INDEX_VALUES": false,
              "GENERATE_DEX_METADATA": false,
              "HTML_TABLE_SCHEMA": false,
              "LOG_LEVEL": 30,
              "MAX_RENDER_SIZE_BYTES": 104857600,
              "MAX_STRING_LENGTH": 250,
              "NUM_PAST_SAMPLES_TRACKED": 3,
              "RANDOM_STATE": 12648430,
              "RESET_INDEX_VALUES": false,
              "ROW_SAMPLING_METHOD": "random",
              "SAMPLING_FACTOR": 0.1,
              "SAMPLING_METHOD": "random",
              "STRINGIFY_COLUMN_VALUES": true,
              "STRINGIFY_INDEX_VALUES": false
            },
            "sample_history": [],
            "sampling_time": "2023-08-06T19:45:14.118300",
            "user_variable_name": null,
            "variable_name": "unk_dataframe_4b06f096a8094dd3bd334d8c9a5f5eb7"
          }
        },
        "dx": {
          "fieldMetadata": {},
          "simpleTable": true,
          "updated": 1691330153150,
          "views": []
        }
      },
      "execution_count": null,
      "source": "sheet_name = 'Tavola_1'\nxls_df = pd.read_excel(file_path, sheet_name=sheet_name, header=3)\ntemperature_data = xls_df.iloc[:, :17]\ntemperature_data.columns = ['Province'] + [f'Year_{year}' for year in range(2006, 2022)]\ntemperature_data = temperature_data.melt(id_vars=['Province'], var_name='Year', value_name='Temperature')\ntemperature_data['Year'] = temperature_data['Year'].str.extract('Year_(\\d+)').astype(int)\ntemperature_data.head()",
      "outputs": []
    },
    {
      "id": "00538b76-8e5e-494f-a398-2091f76d780e",
      "cell_type": "code",
      "metadata": {
        "noteable": {
          "cell_type": "code",
          "output_collection_id": "239846d2-7c40-42cf-b3d3-4fbb57121ae6"
        },
        "ExecuteTime": {
          "end_time": "2023-08-06T20:12:48.634156+00:00",
          "start_time": "2023-08-06T20:12:48.363257+00:00"
        },
        "datalink": {
          "6d8f4db6-e486-42bc-bb18-381f527794a7": {
            "applied_filters": [],
            "dataframe_info": {
              "default_index_used": true,
              "orig_num_cols": 4,
              "orig_num_rows": 5,
              "orig_size_bytes": 200,
              "truncated_num_cols": 4,
              "truncated_num_rows": 5,
              "truncated_size_bytes": 200,
              "truncated_string_columns": []
            },
            "display_id": "6d8f4db6-e486-42bc-bb18-381f527794a7",
            "dx_settings": {
              "ALLOW_NOTEABLE_ATTRS": true,
              "COLUMN_SAMPLING_METHOD": "outer",
              "DB_LOCATION": ":memory:",
              "DEV_MODE": false,
              "DISPLAY_MAX_COLUMNS": 100,
              "DISPLAY_MAX_ROWS": 50000,
              "DISPLAY_MODE": "simple",
              "ENABLE_ASSIGNMENT": true,
              "ENABLE_DATALINK": true,
              "FLATTEN_COLUMN_VALUES": true,
              "FLATTEN_INDEX_VALUES": false,
              "GENERATE_DEX_METADATA": false,
              "HTML_TABLE_SCHEMA": false,
              "LOG_LEVEL": 30,
              "MAX_RENDER_SIZE_BYTES": 104857600,
              "MAX_STRING_LENGTH": 250,
              "NUM_PAST_SAMPLES_TRACKED": 3,
              "RANDOM_STATE": 12648430,
              "RESET_INDEX_VALUES": false,
              "ROW_SAMPLING_METHOD": "random",
              "SAMPLING_FACTOR": 0.1,
              "SAMPLING_METHOD": "random",
              "STRINGIFY_COLUMN_VALUES": true,
              "STRINGIFY_INDEX_VALUES": false
            },
            "sample_history": [],
            "sampling_time": "2023-08-05T04:59:12.873057",
            "user_variable_name": null,
            "variable_name": "unk_dataframe_6223969fabe548aba1985dc8d80c268a"
          },
          "267629a9-7268-498b-a3e1-1cd6c4b154ad": {
            "applied_filters": [],
            "dataframe_info": {
              "default_index_used": true,
              "orig_num_cols": 4,
              "orig_num_rows": 5,
              "orig_size_bytes": 200,
              "truncated_num_cols": 4,
              "truncated_num_rows": 5,
              "truncated_size_bytes": 200,
              "truncated_string_columns": []
            },
            "display_id": "267629a9-7268-498b-a3e1-1cd6c4b154ad",
            "dx_settings": {
              "ALLOW_NOTEABLE_ATTRS": true,
              "COLUMN_SAMPLING_METHOD": "outer",
              "DB_LOCATION": ":memory:",
              "DEV_MODE": false,
              "DISPLAY_MAX_COLUMNS": 100,
              "DISPLAY_MAX_ROWS": 50000,
              "DISPLAY_MODE": "simple",
              "ENABLE_ASSIGNMENT": true,
              "ENABLE_DATALINK": true,
              "FLATTEN_COLUMN_VALUES": true,
              "FLATTEN_INDEX_VALUES": false,
              "GENERATE_DEX_METADATA": false,
              "HTML_TABLE_SCHEMA": false,
              "LOG_LEVEL": 30,
              "MAX_RENDER_SIZE_BYTES": 104857600,
              "MAX_STRING_LENGTH": 250,
              "NUM_PAST_SAMPLES_TRACKED": 3,
              "RANDOM_STATE": 12648430,
              "RESET_INDEX_VALUES": false,
              "ROW_SAMPLING_METHOD": "random",
              "SAMPLING_FACTOR": 0.1,
              "SAMPLING_METHOD": "random",
              "STRINGIFY_COLUMN_VALUES": true,
              "STRINGIFY_INDEX_VALUES": false
            },
            "sample_history": [],
            "sampling_time": "2023-08-05T11:48:34.170175",
            "user_variable_name": null,
            "variable_name": "unk_dataframe_fa4d405eefca41f480475ec9eef03dc5"
          },
          "9eba4f1f-9805-4a81-b742-ec9127ec0088": {
            "applied_filters": [],
            "dataframe_info": {
              "default_index_used": true,
              "orig_num_cols": 4,
              "orig_num_rows": 5,
              "orig_size_bytes": 200,
              "truncated_num_cols": 4,
              "truncated_num_rows": 5,
              "truncated_size_bytes": 200,
              "truncated_string_columns": []
            },
            "display_id": "9eba4f1f-9805-4a81-b742-ec9127ec0088",
            "dx_settings": {
              "ALLOW_NOTEABLE_ATTRS": true,
              "COLUMN_SAMPLING_METHOD": "outer",
              "DB_LOCATION": ":memory:",
              "DEV_MODE": false,
              "DISPLAY_MAX_COLUMNS": 100,
              "DISPLAY_MAX_ROWS": 50000,
              "DISPLAY_MODE": "simple",
              "ENABLE_ASSIGNMENT": true,
              "ENABLE_DATALINK": true,
              "FLATTEN_COLUMN_VALUES": true,
              "FLATTEN_INDEX_VALUES": false,
              "GENERATE_DEX_METADATA": false,
              "HTML_TABLE_SCHEMA": false,
              "LOG_LEVEL": 30,
              "MAX_RENDER_SIZE_BYTES": 104857600,
              "MAX_STRING_LENGTH": 250,
              "NUM_PAST_SAMPLES_TRACKED": 3,
              "RANDOM_STATE": 12648430,
              "RESET_INDEX_VALUES": false,
              "ROW_SAMPLING_METHOD": "random",
              "SAMPLING_FACTOR": 0.1,
              "SAMPLING_METHOD": "random",
              "STRINGIFY_COLUMN_VALUES": true,
              "STRINGIFY_INDEX_VALUES": false
            },
            "sample_history": [],
            "sampling_time": "2023-08-06T07:30:40.487597",
            "user_variable_name": null,
            "variable_name": "unk_dataframe_fcfc412ad43c4dcf8ffd012fbcdbb908"
          },
          "430eb733-e60b-4665-a4e6-4054b87414e3": {
            "applied_filters": [],
            "dataframe_info": {
              "default_index_used": true,
              "orig_num_cols": 4,
              "orig_num_rows": 5,
              "orig_size_bytes": 200,
              "truncated_num_cols": 4,
              "truncated_num_rows": 5,
              "truncated_size_bytes": 200,
              "truncated_string_columns": []
            },
            "display_id": "430eb733-e60b-4665-a4e6-4054b87414e3",
            "dx_settings": {
              "ALLOW_NOTEABLE_ATTRS": true,
              "COLUMN_SAMPLING_METHOD": "outer",
              "DB_LOCATION": ":memory:",
              "DEV_MODE": false,
              "DISPLAY_MAX_COLUMNS": 100,
              "DISPLAY_MAX_ROWS": 50000,
              "DISPLAY_MODE": "simple",
              "ENABLE_ASSIGNMENT": true,
              "ENABLE_DATALINK": true,
              "FLATTEN_COLUMN_VALUES": true,
              "FLATTEN_INDEX_VALUES": false,
              "GENERATE_DEX_METADATA": false,
              "HTML_TABLE_SCHEMA": false,
              "LOG_LEVEL": 30,
              "MAX_RENDER_SIZE_BYTES": 104857600,
              "MAX_STRING_LENGTH": 250,
              "NUM_PAST_SAMPLES_TRACKED": 3,
              "RANDOM_STATE": 12648430,
              "RESET_INDEX_VALUES": false,
              "ROW_SAMPLING_METHOD": "random",
              "SAMPLING_FACTOR": 0.1,
              "SAMPLING_METHOD": "random",
              "STRINGIFY_COLUMN_VALUES": true,
              "STRINGIFY_INDEX_VALUES": false
            },
            "sample_history": [],
            "sampling_time": "2023-08-06T07:38:17.195001",
            "user_variable_name": null,
            "variable_name": "unk_dataframe_b4a7933edf7743b781acdc97ade01ad6"
          },
          "4272dc6c-246d-438d-a68f-8688fefc071c": {
            "applied_filters": [],
            "dataframe_info": {
              "default_index_used": true,
              "orig_num_cols": 4,
              "orig_num_rows": 5,
              "orig_size_bytes": 200,
              "truncated_num_cols": 4,
              "truncated_num_rows": 5,
              "truncated_size_bytes": 200,
              "truncated_string_columns": []
            },
            "display_id": "4272dc6c-246d-438d-a68f-8688fefc071c",
            "dx_settings": {
              "ALLOW_NOTEABLE_ATTRS": true,
              "COLUMN_SAMPLING_METHOD": "outer",
              "DB_LOCATION": ":memory:",
              "DEV_MODE": false,
              "DISPLAY_MAX_COLUMNS": 100,
              "DISPLAY_MAX_ROWS": 50000,
              "DISPLAY_MODE": "simple",
              "ENABLE_ASSIGNMENT": true,
              "ENABLE_DATALINK": true,
              "FLATTEN_COLUMN_VALUES": true,
              "FLATTEN_INDEX_VALUES": false,
              "GENERATE_DEX_METADATA": false,
              "HTML_TABLE_SCHEMA": false,
              "LOG_LEVEL": 30,
              "MAX_RENDER_SIZE_BYTES": 104857600,
              "MAX_STRING_LENGTH": 250,
              "NUM_PAST_SAMPLES_TRACKED": 3,
              "RANDOM_STATE": 12648430,
              "RESET_INDEX_VALUES": false,
              "ROW_SAMPLING_METHOD": "random",
              "SAMPLING_FACTOR": 0.1,
              "SAMPLING_METHOD": "random",
              "STRINGIFY_COLUMN_VALUES": true,
              "STRINGIFY_INDEX_VALUES": false
            },
            "sample_history": [],
            "sampling_time": "2023-08-06T13:56:20.648180",
            "user_variable_name": null,
            "variable_name": "unk_dataframe_e34c1d221f544e20b2f3473a39b87b99"
          },
          "c137c673-88bb-4187-966e-3acb06166fe6": {
            "applied_filters": [],
            "dataframe_info": {
              "default_index_used": true,
              "orig_num_cols": 4,
              "orig_num_rows": 5,
              "orig_size_bytes": 200,
              "truncated_num_cols": 4,
              "truncated_num_rows": 5,
              "truncated_size_bytes": 200,
              "truncated_string_columns": []
            },
            "display_id": "c137c673-88bb-4187-966e-3acb06166fe6",
            "dx_settings": {
              "ALLOW_NOTEABLE_ATTRS": true,
              "COLUMN_SAMPLING_METHOD": "outer",
              "DB_LOCATION": ":memory:",
              "DEV_MODE": false,
              "DISPLAY_MAX_COLUMNS": 100,
              "DISPLAY_MAX_ROWS": 50000,
              "DISPLAY_MODE": "simple",
              "ENABLE_ASSIGNMENT": true,
              "ENABLE_DATALINK": true,
              "FLATTEN_COLUMN_VALUES": true,
              "FLATTEN_INDEX_VALUES": false,
              "GENERATE_DEX_METADATA": false,
              "HTML_TABLE_SCHEMA": false,
              "LOG_LEVEL": 30,
              "MAX_RENDER_SIZE_BYTES": 104857600,
              "MAX_STRING_LENGTH": 250,
              "NUM_PAST_SAMPLES_TRACKED": 3,
              "RANDOM_STATE": 12648430,
              "RESET_INDEX_VALUES": false,
              "ROW_SAMPLING_METHOD": "random",
              "SAMPLING_FACTOR": 0.1,
              "SAMPLING_METHOD": "random",
              "STRINGIFY_COLUMN_VALUES": true,
              "STRINGIFY_INDEX_VALUES": false
            },
            "sample_history": [],
            "sampling_time": "2023-08-06T14:30:10.238561",
            "user_variable_name": null,
            "variable_name": "unk_dataframe_f11603d3f2e643088ed51518f892c15f"
          },
          "13bd7b9b-3050-49d0-82d9-7edef8de1d10": {
            "applied_filters": [],
            "dataframe_info": {
              "default_index_used": true,
              "orig_num_cols": 4,
              "orig_num_rows": 5,
              "orig_size_bytes": 200,
              "truncated_num_cols": 4,
              "truncated_num_rows": 5,
              "truncated_size_bytes": 200,
              "truncated_string_columns": []
            },
            "display_id": "13bd7b9b-3050-49d0-82d9-7edef8de1d10",
            "dx_settings": {
              "ALLOW_NOTEABLE_ATTRS": true,
              "COLUMN_SAMPLING_METHOD": "outer",
              "DB_LOCATION": ":memory:",
              "DEV_MODE": false,
              "DISPLAY_MAX_COLUMNS": 100,
              "DISPLAY_MAX_ROWS": 50000,
              "DISPLAY_MODE": "simple",
              "ENABLE_ASSIGNMENT": true,
              "ENABLE_DATALINK": true,
              "FLATTEN_COLUMN_VALUES": true,
              "FLATTEN_INDEX_VALUES": false,
              "GENERATE_DEX_METADATA": false,
              "HTML_TABLE_SCHEMA": false,
              "LOG_LEVEL": 30,
              "MAX_RENDER_SIZE_BYTES": 104857600,
              "MAX_STRING_LENGTH": 250,
              "NUM_PAST_SAMPLES_TRACKED": 3,
              "RANDOM_STATE": 12648430,
              "RESET_INDEX_VALUES": false,
              "ROW_SAMPLING_METHOD": "random",
              "SAMPLING_FACTOR": 0.1,
              "SAMPLING_METHOD": "random",
              "STRINGIFY_COLUMN_VALUES": true,
              "STRINGIFY_INDEX_VALUES": false
            },
            "sample_history": [],
            "sampling_time": "2023-08-06T19:45:27.363670",
            "user_variable_name": null,
            "variable_name": "unk_dataframe_a969b6a787834063a878c77a075f7984"
          },
          "0f281905-d597-4303-8469-de1599f3c2fe": {
            "applied_filters": [],
            "dataframe_info": {
              "default_index_used": true,
              "orig_num_cols": 4,
              "orig_num_rows": 5,
              "orig_size_bytes": 200,
              "truncated_num_cols": 4,
              "truncated_num_rows": 5,
              "truncated_size_bytes": 200,
              "truncated_string_columns": []
            },
            "display_id": "0f281905-d597-4303-8469-de1599f3c2fe",
            "dx_settings": {
              "ALLOW_NOTEABLE_ATTRS": true,
              "COLUMN_SAMPLING_METHOD": "outer",
              "DB_LOCATION": ":memory:",
              "DEV_MODE": false,
              "DISPLAY_MAX_COLUMNS": 100,
              "DISPLAY_MAX_ROWS": 50000,
              "DISPLAY_MODE": "simple",
              "ENABLE_ASSIGNMENT": true,
              "ENABLE_DATALINK": true,
              "FLATTEN_COLUMN_VALUES": true,
              "FLATTEN_INDEX_VALUES": false,
              "GENERATE_DEX_METADATA": false,
              "HTML_TABLE_SCHEMA": false,
              "LOG_LEVEL": 30,
              "MAX_RENDER_SIZE_BYTES": 104857600,
              "MAX_STRING_LENGTH": 250,
              "NUM_PAST_SAMPLES_TRACKED": 3,
              "RANDOM_STATE": 12648430,
              "RESET_INDEX_VALUES": false,
              "ROW_SAMPLING_METHOD": "random",
              "SAMPLING_FACTOR": 0.1,
              "SAMPLING_METHOD": "random",
              "STRINGIFY_COLUMN_VALUES": true,
              "STRINGIFY_INDEX_VALUES": false
            },
            "sample_history": [],
            "sampling_time": "2023-08-06T20:02:32.101684",
            "user_variable_name": null,
            "variable_name": "unk_dataframe_791719c48ca4454da20ca32261d2ac0c"
          },
          "b893a071-4031-48ad-86bb-1349dd906e3b": {
            "applied_filters": [],
            "dataframe_info": {
              "default_index_used": true,
              "orig_num_cols": 4,
              "orig_num_rows": 5,
              "orig_size_bytes": 200,
              "truncated_num_cols": 4,
              "truncated_num_rows": 5,
              "truncated_size_bytes": 200,
              "truncated_string_columns": []
            },
            "display_id": "b893a071-4031-48ad-86bb-1349dd906e3b",
            "dx_settings": {
              "ALLOW_NOTEABLE_ATTRS": true,
              "COLUMN_SAMPLING_METHOD": "outer",
              "DB_LOCATION": ":memory:",
              "DEV_MODE": false,
              "DISPLAY_MAX_COLUMNS": 100,
              "DISPLAY_MAX_ROWS": 50000,
              "DISPLAY_MODE": "simple",
              "ENABLE_ASSIGNMENT": true,
              "ENABLE_DATALINK": true,
              "FLATTEN_COLUMN_VALUES": true,
              "FLATTEN_INDEX_VALUES": false,
              "GENERATE_DEX_METADATA": false,
              "HTML_TABLE_SCHEMA": false,
              "LOG_LEVEL": 30,
              "MAX_RENDER_SIZE_BYTES": 104857600,
              "MAX_STRING_LENGTH": 250,
              "NUM_PAST_SAMPLES_TRACKED": 3,
              "RANDOM_STATE": 12648430,
              "RESET_INDEX_VALUES": false,
              "ROW_SAMPLING_METHOD": "random",
              "SAMPLING_FACTOR": 0.1,
              "SAMPLING_METHOD": "random",
              "STRINGIFY_COLUMN_VALUES": true,
              "STRINGIFY_INDEX_VALUES": false
            },
            "sample_history": [],
            "sampling_time": "2023-08-06T20:05:27.116206",
            "user_variable_name": null,
            "variable_name": "unk_dataframe_1968fb4c32504226b731fd3df7cf0625"
          },
          "45967f0e-13a9-4bd0-bea6-a64f53d28f77": {
            "applied_filters": [],
            "dataframe_info": {
              "default_index_used": true,
              "orig_num_cols": 4,
              "orig_num_rows": 5,
              "orig_size_bytes": 200,
              "truncated_num_cols": 4,
              "truncated_num_rows": 5,
              "truncated_size_bytes": 200,
              "truncated_string_columns": []
            },
            "display_id": "45967f0e-13a9-4bd0-bea6-a64f53d28f77",
            "dx_settings": {
              "ALLOW_NOTEABLE_ATTRS": true,
              "COLUMN_SAMPLING_METHOD": "outer",
              "DB_LOCATION": ":memory:",
              "DEV_MODE": false,
              "DISPLAY_MAX_COLUMNS": 100,
              "DISPLAY_MAX_ROWS": 50000,
              "DISPLAY_MODE": "simple",
              "ENABLE_ASSIGNMENT": true,
              "ENABLE_DATALINK": true,
              "FLATTEN_COLUMN_VALUES": true,
              "FLATTEN_INDEX_VALUES": false,
              "GENERATE_DEX_METADATA": false,
              "HTML_TABLE_SCHEMA": false,
              "LOG_LEVEL": 30,
              "MAX_RENDER_SIZE_BYTES": 104857600,
              "MAX_STRING_LENGTH": 250,
              "NUM_PAST_SAMPLES_TRACKED": 3,
              "RANDOM_STATE": 12648430,
              "RESET_INDEX_VALUES": false,
              "ROW_SAMPLING_METHOD": "random",
              "SAMPLING_FACTOR": 0.1,
              "SAMPLING_METHOD": "random",
              "STRINGIFY_COLUMN_VALUES": true,
              "STRINGIFY_INDEX_VALUES": false
            },
            "sample_history": [],
            "sampling_time": "2023-08-06T20:12:48.474762",
            "user_variable_name": null,
            "variable_name": "unk_dataframe_5646e770aba84f2e89d6fa6cb9b2e897"
          }
        },
        "dx": {
          "fieldMetadata": {},
          "simpleTable": true,
          "updated": 1691330183158,
          "views": []
        }
      },
      "execution_count": null,
      "source": "precipitation_data = xls_df.iloc[:, [0] + list(range(18, xls_df.shape[1]))]\nprecipitation_data.columns = ['Province'] + [str(year) for year in range(2006, 2022)]\nprecipitation_data = precipitation_data.melt(id_vars=['Province'], var_name='Year', value_name='Precipitation')\nprecipitation_data['Year'] = precipitation_data['Year'].astype(int)\nitaly_weather_data = pd.merge(temperature_data, precipitation_data, on=['Province', 'Year'])\nitaly_weather_data.head()",
      "outputs": []
    },
    {
      "id": "89eaa8b6-e912-44ef-8188-f66f9ef67402",
      "cell_type": "code",
      "metadata": {
        "jupyter": {
          "outputs_hidden": false,
          "source_hidden": false
        },
        "noteable": {
          "cell_type": "code"
        }
      },
      "execution_count": null,
      "source": "italy_weather_data['Temperature'] = italy_weather_data['Temperature'].replace('....', np.nan, regex)",
      "outputs": []
    },
    {
      "id": "65b60f97-0ef9-4d86-9ca0-2c0e97ff01c7",
      "cell_type": "code",
      "metadata": {
        "noteable": {
          "cell_type": "code",
          "output_collection_id": "9f77e21e-0561-440c-8ed4-d9eb447c3f9f"
        },
        "ExecuteTime": {
          "end_time": "2023-08-06T20:05:32.097943+00:00",
          "start_time": "2023-08-06T20:05:31.931829+00:00"
        },
        "jupyter": {
          "outputs_hidden": true
        }
      },
      "execution_count": null,
      "source": "northern_region_mapping = {\n    'Alessandria': 'Piedmont', 'Asti': 'Piedmont', 'Biella': 'Piedmont', 'Cuneo': 'Piedmont', 'Novara': 'Piedmont', 'Turin': 'Piedmont', 'Verbano-Cusio-Ossola': 'Piedmont', 'Vercelli': 'Piedmont',\n    'Bergamo': 'Lombardy', 'Brescia': 'Lombardy', 'Como': 'Lombardy', 'Cremona': 'Lombardy', 'Lecco': 'Lombardy', 'Lodi': 'Lombardy', 'Mantua': 'Lombardy', 'Milan': 'Lombardy', 'Monza and Brianza': 'Lombardy', 'Pavia': 'Lombardy', 'Sondrio': 'Lombardy', 'Varese': 'Lombardy',\n    'Bologna': 'Emilia-Romagna', 'Ferrara': 'Emilia-Romagna', 'Forlì-Cesena': 'Emilia-Romagna', 'Modena': 'Emilia-Romagna', 'Parma': 'Emilia-Romagna', 'Piacenza': 'Emilia-Romagna', 'Ravenna': 'Emilia-Romagna', 'Reggio Emilia': 'Emilia-Romagna', 'Rimini': 'Emilia-Romagna',\n    'Genoa': 'Liguria', 'Imperia': 'Liguria', 'La Spezia': 'Liguria', 'Savona': 'Liguria',\n    'Bolzano': 'Trentino-Alto Adige', 'Trento': 'Trentino-Alto Adige',\n    'Belluno': 'Veneto', 'Padua': 'Veneto', 'Rovigo': 'Veneto', 'Treviso': 'Veneto', 'Venice': 'Veneto', 'Verona': 'Veneto', 'Vicenza': 'Veneto',\n    'Gorizia': 'Friuli-Venezia Giulia', 'Pordenone': 'Friuli-Venezia Giulia', 'Trieste': 'Friuli-Venezia Giulia', 'Udine': 'Friuli-Venezia Giulia',\n    'Aosta': 'Aosta Valley'\n}\nnorthern_region_mapping",
      "outputs": []
    },
    {
      "id": "d95bffd2-f989-4a7d-bd59-ec1ba7f0ce55",
      "cell_type": "code",
      "metadata": {
        "noteable": {
          "cell_type": "code",
          "output_collection_id": "1b9d708e-eae4-4dd7-b03c-cf3c349dce6b"
        },
        "ExecuteTime": {
          "end_time": "2023-08-06T20:05:36.361022+00:00",
          "start_time": "2023-08-06T20:05:36.193425+00:00"
        },
        "jupyter": {
          "outputs_hidden": true
        }
      },
      "execution_count": null,
      "source": "central_region_mapping = {\n    'Ancona': 'Marche', 'Ascoli Piceno': 'Marche', 'Fermo': 'Marche', 'Macerata': 'Marche', 'Pesaro and Urbino': 'Marche',\n    'Arezzo': 'Tuscany', 'Florence': 'Tuscany', 'Grosseto': 'Tuscany', 'Livorno': 'Tuscany', 'Lucca': 'Tuscany', 'Massa and Carrara': 'Tuscany', 'Pisa': 'Tuscany', 'Pistoia': 'Tuscany', 'Prato': 'Tuscany', 'Siena': 'Tuscany',\n    'Frosinone': 'Lazio', 'Latina': 'Lazio', 'Rieti': 'Lazio', 'Rome': 'Lazio', 'Viterbo': 'Lazio',\n    'Perugia': 'Umbria', 'Terni': 'Umbria'\n}\nsouthern_region_mapping = {\n    'Avellino': 'Campania', 'Benevento': 'Campania', 'Caserta': 'Campania', 'Naples': 'Campania', 'Salerno': 'Campania',\n    'Bari': 'Apulia', 'Barletta-Andria-Trani': 'Apulia', 'Brindisi': 'Apulia', 'Foggia': 'Apulia', 'Lecce': 'Apulia', 'Taranto': 'Apulia',\n    'Matera': 'Basilicata', 'Potenza': 'Basilicata',\n    'Catanzaro': 'Calabria', 'Cosenza': 'Calabria', 'Crotone': 'Calabria', 'Reggio Calabria': 'Calabria', 'Vibo Valentia': 'Calabria',\n    'Agrigento': 'Sicily', 'Caltanissetta': 'Sicily', 'Catania': 'Sicily', 'Enna': 'Sicily', 'Messina': 'Sicily', 'Palermo': 'Sicily', 'Ragusa': 'Sicily', 'Syracuse': 'Sicily', 'Trapani': 'Sicily'\n}\ninsular_region_mapping = {\n    'Cagliari': 'Sardinia', 'Nuoro': 'Sardinia', 'Oristano': 'Sardinia', 'Sassari': 'Sardinia', 'South Sardinia': 'Sardinia'\n}\ncentral_region_mapping, southern_region_mapping, insular_region_mapping",
      "outputs": []
    },
    {
      "id": "7d790212-ed4b-41d6-aa59-f06161134a7e",
      "cell_type": "code",
      "metadata": {
        "noteable": {
          "cell_type": "code",
          "output_collection_id": "e1ad041c-54a2-4cb5-8757-62184ade6706"
        },
        "ExecuteTime": {
          "end_time": "2023-08-06T20:05:42.047128+00:00",
          "start_time": "2023-08-06T20:05:41.801483+00:00"
        },
        "datalink": {
          "ef7ffb58-b3b2-4985-9ed2-f33e3b05ea4f": {
            "applied_filters": [],
            "dataframe_info": {
              "default_index_used": true,
              "orig_num_cols": 6,
              "orig_num_rows": 5,
              "orig_size_bytes": 280,
              "truncated_num_cols": 6,
              "truncated_num_rows": 5,
              "truncated_size_bytes": 280,
              "truncated_string_columns": []
            },
            "display_id": "ef7ffb58-b3b2-4985-9ed2-f33e3b05ea4f",
            "dx_settings": {
              "ALLOW_NOTEABLE_ATTRS": true,
              "COLUMN_SAMPLING_METHOD": "outer",
              "DB_LOCATION": ":memory:",
              "DEV_MODE": false,
              "DISPLAY_MAX_COLUMNS": 100,
              "DISPLAY_MAX_ROWS": 50000,
              "DISPLAY_MODE": "simple",
              "ENABLE_ASSIGNMENT": true,
              "ENABLE_DATALINK": true,
              "FLATTEN_COLUMN_VALUES": true,
              "FLATTEN_INDEX_VALUES": false,
              "GENERATE_DEX_METADATA": false,
              "HTML_TABLE_SCHEMA": false,
              "LOG_LEVEL": 30,
              "MAX_RENDER_SIZE_BYTES": 104857600,
              "MAX_STRING_LENGTH": 250,
              "NUM_PAST_SAMPLES_TRACKED": 3,
              "RANDOM_STATE": 12648430,
              "RESET_INDEX_VALUES": false,
              "ROW_SAMPLING_METHOD": "random",
              "SAMPLING_FACTOR": 0.1,
              "SAMPLING_METHOD": "random",
              "STRINGIFY_COLUMN_VALUES": true,
              "STRINGIFY_INDEX_VALUES": false
            },
            "sample_history": [],
            "sampling_time": "2023-08-05T05:01:21.952083",
            "user_variable_name": null,
            "variable_name": "unk_dataframe_58b9e3a12f4842f7a567e783abc0ebc1"
          },
          "0e24c25d-c7d3-4de4-836f-fb478205f85f": {
            "applied_filters": [],
            "dataframe_info": {
              "default_index_used": true,
              "orig_num_cols": 6,
              "orig_num_rows": 5,
              "orig_size_bytes": 280,
              "truncated_num_cols": 6,
              "truncated_num_rows": 5,
              "truncated_size_bytes": 280,
              "truncated_string_columns": []
            },
            "display_id": "0e24c25d-c7d3-4de4-836f-fb478205f85f",
            "dx_settings": {
              "ALLOW_NOTEABLE_ATTRS": true,
              "COLUMN_SAMPLING_METHOD": "outer",
              "DB_LOCATION": ":memory:",
              "DEV_MODE": false,
              "DISPLAY_MAX_COLUMNS": 100,
              "DISPLAY_MAX_ROWS": 50000,
              "DISPLAY_MODE": "simple",
              "ENABLE_ASSIGNMENT": true,
              "ENABLE_DATALINK": true,
              "FLATTEN_COLUMN_VALUES": true,
              "FLATTEN_INDEX_VALUES": false,
              "GENERATE_DEX_METADATA": false,
              "HTML_TABLE_SCHEMA": false,
              "LOG_LEVEL": 30,
              "MAX_RENDER_SIZE_BYTES": 104857600,
              "MAX_STRING_LENGTH": 250,
              "NUM_PAST_SAMPLES_TRACKED": 3,
              "RANDOM_STATE": 12648430,
              "RESET_INDEX_VALUES": false,
              "ROW_SAMPLING_METHOD": "random",
              "SAMPLING_FACTOR": 0.1,
              "SAMPLING_METHOD": "random",
              "STRINGIFY_COLUMN_VALUES": true,
              "STRINGIFY_INDEX_VALUES": false
            },
            "sample_history": [],
            "sampling_time": "2023-08-05T11:49:06.814563",
            "user_variable_name": null,
            "variable_name": "unk_dataframe_90b1f681f6c84f92ba8e333582c5bd9d"
          },
          "7500eee9-16a4-4021-949d-a9db282068b8": {
            "applied_filters": [],
            "dataframe_info": {
              "default_index_used": true,
              "orig_num_cols": 6,
              "orig_num_rows": 5,
              "orig_size_bytes": 280,
              "truncated_num_cols": 6,
              "truncated_num_rows": 5,
              "truncated_size_bytes": 280,
              "truncated_string_columns": []
            },
            "display_id": "7500eee9-16a4-4021-949d-a9db282068b8",
            "dx_settings": {
              "ALLOW_NOTEABLE_ATTRS": true,
              "COLUMN_SAMPLING_METHOD": "outer",
              "DB_LOCATION": ":memory:",
              "DEV_MODE": false,
              "DISPLAY_MAX_COLUMNS": 100,
              "DISPLAY_MAX_ROWS": 50000,
              "DISPLAY_MODE": "simple",
              "ENABLE_ASSIGNMENT": true,
              "ENABLE_DATALINK": true,
              "FLATTEN_COLUMN_VALUES": true,
              "FLATTEN_INDEX_VALUES": false,
              "GENERATE_DEX_METADATA": false,
              "HTML_TABLE_SCHEMA": false,
              "LOG_LEVEL": 30,
              "MAX_RENDER_SIZE_BYTES": 104857600,
              "MAX_STRING_LENGTH": 250,
              "NUM_PAST_SAMPLES_TRACKED": 3,
              "RANDOM_STATE": 12648430,
              "RESET_INDEX_VALUES": false,
              "ROW_SAMPLING_METHOD": "random",
              "SAMPLING_FACTOR": 0.1,
              "SAMPLING_METHOD": "random",
              "STRINGIFY_COLUMN_VALUES": true,
              "STRINGIFY_INDEX_VALUES": false
            },
            "sample_history": [],
            "sampling_time": "2023-08-06T07:31:19.238401",
            "user_variable_name": null,
            "variable_name": "unk_dataframe_41838effa8d54d7aa8cae25ba0b320ab"
          },
          "8d661e7d-5687-4859-a237-496907d35870": {
            "applied_filters": [],
            "dataframe_info": {
              "default_index_used": true,
              "orig_num_cols": 6,
              "orig_num_rows": 5,
              "orig_size_bytes": 280,
              "truncated_num_cols": 6,
              "truncated_num_rows": 5,
              "truncated_size_bytes": 280,
              "truncated_string_columns": []
            },
            "display_id": "8d661e7d-5687-4859-a237-496907d35870",
            "dx_settings": {
              "ALLOW_NOTEABLE_ATTRS": true,
              "COLUMN_SAMPLING_METHOD": "outer",
              "DB_LOCATION": ":memory:",
              "DEV_MODE": false,
              "DISPLAY_MAX_COLUMNS": 100,
              "DISPLAY_MAX_ROWS": 50000,
              "DISPLAY_MODE": "simple",
              "ENABLE_ASSIGNMENT": true,
              "ENABLE_DATALINK": true,
              "FLATTEN_COLUMN_VALUES": true,
              "FLATTEN_INDEX_VALUES": false,
              "GENERATE_DEX_METADATA": false,
              "HTML_TABLE_SCHEMA": false,
              "LOG_LEVEL": 30,
              "MAX_RENDER_SIZE_BYTES": 104857600,
              "MAX_STRING_LENGTH": 250,
              "NUM_PAST_SAMPLES_TRACKED": 3,
              "RANDOM_STATE": 12648430,
              "RESET_INDEX_VALUES": false,
              "ROW_SAMPLING_METHOD": "random",
              "SAMPLING_FACTOR": 0.1,
              "SAMPLING_METHOD": "random",
              "STRINGIFY_COLUMN_VALUES": true,
              "STRINGIFY_INDEX_VALUES": false
            },
            "sample_history": [],
            "sampling_time": "2023-08-06T07:38:38.657173",
            "user_variable_name": null,
            "variable_name": "unk_dataframe_f97daa9f095949548120c7168358458d"
          },
          "c786b4c7-38f9-4925-b75d-98e393a132ec": {
            "applied_filters": [],
            "dataframe_info": {
              "default_index_used": true,
              "orig_num_cols": 6,
              "orig_num_rows": 5,
              "orig_size_bytes": 280,
              "truncated_num_cols": 6,
              "truncated_num_rows": 5,
              "truncated_size_bytes": 280,
              "truncated_string_columns": []
            },
            "display_id": "c786b4c7-38f9-4925-b75d-98e393a132ec",
            "dx_settings": {
              "ALLOW_NOTEABLE_ATTRS": true,
              "COLUMN_SAMPLING_METHOD": "outer",
              "DB_LOCATION": ":memory:",
              "DEV_MODE": false,
              "DISPLAY_MAX_COLUMNS": 100,
              "DISPLAY_MAX_ROWS": 50000,
              "DISPLAY_MODE": "simple",
              "ENABLE_ASSIGNMENT": true,
              "ENABLE_DATALINK": true,
              "FLATTEN_COLUMN_VALUES": true,
              "FLATTEN_INDEX_VALUES": false,
              "GENERATE_DEX_METADATA": false,
              "HTML_TABLE_SCHEMA": false,
              "LOG_LEVEL": 30,
              "MAX_RENDER_SIZE_BYTES": 104857600,
              "MAX_STRING_LENGTH": 250,
              "NUM_PAST_SAMPLES_TRACKED": 3,
              "RANDOM_STATE": 12648430,
              "RESET_INDEX_VALUES": false,
              "ROW_SAMPLING_METHOD": "random",
              "SAMPLING_FACTOR": 0.1,
              "SAMPLING_METHOD": "random",
              "STRINGIFY_COLUMN_VALUES": true,
              "STRINGIFY_INDEX_VALUES": false
            },
            "sample_history": [],
            "sampling_time": "2023-08-06T14:30:34.362071",
            "user_variable_name": null,
            "variable_name": "unk_dataframe_cb8e1ea3e4224e29ac889655f979284c"
          },
          "8a7881a8-62c1-4bbc-a279-e51e16d658d4": {
            "applied_filters": [],
            "dataframe_info": {
              "default_index_used": true,
              "orig_num_cols": 6,
              "orig_num_rows": 5,
              "orig_size_bytes": 280,
              "truncated_num_cols": 6,
              "truncated_num_rows": 5,
              "truncated_size_bytes": 280,
              "truncated_string_columns": []
            },
            "display_id": "8a7881a8-62c1-4bbc-a279-e51e16d658d4",
            "dx_settings": {
              "ALLOW_NOTEABLE_ATTRS": true,
              "COLUMN_SAMPLING_METHOD": "outer",
              "DB_LOCATION": ":memory:",
              "DEV_MODE": false,
              "DISPLAY_MAX_COLUMNS": 100,
              "DISPLAY_MAX_ROWS": 50000,
              "DISPLAY_MODE": "simple",
              "ENABLE_ASSIGNMENT": true,
              "ENABLE_DATALINK": true,
              "FLATTEN_COLUMN_VALUES": true,
              "FLATTEN_INDEX_VALUES": false,
              "GENERATE_DEX_METADATA": false,
              "HTML_TABLE_SCHEMA": false,
              "LOG_LEVEL": 30,
              "MAX_RENDER_SIZE_BYTES": 104857600,
              "MAX_STRING_LENGTH": 250,
              "NUM_PAST_SAMPLES_TRACKED": 3,
              "RANDOM_STATE": 12648430,
              "RESET_INDEX_VALUES": false,
              "ROW_SAMPLING_METHOD": "random",
              "SAMPLING_FACTOR": 0.1,
              "SAMPLING_METHOD": "random",
              "STRINGIFY_COLUMN_VALUES": true,
              "STRINGIFY_INDEX_VALUES": false
            },
            "sample_history": [],
            "sampling_time": "2023-08-06T19:45:45.102104",
            "user_variable_name": null,
            "variable_name": "unk_dataframe_7f6284f79a9b4a0eaa23a93edf4b0317"
          },
          "3be1a376-fc01-4fac-b438-d1bb8a067e73": {
            "applied_filters": [],
            "dataframe_info": {
              "default_index_used": true,
              "orig_num_cols": 6,
              "orig_num_rows": 5,
              "orig_size_bytes": 280,
              "truncated_num_cols": 6,
              "truncated_num_rows": 5,
              "truncated_size_bytes": 280,
              "truncated_string_columns": []
            },
            "display_id": "3be1a376-fc01-4fac-b438-d1bb8a067e73",
            "dx_settings": {
              "ALLOW_NOTEABLE_ATTRS": true,
              "COLUMN_SAMPLING_METHOD": "outer",
              "DB_LOCATION": ":memory:",
              "DEV_MODE": false,
              "DISPLAY_MAX_COLUMNS": 100,
              "DISPLAY_MAX_ROWS": 50000,
              "DISPLAY_MODE": "simple",
              "ENABLE_ASSIGNMENT": true,
              "ENABLE_DATALINK": true,
              "FLATTEN_COLUMN_VALUES": true,
              "FLATTEN_INDEX_VALUES": false,
              "GENERATE_DEX_METADATA": false,
              "HTML_TABLE_SCHEMA": false,
              "LOG_LEVEL": 30,
              "MAX_RENDER_SIZE_BYTES": 104857600,
              "MAX_STRING_LENGTH": 250,
              "NUM_PAST_SAMPLES_TRACKED": 3,
              "RANDOM_STATE": 12648430,
              "RESET_INDEX_VALUES": false,
              "ROW_SAMPLING_METHOD": "random",
              "SAMPLING_FACTOR": 0.1,
              "SAMPLING_METHOD": "random",
              "STRINGIFY_COLUMN_VALUES": true,
              "STRINGIFY_INDEX_VALUES": false
            },
            "sample_history": [],
            "sampling_time": "2023-08-06T20:02:53.826343",
            "user_variable_name": null,
            "variable_name": "unk_dataframe_d68f79577a9f4b80bb7819f06a4ab3eb"
          },
          "3ef82075-d1cb-414e-bf63-b438e3c36410": {
            "applied_filters": [],
            "dataframe_info": {
              "default_index_used": true,
              "orig_num_cols": 6,
              "orig_num_rows": 5,
              "orig_size_bytes": 280,
              "truncated_num_cols": 6,
              "truncated_num_rows": 5,
              "truncated_size_bytes": 280,
              "truncated_string_columns": []
            },
            "display_id": "3ef82075-d1cb-414e-bf63-b438e3c36410",
            "dx_settings": {
              "ALLOW_NOTEABLE_ATTRS": true,
              "COLUMN_SAMPLING_METHOD": "outer",
              "DB_LOCATION": ":memory:",
              "DEV_MODE": false,
              "DISPLAY_MAX_COLUMNS": 100,
              "DISPLAY_MAX_ROWS": 50000,
              "DISPLAY_MODE": "simple",
              "ENABLE_ASSIGNMENT": true,
              "ENABLE_DATALINK": true,
              "FLATTEN_COLUMN_VALUES": true,
              "FLATTEN_INDEX_VALUES": false,
              "GENERATE_DEX_METADATA": false,
              "HTML_TABLE_SCHEMA": false,
              "LOG_LEVEL": 30,
              "MAX_RENDER_SIZE_BYTES": 104857600,
              "MAX_STRING_LENGTH": 250,
              "NUM_PAST_SAMPLES_TRACKED": 3,
              "RANDOM_STATE": 12648430,
              "RESET_INDEX_VALUES": false,
              "ROW_SAMPLING_METHOD": "random",
              "SAMPLING_FACTOR": 0.1,
              "SAMPLING_METHOD": "random",
              "STRINGIFY_COLUMN_VALUES": true,
              "STRINGIFY_INDEX_VALUES": false
            },
            "sample_history": [],
            "sampling_time": "2023-08-06T20:05:41.889304",
            "user_variable_name": null,
            "variable_name": "unk_dataframe_2d9597dd9acd44699834df36acae1f45"
          }
        },
        "jupyter": {
          "outputs_hidden": true
        },
        "dx": {
          "fieldMetadata": {},
          "simpleTable": true,
          "updated": 1691307533345,
          "views": []
        }
      },
      "execution_count": null,
      "source": "# Combine all region mappings\nregion_mapping = {**northern_region_mapping, **central_region_mapping, **southern_region_mapping, **insular_region_mapping}\nitaly_weather_data['Region'] = italy_weather_data['Province'].map(region_mapping)\n\n# Define sector mapping based on region\nsector_mapping = {\n    'Piedmont': 'Northern', 'Lombardy': 'Northern', 'Emilia-Romagna': 'Northern', 'Liguria': 'Northern', 'Trentino-Alto Adige': 'Northern', 'Veneto': 'Northern', 'Friuli-Venezia Giulia': 'Northern', 'Aosta Valley': 'Northern',\n    'Marche': 'Central', 'Tuscany': 'Central', 'Lazio': 'Central', 'Umbria': 'Central',\n    'Campania': 'Southern', 'Apulia': 'Southern', 'Basilicata': 'Southern', 'Calabria': 'Southern', 'Sicily': 'Southern',\n    'Sardinia': 'Insular'\n}\nitaly_weather_data['Sector'] = italy_weather_data['Region'].map(sector_mapping)\nitaly_weather_data.head()",
      "outputs": []
    },
    {
      "id": "af8f45db-ffcf-4a16-992e-44aba9ead819",
      "cell_type": "code",
      "metadata": {
        "noteable": {
          "cell_type": "code",
          "output_collection_id": "a71cef7a-9e50-490f-8ded-be4834da2165"
        },
        "ExecuteTime": {
          "end_time": "2023-08-06T20:05:57.153325+00:00",
          "start_time": "2023-08-06T20:05:56.911284+00:00"
        },
        "datalink": {
          "b5b0a34a-54a5-4dd2-978f-063173588e39": {
            "applied_filters": [],
            "dataframe_info": {
              "default_index_used": true,
              "orig_num_cols": 6,
              "orig_num_rows": 5,
              "orig_size_bytes": 280,
              "truncated_num_cols": 6,
              "truncated_num_rows": 5,
              "truncated_size_bytes": 280,
              "truncated_string_columns": []
            },
            "display_id": "b5b0a34a-54a5-4dd2-978f-063173588e39",
            "dx_settings": {
              "ALLOW_NOTEABLE_ATTRS": true,
              "COLUMN_SAMPLING_METHOD": "outer",
              "DB_LOCATION": ":memory:",
              "DEV_MODE": false,
              "DISPLAY_MAX_COLUMNS": 100,
              "DISPLAY_MAX_ROWS": 50000,
              "DISPLAY_MODE": "simple",
              "ENABLE_ASSIGNMENT": true,
              "ENABLE_DATALINK": true,
              "FLATTEN_COLUMN_VALUES": true,
              "FLATTEN_INDEX_VALUES": false,
              "GENERATE_DEX_METADATA": false,
              "HTML_TABLE_SCHEMA": false,
              "LOG_LEVEL": 30,
              "MAX_RENDER_SIZE_BYTES": 104857600,
              "MAX_STRING_LENGTH": 250,
              "NUM_PAST_SAMPLES_TRACKED": 3,
              "RANDOM_STATE": 12648430,
              "RESET_INDEX_VALUES": false,
              "ROW_SAMPLING_METHOD": "random",
              "SAMPLING_FACTOR": 0.1,
              "SAMPLING_METHOD": "random",
              "STRINGIFY_COLUMN_VALUES": true,
              "STRINGIFY_INDEX_VALUES": false
            },
            "sample_history": [],
            "sampling_time": "2023-08-05T05:01:57.082038",
            "user_variable_name": null,
            "variable_name": "unk_dataframe_29199a5eea38436db0a3f0c37ede0fc6"
          },
          "ef58f13c-5093-4988-b8bb-b792233172b4": {
            "applied_filters": [],
            "dataframe_info": {
              "default_index_used": true,
              "orig_num_cols": 6,
              "orig_num_rows": 5,
              "orig_size_bytes": 280,
              "truncated_num_cols": 6,
              "truncated_num_rows": 5,
              "truncated_size_bytes": 280,
              "truncated_string_columns": []
            },
            "display_id": "ef58f13c-5093-4988-b8bb-b792233172b4",
            "dx_settings": {
              "ALLOW_NOTEABLE_ATTRS": true,
              "COLUMN_SAMPLING_METHOD": "outer",
              "DB_LOCATION": ":memory:",
              "DEV_MODE": false,
              "DISPLAY_MAX_COLUMNS": 100,
              "DISPLAY_MAX_ROWS": 50000,
              "DISPLAY_MODE": "simple",
              "ENABLE_ASSIGNMENT": true,
              "ENABLE_DATALINK": true,
              "FLATTEN_COLUMN_VALUES": true,
              "FLATTEN_INDEX_VALUES": false,
              "GENERATE_DEX_METADATA": false,
              "HTML_TABLE_SCHEMA": false,
              "LOG_LEVEL": 30,
              "MAX_RENDER_SIZE_BYTES": 104857600,
              "MAX_STRING_LENGTH": 250,
              "NUM_PAST_SAMPLES_TRACKED": 3,
              "RANDOM_STATE": 12648430,
              "RESET_INDEX_VALUES": false,
              "ROW_SAMPLING_METHOD": "random",
              "SAMPLING_FACTOR": 0.1,
              "SAMPLING_METHOD": "random",
              "STRINGIFY_COLUMN_VALUES": true,
              "STRINGIFY_INDEX_VALUES": false
            },
            "sample_history": [],
            "sampling_time": "2023-08-05T11:49:19.545222",
            "user_variable_name": null,
            "variable_name": "unk_dataframe_86f616470f6a45dd9bb80461f1973c3b"
          },
          "2f56ea52-2fe7-4de5-b5ed-9abe47f4dd12": {
            "applied_filters": [],
            "dataframe_info": {
              "default_index_used": true,
              "orig_num_cols": 6,
              "orig_num_rows": 5,
              "orig_size_bytes": 280,
              "truncated_num_cols": 6,
              "truncated_num_rows": 5,
              "truncated_size_bytes": 280,
              "truncated_string_columns": []
            },
            "display_id": "2f56ea52-2fe7-4de5-b5ed-9abe47f4dd12",
            "dx_settings": {
              "ALLOW_NOTEABLE_ATTRS": true,
              "COLUMN_SAMPLING_METHOD": "outer",
              "DB_LOCATION": ":memory:",
              "DEV_MODE": false,
              "DISPLAY_MAX_COLUMNS": 100,
              "DISPLAY_MAX_ROWS": 50000,
              "DISPLAY_MODE": "simple",
              "ENABLE_ASSIGNMENT": true,
              "ENABLE_DATALINK": true,
              "FLATTEN_COLUMN_VALUES": true,
              "FLATTEN_INDEX_VALUES": false,
              "GENERATE_DEX_METADATA": false,
              "HTML_TABLE_SCHEMA": false,
              "LOG_LEVEL": 30,
              "MAX_RENDER_SIZE_BYTES": 104857600,
              "MAX_STRING_LENGTH": 250,
              "NUM_PAST_SAMPLES_TRACKED": 3,
              "RANDOM_STATE": 12648430,
              "RESET_INDEX_VALUES": false,
              "ROW_SAMPLING_METHOD": "random",
              "SAMPLING_FACTOR": 0.1,
              "SAMPLING_METHOD": "random",
              "STRINGIFY_COLUMN_VALUES": true,
              "STRINGIFY_INDEX_VALUES": false
            },
            "sample_history": [],
            "sampling_time": "2023-08-06T07:31:36.647932",
            "user_variable_name": null,
            "variable_name": "unk_dataframe_61be4a60c1414614a43d43f9330ed0b0"
          },
          "9ce4bfd6-04af-448c-8c97-e75bf68bb838": {
            "applied_filters": [],
            "dataframe_info": {
              "default_index_used": true,
              "orig_num_cols": 6,
              "orig_num_rows": 5,
              "orig_size_bytes": 280,
              "truncated_num_cols": 6,
              "truncated_num_rows": 5,
              "truncated_size_bytes": 280,
              "truncated_string_columns": []
            },
            "display_id": "9ce4bfd6-04af-448c-8c97-e75bf68bb838",
            "dx_settings": {
              "ALLOW_NOTEABLE_ATTRS": true,
              "COLUMN_SAMPLING_METHOD": "outer",
              "DB_LOCATION": ":memory:",
              "DEV_MODE": false,
              "DISPLAY_MAX_COLUMNS": 100,
              "DISPLAY_MAX_ROWS": 50000,
              "DISPLAY_MODE": "simple",
              "ENABLE_ASSIGNMENT": true,
              "ENABLE_DATALINK": true,
              "FLATTEN_COLUMN_VALUES": true,
              "FLATTEN_INDEX_VALUES": false,
              "GENERATE_DEX_METADATA": false,
              "HTML_TABLE_SCHEMA": false,
              "LOG_LEVEL": 30,
              "MAX_RENDER_SIZE_BYTES": 104857600,
              "MAX_STRING_LENGTH": 250,
              "NUM_PAST_SAMPLES_TRACKED": 3,
              "RANDOM_STATE": 12648430,
              "RESET_INDEX_VALUES": false,
              "ROW_SAMPLING_METHOD": "random",
              "SAMPLING_FACTOR": 0.1,
              "SAMPLING_METHOD": "random",
              "STRINGIFY_COLUMN_VALUES": true,
              "STRINGIFY_INDEX_VALUES": false
            },
            "sample_history": [],
            "sampling_time": "2023-08-06T07:38:49.402565",
            "user_variable_name": null,
            "variable_name": "unk_dataframe_79792794bbfa4578b67fecfa41b10414"
          },
          "27240e84-01df-439c-b92c-876de41180e7": {
            "applied_filters": [],
            "dataframe_info": {
              "default_index_used": true,
              "orig_num_cols": 6,
              "orig_num_rows": 5,
              "orig_size_bytes": 280,
              "truncated_num_cols": 6,
              "truncated_num_rows": 5,
              "truncated_size_bytes": 280,
              "truncated_string_columns": []
            },
            "display_id": "27240e84-01df-439c-b92c-876de41180e7",
            "dx_settings": {
              "ALLOW_NOTEABLE_ATTRS": true,
              "COLUMN_SAMPLING_METHOD": "outer",
              "DB_LOCATION": ":memory:",
              "DEV_MODE": false,
              "DISPLAY_MAX_COLUMNS": 100,
              "DISPLAY_MAX_ROWS": 50000,
              "DISPLAY_MODE": "simple",
              "ENABLE_ASSIGNMENT": true,
              "ENABLE_DATALINK": true,
              "FLATTEN_COLUMN_VALUES": true,
              "FLATTEN_INDEX_VALUES": false,
              "GENERATE_DEX_METADATA": false,
              "HTML_TABLE_SCHEMA": false,
              "LOG_LEVEL": 30,
              "MAX_RENDER_SIZE_BYTES": 104857600,
              "MAX_STRING_LENGTH": 250,
              "NUM_PAST_SAMPLES_TRACKED": 3,
              "RANDOM_STATE": 12648430,
              "RESET_INDEX_VALUES": false,
              "ROW_SAMPLING_METHOD": "random",
              "SAMPLING_FACTOR": 0.1,
              "SAMPLING_METHOD": "random",
              "STRINGIFY_COLUMN_VALUES": true,
              "STRINGIFY_INDEX_VALUES": false
            },
            "sample_history": [],
            "sampling_time": "2023-08-06T14:30:37.780077",
            "user_variable_name": null,
            "variable_name": "unk_dataframe_3855a646d6804732908340c52fb380bf"
          },
          "82bbfbca-2b51-4b5e-bc8b-a7925937b684": {
            "applied_filters": [],
            "dataframe_info": {
              "default_index_used": true,
              "orig_num_cols": 6,
              "orig_num_rows": 5,
              "orig_size_bytes": 280,
              "truncated_num_cols": 6,
              "truncated_num_rows": 5,
              "truncated_size_bytes": 280,
              "truncated_string_columns": []
            },
            "display_id": "82bbfbca-2b51-4b5e-bc8b-a7925937b684",
            "dx_settings": {
              "ALLOW_NOTEABLE_ATTRS": true,
              "COLUMN_SAMPLING_METHOD": "outer",
              "DB_LOCATION": ":memory:",
              "DEV_MODE": false,
              "DISPLAY_MAX_COLUMNS": 100,
              "DISPLAY_MAX_ROWS": 50000,
              "DISPLAY_MODE": "simple",
              "ENABLE_ASSIGNMENT": true,
              "ENABLE_DATALINK": true,
              "FLATTEN_COLUMN_VALUES": true,
              "FLATTEN_INDEX_VALUES": false,
              "GENERATE_DEX_METADATA": false,
              "HTML_TABLE_SCHEMA": false,
              "LOG_LEVEL": 30,
              "MAX_RENDER_SIZE_BYTES": 104857600,
              "MAX_STRING_LENGTH": 250,
              "NUM_PAST_SAMPLES_TRACKED": 3,
              "RANDOM_STATE": 12648430,
              "RESET_INDEX_VALUES": false,
              "ROW_SAMPLING_METHOD": "random",
              "SAMPLING_FACTOR": 0.1,
              "SAMPLING_METHOD": "random",
              "STRINGIFY_COLUMN_VALUES": true,
              "STRINGIFY_INDEX_VALUES": false
            },
            "sample_history": [],
            "sampling_time": "2023-08-06T19:46:05.015196",
            "user_variable_name": null,
            "variable_name": "unk_dataframe_6667c58cefe34af98d4a33cb8c2d2e5f"
          },
          "20ffc112-f71c-4598-85ea-da527e3654e8": {
            "applied_filters": [],
            "dataframe_info": {
              "default_index_used": true,
              "orig_num_cols": 6,
              "orig_num_rows": 5,
              "orig_size_bytes": 280,
              "truncated_num_cols": 6,
              "truncated_num_rows": 5,
              "truncated_size_bytes": 280,
              "truncated_string_columns": []
            },
            "display_id": "20ffc112-f71c-4598-85ea-da527e3654e8",
            "dx_settings": {
              "ALLOW_NOTEABLE_ATTRS": true,
              "COLUMN_SAMPLING_METHOD": "outer",
              "DB_LOCATION": ":memory:",
              "DEV_MODE": false,
              "DISPLAY_MAX_COLUMNS": 100,
              "DISPLAY_MAX_ROWS": 50000,
              "DISPLAY_MODE": "simple",
              "ENABLE_ASSIGNMENT": true,
              "ENABLE_DATALINK": true,
              "FLATTEN_COLUMN_VALUES": true,
              "FLATTEN_INDEX_VALUES": false,
              "GENERATE_DEX_METADATA": false,
              "HTML_TABLE_SCHEMA": false,
              "LOG_LEVEL": 30,
              "MAX_RENDER_SIZE_BYTES": 104857600,
              "MAX_STRING_LENGTH": 250,
              "NUM_PAST_SAMPLES_TRACKED": 3,
              "RANDOM_STATE": 12648430,
              "RESET_INDEX_VALUES": false,
              "ROW_SAMPLING_METHOD": "random",
              "SAMPLING_FACTOR": 0.1,
              "SAMPLING_METHOD": "random",
              "STRINGIFY_COLUMN_VALUES": true,
              "STRINGIFY_INDEX_VALUES": false
            },
            "sample_history": [],
            "sampling_time": "2023-08-06T20:02:56.271998",
            "user_variable_name": null,
            "variable_name": "unk_dataframe_175467c4da5042b7a7cd1787eb71efa2"
          },
          "ad3412c1-7351-4879-b133-2586e4a4d07e": {
            "applied_filters": [],
            "dataframe_info": {
              "default_index_used": true,
              "orig_num_cols": 6,
              "orig_num_rows": 5,
              "orig_size_bytes": 280,
              "truncated_num_cols": 6,
              "truncated_num_rows": 5,
              "truncated_size_bytes": 280,
              "truncated_string_columns": []
            },
            "display_id": "ad3412c1-7351-4879-b133-2586e4a4d07e",
            "dx_settings": {
              "ALLOW_NOTEABLE_ATTRS": true,
              "COLUMN_SAMPLING_METHOD": "outer",
              "DB_LOCATION": ":memory:",
              "DEV_MODE": false,
              "DISPLAY_MAX_COLUMNS": 100,
              "DISPLAY_MAX_ROWS": 50000,
              "DISPLAY_MODE": "simple",
              "ENABLE_ASSIGNMENT": true,
              "ENABLE_DATALINK": true,
              "FLATTEN_COLUMN_VALUES": true,
              "FLATTEN_INDEX_VALUES": false,
              "GENERATE_DEX_METADATA": false,
              "HTML_TABLE_SCHEMA": false,
              "LOG_LEVEL": 30,
              "MAX_RENDER_SIZE_BYTES": 104857600,
              "MAX_STRING_LENGTH": 250,
              "NUM_PAST_SAMPLES_TRACKED": 3,
              "RANDOM_STATE": 12648430,
              "RESET_INDEX_VALUES": false,
              "ROW_SAMPLING_METHOD": "random",
              "SAMPLING_FACTOR": 0.1,
              "SAMPLING_METHOD": "random",
              "STRINGIFY_COLUMN_VALUES": true,
              "STRINGIFY_INDEX_VALUES": false
            },
            "sample_history": [],
            "sampling_time": "2023-08-06T20:05:56.996317",
            "user_variable_name": null,
            "variable_name": "unk_dataframe_b7c8a63ff56a4603950c85950ec19ace"
          }
        },
        "dx": {
          "fieldMetadata": {},
          "simpleTable": true,
          "updated": 1691307525921,
          "views": []
        }
      },
      "execution_count": null,
      "source": "# Update the mapping for 'Torino'\nnorthern_region_mapping['Torino'] = 'Piedmont'\n\n# Combine all region mappings again\nregion_mapping = {**northern_region_mapping, **central_region_mapping, **southern_region_mapping, **insular_region_mapping}\nitaly_weather_data['Region'] = italy_weather_data['Province'].map(region_mapping)\n\n# Apply sector mapping based on region\nitaly_weather_data['Sector'] = italy_weather_data['Region'].map(sector_mapping)\nitaly_weather_data.head()",
      "outputs": []
    },
    {
      "id": "3c2c1c24-e1cc-4767-9242-e6965d7736cd",
      "cell_type": "code",
      "metadata": {
        "noteable": {
          "cell_type": "code",
          "output_collection_id": "3115b584-6bb9-4cad-b48d-20d2296c6dc6"
        },
        "ExecuteTime": {
          "end_time": "2023-08-06T20:06:40.492769+00:00",
          "start_time": "2023-08-06T20:06:40.217283+00:00"
        },
        "datalink": {
          "87dcf5e7-ff37-4230-95c2-48aabc49ecb0": {
            "applied_filters": [],
            "dataframe_info": {
              "default_index_used": true,
              "orig_num_cols": 6,
              "orig_num_rows": 464,
              "orig_size_bytes": 25984,
              "truncated_num_cols": 6,
              "truncated_num_rows": 464,
              "truncated_size_bytes": 25984,
              "truncated_string_columns": []
            },
            "display_id": "87dcf5e7-ff37-4230-95c2-48aabc49ecb0",
            "dx_settings": {
              "ALLOW_NOTEABLE_ATTRS": true,
              "COLUMN_SAMPLING_METHOD": "outer",
              "DB_LOCATION": ":memory:",
              "DEV_MODE": false,
              "DISPLAY_MAX_COLUMNS": 100,
              "DISPLAY_MAX_ROWS": 50000,
              "DISPLAY_MODE": "simple",
              "ENABLE_ASSIGNMENT": true,
              "ENABLE_DATALINK": true,
              "FLATTEN_COLUMN_VALUES": true,
              "FLATTEN_INDEX_VALUES": false,
              "GENERATE_DEX_METADATA": false,
              "HTML_TABLE_SCHEMA": false,
              "LOG_LEVEL": 30,
              "MAX_RENDER_SIZE_BYTES": 104857600,
              "MAX_STRING_LENGTH": 250,
              "NUM_PAST_SAMPLES_TRACKED": 3,
              "RANDOM_STATE": 12648430,
              "RESET_INDEX_VALUES": false,
              "ROW_SAMPLING_METHOD": "random",
              "SAMPLING_FACTOR": 0.1,
              "SAMPLING_METHOD": "random",
              "STRINGIFY_COLUMN_VALUES": true,
              "STRINGIFY_INDEX_VALUES": false
            },
            "sample_history": [],
            "sampling_time": "2023-08-05T05:03:04.692247",
            "user_variable_name": "missing_values",
            "variable_name": "missing_values"
          },
          "04c8627c-c903-40e8-b11b-e62e15a1cdfd": {
            "applied_filters": [],
            "dataframe_info": {
              "default_index_used": true,
              "orig_num_cols": 6,
              "orig_num_rows": 464,
              "orig_size_bytes": 25984,
              "truncated_num_cols": 6,
              "truncated_num_rows": 464,
              "truncated_size_bytes": 25984,
              "truncated_string_columns": []
            },
            "display_id": "04c8627c-c903-40e8-b11b-e62e15a1cdfd",
            "dx_settings": {
              "ALLOW_NOTEABLE_ATTRS": true,
              "COLUMN_SAMPLING_METHOD": "outer",
              "DB_LOCATION": ":memory:",
              "DEV_MODE": false,
              "DISPLAY_MAX_COLUMNS": 100,
              "DISPLAY_MAX_ROWS": 50000,
              "DISPLAY_MODE": "simple",
              "ENABLE_ASSIGNMENT": true,
              "ENABLE_DATALINK": true,
              "FLATTEN_COLUMN_VALUES": true,
              "FLATTEN_INDEX_VALUES": false,
              "GENERATE_DEX_METADATA": false,
              "HTML_TABLE_SCHEMA": false,
              "LOG_LEVEL": 30,
              "MAX_RENDER_SIZE_BYTES": 104857600,
              "MAX_STRING_LENGTH": 250,
              "NUM_PAST_SAMPLES_TRACKED": 3,
              "RANDOM_STATE": 12648430,
              "RESET_INDEX_VALUES": false,
              "ROW_SAMPLING_METHOD": "random",
              "SAMPLING_FACTOR": 0.1,
              "SAMPLING_METHOD": "random",
              "STRINGIFY_COLUMN_VALUES": true,
              "STRINGIFY_INDEX_VALUES": false
            },
            "sample_history": [],
            "sampling_time": "2023-08-05T11:50:22.959972",
            "user_variable_name": "missing_values",
            "variable_name": "missing_values"
          },
          "136387b8-6b98-4cfa-8e48-433a5fa04615": {
            "applied_filters": [],
            "dataframe_info": {
              "default_index_used": true,
              "orig_num_cols": 6,
              "orig_num_rows": 464,
              "orig_size_bytes": 25984,
              "truncated_num_cols": 6,
              "truncated_num_rows": 464,
              "truncated_size_bytes": 25984,
              "truncated_string_columns": []
            },
            "display_id": "136387b8-6b98-4cfa-8e48-433a5fa04615",
            "dx_settings": {
              "ALLOW_NOTEABLE_ATTRS": true,
              "COLUMN_SAMPLING_METHOD": "outer",
              "DB_LOCATION": ":memory:",
              "DEV_MODE": false,
              "DISPLAY_MAX_COLUMNS": 100,
              "DISPLAY_MAX_ROWS": 50000,
              "DISPLAY_MODE": "simple",
              "ENABLE_ASSIGNMENT": true,
              "ENABLE_DATALINK": true,
              "FLATTEN_COLUMN_VALUES": true,
              "FLATTEN_INDEX_VALUES": false,
              "GENERATE_DEX_METADATA": false,
              "HTML_TABLE_SCHEMA": false,
              "LOG_LEVEL": 30,
              "MAX_RENDER_SIZE_BYTES": 104857600,
              "MAX_STRING_LENGTH": 250,
              "NUM_PAST_SAMPLES_TRACKED": 3,
              "RANDOM_STATE": 12648430,
              "RESET_INDEX_VALUES": false,
              "ROW_SAMPLING_METHOD": "random",
              "SAMPLING_FACTOR": 0.1,
              "SAMPLING_METHOD": "random",
              "STRINGIFY_COLUMN_VALUES": true,
              "STRINGIFY_INDEX_VALUES": false
            },
            "sample_history": [],
            "sampling_time": "2023-08-06T07:32:41.839374",
            "user_variable_name": "missing_values",
            "variable_name": "missing_values"
          },
          "80f8ebec-9edb-4497-83eb-9988c24b061d": {
            "applied_filters": [],
            "dataframe_info": {
              "default_index_used": true,
              "orig_num_cols": 6,
              "orig_num_rows": 464,
              "orig_size_bytes": 25984,
              "truncated_num_cols": 6,
              "truncated_num_rows": 464,
              "truncated_size_bytes": 25984,
              "truncated_string_columns": []
            },
            "display_id": "80f8ebec-9edb-4497-83eb-9988c24b061d",
            "dx_settings": {
              "ALLOW_NOTEABLE_ATTRS": true,
              "COLUMN_SAMPLING_METHOD": "outer",
              "DB_LOCATION": ":memory:",
              "DEV_MODE": false,
              "DISPLAY_MAX_COLUMNS": 100,
              "DISPLAY_MAX_ROWS": 50000,
              "DISPLAY_MODE": "simple",
              "ENABLE_ASSIGNMENT": true,
              "ENABLE_DATALINK": true,
              "FLATTEN_COLUMN_VALUES": true,
              "FLATTEN_INDEX_VALUES": false,
              "GENERATE_DEX_METADATA": false,
              "HTML_TABLE_SCHEMA": false,
              "LOG_LEVEL": 30,
              "MAX_RENDER_SIZE_BYTES": 104857600,
              "MAX_STRING_LENGTH": 250,
              "NUM_PAST_SAMPLES_TRACKED": 3,
              "RANDOM_STATE": 12648430,
              "RESET_INDEX_VALUES": false,
              "ROW_SAMPLING_METHOD": "random",
              "SAMPLING_FACTOR": 0.1,
              "SAMPLING_METHOD": "random",
              "STRINGIFY_COLUMN_VALUES": true,
              "STRINGIFY_INDEX_VALUES": false
            },
            "sample_history": [],
            "sampling_time": "2023-08-06T07:39:03.937166",
            "user_variable_name": "missing_values",
            "variable_name": "missing_values"
          },
          "6853cf17-cb48-47fe-b5b2-3e413d8a7298": {
            "applied_filters": [],
            "dataframe_info": {
              "default_index_used": true,
              "orig_num_cols": 6,
              "orig_num_rows": 464,
              "orig_size_bytes": 25984,
              "truncated_num_cols": 6,
              "truncated_num_rows": 464,
              "truncated_size_bytes": 25984,
              "truncated_string_columns": []
            },
            "display_id": "6853cf17-cb48-47fe-b5b2-3e413d8a7298",
            "dx_settings": {
              "ALLOW_NOTEABLE_ATTRS": true,
              "COLUMN_SAMPLING_METHOD": "outer",
              "DB_LOCATION": ":memory:",
              "DEV_MODE": false,
              "DISPLAY_MAX_COLUMNS": 100,
              "DISPLAY_MAX_ROWS": 50000,
              "DISPLAY_MODE": "simple",
              "ENABLE_ASSIGNMENT": true,
              "ENABLE_DATALINK": true,
              "FLATTEN_COLUMN_VALUES": true,
              "FLATTEN_INDEX_VALUES": false,
              "GENERATE_DEX_METADATA": false,
              "HTML_TABLE_SCHEMA": false,
              "LOG_LEVEL": 30,
              "MAX_RENDER_SIZE_BYTES": 104857600,
              "MAX_STRING_LENGTH": 250,
              "NUM_PAST_SAMPLES_TRACKED": 3,
              "RANDOM_STATE": 12648430,
              "RESET_INDEX_VALUES": false,
              "ROW_SAMPLING_METHOD": "random",
              "SAMPLING_FACTOR": 0.1,
              "SAMPLING_METHOD": "random",
              "STRINGIFY_COLUMN_VALUES": true,
              "STRINGIFY_INDEX_VALUES": false
            },
            "sample_history": [],
            "sampling_time": "2023-08-06T14:30:41.774870",
            "user_variable_name": "missing_values",
            "variable_name": "missing_values"
          },
          "a8380ea4-1cb2-4931-b8c9-a00fc13b05aa": {
            "applied_filters": [],
            "dataframe_info": {
              "default_index_used": true,
              "orig_num_cols": 6,
              "orig_num_rows": 464,
              "orig_size_bytes": 25984,
              "truncated_num_cols": 6,
              "truncated_num_rows": 464,
              "truncated_size_bytes": 25984,
              "truncated_string_columns": []
            },
            "display_id": "a8380ea4-1cb2-4931-b8c9-a00fc13b05aa",
            "dx_settings": {
              "ALLOW_NOTEABLE_ATTRS": true,
              "COLUMN_SAMPLING_METHOD": "outer",
              "DB_LOCATION": ":memory:",
              "DEV_MODE": false,
              "DISPLAY_MAX_COLUMNS": 100,
              "DISPLAY_MAX_ROWS": 50000,
              "DISPLAY_MODE": "simple",
              "ENABLE_ASSIGNMENT": true,
              "ENABLE_DATALINK": true,
              "FLATTEN_COLUMN_VALUES": true,
              "FLATTEN_INDEX_VALUES": false,
              "GENERATE_DEX_METADATA": false,
              "HTML_TABLE_SCHEMA": false,
              "LOG_LEVEL": 30,
              "MAX_RENDER_SIZE_BYTES": 104857600,
              "MAX_STRING_LENGTH": 250,
              "NUM_PAST_SAMPLES_TRACKED": 3,
              "RANDOM_STATE": 12648430,
              "RESET_INDEX_VALUES": false,
              "ROW_SAMPLING_METHOD": "random",
              "SAMPLING_FACTOR": 0.1,
              "SAMPLING_METHOD": "random",
              "STRINGIFY_COLUMN_VALUES": true,
              "STRINGIFY_INDEX_VALUES": false
            },
            "sample_history": [],
            "sampling_time": "2023-08-06T19:46:11.005067",
            "user_variable_name": "missing_values",
            "variable_name": "missing_values"
          },
          "b937a320-ead4-497b-8693-f86e4b3498ed": {
            "applied_filters": [],
            "dataframe_info": {
              "default_index_used": true,
              "orig_num_cols": 6,
              "orig_num_rows": 464,
              "orig_size_bytes": 25984,
              "truncated_num_cols": 6,
              "truncated_num_rows": 464,
              "truncated_size_bytes": 25984,
              "truncated_string_columns": []
            },
            "display_id": "b937a320-ead4-497b-8693-f86e4b3498ed",
            "dx_settings": {
              "ALLOW_NOTEABLE_ATTRS": true,
              "COLUMN_SAMPLING_METHOD": "outer",
              "DB_LOCATION": ":memory:",
              "DEV_MODE": false,
              "DISPLAY_MAX_COLUMNS": 100,
              "DISPLAY_MAX_ROWS": 50000,
              "DISPLAY_MODE": "simple",
              "ENABLE_ASSIGNMENT": true,
              "ENABLE_DATALINK": true,
              "FLATTEN_COLUMN_VALUES": true,
              "FLATTEN_INDEX_VALUES": false,
              "GENERATE_DEX_METADATA": false,
              "HTML_TABLE_SCHEMA": false,
              "LOG_LEVEL": 30,
              "MAX_RENDER_SIZE_BYTES": 104857600,
              "MAX_STRING_LENGTH": 250,
              "NUM_PAST_SAMPLES_TRACKED": 3,
              "RANDOM_STATE": 12648430,
              "RESET_INDEX_VALUES": false,
              "ROW_SAMPLING_METHOD": "random",
              "SAMPLING_FACTOR": 0.1,
              "SAMPLING_METHOD": "random",
              "STRINGIFY_COLUMN_VALUES": true,
              "STRINGIFY_INDEX_VALUES": false
            },
            "sample_history": [],
            "sampling_time": "2023-08-06T20:03:05.453238",
            "user_variable_name": "missing_values",
            "variable_name": "missing_values"
          },
          "c7302c41-a820-49de-866c-e5ed158c3c33": {
            "applied_filters": [],
            "dataframe_info": {
              "default_index_used": true,
              "orig_num_cols": 6,
              "orig_num_rows": 464,
              "orig_size_bytes": 25984,
              "truncated_num_cols": 6,
              "truncated_num_rows": 464,
              "truncated_size_bytes": 25984,
              "truncated_string_columns": []
            },
            "display_id": "c7302c41-a820-49de-866c-e5ed158c3c33",
            "dx_settings": {
              "ALLOW_NOTEABLE_ATTRS": true,
              "COLUMN_SAMPLING_METHOD": "outer",
              "DB_LOCATION": ":memory:",
              "DEV_MODE": false,
              "DISPLAY_MAX_COLUMNS": 100,
              "DISPLAY_MAX_ROWS": 50000,
              "DISPLAY_MODE": "simple",
              "ENABLE_ASSIGNMENT": true,
              "ENABLE_DATALINK": true,
              "FLATTEN_COLUMN_VALUES": true,
              "FLATTEN_INDEX_VALUES": false,
              "GENERATE_DEX_METADATA": false,
              "HTML_TABLE_SCHEMA": false,
              "LOG_LEVEL": 30,
              "MAX_RENDER_SIZE_BYTES": 104857600,
              "MAX_STRING_LENGTH": 250,
              "NUM_PAST_SAMPLES_TRACKED": 3,
              "RANDOM_STATE": 12648430,
              "RESET_INDEX_VALUES": false,
              "ROW_SAMPLING_METHOD": "random",
              "SAMPLING_FACTOR": 0.1,
              "SAMPLING_METHOD": "random",
              "STRINGIFY_COLUMN_VALUES": true,
              "STRINGIFY_INDEX_VALUES": false
            },
            "sample_history": [],
            "sampling_time": "2023-08-06T20:06:40.327741",
            "user_variable_name": "missing_values",
            "variable_name": "missing_values"
          }
        },
        "dx": {
          "fieldMetadata": {},
          "simpleTable": true,
          "updated": 1691307539875,
          "views": []
        }
      },
      "execution_count": null,
      "source": "# Check for missing values in the 'Temperature' and 'Sector' columns\nmissing_values = italy_weather_data[italy_weather_data['Temperature'].isna() | italy_weather_data['Sector'].isna()]\nmissing_values",
      "outputs": []
    },
    {
      "id": "adcc8917-e8f2-4e39-ae6c-29679614ccba",
      "cell_type": "code",
      "metadata": {
        "noteable": {
          "cell_type": "code",
          "output_collection_id": "e262d17a-4e91-4f71-b424-e364c799863c"
        },
        "ExecuteTime": {
          "end_time": "2023-08-06T20:06:43.862715+00:00",
          "start_time": "2023-08-06T20:06:43.703065+00:00"
        },
        "jupyter": {
          "outputs_hidden": true
        }
      },
      "execution_count": null,
      "source": "# List unique province names from the dataset\nunique_provinces = italy_weather_data['Province'].unique()\nunique_provinces",
      "outputs": []
    },
    {
      "id": "a621acaf-0822-4d86-9113-d1760b259be3",
      "cell_type": "code",
      "metadata": {
        "noteable": {
          "cell_type": "code",
          "output_collection_id": "ea2372c3-9287-4f81-a8a3-5f607c313fd2"
        },
        "ExecuteTime": {
          "end_time": "2023-08-06T20:06:50.498194+00:00",
          "start_time": "2023-08-06T20:06:50.231298+00:00"
        },
        "datalink": {
          "481ffe8c-69a8-4ade-a725-7c6c7531ce44": {
            "applied_filters": [],
            "dataframe_info": {
              "default_index_used": true,
              "orig_num_cols": 6,
              "orig_num_rows": 352,
              "orig_size_bytes": 19712,
              "truncated_num_cols": 6,
              "truncated_num_rows": 352,
              "truncated_size_bytes": 19712,
              "truncated_string_columns": []
            },
            "display_id": "481ffe8c-69a8-4ade-a725-7c6c7531ce44",
            "dx_settings": {
              "ALLOW_NOTEABLE_ATTRS": true,
              "COLUMN_SAMPLING_METHOD": "outer",
              "DB_LOCATION": ":memory:",
              "DEV_MODE": false,
              "DISPLAY_MAX_COLUMNS": 100,
              "DISPLAY_MAX_ROWS": 50000,
              "DISPLAY_MODE": "simple",
              "ENABLE_ASSIGNMENT": true,
              "ENABLE_DATALINK": true,
              "FLATTEN_COLUMN_VALUES": true,
              "FLATTEN_INDEX_VALUES": false,
              "GENERATE_DEX_METADATA": false,
              "HTML_TABLE_SCHEMA": false,
              "LOG_LEVEL": 30,
              "MAX_RENDER_SIZE_BYTES": 104857600,
              "MAX_STRING_LENGTH": 250,
              "NUM_PAST_SAMPLES_TRACKED": 3,
              "RANDOM_STATE": 12648430,
              "RESET_INDEX_VALUES": false,
              "ROW_SAMPLING_METHOD": "random",
              "SAMPLING_FACTOR": 0.1,
              "SAMPLING_METHOD": "random",
              "STRINGIFY_COLUMN_VALUES": true,
              "STRINGIFY_INDEX_VALUES": false
            },
            "sample_history": [],
            "sampling_time": "2023-08-05T05:06:29.682509",
            "user_variable_name": "missing_values_updated",
            "variable_name": "missing_values_updated"
          },
          "cee3cd92-76db-414a-957f-e5bebe3ebf82": {
            "applied_filters": [],
            "dataframe_info": {
              "default_index_used": true,
              "orig_num_cols": 6,
              "orig_num_rows": 352,
              "orig_size_bytes": 19712,
              "truncated_num_cols": 6,
              "truncated_num_rows": 352,
              "truncated_size_bytes": 19712,
              "truncated_string_columns": []
            },
            "display_id": "cee3cd92-76db-414a-957f-e5bebe3ebf82",
            "dx_settings": {
              "ALLOW_NOTEABLE_ATTRS": true,
              "COLUMN_SAMPLING_METHOD": "outer",
              "DB_LOCATION": ":memory:",
              "DEV_MODE": false,
              "DISPLAY_MAX_COLUMNS": 100,
              "DISPLAY_MAX_ROWS": 50000,
              "DISPLAY_MODE": "simple",
              "ENABLE_ASSIGNMENT": true,
              "ENABLE_DATALINK": true,
              "FLATTEN_COLUMN_VALUES": true,
              "FLATTEN_INDEX_VALUES": false,
              "GENERATE_DEX_METADATA": false,
              "HTML_TABLE_SCHEMA": false,
              "LOG_LEVEL": 30,
              "MAX_RENDER_SIZE_BYTES": 104857600,
              "MAX_STRING_LENGTH": 250,
              "NUM_PAST_SAMPLES_TRACKED": 3,
              "RANDOM_STATE": 12648430,
              "RESET_INDEX_VALUES": false,
              "ROW_SAMPLING_METHOD": "random",
              "SAMPLING_FACTOR": 0.1,
              "SAMPLING_METHOD": "random",
              "STRINGIFY_COLUMN_VALUES": true,
              "STRINGIFY_INDEX_VALUES": false
            },
            "sample_history": [],
            "sampling_time": "2023-08-05T11:50:45.856698",
            "user_variable_name": "missing_values_updated",
            "variable_name": "missing_values_updated"
          },
          "fa9cf1c1-0934-4384-b8b9-f54edae63b39": {
            "applied_filters": [],
            "dataframe_info": {
              "default_index_used": true,
              "orig_num_cols": 6,
              "orig_num_rows": 352,
              "orig_size_bytes": 19712,
              "truncated_num_cols": 6,
              "truncated_num_rows": 352,
              "truncated_size_bytes": 19712,
              "truncated_string_columns": []
            },
            "display_id": "fa9cf1c1-0934-4384-b8b9-f54edae63b39",
            "dx_settings": {
              "ALLOW_NOTEABLE_ATTRS": true,
              "COLUMN_SAMPLING_METHOD": "outer",
              "DB_LOCATION": ":memory:",
              "DEV_MODE": false,
              "DISPLAY_MAX_COLUMNS": 100,
              "DISPLAY_MAX_ROWS": 50000,
              "DISPLAY_MODE": "simple",
              "ENABLE_ASSIGNMENT": true,
              "ENABLE_DATALINK": true,
              "FLATTEN_COLUMN_VALUES": true,
              "FLATTEN_INDEX_VALUES": false,
              "GENERATE_DEX_METADATA": false,
              "HTML_TABLE_SCHEMA": false,
              "LOG_LEVEL": 30,
              "MAX_RENDER_SIZE_BYTES": 104857600,
              "MAX_STRING_LENGTH": 250,
              "NUM_PAST_SAMPLES_TRACKED": 3,
              "RANDOM_STATE": 12648430,
              "RESET_INDEX_VALUES": false,
              "ROW_SAMPLING_METHOD": "random",
              "SAMPLING_FACTOR": 0.1,
              "SAMPLING_METHOD": "random",
              "STRINGIFY_COLUMN_VALUES": true,
              "STRINGIFY_INDEX_VALUES": false
            },
            "sample_history": [],
            "sampling_time": "2023-08-06T07:32:58.121022",
            "user_variable_name": "missing_values_updated",
            "variable_name": "missing_values_updated"
          },
          "659fd98c-a717-48dc-b784-8e432772ac2f": {
            "applied_filters": [],
            "dataframe_info": {
              "default_index_used": true,
              "orig_num_cols": 6,
              "orig_num_rows": 352,
              "orig_size_bytes": 19712,
              "truncated_num_cols": 6,
              "truncated_num_rows": 352,
              "truncated_size_bytes": 19712,
              "truncated_string_columns": []
            },
            "display_id": "659fd98c-a717-48dc-b784-8e432772ac2f",
            "dx_settings": {
              "ALLOW_NOTEABLE_ATTRS": true,
              "COLUMN_SAMPLING_METHOD": "outer",
              "DB_LOCATION": ":memory:",
              "DEV_MODE": false,
              "DISPLAY_MAX_COLUMNS": 100,
              "DISPLAY_MAX_ROWS": 50000,
              "DISPLAY_MODE": "simple",
              "ENABLE_ASSIGNMENT": true,
              "ENABLE_DATALINK": true,
              "FLATTEN_COLUMN_VALUES": true,
              "FLATTEN_INDEX_VALUES": false,
              "GENERATE_DEX_METADATA": false,
              "HTML_TABLE_SCHEMA": false,
              "LOG_LEVEL": 30,
              "MAX_RENDER_SIZE_BYTES": 104857600,
              "MAX_STRING_LENGTH": 250,
              "NUM_PAST_SAMPLES_TRACKED": 3,
              "RANDOM_STATE": 12648430,
              "RESET_INDEX_VALUES": false,
              "ROW_SAMPLING_METHOD": "random",
              "SAMPLING_FACTOR": 0.1,
              "SAMPLING_METHOD": "random",
              "STRINGIFY_COLUMN_VALUES": true,
              "STRINGIFY_INDEX_VALUES": false
            },
            "sample_history": [],
            "sampling_time": "2023-08-06T07:39:33.754913",
            "user_variable_name": "missing_values_updated",
            "variable_name": "missing_values_updated"
          },
          "68c2c58d-fe46-4c49-b195-a05ecbf07750": {
            "applied_filters": [],
            "dataframe_info": {
              "default_index_used": true,
              "orig_num_cols": 6,
              "orig_num_rows": 352,
              "orig_size_bytes": 19712,
              "truncated_num_cols": 6,
              "truncated_num_rows": 352,
              "truncated_size_bytes": 19712,
              "truncated_string_columns": []
            },
            "display_id": "68c2c58d-fe46-4c49-b195-a05ecbf07750",
            "dx_settings": {
              "ALLOW_NOTEABLE_ATTRS": true,
              "COLUMN_SAMPLING_METHOD": "outer",
              "DB_LOCATION": ":memory:",
              "DEV_MODE": false,
              "DISPLAY_MAX_COLUMNS": 100,
              "DISPLAY_MAX_ROWS": 50000,
              "DISPLAY_MODE": "simple",
              "ENABLE_ASSIGNMENT": true,
              "ENABLE_DATALINK": true,
              "FLATTEN_COLUMN_VALUES": true,
              "FLATTEN_INDEX_VALUES": false,
              "GENERATE_DEX_METADATA": false,
              "HTML_TABLE_SCHEMA": false,
              "LOG_LEVEL": 30,
              "MAX_RENDER_SIZE_BYTES": 104857600,
              "MAX_STRING_LENGTH": 250,
              "NUM_PAST_SAMPLES_TRACKED": 3,
              "RANDOM_STATE": 12648430,
              "RESET_INDEX_VALUES": false,
              "ROW_SAMPLING_METHOD": "random",
              "SAMPLING_FACTOR": 0.1,
              "SAMPLING_METHOD": "random",
              "STRINGIFY_COLUMN_VALUES": true,
              "STRINGIFY_INDEX_VALUES": false
            },
            "sample_history": [],
            "sampling_time": "2023-08-06T14:31:08.664349",
            "user_variable_name": "missing_values_updated",
            "variable_name": "missing_values_updated"
          },
          "4c51029d-5c92-4ad4-9afd-616ecf1c4b8f": {
            "applied_filters": [],
            "dataframe_info": {
              "default_index_used": true,
              "orig_num_cols": 6,
              "orig_num_rows": 352,
              "orig_size_bytes": 19712,
              "truncated_num_cols": 6,
              "truncated_num_rows": 352,
              "truncated_size_bytes": 19712,
              "truncated_string_columns": []
            },
            "display_id": "4c51029d-5c92-4ad4-9afd-616ecf1c4b8f",
            "dx_settings": {
              "ALLOW_NOTEABLE_ATTRS": true,
              "COLUMN_SAMPLING_METHOD": "outer",
              "DB_LOCATION": ":memory:",
              "DEV_MODE": false,
              "DISPLAY_MAX_COLUMNS": 100,
              "DISPLAY_MAX_ROWS": 50000,
              "DISPLAY_MODE": "simple",
              "ENABLE_ASSIGNMENT": true,
              "ENABLE_DATALINK": true,
              "FLATTEN_COLUMN_VALUES": true,
              "FLATTEN_INDEX_VALUES": false,
              "GENERATE_DEX_METADATA": false,
              "HTML_TABLE_SCHEMA": false,
              "LOG_LEVEL": 30,
              "MAX_RENDER_SIZE_BYTES": 104857600,
              "MAX_STRING_LENGTH": 250,
              "NUM_PAST_SAMPLES_TRACKED": 3,
              "RANDOM_STATE": 12648430,
              "RESET_INDEX_VALUES": false,
              "ROW_SAMPLING_METHOD": "random",
              "SAMPLING_FACTOR": 0.1,
              "SAMPLING_METHOD": "random",
              "STRINGIFY_COLUMN_VALUES": true,
              "STRINGIFY_INDEX_VALUES": false
            },
            "sample_history": [],
            "sampling_time": "2023-08-06T19:46:24.553328",
            "user_variable_name": "missing_values_updated",
            "variable_name": "missing_values_updated"
          },
          "23817b60-30c3-436f-bc57-2bab2d4c72ff": {
            "applied_filters": [],
            "dataframe_info": {
              "default_index_used": true,
              "orig_num_cols": 6,
              "orig_num_rows": 352,
              "orig_size_bytes": 19712,
              "truncated_num_cols": 6,
              "truncated_num_rows": 352,
              "truncated_size_bytes": 19712,
              "truncated_string_columns": []
            },
            "display_id": "23817b60-30c3-436f-bc57-2bab2d4c72ff",
            "dx_settings": {
              "ALLOW_NOTEABLE_ATTRS": true,
              "COLUMN_SAMPLING_METHOD": "outer",
              "DB_LOCATION": ":memory:",
              "DEV_MODE": false,
              "DISPLAY_MAX_COLUMNS": 100,
              "DISPLAY_MAX_ROWS": 50000,
              "DISPLAY_MODE": "simple",
              "ENABLE_ASSIGNMENT": true,
              "ENABLE_DATALINK": true,
              "FLATTEN_COLUMN_VALUES": true,
              "FLATTEN_INDEX_VALUES": false,
              "GENERATE_DEX_METADATA": false,
              "HTML_TABLE_SCHEMA": false,
              "LOG_LEVEL": 30,
              "MAX_RENDER_SIZE_BYTES": 104857600,
              "MAX_STRING_LENGTH": 250,
              "NUM_PAST_SAMPLES_TRACKED": 3,
              "RANDOM_STATE": 12648430,
              "RESET_INDEX_VALUES": false,
              "ROW_SAMPLING_METHOD": "random",
              "SAMPLING_FACTOR": 0.1,
              "SAMPLING_METHOD": "random",
              "STRINGIFY_COLUMN_VALUES": true,
              "STRINGIFY_INDEX_VALUES": false
            },
            "sample_history": [],
            "sampling_time": "2023-08-06T20:03:20.610195",
            "user_variable_name": "missing_values_updated",
            "variable_name": "missing_values_updated"
          },
          "d99c266b-40e3-4a4f-82d8-28aa6488a7c2": {
            "applied_filters": [],
            "dataframe_info": {
              "default_index_used": true,
              "orig_num_cols": 6,
              "orig_num_rows": 352,
              "orig_size_bytes": 19712,
              "truncated_num_cols": 6,
              "truncated_num_rows": 352,
              "truncated_size_bytes": 19712,
              "truncated_string_columns": []
            },
            "display_id": "d99c266b-40e3-4a4f-82d8-28aa6488a7c2",
            "dx_settings": {
              "ALLOW_NOTEABLE_ATTRS": true,
              "COLUMN_SAMPLING_METHOD": "outer",
              "DB_LOCATION": ":memory:",
              "DEV_MODE": false,
              "DISPLAY_MAX_COLUMNS": 100,
              "DISPLAY_MAX_ROWS": 50000,
              "DISPLAY_MODE": "simple",
              "ENABLE_ASSIGNMENT": true,
              "ENABLE_DATALINK": true,
              "FLATTEN_COLUMN_VALUES": true,
              "FLATTEN_INDEX_VALUES": false,
              "GENERATE_DEX_METADATA": false,
              "HTML_TABLE_SCHEMA": false,
              "LOG_LEVEL": 30,
              "MAX_RENDER_SIZE_BYTES": 104857600,
              "MAX_STRING_LENGTH": 250,
              "NUM_PAST_SAMPLES_TRACKED": 3,
              "RANDOM_STATE": 12648430,
              "RESET_INDEX_VALUES": false,
              "ROW_SAMPLING_METHOD": "random",
              "SAMPLING_FACTOR": 0.1,
              "SAMPLING_METHOD": "random",
              "STRINGIFY_COLUMN_VALUES": true,
              "STRINGIFY_INDEX_VALUES": false
            },
            "sample_history": [],
            "sampling_time": "2023-08-06T20:06:50.334814",
            "user_variable_name": "missing_values_updated",
            "variable_name": "missing_values_updated"
          }
        },
        "dx": {
          "fieldMetadata": {},
          "simpleTable": true,
          "updated": 1691307572093,
          "views": []
        },
        "jupyter": {
          "outputs_hidden": true
        }
      },
      "execution_count": null,
      "source": "# Update the region mapping with the provided corrections\nregion_mapping['Ravenna '] = 'Emilia-Romagna'\nregion_mapping['Pesaro urbino'] = 'Emilia-Romagna'\nregion_mapping['Massa Carrara'] = 'Tuscany'\nregion_mapping['Reggio nell\\'Emilia'] = 'Emilia-Romagna'\nregion_mapping['Andria'] = 'Apulia'\nregion_mapping['Barletta'] = 'Apulia'\nregion_mapping['Trani'] = 'Apulia'\n\n# Reapply the region mapping to the dataset\nitaly_weather_data['Region'] = italy_weather_data['Province'].map(region_mapping)\n# Reapply the sector mapping based on the updated region mapping\nitaly_weather_data['Sector'] = italy_weather_data['Region'].map(sector_mapping)\n\n# Check for any remaining missing values in the 'Region' and 'Sector' columns\nmissing_values_updated = italy_weather_data[italy_weather_data['Region'].isna() | italy_weather_data['Sector'].isna()]\nmissing_values_updated",
      "outputs": []
    },
    {
      "id": "65a5d212-7b1e-463e-b10c-78264a108864",
      "cell_type": "code",
      "metadata": {
        "noteable": {
          "cell_type": "code",
          "output_collection_id": "b5df6b9d-0a54-4c28-bdca-21d318592da4"
        },
        "ExecuteTime": {
          "end_time": "2023-08-06T20:06:53.787845+00:00",
          "start_time": "2023-08-06T20:06:53.531100+00:00"
        },
        "datalink": {
          "0ba10b0c-4fdc-45a3-b851-1678497006c1": {
            "applied_filters": [],
            "dataframe_info": {
              "default_index_used": true,
              "orig_num_cols": 6,
              "orig_num_rows": 192,
              "orig_size_bytes": 10752,
              "truncated_num_cols": 6,
              "truncated_num_rows": 192,
              "truncated_size_bytes": 10752,
              "truncated_string_columns": []
            },
            "display_id": "0ba10b0c-4fdc-45a3-b851-1678497006c1",
            "dx_settings": {
              "ALLOW_NOTEABLE_ATTRS": true,
              "COLUMN_SAMPLING_METHOD": "outer",
              "DB_LOCATION": ":memory:",
              "DEV_MODE": false,
              "DISPLAY_MAX_COLUMNS": 100,
              "DISPLAY_MAX_ROWS": 50000,
              "DISPLAY_MODE": "simple",
              "ENABLE_ASSIGNMENT": true,
              "ENABLE_DATALINK": true,
              "FLATTEN_COLUMN_VALUES": true,
              "FLATTEN_INDEX_VALUES": false,
              "GENERATE_DEX_METADATA": false,
              "HTML_TABLE_SCHEMA": false,
              "LOG_LEVEL": 30,
              "MAX_RENDER_SIZE_BYTES": 104857600,
              "MAX_STRING_LENGTH": 250,
              "NUM_PAST_SAMPLES_TRACKED": 3,
              "RANDOM_STATE": 12648430,
              "RESET_INDEX_VALUES": false,
              "ROW_SAMPLING_METHOD": "random",
              "SAMPLING_FACTOR": 0.1,
              "SAMPLING_METHOD": "random",
              "STRINGIFY_COLUMN_VALUES": true,
              "STRINGIFY_INDEX_VALUES": false
            },
            "sample_history": [],
            "sampling_time": "2023-08-05T05:09:48.546959",
            "user_variable_name": "missing_values_final",
            "variable_name": "missing_values_final"
          },
          "3389862d-910e-443b-b7de-bfc6c2c949f6": {
            "applied_filters": [],
            "dataframe_info": {
              "default_index_used": true,
              "orig_num_cols": 6,
              "orig_num_rows": 192,
              "orig_size_bytes": 10752,
              "truncated_num_cols": 6,
              "truncated_num_rows": 192,
              "truncated_size_bytes": 10752,
              "truncated_string_columns": []
            },
            "display_id": "3389862d-910e-443b-b7de-bfc6c2c949f6",
            "dx_settings": {
              "ALLOW_NOTEABLE_ATTRS": true,
              "COLUMN_SAMPLING_METHOD": "outer",
              "DB_LOCATION": ":memory:",
              "DEV_MODE": false,
              "DISPLAY_MAX_COLUMNS": 100,
              "DISPLAY_MAX_ROWS": 50000,
              "DISPLAY_MODE": "simple",
              "ENABLE_ASSIGNMENT": true,
              "ENABLE_DATALINK": true,
              "FLATTEN_COLUMN_VALUES": true,
              "FLATTEN_INDEX_VALUES": false,
              "GENERATE_DEX_METADATA": false,
              "HTML_TABLE_SCHEMA": false,
              "LOG_LEVEL": 30,
              "MAX_RENDER_SIZE_BYTES": 104857600,
              "MAX_STRING_LENGTH": 250,
              "NUM_PAST_SAMPLES_TRACKED": 3,
              "RANDOM_STATE": 12648430,
              "RESET_INDEX_VALUES": false,
              "ROW_SAMPLING_METHOD": "random",
              "SAMPLING_FACTOR": 0.1,
              "SAMPLING_METHOD": "random",
              "STRINGIFY_COLUMN_VALUES": true,
              "STRINGIFY_INDEX_VALUES": false
            },
            "sample_history": [],
            "sampling_time": "2023-08-05T11:50:54.308929",
            "user_variable_name": "missing_values_final",
            "variable_name": "missing_values_final"
          },
          "320c3a42-77e6-45e6-9593-99751121e084": {
            "applied_filters": [],
            "dataframe_info": {
              "default_index_used": true,
              "orig_num_cols": 6,
              "orig_num_rows": 192,
              "orig_size_bytes": 10752,
              "truncated_num_cols": 6,
              "truncated_num_rows": 192,
              "truncated_size_bytes": 10752,
              "truncated_string_columns": []
            },
            "display_id": "320c3a42-77e6-45e6-9593-99751121e084",
            "dx_settings": {
              "ALLOW_NOTEABLE_ATTRS": true,
              "COLUMN_SAMPLING_METHOD": "outer",
              "DB_LOCATION": ":memory:",
              "DEV_MODE": false,
              "DISPLAY_MAX_COLUMNS": 100,
              "DISPLAY_MAX_ROWS": 50000,
              "DISPLAY_MODE": "simple",
              "ENABLE_ASSIGNMENT": true,
              "ENABLE_DATALINK": true,
              "FLATTEN_COLUMN_VALUES": true,
              "FLATTEN_INDEX_VALUES": false,
              "GENERATE_DEX_METADATA": false,
              "HTML_TABLE_SCHEMA": false,
              "LOG_LEVEL": 30,
              "MAX_RENDER_SIZE_BYTES": 104857600,
              "MAX_STRING_LENGTH": 250,
              "NUM_PAST_SAMPLES_TRACKED": 3,
              "RANDOM_STATE": 12648430,
              "RESET_INDEX_VALUES": false,
              "ROW_SAMPLING_METHOD": "random",
              "SAMPLING_FACTOR": 0.1,
              "SAMPLING_METHOD": "random",
              "STRINGIFY_COLUMN_VALUES": true,
              "STRINGIFY_INDEX_VALUES": false
            },
            "sample_history": [],
            "sampling_time": "2023-08-06T07:33:05.600763",
            "user_variable_name": "missing_values_final",
            "variable_name": "missing_values_final"
          },
          "76277841-c5d5-4d38-ad70-aeb4951e7816": {
            "applied_filters": [],
            "dataframe_info": {
              "default_index_used": true,
              "orig_num_cols": 6,
              "orig_num_rows": 192,
              "orig_size_bytes": 10752,
              "truncated_num_cols": 6,
              "truncated_num_rows": 192,
              "truncated_size_bytes": 10752,
              "truncated_string_columns": []
            },
            "display_id": "76277841-c5d5-4d38-ad70-aeb4951e7816",
            "dx_settings": {
              "ALLOW_NOTEABLE_ATTRS": true,
              "COLUMN_SAMPLING_METHOD": "outer",
              "DB_LOCATION": ":memory:",
              "DEV_MODE": false,
              "DISPLAY_MAX_COLUMNS": 100,
              "DISPLAY_MAX_ROWS": 50000,
              "DISPLAY_MODE": "simple",
              "ENABLE_ASSIGNMENT": true,
              "ENABLE_DATALINK": true,
              "FLATTEN_COLUMN_VALUES": true,
              "FLATTEN_INDEX_VALUES": false,
              "GENERATE_DEX_METADATA": false,
              "HTML_TABLE_SCHEMA": false,
              "LOG_LEVEL": 30,
              "MAX_RENDER_SIZE_BYTES": 104857600,
              "MAX_STRING_LENGTH": 250,
              "NUM_PAST_SAMPLES_TRACKED": 3,
              "RANDOM_STATE": 12648430,
              "RESET_INDEX_VALUES": false,
              "ROW_SAMPLING_METHOD": "random",
              "SAMPLING_FACTOR": 0.1,
              "SAMPLING_METHOD": "random",
              "STRINGIFY_COLUMN_VALUES": true,
              "STRINGIFY_INDEX_VALUES": false
            },
            "sample_history": [],
            "sampling_time": "2023-08-06T07:39:47.445606",
            "user_variable_name": "missing_values_final",
            "variable_name": "missing_values_final"
          },
          "b15e6deb-0191-4427-968d-43aee6ffdd79": {
            "applied_filters": [],
            "dataframe_info": {
              "default_index_used": true,
              "orig_num_cols": 6,
              "orig_num_rows": 192,
              "orig_size_bytes": 10752,
              "truncated_num_cols": 6,
              "truncated_num_rows": 192,
              "truncated_size_bytes": 10752,
              "truncated_string_columns": []
            },
            "display_id": "b15e6deb-0191-4427-968d-43aee6ffdd79",
            "dx_settings": {
              "ALLOW_NOTEABLE_ATTRS": true,
              "COLUMN_SAMPLING_METHOD": "outer",
              "DB_LOCATION": ":memory:",
              "DEV_MODE": false,
              "DISPLAY_MAX_COLUMNS": 100,
              "DISPLAY_MAX_ROWS": 50000,
              "DISPLAY_MODE": "simple",
              "ENABLE_ASSIGNMENT": true,
              "ENABLE_DATALINK": true,
              "FLATTEN_COLUMN_VALUES": true,
              "FLATTEN_INDEX_VALUES": false,
              "GENERATE_DEX_METADATA": false,
              "HTML_TABLE_SCHEMA": false,
              "LOG_LEVEL": 30,
              "MAX_RENDER_SIZE_BYTES": 104857600,
              "MAX_STRING_LENGTH": 250,
              "NUM_PAST_SAMPLES_TRACKED": 3,
              "RANDOM_STATE": 12648430,
              "RESET_INDEX_VALUES": false,
              "ROW_SAMPLING_METHOD": "random",
              "SAMPLING_FACTOR": 0.1,
              "SAMPLING_METHOD": "random",
              "STRINGIFY_COLUMN_VALUES": true,
              "STRINGIFY_INDEX_VALUES": false
            },
            "sample_history": [],
            "sampling_time": "2023-08-06T14:31:15.310166",
            "user_variable_name": "missing_values_final",
            "variable_name": "missing_values_final"
          },
          "7a8b6828-30d2-42a3-8097-2c3e3b18625d": {
            "applied_filters": [],
            "dataframe_info": {
              "default_index_used": true,
              "orig_num_cols": 6,
              "orig_num_rows": 192,
              "orig_size_bytes": 10752,
              "truncated_num_cols": 6,
              "truncated_num_rows": 192,
              "truncated_size_bytes": 10752,
              "truncated_string_columns": []
            },
            "display_id": "7a8b6828-30d2-42a3-8097-2c3e3b18625d",
            "dx_settings": {
              "ALLOW_NOTEABLE_ATTRS": true,
              "COLUMN_SAMPLING_METHOD": "outer",
              "DB_LOCATION": ":memory:",
              "DEV_MODE": false,
              "DISPLAY_MAX_COLUMNS": 100,
              "DISPLAY_MAX_ROWS": 50000,
              "DISPLAY_MODE": "simple",
              "ENABLE_ASSIGNMENT": true,
              "ENABLE_DATALINK": true,
              "FLATTEN_COLUMN_VALUES": true,
              "FLATTEN_INDEX_VALUES": false,
              "GENERATE_DEX_METADATA": false,
              "HTML_TABLE_SCHEMA": false,
              "LOG_LEVEL": 30,
              "MAX_RENDER_SIZE_BYTES": 104857600,
              "MAX_STRING_LENGTH": 250,
              "NUM_PAST_SAMPLES_TRACKED": 3,
              "RANDOM_STATE": 12648430,
              "RESET_INDEX_VALUES": false,
              "ROW_SAMPLING_METHOD": "random",
              "SAMPLING_FACTOR": 0.1,
              "SAMPLING_METHOD": "random",
              "STRINGIFY_COLUMN_VALUES": true,
              "STRINGIFY_INDEX_VALUES": false
            },
            "sample_history": [],
            "sampling_time": "2023-08-06T19:46:31.516364",
            "user_variable_name": "missing_values_final",
            "variable_name": "missing_values_final"
          },
          "88a3f6c7-9273-4f6b-b94b-633fba24360b": {
            "applied_filters": [],
            "dataframe_info": {
              "default_index_used": true,
              "orig_num_cols": 6,
              "orig_num_rows": 192,
              "orig_size_bytes": 10752,
              "truncated_num_cols": 6,
              "truncated_num_rows": 192,
              "truncated_size_bytes": 10752,
              "truncated_string_columns": []
            },
            "display_id": "88a3f6c7-9273-4f6b-b94b-633fba24360b",
            "dx_settings": {
              "ALLOW_NOTEABLE_ATTRS": true,
              "COLUMN_SAMPLING_METHOD": "outer",
              "DB_LOCATION": ":memory:",
              "DEV_MODE": false,
              "DISPLAY_MAX_COLUMNS": 100,
              "DISPLAY_MAX_ROWS": 50000,
              "DISPLAY_MODE": "simple",
              "ENABLE_ASSIGNMENT": true,
              "ENABLE_DATALINK": true,
              "FLATTEN_COLUMN_VALUES": true,
              "FLATTEN_INDEX_VALUES": false,
              "GENERATE_DEX_METADATA": false,
              "HTML_TABLE_SCHEMA": false,
              "LOG_LEVEL": 30,
              "MAX_RENDER_SIZE_BYTES": 104857600,
              "MAX_STRING_LENGTH": 250,
              "NUM_PAST_SAMPLES_TRACKED": 3,
              "RANDOM_STATE": 12648430,
              "RESET_INDEX_VALUES": false,
              "ROW_SAMPLING_METHOD": "random",
              "SAMPLING_FACTOR": 0.1,
              "SAMPLING_METHOD": "random",
              "STRINGIFY_COLUMN_VALUES": true,
              "STRINGIFY_INDEX_VALUES": false
            },
            "sample_history": [],
            "sampling_time": "2023-08-06T20:03:24.229394",
            "user_variable_name": "missing_values_final",
            "variable_name": "missing_values_final"
          },
          "312d4153-a7a3-433c-a5de-e7479cdd991a": {
            "applied_filters": [],
            "dataframe_info": {
              "default_index_used": true,
              "orig_num_cols": 6,
              "orig_num_rows": 192,
              "orig_size_bytes": 10752,
              "truncated_num_cols": 6,
              "truncated_num_rows": 192,
              "truncated_size_bytes": 10752,
              "truncated_string_columns": []
            },
            "display_id": "312d4153-a7a3-433c-a5de-e7479cdd991a",
            "dx_settings": {
              "ALLOW_NOTEABLE_ATTRS": true,
              "COLUMN_SAMPLING_METHOD": "outer",
              "DB_LOCATION": ":memory:",
              "DEV_MODE": false,
              "DISPLAY_MAX_COLUMNS": 100,
              "DISPLAY_MAX_ROWS": 50000,
              "DISPLAY_MODE": "simple",
              "ENABLE_ASSIGNMENT": true,
              "ENABLE_DATALINK": true,
              "FLATTEN_COLUMN_VALUES": true,
              "FLATTEN_INDEX_VALUES": false,
              "GENERATE_DEX_METADATA": false,
              "HTML_TABLE_SCHEMA": false,
              "LOG_LEVEL": 30,
              "MAX_RENDER_SIZE_BYTES": 104857600,
              "MAX_STRING_LENGTH": 250,
              "NUM_PAST_SAMPLES_TRACKED": 3,
              "RANDOM_STATE": 12648430,
              "RESET_INDEX_VALUES": false,
              "ROW_SAMPLING_METHOD": "random",
              "SAMPLING_FACTOR": 0.1,
              "SAMPLING_METHOD": "random",
              "STRINGIFY_COLUMN_VALUES": true,
              "STRINGIFY_INDEX_VALUES": false
            },
            "sample_history": [],
            "sampling_time": "2023-08-06T20:06:53.628447",
            "user_variable_name": "missing_values_final",
            "variable_name": "missing_values_final"
          }
        },
        "dx": {
          "fieldMetadata": {},
          "simpleTable": true,
          "updated": 1691307585913,
          "views": []
        }
      },
      "execution_count": null,
      "source": "# Update the region mapping with the additional corrections\nregion_mapping['Verbania'] = 'Lombardy'\nregion_mapping['Milano'] = 'Lombardy'\nregion_mapping['Mantova'] = 'Lombardy'\nregion_mapping['Monza'] = 'Lombardy'\nregion_mapping['Venezia'] = 'Veneto'\nregion_mapping['Padova'] = 'Veneto'\nregion_mapping['Genova'] = 'Liguria'\nregion_mapping['Forlì'] = 'Emilia-Romagna'\nregion_mapping['Firenze'] = 'Tuscany'\nregion_mapping['Roma'] = 'Lazio'\n\n# Reapply the region and sector mappings to the dataset\nitaly_weather_data['Region'] = italy_weather_data['Province'].map(region_mapping)\nitaly_weather_data['Sector'] = italy_weather_data['Region'].map(sector_mapping)\n\n# Check for any remaining missing values in the 'Region' and 'Sector' columns\nmissing_values_final = italy_weather_data[italy_weather_data['Region'].isna() | italy_weather_data['Sector'].isna()]\nmissing_values_final",
      "outputs": []
    },
    {
      "id": "c870dd0e-e93e-4d98-bde8-8fffc12f6d48",
      "cell_type": "code",
      "metadata": {
        "noteable": {
          "cell_type": "code",
          "output_collection_id": "0e4fc276-a5fa-4f2f-afe9-780cfd1ffbcd"
        },
        "ExecuteTime": {
          "end_time": "2023-08-06T20:07:02.609834+00:00",
          "start_time": "2023-08-06T20:07:02.343614+00:00"
        },
        "datalink": {
          "d136a0a3-ff14-42f9-ac2f-c7c3044aabe6": {
            "applied_filters": [],
            "dataframe_info": {
              "default_index_used": true,
              "orig_num_cols": 6,
              "orig_num_rows": 128,
              "orig_size_bytes": 7168,
              "truncated_num_cols": 6,
              "truncated_num_rows": 128,
              "truncated_size_bytes": 7168,
              "truncated_string_columns": []
            },
            "display_id": "d136a0a3-ff14-42f9-ac2f-c7c3044aabe6",
            "dx_settings": {
              "ALLOW_NOTEABLE_ATTRS": true,
              "COLUMN_SAMPLING_METHOD": "outer",
              "DB_LOCATION": ":memory:",
              "DEV_MODE": false,
              "DISPLAY_MAX_COLUMNS": 100,
              "DISPLAY_MAX_ROWS": 50000,
              "DISPLAY_MODE": "simple",
              "ENABLE_ASSIGNMENT": true,
              "ENABLE_DATALINK": true,
              "FLATTEN_COLUMN_VALUES": true,
              "FLATTEN_INDEX_VALUES": false,
              "GENERATE_DEX_METADATA": false,
              "HTML_TABLE_SCHEMA": false,
              "LOG_LEVEL": 30,
              "MAX_RENDER_SIZE_BYTES": 104857600,
              "MAX_STRING_LENGTH": 250,
              "NUM_PAST_SAMPLES_TRACKED": 3,
              "RANDOM_STATE": 12648430,
              "RESET_INDEX_VALUES": false,
              "ROW_SAMPLING_METHOD": "random",
              "SAMPLING_FACTOR": 0.1,
              "SAMPLING_METHOD": "random",
              "STRINGIFY_COLUMN_VALUES": true,
              "STRINGIFY_INDEX_VALUES": false
            },
            "sample_history": [],
            "sampling_time": "2023-08-05T05:10:36.155591",
            "user_variable_name": "missing_values_final_check",
            "variable_name": "missing_values_final_check"
          },
          "7ccc793c-7db2-4d61-84de-6c02cf7a13db": {
            "applied_filters": [],
            "dataframe_info": {
              "default_index_used": true,
              "orig_num_cols": 6,
              "orig_num_rows": 128,
              "orig_size_bytes": 7168,
              "truncated_num_cols": 6,
              "truncated_num_rows": 128,
              "truncated_size_bytes": 7168,
              "truncated_string_columns": []
            },
            "display_id": "7ccc793c-7db2-4d61-84de-6c02cf7a13db",
            "dx_settings": {
              "ALLOW_NOTEABLE_ATTRS": true,
              "COLUMN_SAMPLING_METHOD": "outer",
              "DB_LOCATION": ":memory:",
              "DEV_MODE": false,
              "DISPLAY_MAX_COLUMNS": 100,
              "DISPLAY_MAX_ROWS": 50000,
              "DISPLAY_MODE": "simple",
              "ENABLE_ASSIGNMENT": true,
              "ENABLE_DATALINK": true,
              "FLATTEN_COLUMN_VALUES": true,
              "FLATTEN_INDEX_VALUES": false,
              "GENERATE_DEX_METADATA": false,
              "HTML_TABLE_SCHEMA": false,
              "LOG_LEVEL": 30,
              "MAX_RENDER_SIZE_BYTES": 104857600,
              "MAX_STRING_LENGTH": 250,
              "NUM_PAST_SAMPLES_TRACKED": 3,
              "RANDOM_STATE": 12648430,
              "RESET_INDEX_VALUES": false,
              "ROW_SAMPLING_METHOD": "random",
              "SAMPLING_FACTOR": 0.1,
              "SAMPLING_METHOD": "random",
              "STRINGIFY_COLUMN_VALUES": true,
              "STRINGIFY_INDEX_VALUES": false
            },
            "sample_history": [],
            "sampling_time": "2023-08-05T11:51:00.819032",
            "user_variable_name": "missing_values_final_check",
            "variable_name": "missing_values_final_check"
          },
          "51d2ba22-8e8b-4840-be4c-fdb88304481b": {
            "applied_filters": [],
            "dataframe_info": {
              "default_index_used": true,
              "orig_num_cols": 6,
              "orig_num_rows": 128,
              "orig_size_bytes": 7168,
              "truncated_num_cols": 6,
              "truncated_num_rows": 128,
              "truncated_size_bytes": 7168,
              "truncated_string_columns": []
            },
            "display_id": "51d2ba22-8e8b-4840-be4c-fdb88304481b",
            "dx_settings": {
              "ALLOW_NOTEABLE_ATTRS": true,
              "COLUMN_SAMPLING_METHOD": "outer",
              "DB_LOCATION": ":memory:",
              "DEV_MODE": false,
              "DISPLAY_MAX_COLUMNS": 100,
              "DISPLAY_MAX_ROWS": 50000,
              "DISPLAY_MODE": "simple",
              "ENABLE_ASSIGNMENT": true,
              "ENABLE_DATALINK": true,
              "FLATTEN_COLUMN_VALUES": true,
              "FLATTEN_INDEX_VALUES": false,
              "GENERATE_DEX_METADATA": false,
              "HTML_TABLE_SCHEMA": false,
              "LOG_LEVEL": 30,
              "MAX_RENDER_SIZE_BYTES": 104857600,
              "MAX_STRING_LENGTH": 250,
              "NUM_PAST_SAMPLES_TRACKED": 3,
              "RANDOM_STATE": 12648430,
              "RESET_INDEX_VALUES": false,
              "ROW_SAMPLING_METHOD": "random",
              "SAMPLING_FACTOR": 0.1,
              "SAMPLING_METHOD": "random",
              "STRINGIFY_COLUMN_VALUES": true,
              "STRINGIFY_INDEX_VALUES": false
            },
            "sample_history": [],
            "sampling_time": "2023-08-06T07:33:12.695764",
            "user_variable_name": "missing_values_final_check",
            "variable_name": "missing_values_final_check"
          },
          "08d9b8c1-ae6f-487e-8b93-20493f782237": {
            "applied_filters": [],
            "dataframe_info": {
              "default_index_used": true,
              "orig_num_cols": 6,
              "orig_num_rows": 128,
              "orig_size_bytes": 7168,
              "truncated_num_cols": 6,
              "truncated_num_rows": 128,
              "truncated_size_bytes": 7168,
              "truncated_string_columns": []
            },
            "display_id": "08d9b8c1-ae6f-487e-8b93-20493f782237",
            "dx_settings": {
              "ALLOW_NOTEABLE_ATTRS": true,
              "COLUMN_SAMPLING_METHOD": "outer",
              "DB_LOCATION": ":memory:",
              "DEV_MODE": false,
              "DISPLAY_MAX_COLUMNS": 100,
              "DISPLAY_MAX_ROWS": 50000,
              "DISPLAY_MODE": "simple",
              "ENABLE_ASSIGNMENT": true,
              "ENABLE_DATALINK": true,
              "FLATTEN_COLUMN_VALUES": true,
              "FLATTEN_INDEX_VALUES": false,
              "GENERATE_DEX_METADATA": false,
              "HTML_TABLE_SCHEMA": false,
              "LOG_LEVEL": 30,
              "MAX_RENDER_SIZE_BYTES": 104857600,
              "MAX_STRING_LENGTH": 250,
              "NUM_PAST_SAMPLES_TRACKED": 3,
              "RANDOM_STATE": 12648430,
              "RESET_INDEX_VALUES": false,
              "ROW_SAMPLING_METHOD": "random",
              "SAMPLING_FACTOR": 0.1,
              "SAMPLING_METHOD": "random",
              "STRINGIFY_COLUMN_VALUES": true,
              "STRINGIFY_INDEX_VALUES": false
            },
            "sample_history": [],
            "sampling_time": "2023-08-06T07:39:57.919366",
            "user_variable_name": "missing_values_final_check",
            "variable_name": "missing_values_final_check"
          },
          "c5e4a92f-6466-43f4-b94d-206e5d3b9145": {
            "applied_filters": [],
            "dataframe_info": {
              "default_index_used": true,
              "orig_num_cols": 6,
              "orig_num_rows": 128,
              "orig_size_bytes": 7168,
              "truncated_num_cols": 6,
              "truncated_num_rows": 128,
              "truncated_size_bytes": 7168,
              "truncated_string_columns": []
            },
            "display_id": "c5e4a92f-6466-43f4-b94d-206e5d3b9145",
            "dx_settings": {
              "ALLOW_NOTEABLE_ATTRS": true,
              "COLUMN_SAMPLING_METHOD": "outer",
              "DB_LOCATION": ":memory:",
              "DEV_MODE": false,
              "DISPLAY_MAX_COLUMNS": 100,
              "DISPLAY_MAX_ROWS": 50000,
              "DISPLAY_MODE": "simple",
              "ENABLE_ASSIGNMENT": true,
              "ENABLE_DATALINK": true,
              "FLATTEN_COLUMN_VALUES": true,
              "FLATTEN_INDEX_VALUES": false,
              "GENERATE_DEX_METADATA": false,
              "HTML_TABLE_SCHEMA": false,
              "LOG_LEVEL": 30,
              "MAX_RENDER_SIZE_BYTES": 104857600,
              "MAX_STRING_LENGTH": 250,
              "NUM_PAST_SAMPLES_TRACKED": 3,
              "RANDOM_STATE": 12648430,
              "RESET_INDEX_VALUES": false,
              "ROW_SAMPLING_METHOD": "random",
              "SAMPLING_FACTOR": 0.1,
              "SAMPLING_METHOD": "random",
              "STRINGIFY_COLUMN_VALUES": true,
              "STRINGIFY_INDEX_VALUES": false
            },
            "sample_history": [],
            "sampling_time": "2023-08-06T14:31:23.668017",
            "user_variable_name": "missing_values_final_check",
            "variable_name": "missing_values_final_check"
          },
          "f8eb087b-d377-43e8-ad6e-942c3e280078": {
            "applied_filters": [],
            "dataframe_info": {
              "default_index_used": true,
              "orig_num_cols": 6,
              "orig_num_rows": 128,
              "orig_size_bytes": 7168,
              "truncated_num_cols": 6,
              "truncated_num_rows": 128,
              "truncated_size_bytes": 7168,
              "truncated_string_columns": []
            },
            "display_id": "f8eb087b-d377-43e8-ad6e-942c3e280078",
            "dx_settings": {
              "ALLOW_NOTEABLE_ATTRS": true,
              "COLUMN_SAMPLING_METHOD": "outer",
              "DB_LOCATION": ":memory:",
              "DEV_MODE": false,
              "DISPLAY_MAX_COLUMNS": 100,
              "DISPLAY_MAX_ROWS": 50000,
              "DISPLAY_MODE": "simple",
              "ENABLE_ASSIGNMENT": true,
              "ENABLE_DATALINK": true,
              "FLATTEN_COLUMN_VALUES": true,
              "FLATTEN_INDEX_VALUES": false,
              "GENERATE_DEX_METADATA": false,
              "HTML_TABLE_SCHEMA": false,
              "LOG_LEVEL": 30,
              "MAX_RENDER_SIZE_BYTES": 104857600,
              "MAX_STRING_LENGTH": 250,
              "NUM_PAST_SAMPLES_TRACKED": 3,
              "RANDOM_STATE": 12648430,
              "RESET_INDEX_VALUES": false,
              "ROW_SAMPLING_METHOD": "random",
              "SAMPLING_FACTOR": 0.1,
              "SAMPLING_METHOD": "random",
              "STRINGIFY_COLUMN_VALUES": true,
              "STRINGIFY_INDEX_VALUES": false
            },
            "sample_history": [],
            "sampling_time": "2023-08-06T19:46:46.391325",
            "user_variable_name": "missing_values_final_check",
            "variable_name": "missing_values_final_check"
          },
          "25b6c4b6-1146-4725-a386-71a142c37c7b": {
            "applied_filters": [],
            "dataframe_info": {
              "default_index_used": true,
              "orig_num_cols": 6,
              "orig_num_rows": 128,
              "orig_size_bytes": 7168,
              "truncated_num_cols": 6,
              "truncated_num_rows": 128,
              "truncated_size_bytes": 7168,
              "truncated_string_columns": []
            },
            "display_id": "25b6c4b6-1146-4725-a386-71a142c37c7b",
            "dx_settings": {
              "ALLOW_NOTEABLE_ATTRS": true,
              "COLUMN_SAMPLING_METHOD": "outer",
              "DB_LOCATION": ":memory:",
              "DEV_MODE": false,
              "DISPLAY_MAX_COLUMNS": 100,
              "DISPLAY_MAX_ROWS": 50000,
              "DISPLAY_MODE": "simple",
              "ENABLE_ASSIGNMENT": true,
              "ENABLE_DATALINK": true,
              "FLATTEN_COLUMN_VALUES": true,
              "FLATTEN_INDEX_VALUES": false,
              "GENERATE_DEX_METADATA": false,
              "HTML_TABLE_SCHEMA": false,
              "LOG_LEVEL": 30,
              "MAX_RENDER_SIZE_BYTES": 104857600,
              "MAX_STRING_LENGTH": 250,
              "NUM_PAST_SAMPLES_TRACKED": 3,
              "RANDOM_STATE": 12648430,
              "RESET_INDEX_VALUES": false,
              "ROW_SAMPLING_METHOD": "random",
              "SAMPLING_FACTOR": 0.1,
              "SAMPLING_METHOD": "random",
              "STRINGIFY_COLUMN_VALUES": true,
              "STRINGIFY_INDEX_VALUES": false
            },
            "sample_history": [],
            "sampling_time": "2023-08-06T20:03:33.542472",
            "user_variable_name": "missing_values_final_check",
            "variable_name": "missing_values_final_check"
          },
          "dd13b329-c1f6-4c7e-94a6-232a9428ec82": {
            "applied_filters": [],
            "dataframe_info": {
              "default_index_used": true,
              "orig_num_cols": 6,
              "orig_num_rows": 128,
              "orig_size_bytes": 7168,
              "truncated_num_cols": 6,
              "truncated_num_rows": 128,
              "truncated_size_bytes": 7168,
              "truncated_string_columns": []
            },
            "display_id": "dd13b329-c1f6-4c7e-94a6-232a9428ec82",
            "dx_settings": {
              "ALLOW_NOTEABLE_ATTRS": true,
              "COLUMN_SAMPLING_METHOD": "outer",
              "DB_LOCATION": ":memory:",
              "DEV_MODE": false,
              "DISPLAY_MAX_COLUMNS": 100,
              "DISPLAY_MAX_ROWS": 50000,
              "DISPLAY_MODE": "simple",
              "ENABLE_ASSIGNMENT": true,
              "ENABLE_DATALINK": true,
              "FLATTEN_COLUMN_VALUES": true,
              "FLATTEN_INDEX_VALUES": false,
              "GENERATE_DEX_METADATA": false,
              "HTML_TABLE_SCHEMA": false,
              "LOG_LEVEL": 30,
              "MAX_RENDER_SIZE_BYTES": 104857600,
              "MAX_STRING_LENGTH": 250,
              "NUM_PAST_SAMPLES_TRACKED": 3,
              "RANDOM_STATE": 12648430,
              "RESET_INDEX_VALUES": false,
              "ROW_SAMPLING_METHOD": "random",
              "SAMPLING_FACTOR": 0.1,
              "SAMPLING_METHOD": "random",
              "STRINGIFY_COLUMN_VALUES": true,
              "STRINGIFY_INDEX_VALUES": false
            },
            "sample_history": [],
            "sampling_time": "2023-08-06T20:07:02.450933",
            "user_variable_name": "missing_values_final_check",
            "variable_name": "missing_values_final_check"
          }
        },
        "dx": {
          "fieldMetadata": {},
          "simpleTable": true,
          "updated": 1691307594809,
          "views": []
        }
      },
      "execution_count": null,
      "source": "# Update the region mapping with the remaining corrections\nregion_mapping['L\\'Aquila'] = 'Abruzzo'\nregion_mapping['Teramo'] = 'Abruzzo'\nregion_mapping['Pescara'] = 'Abruzzo'\nregion_mapping['Chieti'] = 'Abruzzo'\nregion_mapping['Campobasso'] = 'Molise'\nregion_mapping['Isernia'] = 'Molise'\nregion_mapping['Napoli'] = 'Campania'\nregion_mapping['Reggio di Calabria'] = 'Calabria'\nregion_mapping['Siracusa'] = 'Sicily'\nregion_mapping['Carbonia'] = 'Sardinia'\n\n# Reapply the region and sector mappings to the dataset\nitaly_weather_data['Region'] = italy_weather_data['Province'].map(region_mapping)\nitaly_weather_data['Sector'] = italy_weather_data['Region'].map(sector_mapping)\n\n# Check for any remaining missing values in the 'Region' and 'Sector' columns\nmissing_values_final_check = italy_weather_data[italy_weather_data['Region'].isna() | italy_weather_data['Sector'].isna()]\nmissing_values_final_check",
      "outputs": []
    },
    {
      "id": "4d6247aa-ad8e-4d66-81b2-6774711f9b51",
      "cell_type": "code",
      "metadata": {
        "noteable": {
          "cell_type": "code",
          "output_collection_id": "343b5571-8879-4710-963b-d1cf31ac0640"
        },
        "ExecuteTime": {
          "end_time": "2023-08-06T20:07:32.282731+00:00",
          "start_time": "2023-08-06T20:07:32.032128+00:00"
        },
        "datalink": {
          "4ed1a2ff-810d-4020-8802-8e42d7f199f4": {
            "applied_filters": [],
            "dataframe_info": {
              "default_index_used": true,
              "orig_num_cols": 6,
              "orig_num_rows": 32,
              "orig_size_bytes": 1792,
              "truncated_num_cols": 6,
              "truncated_num_rows": 32,
              "truncated_size_bytes": 1792,
              "truncated_string_columns": []
            },
            "display_id": "4ed1a2ff-810d-4020-8802-8e42d7f199f4",
            "dx_settings": {
              "ALLOW_NOTEABLE_ATTRS": true,
              "COLUMN_SAMPLING_METHOD": "outer",
              "DB_LOCATION": ":memory:",
              "DEV_MODE": false,
              "DISPLAY_MAX_COLUMNS": 100,
              "DISPLAY_MAX_ROWS": 50000,
              "DISPLAY_MODE": "simple",
              "ENABLE_ASSIGNMENT": true,
              "ENABLE_DATALINK": true,
              "FLATTEN_COLUMN_VALUES": true,
              "FLATTEN_INDEX_VALUES": false,
              "GENERATE_DEX_METADATA": false,
              "HTML_TABLE_SCHEMA": false,
              "LOG_LEVEL": 30,
              "MAX_RENDER_SIZE_BYTES": 104857600,
              "MAX_STRING_LENGTH": 250,
              "NUM_PAST_SAMPLES_TRACKED": 3,
              "RANDOM_STATE": 12648430,
              "RESET_INDEX_VALUES": false,
              "ROW_SAMPLING_METHOD": "random",
              "SAMPLING_FACTOR": 0.1,
              "SAMPLING_METHOD": "random",
              "STRINGIFY_COLUMN_VALUES": true,
              "STRINGIFY_INDEX_VALUES": false
            },
            "sample_history": [],
            "sampling_time": "2023-08-05T05:10:55.739931",
            "user_variable_name": "missing_values_final_check_again",
            "variable_name": "missing_values_final_check_again"
          },
          "d411468f-c232-473e-b90b-a3f8ddadbf62": {
            "applied_filters": [],
            "dataframe_info": {
              "default_index_used": true,
              "orig_num_cols": 6,
              "orig_num_rows": 32,
              "orig_size_bytes": 1792,
              "truncated_num_cols": 6,
              "truncated_num_rows": 32,
              "truncated_size_bytes": 1792,
              "truncated_string_columns": []
            },
            "display_id": "d411468f-c232-473e-b90b-a3f8ddadbf62",
            "dx_settings": {
              "ALLOW_NOTEABLE_ATTRS": true,
              "COLUMN_SAMPLING_METHOD": "outer",
              "DB_LOCATION": ":memory:",
              "DEV_MODE": false,
              "DISPLAY_MAX_COLUMNS": 100,
              "DISPLAY_MAX_ROWS": 50000,
              "DISPLAY_MODE": "simple",
              "ENABLE_ASSIGNMENT": true,
              "ENABLE_DATALINK": true,
              "FLATTEN_COLUMN_VALUES": true,
              "FLATTEN_INDEX_VALUES": false,
              "GENERATE_DEX_METADATA": false,
              "HTML_TABLE_SCHEMA": false,
              "LOG_LEVEL": 30,
              "MAX_RENDER_SIZE_BYTES": 104857600,
              "MAX_STRING_LENGTH": 250,
              "NUM_PAST_SAMPLES_TRACKED": 3,
              "RANDOM_STATE": 12648430,
              "RESET_INDEX_VALUES": false,
              "ROW_SAMPLING_METHOD": "random",
              "SAMPLING_FACTOR": 0.1,
              "SAMPLING_METHOD": "random",
              "STRINGIFY_COLUMN_VALUES": true,
              "STRINGIFY_INDEX_VALUES": false
            },
            "sample_history": [],
            "sampling_time": "2023-08-05T11:51:18.170881",
            "user_variable_name": "missing_values_final_check_again",
            "variable_name": "missing_values_final_check_again"
          },
          "9446e9e8-7de5-407e-9dd5-1d742ef078d4": {
            "applied_filters": [],
            "dataframe_info": {
              "default_index_used": true,
              "orig_num_cols": 6,
              "orig_num_rows": 32,
              "orig_size_bytes": 1792,
              "truncated_num_cols": 6,
              "truncated_num_rows": 32,
              "truncated_size_bytes": 1792,
              "truncated_string_columns": []
            },
            "display_id": "9446e9e8-7de5-407e-9dd5-1d742ef078d4",
            "dx_settings": {
              "ALLOW_NOTEABLE_ATTRS": true,
              "COLUMN_SAMPLING_METHOD": "outer",
              "DB_LOCATION": ":memory:",
              "DEV_MODE": false,
              "DISPLAY_MAX_COLUMNS": 100,
              "DISPLAY_MAX_ROWS": 50000,
              "DISPLAY_MODE": "simple",
              "ENABLE_ASSIGNMENT": true,
              "ENABLE_DATALINK": true,
              "FLATTEN_COLUMN_VALUES": true,
              "FLATTEN_INDEX_VALUES": false,
              "GENERATE_DEX_METADATA": false,
              "HTML_TABLE_SCHEMA": false,
              "LOG_LEVEL": 30,
              "MAX_RENDER_SIZE_BYTES": 104857600,
              "MAX_STRING_LENGTH": 250,
              "NUM_PAST_SAMPLES_TRACKED": 3,
              "RANDOM_STATE": 12648430,
              "RESET_INDEX_VALUES": false,
              "ROW_SAMPLING_METHOD": "random",
              "SAMPLING_FACTOR": 0.1,
              "SAMPLING_METHOD": "random",
              "STRINGIFY_COLUMN_VALUES": true,
              "STRINGIFY_INDEX_VALUES": false
            },
            "sample_history": [],
            "sampling_time": "2023-08-06T07:33:21.404383",
            "user_variable_name": "missing_values_final_check_again",
            "variable_name": "missing_values_final_check_again"
          },
          "2b5953ae-c0d6-4ea6-b8ba-d0cf519c28eb": {
            "applied_filters": [],
            "dataframe_info": {
              "default_index_used": true,
              "orig_num_cols": 6,
              "orig_num_rows": 32,
              "orig_size_bytes": 1792,
              "truncated_num_cols": 6,
              "truncated_num_rows": 32,
              "truncated_size_bytes": 1792,
              "truncated_string_columns": []
            },
            "display_id": "2b5953ae-c0d6-4ea6-b8ba-d0cf519c28eb",
            "dx_settings": {
              "ALLOW_NOTEABLE_ATTRS": true,
              "COLUMN_SAMPLING_METHOD": "outer",
              "DB_LOCATION": ":memory:",
              "DEV_MODE": false,
              "DISPLAY_MAX_COLUMNS": 100,
              "DISPLAY_MAX_ROWS": 50000,
              "DISPLAY_MODE": "simple",
              "ENABLE_ASSIGNMENT": true,
              "ENABLE_DATALINK": true,
              "FLATTEN_COLUMN_VALUES": true,
              "FLATTEN_INDEX_VALUES": false,
              "GENERATE_DEX_METADATA": false,
              "HTML_TABLE_SCHEMA": false,
              "LOG_LEVEL": 30,
              "MAX_RENDER_SIZE_BYTES": 104857600,
              "MAX_STRING_LENGTH": 250,
              "NUM_PAST_SAMPLES_TRACKED": 3,
              "RANDOM_STATE": 12648430,
              "RESET_INDEX_VALUES": false,
              "ROW_SAMPLING_METHOD": "random",
              "SAMPLING_FACTOR": 0.1,
              "SAMPLING_METHOD": "random",
              "STRINGIFY_COLUMN_VALUES": true,
              "STRINGIFY_INDEX_VALUES": false
            },
            "sample_history": [],
            "sampling_time": "2023-08-06T07:40:14.301791",
            "user_variable_name": "missing_values_final_check_again",
            "variable_name": "missing_values_final_check_again"
          },
          "3dc4ea2e-91da-41a5-82fc-77e63f79646f": {
            "applied_filters": [],
            "dataframe_info": {
              "default_index_used": true,
              "orig_num_cols": 6,
              "orig_num_rows": 32,
              "orig_size_bytes": 1792,
              "truncated_num_cols": 6,
              "truncated_num_rows": 32,
              "truncated_size_bytes": 1792,
              "truncated_string_columns": []
            },
            "display_id": "3dc4ea2e-91da-41a5-82fc-77e63f79646f",
            "dx_settings": {
              "ALLOW_NOTEABLE_ATTRS": true,
              "COLUMN_SAMPLING_METHOD": "outer",
              "DB_LOCATION": ":memory:",
              "DEV_MODE": false,
              "DISPLAY_MAX_COLUMNS": 100,
              "DISPLAY_MAX_ROWS": 50000,
              "DISPLAY_MODE": "simple",
              "ENABLE_ASSIGNMENT": true,
              "ENABLE_DATALINK": true,
              "FLATTEN_COLUMN_VALUES": true,
              "FLATTEN_INDEX_VALUES": false,
              "GENERATE_DEX_METADATA": false,
              "HTML_TABLE_SCHEMA": false,
              "LOG_LEVEL": 30,
              "MAX_RENDER_SIZE_BYTES": 104857600,
              "MAX_STRING_LENGTH": 250,
              "NUM_PAST_SAMPLES_TRACKED": 3,
              "RANDOM_STATE": 12648430,
              "RESET_INDEX_VALUES": false,
              "ROW_SAMPLING_METHOD": "random",
              "SAMPLING_FACTOR": 0.1,
              "SAMPLING_METHOD": "random",
              "STRINGIFY_COLUMN_VALUES": true,
              "STRINGIFY_INDEX_VALUES": false
            },
            "sample_history": [],
            "sampling_time": "2023-08-06T14:31:32.574202",
            "user_variable_name": "missing_values_final_check_again",
            "variable_name": "missing_values_final_check_again"
          },
          "be55e2b1-3f3b-44cf-bbff-8c2a2052d915": {
            "applied_filters": [],
            "dataframe_info": {
              "default_index_used": true,
              "orig_num_cols": 6,
              "orig_num_rows": 32,
              "orig_size_bytes": 1792,
              "truncated_num_cols": 6,
              "truncated_num_rows": 32,
              "truncated_size_bytes": 1792,
              "truncated_string_columns": []
            },
            "display_id": "be55e2b1-3f3b-44cf-bbff-8c2a2052d915",
            "dx_settings": {
              "ALLOW_NOTEABLE_ATTRS": true,
              "COLUMN_SAMPLING_METHOD": "outer",
              "DB_LOCATION": ":memory:",
              "DEV_MODE": false,
              "DISPLAY_MAX_COLUMNS": 100,
              "DISPLAY_MAX_ROWS": 50000,
              "DISPLAY_MODE": "simple",
              "ENABLE_ASSIGNMENT": true,
              "ENABLE_DATALINK": true,
              "FLATTEN_COLUMN_VALUES": true,
              "FLATTEN_INDEX_VALUES": false,
              "GENERATE_DEX_METADATA": false,
              "HTML_TABLE_SCHEMA": false,
              "LOG_LEVEL": 30,
              "MAX_RENDER_SIZE_BYTES": 104857600,
              "MAX_STRING_LENGTH": 250,
              "NUM_PAST_SAMPLES_TRACKED": 3,
              "RANDOM_STATE": 12648430,
              "RESET_INDEX_VALUES": false,
              "ROW_SAMPLING_METHOD": "random",
              "SAMPLING_FACTOR": 0.1,
              "SAMPLING_METHOD": "random",
              "STRINGIFY_COLUMN_VALUES": true,
              "STRINGIFY_INDEX_VALUES": false
            },
            "sample_history": [],
            "sampling_time": "2023-08-06T19:46:50.360602",
            "user_variable_name": "missing_values_final_check_again",
            "variable_name": "missing_values_final_check_again"
          },
          "7ed5f134-cbbf-45bf-b5de-1338a01f10a8": {
            "applied_filters": [],
            "dataframe_info": {
              "default_index_used": true,
              "orig_num_cols": 6,
              "orig_num_rows": 32,
              "orig_size_bytes": 1792,
              "truncated_num_cols": 6,
              "truncated_num_rows": 32,
              "truncated_size_bytes": 1792,
              "truncated_string_columns": []
            },
            "display_id": "7ed5f134-cbbf-45bf-b5de-1338a01f10a8",
            "dx_settings": {
              "ALLOW_NOTEABLE_ATTRS": true,
              "COLUMN_SAMPLING_METHOD": "outer",
              "DB_LOCATION": ":memory:",
              "DEV_MODE": false,
              "DISPLAY_MAX_COLUMNS": 100,
              "DISPLAY_MAX_ROWS": 50000,
              "DISPLAY_MODE": "simple",
              "ENABLE_ASSIGNMENT": true,
              "ENABLE_DATALINK": true,
              "FLATTEN_COLUMN_VALUES": true,
              "FLATTEN_INDEX_VALUES": false,
              "GENERATE_DEX_METADATA": false,
              "HTML_TABLE_SCHEMA": false,
              "LOG_LEVEL": 30,
              "MAX_RENDER_SIZE_BYTES": 104857600,
              "MAX_STRING_LENGTH": 250,
              "NUM_PAST_SAMPLES_TRACKED": 3,
              "RANDOM_STATE": 12648430,
              "RESET_INDEX_VALUES": false,
              "ROW_SAMPLING_METHOD": "random",
              "SAMPLING_FACTOR": 0.1,
              "SAMPLING_METHOD": "random",
              "STRINGIFY_COLUMN_VALUES": true,
              "STRINGIFY_INDEX_VALUES": false
            },
            "sample_history": [],
            "sampling_time": "2023-08-06T20:03:44.298994",
            "user_variable_name": "missing_values_final_check_again",
            "variable_name": "missing_values_final_check_again"
          },
          "6e7d8ed6-e74c-460c-acf7-108c98a9ccad": {
            "applied_filters": [],
            "dataframe_info": {
              "default_index_used": true,
              "orig_num_cols": 6,
              "orig_num_rows": 32,
              "orig_size_bytes": 1792,
              "truncated_num_cols": 6,
              "truncated_num_rows": 32,
              "truncated_size_bytes": 1792,
              "truncated_string_columns": []
            },
            "display_id": "6e7d8ed6-e74c-460c-acf7-108c98a9ccad",
            "dx_settings": {
              "ALLOW_NOTEABLE_ATTRS": true,
              "COLUMN_SAMPLING_METHOD": "outer",
              "DB_LOCATION": ":memory:",
              "DEV_MODE": false,
              "DISPLAY_MAX_COLUMNS": 100,
              "DISPLAY_MAX_ROWS": 50000,
              "DISPLAY_MODE": "simple",
              "ENABLE_ASSIGNMENT": true,
              "ENABLE_DATALINK": true,
              "FLATTEN_COLUMN_VALUES": true,
              "FLATTEN_INDEX_VALUES": false,
              "GENERATE_DEX_METADATA": false,
              "HTML_TABLE_SCHEMA": false,
              "LOG_LEVEL": 30,
              "MAX_RENDER_SIZE_BYTES": 104857600,
              "MAX_STRING_LENGTH": 250,
              "NUM_PAST_SAMPLES_TRACKED": 3,
              "RANDOM_STATE": 12648430,
              "RESET_INDEX_VALUES": false,
              "ROW_SAMPLING_METHOD": "random",
              "SAMPLING_FACTOR": 0.1,
              "SAMPLING_METHOD": "random",
              "STRINGIFY_COLUMN_VALUES": true,
              "STRINGIFY_INDEX_VALUES": false
            },
            "sample_history": [],
            "sampling_time": "2023-08-06T20:07:32.124600",
            "user_variable_name": "missing_values_final_check_again",
            "variable_name": "missing_values_final_check_again"
          }
        },
        "dx": {
          "fieldMetadata": {},
          "simpleTable": true,
          "updated": 1691307607861,
          "views": []
        }
      },
      "execution_count": null,
      "source": "# Correct the sector mapping for 'Abruzzo' and 'Molise'\nsector_mapping['Abruzzo'] = 'Southern'\nsector_mapping['Molise'] = 'Southern'\n\n# Reapply the sector mapping based on the corrected region mapping\nitaly_weather_data['Sector'] = italy_weather_data['Region'].map(sector_mapping)\n\n# Check for any remaining missing values in the 'Region' and 'Sector' columns\nmissing_values_final_check_again = italy_weather_data[italy_weather_data['Region'].isna() | italy_weather_data['Sector'].isna()]\nmissing_values_final_check_again",
      "outputs": []
    },
    {
      "id": "300101ba-4a3c-4d60-8efc-82c7bad83856",
      "cell_type": "code",
      "metadata": {
        "jupyter": {
          "outputs_hidden": false,
          "source_hidden": false
        },
        "noteable": {
          "cell_type": "code",
          "output_collection_id": "3f152ee7-7eec-475d-859b-a4695bb13187"
        },
        "ExecuteTime": {
          "end_time": "2023-08-06T20:07:56.257029+00:00",
          "start_time": "2023-08-06T20:07:56.030488+00:00"
        },
        "datalink": {
          "458dc6ff-a6bb-4a42-8cf0-4ea89a7b617e": {
            "applied_filters": [],
            "dataframe_info": {
              "default_index_used": false,
              "orig_num_cols": 1,
              "orig_num_rows": 6,
              "orig_size_bytes": 96,
              "truncated_num_cols": 1,
              "truncated_num_rows": 6,
              "truncated_size_bytes": 96,
              "truncated_string_columns": []
            },
            "display_id": "458dc6ff-a6bb-4a42-8cf0-4ea89a7b617e",
            "dx_settings": {
              "ALLOW_NOTEABLE_ATTRS": true,
              "COLUMN_SAMPLING_METHOD": "outer",
              "DB_LOCATION": ":memory:",
              "DEV_MODE": false,
              "DISPLAY_MAX_COLUMNS": 100,
              "DISPLAY_MAX_ROWS": 50000,
              "DISPLAY_MODE": "simple",
              "ENABLE_ASSIGNMENT": true,
              "ENABLE_DATALINK": true,
              "FLATTEN_COLUMN_VALUES": true,
              "FLATTEN_INDEX_VALUES": false,
              "GENERATE_DEX_METADATA": false,
              "HTML_TABLE_SCHEMA": false,
              "LOG_LEVEL": 30,
              "MAX_RENDER_SIZE_BYTES": 104857600,
              "MAX_STRING_LENGTH": 250,
              "NUM_PAST_SAMPLES_TRACKED": 3,
              "RANDOM_STATE": 12648430,
              "RESET_INDEX_VALUES": false,
              "ROW_SAMPLING_METHOD": "random",
              "SAMPLING_FACTOR": 0.1,
              "SAMPLING_METHOD": "random",
              "STRINGIFY_COLUMN_VALUES": true,
              "STRINGIFY_INDEX_VALUES": false
            },
            "sample_history": [],
            "sampling_time": "2023-08-06T20:04:35.122848",
            "user_variable_name": null,
            "variable_name": "unk_dataframe_bfbc5c8b1a8e49b9b21b25a341505f7e"
          },
          "ac50b0f1-f8fd-4310-b8ac-eb0ebd4d25e0": {
            "applied_filters": [],
            "dataframe_info": {
              "default_index_used": false,
              "orig_num_cols": 1,
              "orig_num_rows": 6,
              "orig_size_bytes": 96,
              "truncated_num_cols": 1,
              "truncated_num_rows": 6,
              "truncated_size_bytes": 96,
              "truncated_string_columns": []
            },
            "display_id": "ac50b0f1-f8fd-4310-b8ac-eb0ebd4d25e0",
            "dx_settings": {
              "ALLOW_NOTEABLE_ATTRS": true,
              "COLUMN_SAMPLING_METHOD": "outer",
              "DB_LOCATION": ":memory:",
              "DEV_MODE": false,
              "DISPLAY_MAX_COLUMNS": 100,
              "DISPLAY_MAX_ROWS": 50000,
              "DISPLAY_MODE": "simple",
              "ENABLE_ASSIGNMENT": true,
              "ENABLE_DATALINK": true,
              "FLATTEN_COLUMN_VALUES": true,
              "FLATTEN_INDEX_VALUES": false,
              "GENERATE_DEX_METADATA": false,
              "HTML_TABLE_SCHEMA": false,
              "LOG_LEVEL": 30,
              "MAX_RENDER_SIZE_BYTES": 104857600,
              "MAX_STRING_LENGTH": 250,
              "NUM_PAST_SAMPLES_TRACKED": 3,
              "RANDOM_STATE": 12648430,
              "RESET_INDEX_VALUES": false,
              "ROW_SAMPLING_METHOD": "random",
              "SAMPLING_FACTOR": 0.1,
              "SAMPLING_METHOD": "random",
              "STRINGIFY_COLUMN_VALUES": true,
              "STRINGIFY_INDEX_VALUES": false
            },
            "sample_history": [],
            "sampling_time": "2023-08-06T20:07:56.101243",
            "user_variable_name": null,
            "variable_name": "unk_dataframe_f97e33b26af24b1b8c9970122708161f"
          }
        },
        "dx": {
          "fieldMetadata": {},
          "simpleTable": true,
          "updated": 1691352277646,
          "views": []
        }
      },
      "execution_count": null,
      "source": "italy_weather_data.isna().sum()",
      "outputs": []
    },
    {
      "id": "2e1f6c52-5951-4654-9bd7-af667547a8eb",
      "cell_type": "code",
      "metadata": {
        "jupyter": {
          "outputs_hidden": false,
          "source_hidden": false
        },
        "noteable": {
          "cell_type": "code",
          "output_collection_id": "c7d3490b-a531-457d-ae07-3f7c8158c689"
        },
        "ExecuteTime": {
          "end_time": "2023-08-06T20:10:57.261741+00:00",
          "start_time": "2023-08-06T20:10:57.100887+00:00"
        }
      },
      "execution_count": null,
      "source": "italy_weather_data['Temperature'] = italy_weather_data['Temperature'].str.replace('....', 'NaN')",
      "outputs": []
    },
    {
      "id": "000f5fb9-f69f-451d-9f6b-32ef15faae9c",
      "cell_type": "code",
      "metadata": {
        "jupyter": {
          "outputs_hidden": false,
          "source_hidden": false
        },
        "noteable": {
          "cell_type": "code",
          "output_collection_id": "b11ab804-9dda-4257-a20c-83b88215999b"
        },
        "ExecuteTime": {
          "end_time": "2023-08-06T20:11:35.956407+00:00",
          "start_time": "2023-08-06T20:11:35.727435+00:00"
        },
        "datalink": {
          "97e1faad-e141-47ab-a94a-fd57234b5ba6": {
            "applied_filters": [],
            "dataframe_info": {
              "default_index_used": false,
              "orig_num_cols": 1,
              "orig_num_rows": 6,
              "orig_size_bytes": 96,
              "truncated_num_cols": 1,
              "truncated_num_rows": 6,
              "truncated_size_bytes": 96,
              "truncated_string_columns": []
            },
            "display_id": "97e1faad-e141-47ab-a94a-fd57234b5ba6",
            "dx_settings": {
              "ALLOW_NOTEABLE_ATTRS": true,
              "COLUMN_SAMPLING_METHOD": "outer",
              "DB_LOCATION": ":memory:",
              "DEV_MODE": false,
              "DISPLAY_MAX_COLUMNS": 100,
              "DISPLAY_MAX_ROWS": 50000,
              "DISPLAY_MODE": "simple",
              "ENABLE_ASSIGNMENT": true,
              "ENABLE_DATALINK": true,
              "FLATTEN_COLUMN_VALUES": true,
              "FLATTEN_INDEX_VALUES": false,
              "GENERATE_DEX_METADATA": false,
              "HTML_TABLE_SCHEMA": false,
              "LOG_LEVEL": 30,
              "MAX_RENDER_SIZE_BYTES": 104857600,
              "MAX_STRING_LENGTH": 250,
              "NUM_PAST_SAMPLES_TRACKED": 3,
              "RANDOM_STATE": 12648430,
              "RESET_INDEX_VALUES": false,
              "ROW_SAMPLING_METHOD": "random",
              "SAMPLING_FACTOR": 0.1,
              "SAMPLING_METHOD": "random",
              "STRINGIFY_COLUMN_VALUES": true,
              "STRINGIFY_INDEX_VALUES": false
            },
            "sample_history": [],
            "sampling_time": "2023-08-06T20:11:35.799376",
            "user_variable_name": null,
            "variable_name": "unk_dataframe_a0edde9d12174ac19c3a8e994e9927a4"
          }
        },
        "dx": {
          "fieldMetadata": {},
          "simpleTable": true,
          "updated": 1691352736616,
          "views": []
        }
      },
      "execution_count": null,
      "source": "italy_weather_data.isna().sum()",
      "outputs": []
    },
    {
      "id": "a344c8e8-dd77-436d-bfdf-db33ee23bf49",
      "cell_type": "code",
      "metadata": {
        "noteable": {
          "cell_type": "code",
          "output_collection_id": "4fa1b19e-d453-46b4-b43c-a12f17803a9c"
        },
        "ExecuteTime": {
          "end_time": "2023-08-06T20:08:11.591312+00:00",
          "start_time": "2023-08-06T20:08:09.064487+00:00"
        }
      },
      "execution_count": null,
      "source": "# Remove rows with missing values in the 'Region' and 'Sector' columns\nitaly_weather_data = italy_weather_data.dropna(subset=['Region', 'Sector'])\n\n# Calculate the mean temperature for each sector by year\nsector_temperature_trend = italy_weather_data.groupby(['Sector', 'Year'])['Temperature'].mean().reset_index()",
      "outputs": []
    },
    {
      "id": "31b40c90-6066-44c4-a18d-d603accd1616",
      "cell_type": "code",
      "metadata": {
        "jupyter": {
          "outputs_hidden": false,
          "source_hidden": false
        },
        "noteable": {
          "cell_type": "code",
          "output_collection_id": "1a40ad05-4dc5-4f34-b955-ca0cd2672ebf"
        },
        "ExecuteTime": {
          "end_time": "2023-08-06T19:58:46.502784+00:00",
          "start_time": "2023-08-06T19:58:46.282134+00:00"
        },
        "datalink": {
          "a270ac88-cffa-41ae-893a-e2d6dedc9b0d": {
            "applied_filters": [],
            "dataframe_info": {
              "default_index_used": true,
              "orig_num_cols": 6,
              "orig_num_rows": 0,
              "orig_size_bytes": 0,
              "truncated_num_cols": 6,
              "truncated_num_rows": 0,
              "truncated_size_bytes": 0,
              "truncated_string_columns": []
            },
            "display_id": "a270ac88-cffa-41ae-893a-e2d6dedc9b0d",
            "dx_settings": {
              "ALLOW_NOTEABLE_ATTRS": true,
              "COLUMN_SAMPLING_METHOD": "outer",
              "DB_LOCATION": ":memory:",
              "DEV_MODE": false,
              "DISPLAY_MAX_COLUMNS": 100,
              "DISPLAY_MAX_ROWS": 50000,
              "DISPLAY_MODE": "simple",
              "ENABLE_ASSIGNMENT": true,
              "ENABLE_DATALINK": true,
              "FLATTEN_COLUMN_VALUES": true,
              "FLATTEN_INDEX_VALUES": false,
              "GENERATE_DEX_METADATA": false,
              "HTML_TABLE_SCHEMA": false,
              "LOG_LEVEL": 30,
              "MAX_RENDER_SIZE_BYTES": 104857600,
              "MAX_STRING_LENGTH": 250,
              "NUM_PAST_SAMPLES_TRACKED": 3,
              "RANDOM_STATE": 12648430,
              "RESET_INDEX_VALUES": false,
              "ROW_SAMPLING_METHOD": "random",
              "SAMPLING_FACTOR": 0.1,
              "SAMPLING_METHOD": "random",
              "STRINGIFY_COLUMN_VALUES": true,
              "STRINGIFY_INDEX_VALUES": false
            },
            "sample_history": [],
            "sampling_time": "2023-08-06T19:58:46.345827",
            "user_variable_name": "italy_weather_data",
            "variable_name": "italy_weather_data"
          }
        },
        "dx": {
          "fieldMetadata": {},
          "simpleTable": true,
          "updated": 1691351931669,
          "views": []
        }
      },
      "execution_count": null,
      "source": "italy_weather_data",
      "outputs": []
    },
    {
      "id": "5847cec1-40f5-4171-9584-e11214f00c80",
      "cell_type": "code",
      "metadata": {
        "jupyter": {
          "outputs_hidden": false,
          "source_hidden": false
        },
        "noteable": {
          "cell_type": "code",
          "output_collection_id": "2f17caf7-ea8d-4dbd-aef5-54d0733b1d2a"
        },
        "ExecuteTime": {
          "end_time": "2023-08-06T14:34:33.273400+00:00",
          "start_time": "2023-08-06T14:34:30.830284+00:00"
        }
      },
      "execution_count": null,
      "source": "# Plot the trend in temperatures by sector\nplt.figure(figsize=(12, 6))\nsns.lineplot(x='Year', y='Temperature', hue='Sector', data=sector_temperature_trend)\nplt.title('Trend in Average Temperatures by Sector in Italy (2006-2021)')\nplt.xlabel('Year')\nplt.ylabel('Average Temperature (°C)')\nplt.legend(title='Sector')\nplt.show()",
      "outputs": []
    },
    {
      "id": "5ab5f2aa-23f6-41ed-8e23-2b798f184022",
      "cell_type": "code",
      "metadata": {
        "noteable": {
          "cell_type": "code",
          "output_collection_id": "299f4409-6a35-41e8-b4a2-6243890902b9"
        },
        "ExecuteTime": {
          "end_time": "2023-08-06T07:36:06.858730+00:00",
          "start_time": "2023-08-06T07:36:06.636223+00:00"
        },
        "datalink": {
          "8e914a62-c6f2-4b19-8d78-ff6faa2e4bab": {
            "applied_filters": [],
            "dataframe_info": {
              "default_index_used": false,
              "orig_num_cols": 1,
              "orig_num_rows": 2,
              "orig_size_bytes": 32,
              "truncated_num_cols": 1,
              "truncated_num_rows": 2,
              "truncated_size_bytes": 32,
              "truncated_string_columns": []
            },
            "display_id": "8e914a62-c6f2-4b19-8d78-ff6faa2e4bab",
            "dx_settings": {
              "ALLOW_NOTEABLE_ATTRS": true,
              "COLUMN_SAMPLING_METHOD": "outer",
              "DB_LOCATION": ":memory:",
              "DEV_MODE": false,
              "DISPLAY_MAX_COLUMNS": 100,
              "DISPLAY_MAX_ROWS": 50000,
              "DISPLAY_MODE": "simple",
              "ENABLE_ASSIGNMENT": true,
              "ENABLE_DATALINK": true,
              "FLATTEN_COLUMN_VALUES": true,
              "FLATTEN_INDEX_VALUES": false,
              "GENERATE_DEX_METADATA": false,
              "HTML_TABLE_SCHEMA": false,
              "LOG_LEVEL": 30,
              "MAX_RENDER_SIZE_BYTES": 104857600,
              "MAX_STRING_LENGTH": 250,
              "NUM_PAST_SAMPLES_TRACKED": 3,
              "RANDOM_STATE": 12648430,
              "RESET_INDEX_VALUES": false,
              "ROW_SAMPLING_METHOD": "random",
              "SAMPLING_FACTOR": 0.1,
              "SAMPLING_METHOD": "random",
              "STRINGIFY_COLUMN_VALUES": true,
              "STRINGIFY_INDEX_VALUES": false
            },
            "sample_history": [],
            "sampling_time": "2023-08-05T05:12:46.815154",
            "user_variable_name": null,
            "variable_name": "unk_dataframe_428f498b5fef463c8a9cfe6f9a75ac59"
          },
          "45e90e2e-ab76-47ab-86ce-ff9f71602877": {
            "applied_filters": [],
            "dataframe_info": {
              "default_index_used": false,
              "orig_num_cols": 1,
              "orig_num_rows": 2,
              "orig_size_bytes": 32,
              "truncated_num_cols": 1,
              "truncated_num_rows": 2,
              "truncated_size_bytes": 32,
              "truncated_string_columns": []
            },
            "display_id": "45e90e2e-ab76-47ab-86ce-ff9f71602877",
            "dx_settings": {
              "ALLOW_NOTEABLE_ATTRS": true,
              "COLUMN_SAMPLING_METHOD": "outer",
              "DB_LOCATION": ":memory:",
              "DEV_MODE": false,
              "DISPLAY_MAX_COLUMNS": 100,
              "DISPLAY_MAX_ROWS": 50000,
              "DISPLAY_MODE": "simple",
              "ENABLE_ASSIGNMENT": true,
              "ENABLE_DATALINK": true,
              "FLATTEN_COLUMN_VALUES": true,
              "FLATTEN_INDEX_VALUES": false,
              "GENERATE_DEX_METADATA": false,
              "HTML_TABLE_SCHEMA": false,
              "LOG_LEVEL": 30,
              "MAX_RENDER_SIZE_BYTES": 104857600,
              "MAX_STRING_LENGTH": 250,
              "NUM_PAST_SAMPLES_TRACKED": 3,
              "RANDOM_STATE": 12648430,
              "RESET_INDEX_VALUES": false,
              "ROW_SAMPLING_METHOD": "random",
              "SAMPLING_FACTOR": 0.1,
              "SAMPLING_METHOD": "random",
              "STRINGIFY_COLUMN_VALUES": true,
              "STRINGIFY_INDEX_VALUES": false
            },
            "sample_history": [],
            "sampling_time": "2023-08-06T07:36:06.701627",
            "user_variable_name": null,
            "variable_name": "unk_dataframe_a0d4f233ce9c46c39ff7c4b8e909e878"
          }
        }
      },
      "execution_count": null,
      "source": "# Check the data types of the 'Year' and 'Temperature' columns\nyear_temperature_data_types = italy_weather_data[['Year', 'Temperature']].dtypes\nyear_temperature_data_types",
      "outputs": []
    },
    {
      "id": "216ba657-edae-4af8-a085-ba0a7290defd",
      "cell_type": "code",
      "metadata": {
        "noteable": {
          "cell_type": "code",
          "output_collection_id": "a021c447-25f1-4f30-b8bc-6d9beaf362d3"
        },
        "ExecuteTime": {
          "end_time": "2023-08-06T07:36:18.112162+00:00",
          "start_time": "2023-08-06T07:36:17.823271+00:00"
        },
        "datalink": {
          "4f4b8d69-f9e5-40ba-ae34-06b41e01f892": {
            "applied_filters": [],
            "dataframe_info": {
              "default_index_used": true,
              "orig_num_cols": 6,
              "orig_num_rows": 75,
              "orig_size_bytes": 4200,
              "truncated_num_cols": 6,
              "truncated_num_rows": 75,
              "truncated_size_bytes": 4200,
              "truncated_string_columns": []
            },
            "display_id": "4f4b8d69-f9e5-40ba-ae34-06b41e01f892",
            "dx_settings": {
              "ALLOW_NOTEABLE_ATTRS": true,
              "COLUMN_SAMPLING_METHOD": "outer",
              "DB_LOCATION": ":memory:",
              "DEV_MODE": false,
              "DISPLAY_MAX_COLUMNS": 100,
              "DISPLAY_MAX_ROWS": 50000,
              "DISPLAY_MODE": "simple",
              "ENABLE_ASSIGNMENT": true,
              "ENABLE_DATALINK": true,
              "FLATTEN_COLUMN_VALUES": true,
              "FLATTEN_INDEX_VALUES": false,
              "GENERATE_DEX_METADATA": false,
              "HTML_TABLE_SCHEMA": false,
              "LOG_LEVEL": 30,
              "MAX_RENDER_SIZE_BYTES": 104857600,
              "MAX_STRING_LENGTH": 250,
              "NUM_PAST_SAMPLES_TRACKED": 3,
              "RANDOM_STATE": 12648430,
              "RESET_INDEX_VALUES": false,
              "ROW_SAMPLING_METHOD": "random",
              "SAMPLING_FACTOR": 0.1,
              "SAMPLING_METHOD": "random",
              "STRINGIFY_COLUMN_VALUES": true,
              "STRINGIFY_INDEX_VALUES": false
            },
            "sample_history": [],
            "sampling_time": "2023-08-05T05:13:02.408649",
            "user_variable_name": "missing_temperatures",
            "variable_name": "missing_temperatures"
          },
          "a744f2ba-5c4c-46b5-88eb-9afea84850d7": {
            "applied_filters": [],
            "dataframe_info": {
              "default_index_used": true,
              "orig_num_cols": 6,
              "orig_num_rows": 1744,
              "orig_size_bytes": 97664,
              "truncated_num_cols": 6,
              "truncated_num_rows": 1744,
              "truncated_size_bytes": 97664,
              "truncated_string_columns": []
            },
            "display_id": "a744f2ba-5c4c-46b5-88eb-9afea84850d7",
            "dx_settings": {
              "ALLOW_NOTEABLE_ATTRS": true,
              "COLUMN_SAMPLING_METHOD": "outer",
              "DB_LOCATION": ":memory:",
              "DEV_MODE": false,
              "DISPLAY_MAX_COLUMNS": 100,
              "DISPLAY_MAX_ROWS": 50000,
              "DISPLAY_MODE": "simple",
              "ENABLE_ASSIGNMENT": true,
              "ENABLE_DATALINK": true,
              "FLATTEN_COLUMN_VALUES": true,
              "FLATTEN_INDEX_VALUES": false,
              "GENERATE_DEX_METADATA": false,
              "HTML_TABLE_SCHEMA": false,
              "LOG_LEVEL": 30,
              "MAX_RENDER_SIZE_BYTES": 104857600,
              "MAX_STRING_LENGTH": 250,
              "NUM_PAST_SAMPLES_TRACKED": 3,
              "RANDOM_STATE": 12648430,
              "RESET_INDEX_VALUES": false,
              "ROW_SAMPLING_METHOD": "random",
              "SAMPLING_FACTOR": 0.1,
              "SAMPLING_METHOD": "random",
              "STRINGIFY_COLUMN_VALUES": true,
              "STRINGIFY_INDEX_VALUES": false
            },
            "sample_history": [],
            "sampling_time": "2023-08-06T07:36:17.935520",
            "user_variable_name": "italy_weather_data",
            "variable_name": "italy_weather_data"
          }
        },
        "dx": {
          "dashboard": {
            "multiViews": []
          },
          "fieldMetadata": {},
          "updated": 1691351740102,
          "views": [
            {
              "annotationRules": [],
              "chart": {},
              "chartMode": "grid",
              "confoRules": [],
              "decoration": {
                "footer": "",
                "subtitle": "",
                "title": "Table"
              },
              "facets": [],
              "filterSettings": {
                "SHOW_FILTER_PANEL": true,
                "filters": []
              },
              "id": "first-view",
              "isDefault": true,
              "type": "public",
              "userID": ""
            },
            {
              "annotationRules": [],
              "chart": {},
              "chartMode": "grid",
              "confoRules": [],
              "decoration": {
                "footer": "",
                "subtitle": "",
                "title": "Table"
              },
              "facets": [],
              "filterSettings": {
                "SHOW_FILTER_PANEL": true,
                "filters": [
                  {
                    "column": "Temperature",
                    "predicate": "between",
                    "type": "METRIC_FILTER",
                    "value": [
                      null,
                      null
                    ]
                  }
                ]
              },
              "id": "first-view",
              "isDefault": true,
              "isTransitory": true,
              "type": "public",
              "userID": ""
            }
          ]
        }
      },
      "execution_count": null,
      "source": "# Convert the 'Temperature' column to a numeric data type, handling any non-numeric values\nitaly_weather_data['Temperature'] = pd.to_numeric(italy_weather_data['Temperature'], errors='coerce')\n\n# Check for any missing values in the 'Temperature' column after conversion\nmissing_temperatures = italy_weather_data[italy_weather_data['Temperature'].isna()]\nmissing_temperatures",
      "outputs": []
    },
    {
      "id": "465ebcce-9ccc-42ef-b0d0-514ad6187780",
      "cell_type": "code",
      "metadata": {
        "jupyter": {
          "outputs_hidden": false,
          "source_hidden": false
        },
        "noteable": {
          "cell_type": "code"
        }
      },
      "execution_count": null,
      "source": "",
      "outputs": []
    },
    {
      "id": "f67937cf-792b-4316-924b-d4bb09554db5",
      "cell_type": "code",
      "metadata": {
        "noteable": {
          "cell_type": "code",
          "output_collection_id": "9c7b059c-5a5f-4cad-ad09-1dd91de77a35"
        },
        "ExecuteTime": {
          "end_time": "2023-08-06T19:54:23.125740+00:00",
          "start_time": "2023-08-06T19:54:22.605352+00:00"
        }
      },
      "execution_count": null,
      "source": "# Remove rows with missing values in the 'Temperature' column\nitaly_weather_data = italy_weather_data.dropna(subset=['Temperature'])\n\n# Calculate the mean temperature for each sector by year\nsector_temperature_trend = italy_weather_data.groupby(['Sector', 'Year'])['Temperature'].mean().reset_index()\n\n# Plot the trend in temperatures by sector\nplt.figure(figsize=(12, 6))\nsns.lineplot(x='Year', y='Temperature', hue='Sector', data=sector_temperature_trend)\n\nplt.title('Trend in Average Temperatures by Sector in Italy (2006-2021)')\nplt.xlabel('Year')\nplt.ylabel('Average Temperature (°C)')\nplt.legend(title='Sector')\nplt.show()",
      "outputs": []
    },
    {
      "id": "79a94593-a8c4-4c4a-a6ba-fc3cb59ad09b",
      "cell_type": "code",
      "metadata": {
        "noteable": {
          "cell_type": "code",
          "output_collection_id": "69eea2d2-8531-4fb0-8640-13f2884dc528"
        },
        "ExecuteTime": {
          "end_time": "2023-08-05T05:15:16.201019+00:00",
          "start_time": "2023-08-05T05:15:15.969642+00:00"
        },
        "datalink": {
          "c9746991-6db7-46a4-9969-b9d8923bf568": {
            "applied_filters": [],
            "dataframe_info": {
              "default_index_used": true,
              "orig_num_cols": 2,
              "orig_num_rows": 4,
              "orig_size_bytes": 96,
              "truncated_num_cols": 2,
              "truncated_num_rows": 4,
              "truncated_size_bytes": 96,
              "truncated_string_columns": []
            },
            "display_id": "c9746991-6db7-46a4-9969-b9d8923bf568",
            "dx_settings": {
              "ALLOW_NOTEABLE_ATTRS": true,
              "COLUMN_SAMPLING_METHOD": "outer",
              "DB_LOCATION": ":memory:",
              "DEV_MODE": false,
              "DISPLAY_MAX_COLUMNS": 100,
              "DISPLAY_MAX_ROWS": 50000,
              "DISPLAY_MODE": "simple",
              "ENABLE_ASSIGNMENT": true,
              "ENABLE_DATALINK": true,
              "FLATTEN_COLUMN_VALUES": true,
              "FLATTEN_INDEX_VALUES": false,
              "GENERATE_DEX_METADATA": false,
              "HTML_TABLE_SCHEMA": false,
              "LOG_LEVEL": 30,
              "MAX_RENDER_SIZE_BYTES": 104857600,
              "MAX_STRING_LENGTH": 250,
              "NUM_PAST_SAMPLES_TRACKED": 3,
              "RANDOM_STATE": 12648430,
              "RESET_INDEX_VALUES": false,
              "ROW_SAMPLING_METHOD": "random",
              "SAMPLING_FACTOR": 0.1,
              "SAMPLING_METHOD": "random",
              "STRINGIFY_COLUMN_VALUES": true,
              "STRINGIFY_INDEX_VALUES": false
            },
            "sample_history": [],
            "sampling_time": "2023-08-05T05:15:16.042703",
            "user_variable_name": "sector_trends",
            "variable_name": "sector_trends"
          }
        }
      },
      "execution_count": null,
      "source": "from scipy.stats import linregress\n\n# Function to calculate the slope (trend) for each sector\ndef calculate_trend(sector_data):\n    slope, _, _, _, _ = linregress(sector_data['Year'], sector_data['Temperature'])\n    return slope\n\n# Calculate the trend (slope) for each sector\nsector_trends = sector_temperature_trend.groupby('Sector').apply(calculate_trend).reset_index()\nsector_trends.columns = ['Sector', 'Trend']\nsector_trends",
      "outputs": []
    },
    {
      "id": "d2298cb7-e9b7-43b5-86de-91652640200b",
      "cell_type": "code",
      "metadata": {
        "noteable": {
          "cell_type": "code",
          "output_collection_id": "c06feaa7-89ec-4433-9d3a-860363462a66"
        },
        "ExecuteTime": {
          "end_time": "2023-08-05T05:17:27.793706+00:00",
          "start_time": "2023-08-05T05:17:27.360687+00:00"
        }
      },
      "execution_count": null,
      "source": "# Calculate the mean precipitation for each sector by year\nsector_precipitation_trend = italy_weather_data.groupby(['Sector', 'Year'])['Precipitation'].mean().reset_index()\n\n# Plot the trend in precipitations by sector\nplt.figure(figsize=(12, 6))\nsns.lineplot(x='Year', y='Precipitation', hue='Sector', data=sector_precipitation_trend)\nplt.title('Trend in Average Precipitations by Sector in Italy (2006-2021)')\nplt.xlabel('Year')\nplt.ylabel('Average Precipitation (mm)')\nplt.legend(title='Sector')\nplt.show()",
      "outputs": []
    },
    {
      "id": "2a8b5276-33e1-4418-94c1-b27bd208187f",
      "cell_type": "code",
      "metadata": {
        "noteable": {
          "cell_type": "code",
          "output_collection_id": "c694cb66-7ee9-41ba-94da-0a7c38ef664d"
        },
        "ExecuteTime": {
          "end_time": "2023-08-05T05:17:56.537152+00:00",
          "start_time": "2023-08-05T05:17:56.378073+00:00"
        }
      },
      "execution_count": null,
      "source": "# Check the data types of the 'Precipitation' column\nprecipitation_data_type = italy_weather_data['Precipitation'].dtypes\nprecipitation_data_type",
      "outputs": []
    },
    {
      "id": "6c3fe7b1-980b-45ab-bf40-59086f0198fa",
      "cell_type": "code",
      "metadata": {
        "noteable": {
          "cell_type": "code",
          "output_collection_id": "174234c5-db9d-4084-89c7-db948c5bf0cc"
        },
        "ExecuteTime": {
          "end_time": "2023-08-05T05:18:17.703706+00:00",
          "start_time": "2023-08-05T05:18:17.472120+00:00"
        },
        "datalink": {
          "670becc3-bdb7-4eaf-a884-4c14ba6f13ec": {
            "applied_filters": [],
            "dataframe_info": {
              "default_index_used": true,
              "orig_num_cols": 6,
              "orig_num_rows": 33,
              "orig_size_bytes": 1848,
              "truncated_num_cols": 6,
              "truncated_num_rows": 33,
              "truncated_size_bytes": 1848,
              "truncated_string_columns": []
            },
            "display_id": "670becc3-bdb7-4eaf-a884-4c14ba6f13ec",
            "dx_settings": {
              "ALLOW_NOTEABLE_ATTRS": true,
              "COLUMN_SAMPLING_METHOD": "outer",
              "DB_LOCATION": ":memory:",
              "DEV_MODE": false,
              "DISPLAY_MAX_COLUMNS": 100,
              "DISPLAY_MAX_ROWS": 50000,
              "DISPLAY_MODE": "simple",
              "ENABLE_ASSIGNMENT": true,
              "ENABLE_DATALINK": true,
              "FLATTEN_COLUMN_VALUES": true,
              "FLATTEN_INDEX_VALUES": false,
              "GENERATE_DEX_METADATA": false,
              "HTML_TABLE_SCHEMA": false,
              "LOG_LEVEL": 30,
              "MAX_RENDER_SIZE_BYTES": 104857600,
              "MAX_STRING_LENGTH": 250,
              "NUM_PAST_SAMPLES_TRACKED": 3,
              "RANDOM_STATE": 12648430,
              "RESET_INDEX_VALUES": false,
              "ROW_SAMPLING_METHOD": "random",
              "SAMPLING_FACTOR": 0.1,
              "SAMPLING_METHOD": "random",
              "STRINGIFY_COLUMN_VALUES": true,
              "STRINGIFY_INDEX_VALUES": false
            },
            "sample_history": [],
            "sampling_time": "2023-08-05T05:18:17.546068",
            "user_variable_name": "missing_precipitations",
            "variable_name": "missing_precipitations"
          }
        }
      },
      "execution_count": null,
      "source": "# Convert the 'Precipitation' column to a numeric data type, handling any non-numeric values\nitaly_weather_data['Precipitation'] = pd.to_numeric(italy_weather_data['Precipitation'], errors='coerce')\n\n# Check for any missing values in the 'Precipitation' column after conversion\nmissing_precipitations = italy_weather_data[italy_weather_data['Precipitation'].isna()]\nmissing_precipitations",
      "outputs": []
    },
    {
      "id": "e7fa8e45-fae8-4376-b422-42d63194e5cd",
      "cell_type": "code",
      "metadata": {
        "noteable": {
          "cell_type": "code",
          "output_collection_id": "8189c6ba-2ad1-40fe-a652-6edef4b651ed"
        },
        "ExecuteTime": {
          "end_time": "2023-08-05T05:18:57.093305+00:00",
          "start_time": "2023-08-05T05:18:56.425973+00:00"
        }
      },
      "execution_count": null,
      "source": "# Remove rows with missing values in the 'Precipitation' column\nitaly_weather_data = italy_weather_data.dropna(subset=['Precipitation'])\n\n# Calculate the mean precipitation for each sector by year\nsector_precipitation_trend = italy_weather_data.groupby(['Sector', 'Year'])['Precipitation'].mean().reset_index()\n\n# Plot the trend in precipitations by sector\nplt.figure(figsize=(12, 6))\nsns.lineplot(x='Year', y='Precipitation', hue='Sector', data=sector_precipitation_trend)\nplt.title('Trend in Average Precipitations by Sector in Italy (2006-2021)')\nplt.xlabel('Year')\nplt.ylabel('Average Precipitation (mm)')\nplt.legend(title='Sector')\nplt.show()",
      "outputs": []
    },
    {
      "id": "62e1e08a-c3bf-44f1-8b25-81162df2e0da",
      "cell_type": "code",
      "metadata": {
        "noteable": {
          "cell_type": "code",
          "output_collection_id": "623f08c3-2777-4bfe-b756-8c08d3fe3078"
        },
        "ExecuteTime": {
          "end_time": "2023-08-05T05:20:07.696629+00:00",
          "start_time": "2023-08-05T05:20:07.472726+00:00"
        },
        "datalink": {
          "fdf187d0-594e-4ae7-91c7-2f70aab92946": {
            "applied_filters": [],
            "dataframe_info": {
              "default_index_used": true,
              "orig_num_cols": 2,
              "orig_num_rows": 4,
              "orig_size_bytes": 96,
              "truncated_num_cols": 2,
              "truncated_num_rows": 4,
              "truncated_size_bytes": 96,
              "truncated_string_columns": []
            },
            "display_id": "fdf187d0-594e-4ae7-91c7-2f70aab92946",
            "dx_settings": {
              "ALLOW_NOTEABLE_ATTRS": true,
              "COLUMN_SAMPLING_METHOD": "outer",
              "DB_LOCATION": ":memory:",
              "DEV_MODE": false,
              "DISPLAY_MAX_COLUMNS": 100,
              "DISPLAY_MAX_ROWS": 50000,
              "DISPLAY_MODE": "simple",
              "ENABLE_ASSIGNMENT": true,
              "ENABLE_DATALINK": true,
              "FLATTEN_COLUMN_VALUES": true,
              "FLATTEN_INDEX_VALUES": false,
              "GENERATE_DEX_METADATA": false,
              "HTML_TABLE_SCHEMA": false,
              "LOG_LEVEL": 30,
              "MAX_RENDER_SIZE_BYTES": 104857600,
              "MAX_STRING_LENGTH": 250,
              "NUM_PAST_SAMPLES_TRACKED": 3,
              "RANDOM_STATE": 12648430,
              "RESET_INDEX_VALUES": false,
              "ROW_SAMPLING_METHOD": "random",
              "SAMPLING_FACTOR": 0.1,
              "SAMPLING_METHOD": "random",
              "STRINGIFY_COLUMN_VALUES": true,
              "STRINGIFY_INDEX_VALUES": false
            },
            "sample_history": [],
            "sampling_time": "2023-08-05T05:20:07.539251",
            "user_variable_name": "sector_precipitation_trends",
            "variable_name": "sector_precipitation_trends"
          }
        }
      },
      "execution_count": null,
      "source": "# Function to calculate the slope (trend) for each sector for precipitations\ndef calculate_precipitation_trend(sector_data):\n    slope, _, _, _, _ = linregress(sector_data['Year'], sector_data['Precipitation'])\n    return slope\n\n# Calculate the trend (slope) for each sector for precipitations\nsector_precipitation_trends = sector_precipitation_trend.groupby('Sector').apply(calculate_precipitation_trend).reset_index()\nsector_precipitation_trends.columns = ['Sector', 'Trend']\nsector_precipitation_trends",
      "outputs": []
    },
    {
      "id": "4867772b-cf01-4964-a780-1b25ff55025e",
      "cell_type": "code",
      "metadata": {
        "noteable": {
          "cell_type": "code",
          "output_collection_id": "0e3c0f2f-b8a2-4fc9-ada4-06d506d32fc3"
        },
        "ExecuteTime": {
          "end_time": "2023-08-05T05:21:58.397595+00:00",
          "start_time": "2023-08-05T05:21:58.176118+00:00"
        },
        "datalink": {
          "c08b02ef-9863-43a1-acff-e82bc5824067": {
            "applied_filters": [],
            "dataframe_info": {
              "default_index_used": true,
              "orig_num_cols": 2,
              "orig_num_rows": 5,
              "orig_size_bytes": 120,
              "truncated_num_cols": 2,
              "truncated_num_rows": 5,
              "truncated_size_bytes": 120,
              "truncated_string_columns": []
            },
            "display_id": "c08b02ef-9863-43a1-acff-e82bc5824067",
            "dx_settings": {
              "ALLOW_NOTEABLE_ATTRS": true,
              "COLUMN_SAMPLING_METHOD": "outer",
              "DB_LOCATION": ":memory:",
              "DEV_MODE": false,
              "DISPLAY_MAX_COLUMNS": 100,
              "DISPLAY_MAX_ROWS": 50000,
              "DISPLAY_MODE": "simple",
              "ENABLE_ASSIGNMENT": true,
              "ENABLE_DATALINK": true,
              "FLATTEN_COLUMN_VALUES": true,
              "FLATTEN_INDEX_VALUES": false,
              "GENERATE_DEX_METADATA": false,
              "HTML_TABLE_SCHEMA": false,
              "LOG_LEVEL": 30,
              "MAX_RENDER_SIZE_BYTES": 104857600,
              "MAX_STRING_LENGTH": 250,
              "NUM_PAST_SAMPLES_TRACKED": 3,
              "RANDOM_STATE": 12648430,
              "RESET_INDEX_VALUES": false,
              "ROW_SAMPLING_METHOD": "random",
              "SAMPLING_FACTOR": 0.1,
              "SAMPLING_METHOD": "random",
              "STRINGIFY_COLUMN_VALUES": true,
              "STRINGIFY_INDEX_VALUES": false
            },
            "sample_history": [],
            "sampling_time": "2023-08-05T05:21:58.240636",
            "user_variable_name": "top_5_hottest_provinces",
            "variable_name": "top_5_hottest_provinces"
          }
        }
      },
      "execution_count": null,
      "source": "# Calculate the mean temperature for each province over the entire period\ntop_provinces_temperature = italy_weather_data.groupby('Province')['Temperature'].mean().reset_index()\n\n# Sort by temperature to get the top 5 hottest provinces\ntop_5_hottest_provinces = top_provinces_temperature.nlargest(5, 'Temperature')\ntop_5_hottest_provinces",
      "outputs": []
    },
    {
      "id": "5b80926f-d673-4d6f-a43f-21c5f0952e7f",
      "cell_type": "code",
      "metadata": {
        "noteable": {
          "cell_type": "code",
          "output_collection_id": "47894760-0425-4dcf-bffc-b293178e4c95"
        },
        "ExecuteTime": {
          "end_time": "2023-08-05T05:22:45.602197+00:00",
          "start_time": "2023-08-05T05:22:45.372498+00:00"
        },
        "datalink": {
          "65cefd17-7985-4622-9591-fc56d9500512": {
            "applied_filters": [],
            "dataframe_info": {
              "default_index_used": true,
              "orig_num_cols": 2,
              "orig_num_rows": 5,
              "orig_size_bytes": 120,
              "truncated_num_cols": 2,
              "truncated_num_rows": 5,
              "truncated_size_bytes": 120,
              "truncated_string_columns": []
            },
            "display_id": "65cefd17-7985-4622-9591-fc56d9500512",
            "dx_settings": {
              "ALLOW_NOTEABLE_ATTRS": true,
              "COLUMN_SAMPLING_METHOD": "outer",
              "DB_LOCATION": ":memory:",
              "DEV_MODE": false,
              "DISPLAY_MAX_COLUMNS": 100,
              "DISPLAY_MAX_ROWS": 50000,
              "DISPLAY_MODE": "simple",
              "ENABLE_ASSIGNMENT": true,
              "ENABLE_DATALINK": true,
              "FLATTEN_COLUMN_VALUES": true,
              "FLATTEN_INDEX_VALUES": false,
              "GENERATE_DEX_METADATA": false,
              "HTML_TABLE_SCHEMA": false,
              "LOG_LEVEL": 30,
              "MAX_RENDER_SIZE_BYTES": 104857600,
              "MAX_STRING_LENGTH": 250,
              "NUM_PAST_SAMPLES_TRACKED": 3,
              "RANDOM_STATE": 12648430,
              "RESET_INDEX_VALUES": false,
              "ROW_SAMPLING_METHOD": "random",
              "SAMPLING_FACTOR": 0.1,
              "SAMPLING_METHOD": "random",
              "STRINGIFY_COLUMN_VALUES": true,
              "STRINGIFY_INDEX_VALUES": false
            },
            "sample_history": [],
            "sampling_time": "2023-08-05T05:22:45.446161",
            "user_variable_name": "top_5_provinces_trends",
            "variable_name": "top_5_provinces_trends"
          }
        }
      },
      "execution_count": null,
      "source": "# Function to calculate the trend (slope) for each province\ndef calculate_province_trend(province_data):\n    slope, _, _, _, _ = linregress(province_data['Year'], province_data['Temperature'])\n    return slope\n\n# Filter data for the top 5 hottest provinces\ntop_5_provinces_data = italy_weather_data[italy_weather_data['Province'].isin(top_5_hottest_provinces['Province'])]\n\n# Calculate the trend (slope) for each of the top 5 hottest provinces\ntop_5_provinces_trends = top_5_provinces_data.groupby('Province').apply(calculate_province_trend).reset_index()\ntop_5_provinces_trends.columns = ['Province', 'Trend']\ntop_5_provinces_trends",
      "outputs": []
    },
    {
      "id": "9000d267-0287-4c81-8eac-3c6ab3105fa6",
      "cell_type": "code",
      "metadata": {
        "noteable": {
          "cell_type": "code",
          "output_collection_id": "84627f2a-415a-4e9b-8a95-a1a1ae8fe00b"
        },
        "ExecuteTime": {
          "end_time": "2023-08-05T11:35:27.996910+00:00",
          "start_time": "2023-08-05T11:35:27.435353+00:00"
        }
      },
      "execution_count": null,
      "source": "# Calculate the mean temperature for Italy by year\nitaly_temperature_trend = italy_weather_data.groupby('Year')['Temperature'].mean().reset_index()\n\n# Perform linear regression to calculate the trend (slope)\nslope, _, _, _, _ = linregress(italy_temperature_trend['Year'], italy_temperature_trend['Temperature'])\n\n# The slope represents the rate of change in average temperatures for Italy\nslope",
      "outputs": []
    },
    {
      "id": "5dab3036-700d-493b-b5dd-15b84cc63ba5",
      "cell_type": "code",
      "metadata": {
        "noteable": {
          "cell_type": "code",
          "output_collection_id": "42ae2099-b28b-46f3-8e84-3103efed16e3"
        },
        "ExecuteTime": {
          "end_time": "2023-08-05T12:02:56.573531+00:00",
          "start_time": "2023-08-05T12:02:56.379880+00:00"
        }
      },
      "execution_count": null,
      "source": "# Define the sectors\nnorth = ['Piemonte', 'Valle d\\'Aosta', 'Lombardia', 'Trentino-Alto Adige', 'Veneto', 'Friuli-Venezia Giulia', 'Liguria', 'Emilia-Romagna']\ncenter = ['Toscana', 'Umbria', 'Marche', 'Lazio']\nsouth = ['Abruzzo', 'Molise', 'Campania', 'Puglia', 'Basilicata', 'Calabria']\nislands = ['Sicilia', 'Sardegna']\n\n# Create a new column 'sector' based on the region\ndf['sector'] = np.where(df['region'].isin(north), 'North',\n                        np.where(df['region'].isin(center), 'Center',\n                                np.where(df['region'].isin(south), 'South',\n                                        np.where(df['region'].isin(islands), 'Islands', 'Undefined'))))\n\n# Calculate the average temperature for each sector for each year\ndf_avg = df.groupby(['year', 'sector'])['avg_temp'].mean().reset_index()\n\n# Plot the results\nplt.figure(figsize=(10, 6))\nfor sector in df_avg['sector'].unique():\n    data = df_avg[df_avg['sector'] == sector]\n    plt.plot(data['year'], data['avg_temp'], label=sector)\nplt.xlabel('Year')\nplt.ylabel('Average Temperature (°C)')\nplt.title('Average Temperature in Italy by Sector')\nplt.legend()\nplt.grid(True)\nplt.show()",
      "outputs": []
    },
    {
      "id": "de56f9e9-ad01-43d8-82c4-fa10d2bcc0aa",
      "cell_type": "code",
      "metadata": {
        "noteable": {
          "cell_type": "code",
          "output_collection_id": "157e70ed-a737-4655-bc14-301b7d8d60fe"
        },
        "ExecuteTime": {
          "end_time": "2023-08-05T12:03:42.818868+00:00",
          "start_time": "2023-08-05T12:03:42.614842+00:00"
        }
      },
      "execution_count": null,
      "source": "# Define the sectors\nnorth = ['Piemonte', 'Valle d\\'Aosta', 'Lombardia', 'Trentino-Alto Adige', 'Veneto', 'Friuli-Venezia Giulia', 'Liguria', 'Emilia-Romagna']\ncenter = ['Toscana', 'Umbria', 'Marche', 'Lazio']\nsouth = ['Abruzzo', 'Molise', 'Campania', 'Puglia', 'Basilicata', 'Calabria']\nislands = ['Sicilia', 'Sardegna']\n\n# Create a new column 'sector' based on the region\ndf_data['sector'] = np.where(df_data['region'].isin(north), 'North',\n                        np.where(df_data['region'].isin(center), 'Center',\n                                np.where(df_data['region'].isin(south), 'South',\n                                        np.where(df_data['region'].isin(islands), 'Islands', 'Undefined'))))\n\n# Calculate the average temperature for each sector for each year\ndf_avg = df_data.groupby(['Year', 'sector'])['Temperature'].mean().reset_index()\n\n# Plot the results\nimport matplotlib.pyplot as plt\nplt.figure(figsize=(10, 6))\nfor sector in df_avg['sector'].unique():\n    data = df_avg[df_avg['sector'] == sector]\n    plt.plot(data['Year'], data['Temperature'], label=sector)\nplt.xlabel('Year')\nplt.ylabel('Average Temperature (°C)')\nplt.title('Average Temperature in Italy by Sector')\nplt.legend()\nplt.grid(True)\nplt.show()",
      "outputs": []
    },
    {
      "id": "988c470b-e8da-49da-aaee-1da825c9e9b5",
      "cell_type": "code",
      "metadata": {
        "noteable": {
          "cell_type": "code",
          "output_collection_id": "28b27499-9c59-40de-87f6-0925e5d22cbe"
        },
        "ExecuteTime": {
          "end_time": "2023-08-05T12:04:47.670391+00:00",
          "start_time": "2023-08-05T12:04:47.479325+00:00"
        }
      },
      "execution_count": null,
      "source": "# Map 'City' to 'Region'\ndf_data['Region'] = df_data['City'].map(province_to_region)\n\n# Define the sectors\nnorth = ['Piemonte', 'Valle d\\'Aosta', 'Lombardia', 'Trentino-Alto Adige', 'Veneto', 'Friuli-Venezia Giulia', 'Liguria', 'Emilia-Romagna']\ncenter = ['Toscana', 'Umbria', 'Marche', 'Lazio']\nsouth = ['Abruzzo', 'Molise', 'Campania', 'Puglia', 'Basilicata', 'Calabria']\nislands = ['Sicilia', 'Sardegna']\n\n# Create a new column 'sector' based on the region\ndf_data['sector'] = np.where(df_data['Region'].isin(north), 'North',\n                        np.where(df_data['Region'].isin(center), 'Center',\n                                np.where(df_data['Region'].isin(south), 'South',\n                                        np.where(df_data['Region'].isin(islands), 'Islands', 'Undefined'))))\n\n# Calculate the average temperature for each sector for each year\ndf_avg = df_data.groupby(['Year', 'sector'])['Temperature'].mean().reset_index()\n\n# Plot the results\nimport matplotlib.pyplot as plt\nplt.figure(figsize=(10, 6))\nfor sector in df_avg['sector'].unique():\n    data = df_avg[df_avg['sector'] == sector]\n    plt.plot(data['Year'], data['Temperature'], label=sector)\nplt.xlabel('Year')\nplt.ylabel('Average Temperature (°C)')\nplt.title('Average Temperature in Italy by Sector')\nplt.legend()\nplt.grid(True)\nplt.show()",
      "outputs": []
    },
    {
      "id": "7ac12e7c-42ce-4f85-8bc8-e9f80321d957",
      "cell_type": "code",
      "metadata": {
        "noteable": {
          "cell_type": "code",
          "output_collection_id": "d0c9bace-a08f-4954-b641-78e09304284b"
        },
        "ExecuteTime": {
          "end_time": "2023-08-05T12:05:31.205245+00:00",
          "start_time": "2023-08-05T12:05:31.010487+00:00"
        }
      },
      "execution_count": null,
      "source": "# Define the sectors\nnorth = ['Piemonte', 'Valle d\\'Aosta', 'Lombardia', 'Trentino-Alto Adige', 'Veneto', 'Friuli-Venezia Giulia', 'Liguria', 'Emilia-Romagna']\ncenter = ['Toscana', 'Umbria', 'Marche', 'Lazio']\nsouth = ['Abruzzo', 'Molise', 'Campania', 'Puglia', 'Basilicata', 'Calabria']\nislands = ['Sicilia', 'Sardegna']\n\n# Create a new column 'sector' based on the region\ndf_data['sector'] = np.where(df_data['Region'].isin(north), 'North',\n                        np.where(df_data['Region'].isin(center), 'Center',\n                                np.where(df_data['Region'].isin(south), 'South',\n                                        np.where(df_data['Region'].isin(islands), 'Islands', 'Undefined'))))\n\n# Calculate the average temperature for each sector for each year\ndf_avg = df_data.groupby(['Year', 'sector'])['Temperature'].mean().reset_index()\n\n# Plot the results\nimport matplotlib.pyplot as plt\nplt.figure(figsize=(10, 6))\nfor sector in df_avg['sector'].unique():\n    data = df_avg[df_avg['sector'] == sector]\n    plt.plot(data['Year'], data['Temperature'], label=sector)\nplt.xlabel('Year')\nplt.ylabel('Average Temperature (°C)')\nplt.title('Average Temperature in Italy by Sector')\nplt.legend()\nplt.grid(True)\nplt.show()",
      "outputs": []
    },
    {
      "id": "64032553-3095-49d4-95b2-fd31d923db04",
      "cell_type": "code",
      "metadata": {
        "noteable": {
          "cell_type": "code",
          "output_collection_id": "3c0bab0b-f42f-4e2d-a947-6dcbc497d610"
        },
        "ExecuteTime": {
          "end_time": "2023-08-05T12:06:14.723732+00:00",
          "start_time": "2023-08-05T12:06:14.533307+00:00"
        }
      },
      "execution_count": null,
      "source": "# Define the sectors\nnorth = ['Piemonte', 'Valle d\\'Aosta', 'Lombardia', 'Trentino-Alto Adige', 'Veneto', 'Friuli-Venezia Giulia', 'Liguria', 'Emilia-Romagna']\ncenter = ['Toscana', 'Umbria', 'Marche', 'Lazio']\nsouth = ['Abruzzo', 'Molise', 'Campania', 'Puglia', 'Basilicata', 'Calabria']\nislands = ['Sicilia', 'Sardegna']\n\n# Create a new column 'sector' based on the region\ndf_data['sector'] = np.where(df_data['Region'].isin(north), 'North',\n                        np.where(df_data['Region'].isin(center), 'Center',\n                                np.where(df_data['Region'].isin(south), 'South',\n                                        np.where(df_data['Region'].isin(islands), 'Islands', 'Undefined'))))\n\n# Calculate the average temperature for each sector for each year\ndf_avg = df_data.groupby(['Year', 'sector'])['Temperature'].mean().reset_index()\n\n# Plot the results\nimport matplotlib.pyplot as plt\nplt.figure(figsize=(10, 6))\nfor sector in df_avg['sector'].unique():\n    data = df_avg[df_avg['sector'] == sector]\n    plt.plot(data['Year'], data['Temperature'], label=sector)\nplt.xlabel('Year')\nplt.ylabel('Average Temperature (°C)')\nplt.title('Average Temperature in Italy by Sector')\nplt.legend()\nplt.grid(True)\nplt.show()",
      "outputs": []
    },
    {
      "id": "31153bd6-1fc8-4d56-8aa5-d652e31a7727",
      "cell_type": "code",
      "metadata": {
        "noteable": {
          "cell_type": "code",
          "output_collection_id": "7af99e6c-716c-4194-9e39-8e4d50662ce7"
        },
        "ExecuteTime": {
          "end_time": "2023-08-05T12:06:59.724631+00:00",
          "start_time": "2023-08-05T12:06:59.534206+00:00"
        }
      },
      "execution_count": null,
      "source": "# Define the sectors\nnorth = ['Piemonte', 'Valle d\\'Aosta', 'Lombardia', 'Trentino-Alto Adige', 'Veneto', 'Friuli-Venezia Giulia', 'Liguria', 'Emilia-Romagna']\ncenter = ['Toscana', 'Umbria', 'Marche', 'Lazio']\nsouth = ['Abruzzo', 'Molise', 'Campania', 'Puglia', 'Basilicata', 'Calabria']\nislands = ['Sicilia', 'Sardegna']\n\n# Create a new column 'sector' based on the region\ndf_data['sector'] = np.where(df_data['Region'].isin(north), 'North',\n                        np.where(df_data['Region'].isin(center), 'Center',\n                                np.where(df_data['Region'].isin(south), 'South',\n                                        np.where(df_data['Region'].isin(islands), 'Islands', 'Undefined'))))\n\n# Calculate the average temperature for each sector for each year\ndf_avg = df_data.groupby(['Year', 'sector'])['Temperature'].mean().reset_index()\n\n# Plot the results\nimport matplotlib.pyplot as plt\nplt.figure(figsize=(10, 6))\nfor sector in df_avg['sector'].unique():\n    data = df_avg[df_avg['sector'] == sector]\n    plt.plot(data['Year'], data['Temperature'], label=sector)\nplt.xlabel('Year')\nplt.ylabel('Average Temperature (°C)')\nplt.title('Average Temperature in Italy by Sector')\nplt.legend()\nplt.grid(True)\nplt.show()",
      "outputs": []
    },
    {
      "id": "d253aa1c-9fb7-4d15-8954-e023c5fa07a3",
      "cell_type": "code",
      "metadata": {
        "noteable": {
          "cell_type": "code",
          "output_collection_id": "def6b3c2-da52-4508-8677-2fb8191a4d0b"
        },
        "ExecuteTime": {
          "end_time": "2023-08-05T12:07:45.217886+00:00",
          "start_time": "2023-08-05T12:07:45.027880+00:00"
        }
      },
      "execution_count": null,
      "source": "# Define the sectors\nnorth = ['Piemonte', 'Valle d\\'Aosta', 'Lombardia', 'Trentino-Alto Adige', 'Veneto', 'Friuli-Venezia Giulia', 'Liguria', 'Emilia-Romagna']\ncenter = ['Toscana', 'Umbria', 'Marche', 'Lazio']\nsouth = ['Abruzzo', 'Molise', 'Campania', 'Puglia', 'Basilicata', 'Calabria']\nislands = ['Sicilia', 'Sardegna']\n\n# Create a new column 'sector' based on the region\ndf_data['sector'] = np.where(df_data['Region'].isin(north), 'North',\n                        np.where(df_data['Region'].isin(center), 'Center',\n                                np.where(df_data['Region'].isin(south), 'South',\n                                        np.where(df_data['Region'].isin(islands), 'Islands', 'Undefined'))))\n\n# Calculate the average temperature for each sector for each year\ndf_avg = df_data.groupby(['Year', 'sector'])['Temperature'].mean().reset_index()\n\n# Plot the results\nimport matplotlib.pyplot as plt\nplt.figure(figsize=(10, 6))\nfor sector in df_avg['sector'].unique():\n    data = df_avg[df_avg['sector'] == sector]\n    plt.plot(data['Year'], data['Temperature'], label=sector)\nplt.xlabel('Year')\nplt.ylabel('Average Temperature (°C)')\nplt.title('Average Temperature in Italy by Sector')\nplt.legend()\nplt.grid(True)\nplt.show()",
      "outputs": []
    },
    {
      "id": "75fde32c-8c19-4813-b36f-f5c319164a8d",
      "cell_type": "code",
      "metadata": {
        "noteable": {
          "cell_type": "code",
          "output_collection_id": "580b71f8-dbc0-4a1f-b4a3-eb3759da9ab3"
        },
        "ExecuteTime": {
          "end_time": "2023-08-06T19:54:01.850382+00:00",
          "start_time": "2023-08-06T19:54:01.130474+00:00"
        }
      },
      "execution_count": null,
      "source": "# Re-import the dataset\nimport pandas as pd\nimport numpy as np\nimport matplotlib.pyplot as plt\n\n# Load the data\ndf_data = pd.read_excel('Tavole-Dati-Meteoclimatici-Anno-2021.xlsx', sheet_name='Tavola 1', skiprows=4)\ndf_data.columns = ['City'] + list(df_data.columns[1:])\n\n# Map 'City' to 'Region'\ndf_data['Region'] = df_data['City'].map(province_to_region)\n\n# Define the sectors\nnorth = ['Piemonte', 'Valle d\\'Aosta', 'Lombardia', 'Trentino-Alto Adige', 'Veneto', 'Friuli-Venezia Giulia', 'Liguria', 'Emilia-Romagna']\ncenter = ['Toscana', 'Umbria', 'Marche', 'Lazio']\nsouth = ['Abruzzo', 'Molise', 'Campania', 'Puglia', 'Basilicata', 'Calabria']\nislands = ['Sicilia', 'Sardegna']\n\n# Create a new column 'sector' based on the region\ndf_data['sector'] = np.where(df_data['Region'].isin(north), 'North',\n                        np.where(df_data['Region'].isin(center), 'Center',\n                                np.where(df_data['Region'].isin(south), 'South',\n                                        np.where(df_data['Region'].isin(islands), 'Islands', 'Undefined'))))\n\n# Calculate the average temperature for each sector for each year\ndf_avg = df_data.groupby(['Year', 'sector'])['Temperature'].mean().reset_index()\n\n# Plot the results\nplt.figure(figsize=(12, 7))\nfor sector in df_avg['sector'].unique():\n    data = df_avg[df_avg['sector'] == sector]\n    plt.plot(data['Year'], data['Temperature'], label=sector, marker='o')\nplt.xlabel('Year')\nplt.ylabel('Average Temperature (°C)')\nplt.title('Average Temperature in Italy by Sector')\nplt.legend()\nplt.grid(True)\nplt.tight_layout()\nplt.show()",
      "outputs": []
    },
    {
      "id": "fed85fa5-ec90-4ee5-aa2e-d1572c5e7fee",
      "cell_type": "code",
      "metadata": {
        "noteable": {
          "cell_type": "code",
          "output_collection_id": "3c0b998c-b68e-4f1f-9967-21071f753942"
        },
        "ExecuteTime": {
          "end_time": "2023-08-06T19:55:01.711295+00:00",
          "start_time": "2023-08-06T19:55:01.308255+00:00"
        }
      },
      "execution_count": null,
      "source": "# Load the data from the correct sheet\ndf_data = pd.read_excel('Tavole-Dati-Meteoclimatici-Anno-2021.xlsx', sheet_name='Tavola 1', skiprows=4)\ndf_data.columns = ['City'] + list(df_data.columns[1:])\n\n# Map 'City' to 'Region'\ndf_data['Region'] = df_data['City'].map(province_to_region)\n\n# Define the sectors\nnorth = ['Piemonte', 'Valle d\\'Aosta', 'Lombardia', 'Trentino-Alto Adige', 'Veneto', 'Friuli-Venezia Giulia', 'Liguria', 'Emilia-Romagna']\ncenter = ['Toscana', 'Umbria', 'Marche', 'Lazio']\nsouth = ['Abruzzo', 'Molise', 'Campania', 'Puglia', 'Basilicata', 'Calabria']\nislands = ['Sicilia', 'Sardegna']\n\n# Create a new column 'sector' based on the region\ndf_data['sector'] = np.where(df_data['Region'].isin(north), 'North',\n                        np.where(df_data['Region'].isin(center), 'Center',\n                                np.where(df_data['Region'].isin(south), 'South',\n                                        np.where(df_data['Region'].isin(islands), 'Islands', 'Undefined'))))\n\n# Calculate the average temperature for each sector for each year\ndf_avg = df_data.groupby(['Year', 'sector'])['Temperature'].mean().reset_index()\n\n# Plot the results\nplt.figure(figsize=(12, 7))\nfor sector in df_avg['sector'].unique():\n    data = df_avg[df_avg['sector'] == sector]\n    plt.plot(data['Year'], data['Temperature'], label=sector, marker='o')\nplt.xlabel('Year')\nplt.ylabel('Average Temperature (°C)')\nplt.title('Average Temperature in Italy by Sector')\nplt.legend()\nplt.grid(True)\nplt.tight_layout()\nplt.show()",
      "outputs": []
    },
    {
      "id": "c8b076d2-27f2-4db5-a478-53de07b78cd5",
      "cell_type": "code",
      "metadata": {
        "noteable": {
          "cell_type": "code",
          "output_collection_id": "9974c4c7-44ab-4027-9fbd-02b251904b79"
        },
        "ExecuteTime": {
          "end_time": "2023-08-06T19:56:01.748049+00:00",
          "start_time": "2023-08-06T19:56:01.375931+00:00"
        }
      },
      "execution_count": null,
      "source": "# Load the data from the correct sheet\ndf_data = pd.read_excel('Tavole-Dati-Meteoclimatici-Anno-2021.xlsx', sheet_name='Tavola_1', skiprows=4)\ndf_data.columns = ['City'] + list(df_data.columns[1:])\n\n# Map 'City' to 'Region'\ndf_data['Region'] = df_data['City'].map(province_to_region)\n\n# Define the sectors\nnorth = ['Piemonte', 'Valle d\\'Aosta', 'Lombardia', 'Trentino-Alto Adige', 'Veneto', 'Friuli-Venezia Giulia', 'Liguria', 'Emilia-Romagna']\ncenter = ['Toscana', 'Umbria', 'Marche', 'Lazio']\nsouth = ['Abruzzo', 'Molise', 'Campania', 'Puglia', 'Basilicata', 'Calabria']\nislands = ['Sicilia', 'Sardegna']\n\n# Create a new column 'sector' based on the region\ndf_data['sector'] = np.where(df_data['Region'].isin(north), 'North',\n                        np.where(df_data['Region'].isin(center), 'Center',\n                                np.where(df_data['Region'].isin(south), 'South',\n                                        np.where(df_data['Region'].isin(islands), 'Islands', 'Undefined'))))\n\n# Calculate the average temperature for each sector for each year\ndf_avg = df_data.groupby(['Year', 'sector'])['Temperature'].mean().reset_index()\n\n# Plot the results\nplt.figure(figsize=(12, 7))\nfor sector in df_avg['sector'].unique():\n    data = df_avg[df_avg['sector'] == sector]\n    plt.plot(data['Year'], data['Temperature'], label=sector, marker='o')\nplt.xlabel('Year')\nplt.ylabel('Average Temperature (°C)')\nplt.title('Average Temperature in Italy by Sector')\nplt.legend()\nplt.grid(True)\nplt.tight_layout()\nplt.show()",
      "outputs": []
    },
    {
      "id": "61dbd89d-8e4c-404e-b007-2cdc6b699da6",
      "cell_type": "code",
      "metadata": {
        "noteable": {
          "cell_type": "code",
          "output_collection_id": "f40c3d43-c086-424e-b655-08a368b28f0e"
        },
        "ExecuteTime": {
          "end_time": "2023-08-06T20:01:55.193451+00:00",
          "start_time": "2023-08-06T20:01:55.028262+00:00"
        }
      },
      "execution_count": null,
      "source": "# Define the mapping from province to region (Part 1)\nprovince_to_region_part1 = {\n    'Torino': 'Piemonte', 'Vercelli': 'Piemonte', 'Biella': 'Piemonte', 'Alessandria': 'Piemonte', 'Asti': 'Piemonte', 'Novara': 'Piemonte', 'Cuneo': 'Piemonte',\n    'Valle d\\'Aosta': 'Valle d\\'Aosta',\n    'Milano': 'Lombardia', 'Varese': 'Lombardia', 'Como': 'Lombardia', 'Sondrio': 'Lombardia', 'Bergamo': 'Lombardia', 'Brescia': 'Lombardia', 'Pavia': 'Lombardia', 'Cremona': 'Lombardia', 'Mantova': 'Lombardia', 'Lecco': 'Lombardia', 'Lodi': 'Lombardia', 'Monza e della Brianza': 'Lombardia',\n    'Bolzano': 'Trentino-Alto Adige', 'Trento': 'Trentino-Alto Adige',\n    'Verona': 'Veneto', 'Vicenza': 'Veneto', 'Belluno': 'Veneto', 'Treviso': 'Veneto', 'Venezia': 'Veneto', 'Padova': 'Veneto', 'Rovigo': 'Veneto',\n    'Udine': 'Friuli-Venezia Giulia', 'Gorizia': 'Friuli-Venezia Giulia', 'Trieste': 'Friuli-Venezia Giulia', 'Pordenone': 'Friuli-Venezia Giulia',\n    'Imperia': 'Liguria', 'Savona': 'Liguria', 'Genova': 'Liguria', 'La Spezia': 'Liguria'\n}\nprovince_to_region_part1",
      "outputs": []
    },
    {
      "id": "7e83ef4d-822d-49a8-8d9f-485949c617d2",
      "cell_type": "code",
      "metadata": {
        "noteable": {
          "cell_type": "code",
          "output_collection_id": "ba005927-631a-48c2-853a-40843c07ccd7"
        },
        "ExecuteTime": {
          "end_time": "2023-08-06T20:03:19.788312+00:00",
          "start_time": "2023-08-06T20:03:19.615391+00:00"
        }
      },
      "execution_count": null,
      "source": "# Define the mapping from province to region (Part 2)\nprovince_to_region_part2 = {\n    'Piacenza': 'Emilia-Romagna', 'Parma': 'Emilia-Romagna', 'Reggio nell\\'Emilia': 'Emilia-Romagna', 'Modena': 'Emilia-Romagna', 'Bologna': 'Emilia-Romagna', 'Ferrara': 'Emilia-Romagna', 'Ravenna': 'Emilia-Romagna', 'Forlì-Cesena': 'Emilia-Romagna', 'Rimini': 'Emilia-Romagna',\n    'Massa e Carrara': 'Toscana', 'Lucca': 'Toscana', 'Pistoia': 'Toscana', 'Firenze': 'Toscana', 'Prato': 'Toscana', 'Livorno': 'Toscana', 'Pisa': 'Toscana', 'Arezzo': 'Toscana', 'Siena': 'Toscana', 'Grosseto': 'Toscana',\n    'Perugia': 'Umbria', 'Terni': 'Umbria',\n    'Pesaro e Urbino': 'Marche', 'Ancona': 'Marche', 'Macerata': 'Marche', 'Ascoli Piceno': 'Marche', 'Fermo': 'Marche',\n    'Viterbo': 'Lazio', 'Rieti': 'Lazio', 'Roma': 'Lazio', 'Latina': 'Lazio', 'Frosinone': 'Lazio',\n    'L\\'Aquila': 'Abruzzo', 'Teramo': 'Abruzzo', 'Pescara': 'Abruzzo', 'Chieti': 'Abruzzo',\n    'Campobasso': 'Molise', 'Isernia': 'Molise',\n    'Caserta': 'Campania', 'Benevento': 'Campania', 'Napoli': 'Campania', 'Avellino': 'Campania', 'Salerno': 'Campania',\n    'Foggia': 'Puglia', 'Bari': 'Puglia', 'Taranto': 'Puglia', 'Brindisi': 'Puglia', 'Lecce': 'Puglia', 'Barletta-Andria-Trani': 'Puglia',\n    'Potenza': 'Basilicata', 'Matera': 'Basilicata',\n    'Cosenza': 'Calabria', 'Catanzaro': 'Calabria', 'Reggio di Calabria': 'Calabria', 'Crotone': 'Calabria', 'Vibo Valentia': 'Calabria',\n    'Palermo': 'Sicilia', 'Messina': 'Sicilia', 'Catania': 'Sicilia', 'Syracuse': 'Sicilia', 'Agrigento': 'Sicilia', 'Caltanissetta': 'Sicilia', 'Enna': 'Sicilia', 'Ragusa': 'Sicilia', 'Trapani': 'Sicilia',\n    'Cagliari': 'Sardegna', 'Nuoro': 'Sardegna', 'Oristano': 'Sardegna', 'Sassari': 'Sardegna', 'South Sardinia': 'Sardegna', 'Olbia-Tempio': 'Sardegna', 'Ogliastra': 'Sardegna', 'Medio Campidano': 'Sardegna', 'Carbonia-Iglesias': 'Sardegna'\n}\nprovince_to_region_part2",
      "outputs": []
    }
  ]
}