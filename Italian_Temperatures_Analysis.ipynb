{
  "nbformat": 4,
  "nbformat_minor": 5,
  "metadata": {
    "noteable-chatgpt": {
      "create_notebook": {
        "openai_conversation_id": "eaee611d-6cc6-5f36-9b62-cfa371307b93",
        "openai_ephemeral_user_id": "be039cd3-9340-5470-933a-47ea4a13b329"
      }
    },
    "kernel_info": {
      "name": "python3"
    },
    "noteable": {
      "last_transaction_id": "fdf06aa9-809c-4de3-ba60-8d964ecbcb3f"
    },
    "kernelspec": {
      "display_name": "Python 3.9",
      "language": "python",
      "name": "python3"
    },
    "selected_hardware_size": "small"
  },
  "cells": [
    {
      "id": "45e4f14a-6b5e-4956-83ed-9ce188230e8c",
      "cell_type": "code",
      "metadata": {
        "noteable": {
          "cell_type": "code",
          "output_collection_id": "83521d2d-8f7b-4879-9486-97adbc5afc53"
        },
        "ExecuteTime": {
          "end_time": "2023-08-06T07:12:26.341005+00:00",
          "start_time": "2023-08-06T07:12:26.065677+00:00"
        }
      },
      "execution_count": null,
      "source": "import pandas as pd\nfile_path = 'Tavole-Dati-Meteoclimatici-Anno-2021.xlsx'\nxls = pd.ExcelFile(file_path)\nsheet_names = xls.sheet_names\nsheet_names",
      "outputs": []
    },
    {
      "id": "6a9d9698-3651-4bfd-bb74-aa784efdb0a2",
      "cell_type": "code",
      "metadata": {
        "noteable": {
          "cell_type": "code",
          "output_collection_id": "6123d35c-860f-481f-92e1-4faaf6a7fedc"
        },
        "ExecuteTime": {
          "end_time": "2023-08-06T07:24:45.831208+00:00",
          "start_time": "2023-08-06T07:24:45.017707+00:00"
        },
        "datalink": {
          "cd42676e-64e7-4a7b-bc79-fc2ddd546d1b": {
            "applied_filters": [],
            "dataframe_info": {
              "default_index_used": true,
              "orig_num_cols": 3,
              "orig_num_rows": 5,
              "orig_size_bytes": 160,
              "truncated_num_cols": 3,
              "truncated_num_rows": 5,
              "truncated_size_bytes": 160,
              "truncated_string_columns": []
            },
            "display_id": "cd42676e-64e7-4a7b-bc79-fc2ddd546d1b",
            "dx_settings": {
              "ALLOW_NOTEABLE_ATTRS": true,
              "COLUMN_SAMPLING_METHOD": "outer",
              "DB_LOCATION": ":memory:",
              "DEV_MODE": false,
              "DISPLAY_MAX_COLUMNS": 100,
              "DISPLAY_MAX_ROWS": 50000,
              "DISPLAY_MODE": "simple",
              "ENABLE_ASSIGNMENT": true,
              "ENABLE_DATALINK": true,
              "FLATTEN_COLUMN_VALUES": true,
              "FLATTEN_INDEX_VALUES": false,
              "GENERATE_DEX_METADATA": false,
              "HTML_TABLE_SCHEMA": false,
              "LOG_LEVEL": 30,
              "MAX_RENDER_SIZE_BYTES": 104857600,
              "MAX_STRING_LENGTH": 250,
              "NUM_PAST_SAMPLES_TRACKED": 3,
              "RANDOM_STATE": 12648430,
              "RESET_INDEX_VALUES": false,
              "ROW_SAMPLING_METHOD": "random",
              "SAMPLING_FACTOR": 0.1,
              "SAMPLING_METHOD": "random",
              "STRINGIFY_COLUMN_VALUES": true,
              "STRINGIFY_INDEX_VALUES": false
            },
            "sample_history": [],
            "sampling_time": "2023-08-06T07:14:56.945224",
            "user_variable_name": null,
            "variable_name": "unk_dataframe_ec6a94b0edf14e439856e8ce7f3eab4a"
          }
        }
      },
      "execution_count": null,
      "source": "sheet_name = 'Tavola_1'\nxls_df = pd.read_excel(file_path, sheet_name=sheet_name, header=3)\ntemperature_data = xls_df.iloc[:, :17]\ntemperature_data.columns = ['Province'] + [f'Year_{year}' for year in range(2006, 2022)]\ntemperature_data = italy_data.melt(id_vars=['Province'], var_name='Year', value_name='Temperature')\ntemperature_data['Year'].str.extract('Year_(\\d+)').astype(int)\ntemperature_data.head()",
      "outputs": []
    },
    {
      "id": "00538b76-8e5e-494f-a398-2091f76d780e",
      "cell_type": "code",
      "metadata": {
        "noteable": {
          "cell_type": "code",
          "output_collection_id": "52405495-7a0b-4285-ac21-fba593b8ee41"
        },
        "ExecuteTime": {
          "end_time": "2023-08-06T07:22:14.162369+00:00",
          "start_time": "2023-08-06T07:22:13.975740+00:00"
        },
        "datalink": {
          "6d8f4db6-e486-42bc-bb18-381f527794a7": {
            "applied_filters": [],
            "dataframe_info": {
              "default_index_used": true,
              "orig_num_cols": 4,
              "orig_num_rows": 5,
              "orig_size_bytes": 200,
              "truncated_num_cols": 4,
              "truncated_num_rows": 5,
              "truncated_size_bytes": 200,
              "truncated_string_columns": []
            },
            "display_id": "6d8f4db6-e486-42bc-bb18-381f527794a7",
            "dx_settings": {
              "ALLOW_NOTEABLE_ATTRS": true,
              "COLUMN_SAMPLING_METHOD": "outer",
              "DB_LOCATION": ":memory:",
              "DEV_MODE": false,
              "DISPLAY_MAX_COLUMNS": 100,
              "DISPLAY_MAX_ROWS": 50000,
              "DISPLAY_MODE": "simple",
              "ENABLE_ASSIGNMENT": true,
              "ENABLE_DATALINK": true,
              "FLATTEN_COLUMN_VALUES": true,
              "FLATTEN_INDEX_VALUES": false,
              "GENERATE_DEX_METADATA": false,
              "HTML_TABLE_SCHEMA": false,
              "LOG_LEVEL": 30,
              "MAX_RENDER_SIZE_BYTES": 104857600,
              "MAX_STRING_LENGTH": 250,
              "NUM_PAST_SAMPLES_TRACKED": 3,
              "RANDOM_STATE": 12648430,
              "RESET_INDEX_VALUES": false,
              "ROW_SAMPLING_METHOD": "random",
              "SAMPLING_FACTOR": 0.1,
              "SAMPLING_METHOD": "random",
              "STRINGIFY_COLUMN_VALUES": true,
              "STRINGIFY_INDEX_VALUES": false
            },
            "sample_history": [],
            "sampling_time": "2023-08-05T04:59:12.873057",
            "user_variable_name": null,
            "variable_name": "unk_dataframe_6223969fabe548aba1985dc8d80c268a"
          },
          "267629a9-7268-498b-a3e1-1cd6c4b154ad": {
            "applied_filters": [],
            "dataframe_info": {
              "default_index_used": true,
              "orig_num_cols": 4,
              "orig_num_rows": 5,
              "orig_size_bytes": 200,
              "truncated_num_cols": 4,
              "truncated_num_rows": 5,
              "truncated_size_bytes": 200,
              "truncated_string_columns": []
            },
            "display_id": "267629a9-7268-498b-a3e1-1cd6c4b154ad",
            "dx_settings": {
              "ALLOW_NOTEABLE_ATTRS": true,
              "COLUMN_SAMPLING_METHOD": "outer",
              "DB_LOCATION": ":memory:",
              "DEV_MODE": false,
              "DISPLAY_MAX_COLUMNS": 100,
              "DISPLAY_MAX_ROWS": 50000,
              "DISPLAY_MODE": "simple",
              "ENABLE_ASSIGNMENT": true,
              "ENABLE_DATALINK": true,
              "FLATTEN_COLUMN_VALUES": true,
              "FLATTEN_INDEX_VALUES": false,
              "GENERATE_DEX_METADATA": false,
              "HTML_TABLE_SCHEMA": false,
              "LOG_LEVEL": 30,
              "MAX_RENDER_SIZE_BYTES": 104857600,
              "MAX_STRING_LENGTH": 250,
              "NUM_PAST_SAMPLES_TRACKED": 3,
              "RANDOM_STATE": 12648430,
              "RESET_INDEX_VALUES": false,
              "ROW_SAMPLING_METHOD": "random",
              "SAMPLING_FACTOR": 0.1,
              "SAMPLING_METHOD": "random",
              "STRINGIFY_COLUMN_VALUES": true,
              "STRINGIFY_INDEX_VALUES": false
            },
            "sample_history": [],
            "sampling_time": "2023-08-05T11:48:34.170175",
            "user_variable_name": null,
            "variable_name": "unk_dataframe_fa4d405eefca41f480475ec9eef03dc5"
          }
        }
      },
      "execution_count": null,
      "source": "precipitation_data = xls_df.iloc[:, [0] + list(range(18, xls_df.shape[1]))]\nprecipitation_data.columns = ['Province'] + [str(year) for year in range(2006, 2022)]\nprecipitation_data = precipitation_data.melt(id_vars=['Province'], var_name='Year', value_name='Precipitation')\nprecipitation_data['Year'] = precipitation_data['Year'].astype(int)\nitaly_weather_data = pd.merge(temperature_data, precipitation_data, on=['Province', 'Year'])\nitaly_weather_data.head()",
      "outputs": []
    },
    {
      "id": "65b60f97-0ef9-4d86-9ca0-2c0e97ff01c7",
      "cell_type": "code",
      "metadata": {
        "noteable": {
          "cell_type": "code",
          "output_collection_id": "ec242ae1-ee1f-4237-b065-1510033ca1f6"
        },
        "ExecuteTime": {
          "end_time": "2023-08-05T11:48:44.213418+00:00",
          "start_time": "2023-08-05T11:48:44.048441+00:00"
        }
      },
      "execution_count": null,
      "source": "northern_region_mapping = {\n    'Alessandria': 'Piedmont', 'Asti': 'Piedmont', 'Biella': 'Piedmont', 'Cuneo': 'Piedmont', 'Novara': 'Piedmont', 'Turin': 'Piedmont', 'Verbano-Cusio-Ossola': 'Piedmont', 'Vercelli': 'Piedmont',\n    'Bergamo': 'Lombardy', 'Brescia': 'Lombardy', 'Como': 'Lombardy', 'Cremona': 'Lombardy', 'Lecco': 'Lombardy', 'Lodi': 'Lombardy', 'Mantua': 'Lombardy', 'Milan': 'Lombardy', 'Monza and Brianza': 'Lombardy', 'Pavia': 'Lombardy', 'Sondrio': 'Lombardy', 'Varese': 'Lombardy',\n    'Bologna': 'Emilia-Romagna', 'Ferrara': 'Emilia-Romagna', 'Forlì-Cesena': 'Emilia-Romagna', 'Modena': 'Emilia-Romagna', 'Parma': 'Emilia-Romagna', 'Piacenza': 'Emilia-Romagna', 'Ravenna': 'Emilia-Romagna', 'Reggio Emilia': 'Emilia-Romagna', 'Rimini': 'Emilia-Romagna',\n    'Genoa': 'Liguria', 'Imperia': 'Liguria', 'La Spezia': 'Liguria', 'Savona': 'Liguria',\n    'Bolzano': 'Trentino-Alto Adige', 'Trento': 'Trentino-Alto Adige',\n    'Belluno': 'Veneto', 'Padua': 'Veneto', 'Rovigo': 'Veneto', 'Treviso': 'Veneto', 'Venice': 'Veneto', 'Verona': 'Veneto', 'Vicenza': 'Veneto',\n    'Gorizia': 'Friuli-Venezia Giulia', 'Pordenone': 'Friuli-Venezia Giulia', 'Trieste': 'Friuli-Venezia Giulia', 'Udine': 'Friuli-Venezia Giulia',\n    'Aosta': 'Aosta Valley'\n}\nnorthern_region_mapping",
      "outputs": []
    },
    {
      "id": "d95bffd2-f989-4a7d-bd59-ec1ba7f0ce55",
      "cell_type": "code",
      "metadata": {
        "noteable": {
          "cell_type": "code",
          "output_collection_id": "f341197a-1dab-401b-89fe-94b16e2f66ff"
        },
        "ExecuteTime": {
          "end_time": "2023-08-05T11:48:55.402192+00:00",
          "start_time": "2023-08-05T11:48:55.236157+00:00"
        }
      },
      "execution_count": null,
      "source": "central_region_mapping = {\n    'Ancona': 'Marche', 'Ascoli Piceno': 'Marche', 'Fermo': 'Marche', 'Macerata': 'Marche', 'Pesaro and Urbino': 'Marche',\n    'Arezzo': 'Tuscany', 'Florence': 'Tuscany', 'Grosseto': 'Tuscany', 'Livorno': 'Tuscany', 'Lucca': 'Tuscany', 'Massa and Carrara': 'Tuscany', 'Pisa': 'Tuscany', 'Pistoia': 'Tuscany', 'Prato': 'Tuscany', 'Siena': 'Tuscany',\n    'Frosinone': 'Lazio', 'Latina': 'Lazio', 'Rieti': 'Lazio', 'Rome': 'Lazio', 'Viterbo': 'Lazio',\n    'Perugia': 'Umbria', 'Terni': 'Umbria'\n}\nsouthern_region_mapping = {\n    'Avellino': 'Campania', 'Benevento': 'Campania', 'Caserta': 'Campania', 'Naples': 'Campania', 'Salerno': 'Campania',\n    'Bari': 'Apulia', 'Barletta-Andria-Trani': 'Apulia', 'Brindisi': 'Apulia', 'Foggia': 'Apulia', 'Lecce': 'Apulia', 'Taranto': 'Apulia',\n    'Matera': 'Basilicata', 'Potenza': 'Basilicata',\n    'Catanzaro': 'Calabria', 'Cosenza': 'Calabria', 'Crotone': 'Calabria', 'Reggio Calabria': 'Calabria', 'Vibo Valentia': 'Calabria',\n    'Agrigento': 'Sicily', 'Caltanissetta': 'Sicily', 'Catania': 'Sicily', 'Enna': 'Sicily', 'Messina': 'Sicily', 'Palermo': 'Sicily', 'Ragusa': 'Sicily', 'Syracuse': 'Sicily', 'Trapani': 'Sicily'\n}\ninsular_region_mapping = {\n    'Cagliari': 'Sardinia', 'Nuoro': 'Sardinia', 'Oristano': 'Sardinia', 'Sassari': 'Sardinia', 'South Sardinia': 'Sardinia'\n}\ncentral_region_mapping, southern_region_mapping, insular_region_mapping",
      "outputs": []
    },
    {
      "id": "7d790212-ed4b-41d6-aa59-f06161134a7e",
      "cell_type": "code",
      "metadata": {
        "noteable": {
          "cell_type": "code",
          "output_collection_id": "0b0f508b-61a6-4b46-bf99-700c136b674a"
        },
        "ExecuteTime": {
          "end_time": "2023-08-05T11:49:06.971682+00:00",
          "start_time": "2023-08-05T11:49:06.747091+00:00"
        },
        "datalink": {
          "ef7ffb58-b3b2-4985-9ed2-f33e3b05ea4f": {
            "applied_filters": [],
            "dataframe_info": {
              "default_index_used": true,
              "orig_num_cols": 6,
              "orig_num_rows": 5,
              "orig_size_bytes": 280,
              "truncated_num_cols": 6,
              "truncated_num_rows": 5,
              "truncated_size_bytes": 280,
              "truncated_string_columns": []
            },
            "display_id": "ef7ffb58-b3b2-4985-9ed2-f33e3b05ea4f",
            "dx_settings": {
              "ALLOW_NOTEABLE_ATTRS": true,
              "COLUMN_SAMPLING_METHOD": "outer",
              "DB_LOCATION": ":memory:",
              "DEV_MODE": false,
              "DISPLAY_MAX_COLUMNS": 100,
              "DISPLAY_MAX_ROWS": 50000,
              "DISPLAY_MODE": "simple",
              "ENABLE_ASSIGNMENT": true,
              "ENABLE_DATALINK": true,
              "FLATTEN_COLUMN_VALUES": true,
              "FLATTEN_INDEX_VALUES": false,
              "GENERATE_DEX_METADATA": false,
              "HTML_TABLE_SCHEMA": false,
              "LOG_LEVEL": 30,
              "MAX_RENDER_SIZE_BYTES": 104857600,
              "MAX_STRING_LENGTH": 250,
              "NUM_PAST_SAMPLES_TRACKED": 3,
              "RANDOM_STATE": 12648430,
              "RESET_INDEX_VALUES": false,
              "ROW_SAMPLING_METHOD": "random",
              "SAMPLING_FACTOR": 0.1,
              "SAMPLING_METHOD": "random",
              "STRINGIFY_COLUMN_VALUES": true,
              "STRINGIFY_INDEX_VALUES": false
            },
            "sample_history": [],
            "sampling_time": "2023-08-05T05:01:21.952083",
            "user_variable_name": null,
            "variable_name": "unk_dataframe_58b9e3a12f4842f7a567e783abc0ebc1"
          },
          "0e24c25d-c7d3-4de4-836f-fb478205f85f": {
            "applied_filters": [],
            "dataframe_info": {
              "default_index_used": true,
              "orig_num_cols": 6,
              "orig_num_rows": 5,
              "orig_size_bytes": 280,
              "truncated_num_cols": 6,
              "truncated_num_rows": 5,
              "truncated_size_bytes": 280,
              "truncated_string_columns": []
            },
            "display_id": "0e24c25d-c7d3-4de4-836f-fb478205f85f",
            "dx_settings": {
              "ALLOW_NOTEABLE_ATTRS": true,
              "COLUMN_SAMPLING_METHOD": "outer",
              "DB_LOCATION": ":memory:",
              "DEV_MODE": false,
              "DISPLAY_MAX_COLUMNS": 100,
              "DISPLAY_MAX_ROWS": 50000,
              "DISPLAY_MODE": "simple",
              "ENABLE_ASSIGNMENT": true,
              "ENABLE_DATALINK": true,
              "FLATTEN_COLUMN_VALUES": true,
              "FLATTEN_INDEX_VALUES": false,
              "GENERATE_DEX_METADATA": false,
              "HTML_TABLE_SCHEMA": false,
              "LOG_LEVEL": 30,
              "MAX_RENDER_SIZE_BYTES": 104857600,
              "MAX_STRING_LENGTH": 250,
              "NUM_PAST_SAMPLES_TRACKED": 3,
              "RANDOM_STATE": 12648430,
              "RESET_INDEX_VALUES": false,
              "ROW_SAMPLING_METHOD": "random",
              "SAMPLING_FACTOR": 0.1,
              "SAMPLING_METHOD": "random",
              "STRINGIFY_COLUMN_VALUES": true,
              "STRINGIFY_INDEX_VALUES": false
            },
            "sample_history": [],
            "sampling_time": "2023-08-05T11:49:06.814563",
            "user_variable_name": null,
            "variable_name": "unk_dataframe_90b1f681f6c84f92ba8e333582c5bd9d"
          }
        }
      },
      "execution_count": null,
      "source": "# Combine all region mappings\nregion_mapping = {**northern_region_mapping, **central_region_mapping, **southern_region_mapping, **insular_region_mapping}\nitaly_weather_data['Region'] = italy_weather_data['Province'].map(region_mapping)\n\n# Define sector mapping based on region\nsector_mapping = {\n    'Piedmont': 'Northern', 'Lombardy': 'Northern', 'Emilia-Romagna': 'Northern', 'Liguria': 'Northern', 'Trentino-Alto Adige': 'Northern', 'Veneto': 'Northern', 'Friuli-Venezia Giulia': 'Northern', 'Aosta Valley': 'Northern',\n    'Marche': 'Central', 'Tuscany': 'Central', 'Lazio': 'Central', 'Umbria': 'Central',\n    'Campania': 'Southern', 'Apulia': 'Southern', 'Basilicata': 'Southern', 'Calabria': 'Southern', 'Sicily': 'Southern',\n    'Sardinia': 'Insular'\n}\nitaly_weather_data['Sector'] = italy_weather_data['Region'].map(sector_mapping)\nitaly_weather_data.head()",
      "outputs": []
    },
    {
      "id": "af8f45db-ffcf-4a16-992e-44aba9ead819",
      "cell_type": "code",
      "metadata": {
        "noteable": {
          "cell_type": "code",
          "output_collection_id": "076724ba-fb92-4663-ae0f-714e01e849f7"
        },
        "ExecuteTime": {
          "end_time": "2023-08-05T11:49:19.702246+00:00",
          "start_time": "2023-08-05T11:49:19.483161+00:00"
        },
        "datalink": {
          "b5b0a34a-54a5-4dd2-978f-063173588e39": {
            "applied_filters": [],
            "dataframe_info": {
              "default_index_used": true,
              "orig_num_cols": 6,
              "orig_num_rows": 5,
              "orig_size_bytes": 280,
              "truncated_num_cols": 6,
              "truncated_num_rows": 5,
              "truncated_size_bytes": 280,
              "truncated_string_columns": []
            },
            "display_id": "b5b0a34a-54a5-4dd2-978f-063173588e39",
            "dx_settings": {
              "ALLOW_NOTEABLE_ATTRS": true,
              "COLUMN_SAMPLING_METHOD": "outer",
              "DB_LOCATION": ":memory:",
              "DEV_MODE": false,
              "DISPLAY_MAX_COLUMNS": 100,
              "DISPLAY_MAX_ROWS": 50000,
              "DISPLAY_MODE": "simple",
              "ENABLE_ASSIGNMENT": true,
              "ENABLE_DATALINK": true,
              "FLATTEN_COLUMN_VALUES": true,
              "FLATTEN_INDEX_VALUES": false,
              "GENERATE_DEX_METADATA": false,
              "HTML_TABLE_SCHEMA": false,
              "LOG_LEVEL": 30,
              "MAX_RENDER_SIZE_BYTES": 104857600,
              "MAX_STRING_LENGTH": 250,
              "NUM_PAST_SAMPLES_TRACKED": 3,
              "RANDOM_STATE": 12648430,
              "RESET_INDEX_VALUES": false,
              "ROW_SAMPLING_METHOD": "random",
              "SAMPLING_FACTOR": 0.1,
              "SAMPLING_METHOD": "random",
              "STRINGIFY_COLUMN_VALUES": true,
              "STRINGIFY_INDEX_VALUES": false
            },
            "sample_history": [],
            "sampling_time": "2023-08-05T05:01:57.082038",
            "user_variable_name": null,
            "variable_name": "unk_dataframe_29199a5eea38436db0a3f0c37ede0fc6"
          },
          "ef58f13c-5093-4988-b8bb-b792233172b4": {
            "applied_filters": [],
            "dataframe_info": {
              "default_index_used": true,
              "orig_num_cols": 6,
              "orig_num_rows": 5,
              "orig_size_bytes": 280,
              "truncated_num_cols": 6,
              "truncated_num_rows": 5,
              "truncated_size_bytes": 280,
              "truncated_string_columns": []
            },
            "display_id": "ef58f13c-5093-4988-b8bb-b792233172b4",
            "dx_settings": {
              "ALLOW_NOTEABLE_ATTRS": true,
              "COLUMN_SAMPLING_METHOD": "outer",
              "DB_LOCATION": ":memory:",
              "DEV_MODE": false,
              "DISPLAY_MAX_COLUMNS": 100,
              "DISPLAY_MAX_ROWS": 50000,
              "DISPLAY_MODE": "simple",
              "ENABLE_ASSIGNMENT": true,
              "ENABLE_DATALINK": true,
              "FLATTEN_COLUMN_VALUES": true,
              "FLATTEN_INDEX_VALUES": false,
              "GENERATE_DEX_METADATA": false,
              "HTML_TABLE_SCHEMA": false,
              "LOG_LEVEL": 30,
              "MAX_RENDER_SIZE_BYTES": 104857600,
              "MAX_STRING_LENGTH": 250,
              "NUM_PAST_SAMPLES_TRACKED": 3,
              "RANDOM_STATE": 12648430,
              "RESET_INDEX_VALUES": false,
              "ROW_SAMPLING_METHOD": "random",
              "SAMPLING_FACTOR": 0.1,
              "SAMPLING_METHOD": "random",
              "STRINGIFY_COLUMN_VALUES": true,
              "STRINGIFY_INDEX_VALUES": false
            },
            "sample_history": [],
            "sampling_time": "2023-08-05T11:49:19.545222",
            "user_variable_name": null,
            "variable_name": "unk_dataframe_86f616470f6a45dd9bb80461f1973c3b"
          }
        }
      },
      "execution_count": null,
      "source": "# Update the mapping for 'Torino'\nnorthern_region_mapping['Torino'] = 'Piedmont'\n\n# Combine all region mappings again\nregion_mapping = {**northern_region_mapping, **central_region_mapping, **southern_region_mapping, **insular_region_mapping}\nitaly_weather_data['Region'] = italy_weather_data['Province'].map(region_mapping)\n\n# Apply sector mapping based on region\nitaly_weather_data['Sector'] = italy_weather_data['Region'].map(sector_mapping)\nitaly_weather_data.head()",
      "outputs": []
    },
    {
      "id": "2f8d3a68-d5f3-4bea-a09c-35bc4ecc2c5b",
      "cell_type": "code",
      "metadata": {
        "noteable": {
          "cell_type": "code",
          "output_collection_id": "d950cc6a-1026-4ffb-bddc-4d6a92436f25"
        },
        "ExecuteTime": {
          "end_time": "2023-08-05T11:49:29.542186+00:00",
          "start_time": "2023-08-05T11:49:27.180960+00:00"
        }
      },
      "execution_count": null,
      "source": "import seaborn as sns\nimport matplotlib.pyplot as plt\n\n# Calculate the mean temperature for each sector by year\nsector_temperature_trend = italy_weather_data.groupby(['Sector', 'Year'])['Temperature'].mean().reset_index()\n\n# Plot the trend in temperatures by sector\nplt.figure(figsize=(12, 6))\nsns.lineplot(x='Year', y='Temperature', hue='Sector', data=sector_temperature_trend)\nplt.title('Trend in Average Temperatures by Sector in Italy (2006-2021)')\nplt.xlabel('Year')\nplt.ylabel('Average Temperature (°C)')\nplt.legend(title='Sector')\nplt.show()",
      "outputs": []
    },
    {
      "id": "3c2c1c24-e1cc-4767-9242-e6965d7736cd",
      "cell_type": "code",
      "metadata": {
        "noteable": {
          "cell_type": "code",
          "output_collection_id": "4ccacf07-178e-439c-8b42-135f492e3b5d"
        },
        "ExecuteTime": {
          "end_time": "2023-08-05T11:50:23.121235+00:00",
          "start_time": "2023-08-05T11:50:22.884199+00:00"
        },
        "datalink": {
          "87dcf5e7-ff37-4230-95c2-48aabc49ecb0": {
            "applied_filters": [],
            "dataframe_info": {
              "default_index_used": true,
              "orig_num_cols": 6,
              "orig_num_rows": 464,
              "orig_size_bytes": 25984,
              "truncated_num_cols": 6,
              "truncated_num_rows": 464,
              "truncated_size_bytes": 25984,
              "truncated_string_columns": []
            },
            "display_id": "87dcf5e7-ff37-4230-95c2-48aabc49ecb0",
            "dx_settings": {
              "ALLOW_NOTEABLE_ATTRS": true,
              "COLUMN_SAMPLING_METHOD": "outer",
              "DB_LOCATION": ":memory:",
              "DEV_MODE": false,
              "DISPLAY_MAX_COLUMNS": 100,
              "DISPLAY_MAX_ROWS": 50000,
              "DISPLAY_MODE": "simple",
              "ENABLE_ASSIGNMENT": true,
              "ENABLE_DATALINK": true,
              "FLATTEN_COLUMN_VALUES": true,
              "FLATTEN_INDEX_VALUES": false,
              "GENERATE_DEX_METADATA": false,
              "HTML_TABLE_SCHEMA": false,
              "LOG_LEVEL": 30,
              "MAX_RENDER_SIZE_BYTES": 104857600,
              "MAX_STRING_LENGTH": 250,
              "NUM_PAST_SAMPLES_TRACKED": 3,
              "RANDOM_STATE": 12648430,
              "RESET_INDEX_VALUES": false,
              "ROW_SAMPLING_METHOD": "random",
              "SAMPLING_FACTOR": 0.1,
              "SAMPLING_METHOD": "random",
              "STRINGIFY_COLUMN_VALUES": true,
              "STRINGIFY_INDEX_VALUES": false
            },
            "sample_history": [],
            "sampling_time": "2023-08-05T05:03:04.692247",
            "user_variable_name": "missing_values",
            "variable_name": "missing_values"
          },
          "04c8627c-c903-40e8-b11b-e62e15a1cdfd": {
            "applied_filters": [],
            "dataframe_info": {
              "default_index_used": true,
              "orig_num_cols": 6,
              "orig_num_rows": 464,
              "orig_size_bytes": 25984,
              "truncated_num_cols": 6,
              "truncated_num_rows": 464,
              "truncated_size_bytes": 25984,
              "truncated_string_columns": []
            },
            "display_id": "04c8627c-c903-40e8-b11b-e62e15a1cdfd",
            "dx_settings": {
              "ALLOW_NOTEABLE_ATTRS": true,
              "COLUMN_SAMPLING_METHOD": "outer",
              "DB_LOCATION": ":memory:",
              "DEV_MODE": false,
              "DISPLAY_MAX_COLUMNS": 100,
              "DISPLAY_MAX_ROWS": 50000,
              "DISPLAY_MODE": "simple",
              "ENABLE_ASSIGNMENT": true,
              "ENABLE_DATALINK": true,
              "FLATTEN_COLUMN_VALUES": true,
              "FLATTEN_INDEX_VALUES": false,
              "GENERATE_DEX_METADATA": false,
              "HTML_TABLE_SCHEMA": false,
              "LOG_LEVEL": 30,
              "MAX_RENDER_SIZE_BYTES": 104857600,
              "MAX_STRING_LENGTH": 250,
              "NUM_PAST_SAMPLES_TRACKED": 3,
              "RANDOM_STATE": 12648430,
              "RESET_INDEX_VALUES": false,
              "ROW_SAMPLING_METHOD": "random",
              "SAMPLING_FACTOR": 0.1,
              "SAMPLING_METHOD": "random",
              "STRINGIFY_COLUMN_VALUES": true,
              "STRINGIFY_INDEX_VALUES": false
            },
            "sample_history": [],
            "sampling_time": "2023-08-05T11:50:22.959972",
            "user_variable_name": "missing_values",
            "variable_name": "missing_values"
          }
        }
      },
      "execution_count": null,
      "source": "# Check for missing values in the 'Temperature' and 'Sector' columns\nmissing_values = italy_weather_data[italy_weather_data['Temperature'].isna() | italy_weather_data['Sector'].isna()]\nmissing_values",
      "outputs": []
    },
    {
      "id": "adcc8917-e8f2-4e39-ae6c-29679614ccba",
      "cell_type": "code",
      "metadata": {
        "noteable": {
          "cell_type": "code",
          "output_collection_id": "76a1a75d-5114-4c40-a5f1-92adaba02408"
        },
        "ExecuteTime": {
          "end_time": "2023-08-05T11:50:30.534422+00:00",
          "start_time": "2023-08-05T11:50:30.374788+00:00"
        }
      },
      "execution_count": null,
      "source": "# List unique province names from the dataset\nunique_provinces = italy_weather_data['Province'].unique()\nunique_provinces",
      "outputs": []
    },
    {
      "id": "a621acaf-0822-4d86-9113-d1760b259be3",
      "cell_type": "code",
      "metadata": {
        "noteable": {
          "cell_type": "code",
          "output_collection_id": "17bcab6a-226b-45dd-8c08-491807331c98"
        },
        "ExecuteTime": {
          "end_time": "2023-08-05T11:50:46.017882+00:00",
          "start_time": "2023-08-05T11:50:45.777507+00:00"
        },
        "datalink": {
          "481ffe8c-69a8-4ade-a725-7c6c7531ce44": {
            "applied_filters": [],
            "dataframe_info": {
              "default_index_used": true,
              "orig_num_cols": 6,
              "orig_num_rows": 352,
              "orig_size_bytes": 19712,
              "truncated_num_cols": 6,
              "truncated_num_rows": 352,
              "truncated_size_bytes": 19712,
              "truncated_string_columns": []
            },
            "display_id": "481ffe8c-69a8-4ade-a725-7c6c7531ce44",
            "dx_settings": {
              "ALLOW_NOTEABLE_ATTRS": true,
              "COLUMN_SAMPLING_METHOD": "outer",
              "DB_LOCATION": ":memory:",
              "DEV_MODE": false,
              "DISPLAY_MAX_COLUMNS": 100,
              "DISPLAY_MAX_ROWS": 50000,
              "DISPLAY_MODE": "simple",
              "ENABLE_ASSIGNMENT": true,
              "ENABLE_DATALINK": true,
              "FLATTEN_COLUMN_VALUES": true,
              "FLATTEN_INDEX_VALUES": false,
              "GENERATE_DEX_METADATA": false,
              "HTML_TABLE_SCHEMA": false,
              "LOG_LEVEL": 30,
              "MAX_RENDER_SIZE_BYTES": 104857600,
              "MAX_STRING_LENGTH": 250,
              "NUM_PAST_SAMPLES_TRACKED": 3,
              "RANDOM_STATE": 12648430,
              "RESET_INDEX_VALUES": false,
              "ROW_SAMPLING_METHOD": "random",
              "SAMPLING_FACTOR": 0.1,
              "SAMPLING_METHOD": "random",
              "STRINGIFY_COLUMN_VALUES": true,
              "STRINGIFY_INDEX_VALUES": false
            },
            "sample_history": [],
            "sampling_time": "2023-08-05T05:06:29.682509",
            "user_variable_name": "missing_values_updated",
            "variable_name": "missing_values_updated"
          },
          "cee3cd92-76db-414a-957f-e5bebe3ebf82": {
            "applied_filters": [],
            "dataframe_info": {
              "default_index_used": true,
              "orig_num_cols": 6,
              "orig_num_rows": 352,
              "orig_size_bytes": 19712,
              "truncated_num_cols": 6,
              "truncated_num_rows": 352,
              "truncated_size_bytes": 19712,
              "truncated_string_columns": []
            },
            "display_id": "cee3cd92-76db-414a-957f-e5bebe3ebf82",
            "dx_settings": {
              "ALLOW_NOTEABLE_ATTRS": true,
              "COLUMN_SAMPLING_METHOD": "outer",
              "DB_LOCATION": ":memory:",
              "DEV_MODE": false,
              "DISPLAY_MAX_COLUMNS": 100,
              "DISPLAY_MAX_ROWS": 50000,
              "DISPLAY_MODE": "simple",
              "ENABLE_ASSIGNMENT": true,
              "ENABLE_DATALINK": true,
              "FLATTEN_COLUMN_VALUES": true,
              "FLATTEN_INDEX_VALUES": false,
              "GENERATE_DEX_METADATA": false,
              "HTML_TABLE_SCHEMA": false,
              "LOG_LEVEL": 30,
              "MAX_RENDER_SIZE_BYTES": 104857600,
              "MAX_STRING_LENGTH": 250,
              "NUM_PAST_SAMPLES_TRACKED": 3,
              "RANDOM_STATE": 12648430,
              "RESET_INDEX_VALUES": false,
              "ROW_SAMPLING_METHOD": "random",
              "SAMPLING_FACTOR": 0.1,
              "SAMPLING_METHOD": "random",
              "STRINGIFY_COLUMN_VALUES": true,
              "STRINGIFY_INDEX_VALUES": false
            },
            "sample_history": [],
            "sampling_time": "2023-08-05T11:50:45.856698",
            "user_variable_name": "missing_values_updated",
            "variable_name": "missing_values_updated"
          }
        }
      },
      "execution_count": null,
      "source": "# Update the region mapping with the provided corrections\nregion_mapping['Ravenna '] = 'Emilia-Romagna'\nregion_mapping['Pesaro urbino'] = 'Emilia-Romagna'\nregion_mapping['Massa Carrara'] = 'Tuscany'\nregion_mapping['Reggio nell\\'Emilia'] = 'Emilia-Romagna'\nregion_mapping['Andria'] = 'Apulia'\nregion_mapping['Barletta'] = 'Apulia'\nregion_mapping['Trani'] = 'Apulia'\n\n# Reapply the region mapping to the dataset\nitaly_weather_data['Region'] = italy_weather_data['Province'].map(region_mapping)\n# Reapply the sector mapping based on the updated region mapping\nitaly_weather_data['Sector'] = italy_weather_data['Region'].map(sector_mapping)\n\n# Check for any remaining missing values in the 'Region' and 'Sector' columns\nmissing_values_updated = italy_weather_data[italy_weather_data['Region'].isna() | italy_weather_data['Sector'].isna()]\nmissing_values_updated",
      "outputs": []
    },
    {
      "id": "65a5d212-7b1e-463e-b10c-78264a108864",
      "cell_type": "code",
      "metadata": {
        "noteable": {
          "cell_type": "code",
          "output_collection_id": "90eca136-da49-4876-801b-2bdb9e59ae71"
        },
        "ExecuteTime": {
          "end_time": "2023-08-05T11:50:54.467431+00:00",
          "start_time": "2023-08-05T11:50:54.233262+00:00"
        },
        "datalink": {
          "0ba10b0c-4fdc-45a3-b851-1678497006c1": {
            "applied_filters": [],
            "dataframe_info": {
              "default_index_used": true,
              "orig_num_cols": 6,
              "orig_num_rows": 192,
              "orig_size_bytes": 10752,
              "truncated_num_cols": 6,
              "truncated_num_rows": 192,
              "truncated_size_bytes": 10752,
              "truncated_string_columns": []
            },
            "display_id": "0ba10b0c-4fdc-45a3-b851-1678497006c1",
            "dx_settings": {
              "ALLOW_NOTEABLE_ATTRS": true,
              "COLUMN_SAMPLING_METHOD": "outer",
              "DB_LOCATION": ":memory:",
              "DEV_MODE": false,
              "DISPLAY_MAX_COLUMNS": 100,
              "DISPLAY_MAX_ROWS": 50000,
              "DISPLAY_MODE": "simple",
              "ENABLE_ASSIGNMENT": true,
              "ENABLE_DATALINK": true,
              "FLATTEN_COLUMN_VALUES": true,
              "FLATTEN_INDEX_VALUES": false,
              "GENERATE_DEX_METADATA": false,
              "HTML_TABLE_SCHEMA": false,
              "LOG_LEVEL": 30,
              "MAX_RENDER_SIZE_BYTES": 104857600,
              "MAX_STRING_LENGTH": 250,
              "NUM_PAST_SAMPLES_TRACKED": 3,
              "RANDOM_STATE": 12648430,
              "RESET_INDEX_VALUES": false,
              "ROW_SAMPLING_METHOD": "random",
              "SAMPLING_FACTOR": 0.1,
              "SAMPLING_METHOD": "random",
              "STRINGIFY_COLUMN_VALUES": true,
              "STRINGIFY_INDEX_VALUES": false
            },
            "sample_history": [],
            "sampling_time": "2023-08-05T05:09:48.546959",
            "user_variable_name": "missing_values_final",
            "variable_name": "missing_values_final"
          },
          "3389862d-910e-443b-b7de-bfc6c2c949f6": {
            "applied_filters": [],
            "dataframe_info": {
              "default_index_used": true,
              "orig_num_cols": 6,
              "orig_num_rows": 192,
              "orig_size_bytes": 10752,
              "truncated_num_cols": 6,
              "truncated_num_rows": 192,
              "truncated_size_bytes": 10752,
              "truncated_string_columns": []
            },
            "display_id": "3389862d-910e-443b-b7de-bfc6c2c949f6",
            "dx_settings": {
              "ALLOW_NOTEABLE_ATTRS": true,
              "COLUMN_SAMPLING_METHOD": "outer",
              "DB_LOCATION": ":memory:",
              "DEV_MODE": false,
              "DISPLAY_MAX_COLUMNS": 100,
              "DISPLAY_MAX_ROWS": 50000,
              "DISPLAY_MODE": "simple",
              "ENABLE_ASSIGNMENT": true,
              "ENABLE_DATALINK": true,
              "FLATTEN_COLUMN_VALUES": true,
              "FLATTEN_INDEX_VALUES": false,
              "GENERATE_DEX_METADATA": false,
              "HTML_TABLE_SCHEMA": false,
              "LOG_LEVEL": 30,
              "MAX_RENDER_SIZE_BYTES": 104857600,
              "MAX_STRING_LENGTH": 250,
              "NUM_PAST_SAMPLES_TRACKED": 3,
              "RANDOM_STATE": 12648430,
              "RESET_INDEX_VALUES": false,
              "ROW_SAMPLING_METHOD": "random",
              "SAMPLING_FACTOR": 0.1,
              "SAMPLING_METHOD": "random",
              "STRINGIFY_COLUMN_VALUES": true,
              "STRINGIFY_INDEX_VALUES": false
            },
            "sample_history": [],
            "sampling_time": "2023-08-05T11:50:54.308929",
            "user_variable_name": "missing_values_final",
            "variable_name": "missing_values_final"
          }
        }
      },
      "execution_count": null,
      "source": "# Update the region mapping with the additional corrections\nregion_mapping['Verbania'] = 'Lombardy'\nregion_mapping['Milano'] = 'Lombardy'\nregion_mapping['Mantova'] = 'Lombardy'\nregion_mapping['Monza'] = 'Lombardy'\nregion_mapping['Venezia'] = 'Veneto'\nregion_mapping['Padova'] = 'Veneto'\nregion_mapping['Genova'] = 'Liguria'\nregion_mapping['Forlì'] = 'Emilia-Romagna'\nregion_mapping['Firenze'] = 'Tuscany'\nregion_mapping['Roma'] = 'Lazio'\n\n# Reapply the region and sector mappings to the dataset\nitaly_weather_data['Region'] = italy_weather_data['Province'].map(region_mapping)\nitaly_weather_data['Sector'] = italy_weather_data['Region'].map(sector_mapping)\n\n# Check for any remaining missing values in the 'Region' and 'Sector' columns\nmissing_values_final = italy_weather_data[italy_weather_data['Region'].isna() | italy_weather_data['Sector'].isna()]\nmissing_values_final",
      "outputs": []
    },
    {
      "id": "c870dd0e-e93e-4d98-bde8-8fffc12f6d48",
      "cell_type": "code",
      "metadata": {
        "noteable": {
          "cell_type": "code",
          "output_collection_id": "36f4af00-86a5-451b-b3b8-0c77e0b65e50"
        },
        "ExecuteTime": {
          "end_time": "2023-08-05T11:51:00.980230+00:00",
          "start_time": "2023-08-05T11:51:00.733149+00:00"
        },
        "datalink": {
          "d136a0a3-ff14-42f9-ac2f-c7c3044aabe6": {
            "applied_filters": [],
            "dataframe_info": {
              "default_index_used": true,
              "orig_num_cols": 6,
              "orig_num_rows": 128,
              "orig_size_bytes": 7168,
              "truncated_num_cols": 6,
              "truncated_num_rows": 128,
              "truncated_size_bytes": 7168,
              "truncated_string_columns": []
            },
            "display_id": "d136a0a3-ff14-42f9-ac2f-c7c3044aabe6",
            "dx_settings": {
              "ALLOW_NOTEABLE_ATTRS": true,
              "COLUMN_SAMPLING_METHOD": "outer",
              "DB_LOCATION": ":memory:",
              "DEV_MODE": false,
              "DISPLAY_MAX_COLUMNS": 100,
              "DISPLAY_MAX_ROWS": 50000,
              "DISPLAY_MODE": "simple",
              "ENABLE_ASSIGNMENT": true,
              "ENABLE_DATALINK": true,
              "FLATTEN_COLUMN_VALUES": true,
              "FLATTEN_INDEX_VALUES": false,
              "GENERATE_DEX_METADATA": false,
              "HTML_TABLE_SCHEMA": false,
              "LOG_LEVEL": 30,
              "MAX_RENDER_SIZE_BYTES": 104857600,
              "MAX_STRING_LENGTH": 250,
              "NUM_PAST_SAMPLES_TRACKED": 3,
              "RANDOM_STATE": 12648430,
              "RESET_INDEX_VALUES": false,
              "ROW_SAMPLING_METHOD": "random",
              "SAMPLING_FACTOR": 0.1,
              "SAMPLING_METHOD": "random",
              "STRINGIFY_COLUMN_VALUES": true,
              "STRINGIFY_INDEX_VALUES": false
            },
            "sample_history": [],
            "sampling_time": "2023-08-05T05:10:36.155591",
            "user_variable_name": "missing_values_final_check",
            "variable_name": "missing_values_final_check"
          },
          "7ccc793c-7db2-4d61-84de-6c02cf7a13db": {
            "applied_filters": [],
            "dataframe_info": {
              "default_index_used": true,
              "orig_num_cols": 6,
              "orig_num_rows": 128,
              "orig_size_bytes": 7168,
              "truncated_num_cols": 6,
              "truncated_num_rows": 128,
              "truncated_size_bytes": 7168,
              "truncated_string_columns": []
            },
            "display_id": "7ccc793c-7db2-4d61-84de-6c02cf7a13db",
            "dx_settings": {
              "ALLOW_NOTEABLE_ATTRS": true,
              "COLUMN_SAMPLING_METHOD": "outer",
              "DB_LOCATION": ":memory:",
              "DEV_MODE": false,
              "DISPLAY_MAX_COLUMNS": 100,
              "DISPLAY_MAX_ROWS": 50000,
              "DISPLAY_MODE": "simple",
              "ENABLE_ASSIGNMENT": true,
              "ENABLE_DATALINK": true,
              "FLATTEN_COLUMN_VALUES": true,
              "FLATTEN_INDEX_VALUES": false,
              "GENERATE_DEX_METADATA": false,
              "HTML_TABLE_SCHEMA": false,
              "LOG_LEVEL": 30,
              "MAX_RENDER_SIZE_BYTES": 104857600,
              "MAX_STRING_LENGTH": 250,
              "NUM_PAST_SAMPLES_TRACKED": 3,
              "RANDOM_STATE": 12648430,
              "RESET_INDEX_VALUES": false,
              "ROW_SAMPLING_METHOD": "random",
              "SAMPLING_FACTOR": 0.1,
              "SAMPLING_METHOD": "random",
              "STRINGIFY_COLUMN_VALUES": true,
              "STRINGIFY_INDEX_VALUES": false
            },
            "sample_history": [],
            "sampling_time": "2023-08-05T11:51:00.819032",
            "user_variable_name": "missing_values_final_check",
            "variable_name": "missing_values_final_check"
          }
        }
      },
      "execution_count": null,
      "source": "# Update the region mapping with the remaining corrections\nregion_mapping['L\\'Aquila'] = 'Abruzzo'\nregion_mapping['Teramo'] = 'Abruzzo'\nregion_mapping['Pescara'] = 'Abruzzo'\nregion_mapping['Chieti'] = 'Abruzzo'\nregion_mapping['Campobasso'] = 'Molise'\nregion_mapping['Isernia'] = 'Molise'\nregion_mapping['Napoli'] = 'Campania'\nregion_mapping['Reggio di Calabria'] = 'Calabria'\nregion_mapping['Siracusa'] = 'Sicily'\nregion_mapping['Carbonia'] = 'Sardinia'\n\n# Reapply the region and sector mappings to the dataset\nitaly_weather_data['Region'] = italy_weather_data['Province'].map(region_mapping)\nitaly_weather_data['Sector'] = italy_weather_data['Region'].map(sector_mapping)\n\n# Check for any remaining missing values in the 'Region' and 'Sector' columns\nmissing_values_final_check = italy_weather_data[italy_weather_data['Region'].isna() | italy_weather_data['Sector'].isna()]\nmissing_values_final_check",
      "outputs": []
    },
    {
      "id": "4d6247aa-ad8e-4d66-81b2-6774711f9b51",
      "cell_type": "code",
      "metadata": {
        "noteable": {
          "cell_type": "code",
          "output_collection_id": "9a83348e-1c20-4fcc-9a28-ee79ec0b067a"
        },
        "ExecuteTime": {
          "end_time": "2023-08-05T11:51:18.328086+00:00",
          "start_time": "2023-08-05T11:51:18.097514+00:00"
        },
        "datalink": {
          "4ed1a2ff-810d-4020-8802-8e42d7f199f4": {
            "applied_filters": [],
            "dataframe_info": {
              "default_index_used": true,
              "orig_num_cols": 6,
              "orig_num_rows": 32,
              "orig_size_bytes": 1792,
              "truncated_num_cols": 6,
              "truncated_num_rows": 32,
              "truncated_size_bytes": 1792,
              "truncated_string_columns": []
            },
            "display_id": "4ed1a2ff-810d-4020-8802-8e42d7f199f4",
            "dx_settings": {
              "ALLOW_NOTEABLE_ATTRS": true,
              "COLUMN_SAMPLING_METHOD": "outer",
              "DB_LOCATION": ":memory:",
              "DEV_MODE": false,
              "DISPLAY_MAX_COLUMNS": 100,
              "DISPLAY_MAX_ROWS": 50000,
              "DISPLAY_MODE": "simple",
              "ENABLE_ASSIGNMENT": true,
              "ENABLE_DATALINK": true,
              "FLATTEN_COLUMN_VALUES": true,
              "FLATTEN_INDEX_VALUES": false,
              "GENERATE_DEX_METADATA": false,
              "HTML_TABLE_SCHEMA": false,
              "LOG_LEVEL": 30,
              "MAX_RENDER_SIZE_BYTES": 104857600,
              "MAX_STRING_LENGTH": 250,
              "NUM_PAST_SAMPLES_TRACKED": 3,
              "RANDOM_STATE": 12648430,
              "RESET_INDEX_VALUES": false,
              "ROW_SAMPLING_METHOD": "random",
              "SAMPLING_FACTOR": 0.1,
              "SAMPLING_METHOD": "random",
              "STRINGIFY_COLUMN_VALUES": true,
              "STRINGIFY_INDEX_VALUES": false
            },
            "sample_history": [],
            "sampling_time": "2023-08-05T05:10:55.739931",
            "user_variable_name": "missing_values_final_check_again",
            "variable_name": "missing_values_final_check_again"
          },
          "d411468f-c232-473e-b90b-a3f8ddadbf62": {
            "applied_filters": [],
            "dataframe_info": {
              "default_index_used": true,
              "orig_num_cols": 6,
              "orig_num_rows": 32,
              "orig_size_bytes": 1792,
              "truncated_num_cols": 6,
              "truncated_num_rows": 32,
              "truncated_size_bytes": 1792,
              "truncated_string_columns": []
            },
            "display_id": "d411468f-c232-473e-b90b-a3f8ddadbf62",
            "dx_settings": {
              "ALLOW_NOTEABLE_ATTRS": true,
              "COLUMN_SAMPLING_METHOD": "outer",
              "DB_LOCATION": ":memory:",
              "DEV_MODE": false,
              "DISPLAY_MAX_COLUMNS": 100,
              "DISPLAY_MAX_ROWS": 50000,
              "DISPLAY_MODE": "simple",
              "ENABLE_ASSIGNMENT": true,
              "ENABLE_DATALINK": true,
              "FLATTEN_COLUMN_VALUES": true,
              "FLATTEN_INDEX_VALUES": false,
              "GENERATE_DEX_METADATA": false,
              "HTML_TABLE_SCHEMA": false,
              "LOG_LEVEL": 30,
              "MAX_RENDER_SIZE_BYTES": 104857600,
              "MAX_STRING_LENGTH": 250,
              "NUM_PAST_SAMPLES_TRACKED": 3,
              "RANDOM_STATE": 12648430,
              "RESET_INDEX_VALUES": false,
              "ROW_SAMPLING_METHOD": "random",
              "SAMPLING_FACTOR": 0.1,
              "SAMPLING_METHOD": "random",
              "STRINGIFY_COLUMN_VALUES": true,
              "STRINGIFY_INDEX_VALUES": false
            },
            "sample_history": [],
            "sampling_time": "2023-08-05T11:51:18.170881",
            "user_variable_name": "missing_values_final_check_again",
            "variable_name": "missing_values_final_check_again"
          }
        }
      },
      "execution_count": null,
      "source": "# Correct the sector mapping for 'Abruzzo' and 'Molise'\nsector_mapping['Abruzzo'] = 'Southern'\nsector_mapping['Molise'] = 'Southern'\n\n# Reapply the sector mapping based on the corrected region mapping\nitaly_weather_data['Sector'] = italy_weather_data['Region'].map(sector_mapping)\n\n# Check for any remaining missing values in the 'Region' and 'Sector' columns\nmissing_values_final_check_again = italy_weather_data[italy_weather_data['Region'].isna() | italy_weather_data['Sector'].isna()]\nmissing_values_final_check_again",
      "outputs": []
    },
    {
      "id": "c46ec2cc-5a7e-43d1-899d-6b4e4db10e3b",
      "cell_type": "code",
      "metadata": {
        "jupyter": {
          "outputs_hidden": false,
          "source_hidden": false
        },
        "noteable": {
          "cell_type": "code",
          "output_collection_id": "58f13d89-8b1c-417b-b356-f5a89da3e10d"
        },
        "ExecuteTime": {
          "end_time": "2023-08-05T11:56:01.784292+00:00",
          "start_time": "2023-08-05T11:56:01.623431+00:00"
        }
      },
      "execution_count": null,
      "source": "italy_weather_data['Temperature'] = italy_weather_data['Temperature'].str.replace('....', 'NaN').astype('float')",
      "outputs": []
    },
    {
      "id": "a344c8e8-dd77-436d-bfdf-db33ee23bf49",
      "cell_type": "code",
      "metadata": {
        "noteable": {
          "cell_type": "code",
          "output_collection_id": "c12c1455-f2db-4b09-bfdc-b4130d7e97e4"
        },
        "ExecuteTime": {
          "end_time": "2023-08-05T11:56:10.523248+00:00",
          "start_time": "2023-08-05T11:56:09.126934+00:00"
        }
      },
      "execution_count": null,
      "source": "# Remove rows with missing values in the 'Region' and 'Sector' columns\nitaly_weather_data = italy_weather_data.dropna(subset=['Region', 'Sector'])\n\n# Calculate the mean temperature for each sector by year\nsector_temperature_trend = italy_weather_data.groupby(['Sector', 'Year'])['Temperature'].mean().reset_index()\n\n# Plot the trend in temperatures by sector\nplt.figure(figsize=(12, 6))\nsns.lineplot(x='Year', y='Temperature', hue='Sector', data=sector_temperature_trend)\nplt.title('Trend in Average Temperatures by Sector in Italy (2006-2021)')\nplt.xlabel('Year')\nplt.ylabel('Average Temperature (°C)')\nplt.legend(title='Sector')\nplt.show()",
      "outputs": []
    },
    {
      "id": "5ab5f2aa-23f6-41ed-8e23-2b798f184022",
      "cell_type": "code",
      "metadata": {
        "noteable": {
          "cell_type": "code",
          "output_collection_id": "a6649211-154e-4f7e-b0a5-b27beab7c163"
        },
        "ExecuteTime": {
          "end_time": "2023-08-05T05:12:46.972763+00:00",
          "start_time": "2023-08-05T05:12:46.753017+00:00"
        },
        "datalink": {
          "8e914a62-c6f2-4b19-8d78-ff6faa2e4bab": {
            "applied_filters": [],
            "dataframe_info": {
              "default_index_used": false,
              "orig_num_cols": 1,
              "orig_num_rows": 2,
              "orig_size_bytes": 32,
              "truncated_num_cols": 1,
              "truncated_num_rows": 2,
              "truncated_size_bytes": 32,
              "truncated_string_columns": []
            },
            "display_id": "8e914a62-c6f2-4b19-8d78-ff6faa2e4bab",
            "dx_settings": {
              "ALLOW_NOTEABLE_ATTRS": true,
              "COLUMN_SAMPLING_METHOD": "outer",
              "DB_LOCATION": ":memory:",
              "DEV_MODE": false,
              "DISPLAY_MAX_COLUMNS": 100,
              "DISPLAY_MAX_ROWS": 50000,
              "DISPLAY_MODE": "simple",
              "ENABLE_ASSIGNMENT": true,
              "ENABLE_DATALINK": true,
              "FLATTEN_COLUMN_VALUES": true,
              "FLATTEN_INDEX_VALUES": false,
              "GENERATE_DEX_METADATA": false,
              "HTML_TABLE_SCHEMA": false,
              "LOG_LEVEL": 30,
              "MAX_RENDER_SIZE_BYTES": 104857600,
              "MAX_STRING_LENGTH": 250,
              "NUM_PAST_SAMPLES_TRACKED": 3,
              "RANDOM_STATE": 12648430,
              "RESET_INDEX_VALUES": false,
              "ROW_SAMPLING_METHOD": "random",
              "SAMPLING_FACTOR": 0.1,
              "SAMPLING_METHOD": "random",
              "STRINGIFY_COLUMN_VALUES": true,
              "STRINGIFY_INDEX_VALUES": false
            },
            "sample_history": [],
            "sampling_time": "2023-08-05T05:12:46.815154",
            "user_variable_name": null,
            "variable_name": "unk_dataframe_428f498b5fef463c8a9cfe6f9a75ac59"
          }
        }
      },
      "execution_count": null,
      "source": "# Check the data types of the 'Year' and 'Temperature' columns\nyear_temperature_data_types = italy_weather_data[['Year', 'Temperature']].dtypes\nyear_temperature_data_types",
      "outputs": []
    },
    {
      "id": "216ba657-edae-4af8-a085-ba0a7290defd",
      "cell_type": "code",
      "metadata": {
        "noteable": {
          "cell_type": "code",
          "output_collection_id": "b8731a7c-d005-4252-bb48-3e7b12628e14"
        },
        "ExecuteTime": {
          "end_time": "2023-08-05T05:13:02.566649+00:00",
          "start_time": "2023-08-05T05:13:02.335428+00:00"
        },
        "datalink": {
          "4f4b8d69-f9e5-40ba-ae34-06b41e01f892": {
            "applied_filters": [],
            "dataframe_info": {
              "default_index_used": true,
              "orig_num_cols": 6,
              "orig_num_rows": 75,
              "orig_size_bytes": 4200,
              "truncated_num_cols": 6,
              "truncated_num_rows": 75,
              "truncated_size_bytes": 4200,
              "truncated_string_columns": []
            },
            "display_id": "4f4b8d69-f9e5-40ba-ae34-06b41e01f892",
            "dx_settings": {
              "ALLOW_NOTEABLE_ATTRS": true,
              "COLUMN_SAMPLING_METHOD": "outer",
              "DB_LOCATION": ":memory:",
              "DEV_MODE": false,
              "DISPLAY_MAX_COLUMNS": 100,
              "DISPLAY_MAX_ROWS": 50000,
              "DISPLAY_MODE": "simple",
              "ENABLE_ASSIGNMENT": true,
              "ENABLE_DATALINK": true,
              "FLATTEN_COLUMN_VALUES": true,
              "FLATTEN_INDEX_VALUES": false,
              "GENERATE_DEX_METADATA": false,
              "HTML_TABLE_SCHEMA": false,
              "LOG_LEVEL": 30,
              "MAX_RENDER_SIZE_BYTES": 104857600,
              "MAX_STRING_LENGTH": 250,
              "NUM_PAST_SAMPLES_TRACKED": 3,
              "RANDOM_STATE": 12648430,
              "RESET_INDEX_VALUES": false,
              "ROW_SAMPLING_METHOD": "random",
              "SAMPLING_FACTOR": 0.1,
              "SAMPLING_METHOD": "random",
              "STRINGIFY_COLUMN_VALUES": true,
              "STRINGIFY_INDEX_VALUES": false
            },
            "sample_history": [],
            "sampling_time": "2023-08-05T05:13:02.408649",
            "user_variable_name": "missing_temperatures",
            "variable_name": "missing_temperatures"
          }
        }
      },
      "execution_count": null,
      "source": "# Convert the 'Temperature' column to a numeric data type, handling any non-numeric values\nitaly_weather_data['Temperature'] = pd.to_numeric(italy_weather_data['Temperature'], errors='coerce')\n\n# Check for any missing values in the 'Temperature' column after conversion\nmissing_temperatures = italy_weather_data[italy_weather_data['Temperature'].isna()]\nmissing_temperatures",
      "outputs": []
    },
    {
      "id": "f67937cf-792b-4316-924b-d4bb09554db5",
      "cell_type": "code",
      "metadata": {
        "noteable": {
          "cell_type": "code",
          "output_collection_id": "7d64e8e5-ef78-435b-8784-3947633b564f"
        },
        "ExecuteTime": {
          "end_time": "2023-08-05T05:14:05.993808+00:00",
          "start_time": "2023-08-05T05:14:05.174003+00:00"
        }
      },
      "execution_count": null,
      "source": "# Remove rows with missing values in the 'Temperature' column\nitaly_weather_data = italy_weather_data.dropna(subset=['Temperature'])\n\n# Calculate the mean temperature for each sector by year\nsector_temperature_trend = italy_weather_data.groupby(['Sector', 'Year'])['Temperature'].mean().reset_index()\n\n# Plot the trend in temperatures by sector\nplt.figure(figsize=(12, 6))\nsns.lineplot(x='Year', y='Temperature', hue='Sector', data=sector_temperature_trend)\nplt.title('Trend in Average Temperatures by Sector in Italy (2006-2021)')\nplt.xlabel('Year')\nplt.ylabel('Average Temperature (°C)')\nplt.legend(title='Sector')\nplt.show()",
      "outputs": []
    },
    {
      "id": "79a94593-a8c4-4c4a-a6ba-fc3cb59ad09b",
      "cell_type": "code",
      "metadata": {
        "noteable": {
          "cell_type": "code",
          "output_collection_id": "69eea2d2-8531-4fb0-8640-13f2884dc528"
        },
        "ExecuteTime": {
          "end_time": "2023-08-05T05:15:16.201019+00:00",
          "start_time": "2023-08-05T05:15:15.969642+00:00"
        },
        "datalink": {
          "c9746991-6db7-46a4-9969-b9d8923bf568": {
            "applied_filters": [],
            "dataframe_info": {
              "default_index_used": true,
              "orig_num_cols": 2,
              "orig_num_rows": 4,
              "orig_size_bytes": 96,
              "truncated_num_cols": 2,
              "truncated_num_rows": 4,
              "truncated_size_bytes": 96,
              "truncated_string_columns": []
            },
            "display_id": "c9746991-6db7-46a4-9969-b9d8923bf568",
            "dx_settings": {
              "ALLOW_NOTEABLE_ATTRS": true,
              "COLUMN_SAMPLING_METHOD": "outer",
              "DB_LOCATION": ":memory:",
              "DEV_MODE": false,
              "DISPLAY_MAX_COLUMNS": 100,
              "DISPLAY_MAX_ROWS": 50000,
              "DISPLAY_MODE": "simple",
              "ENABLE_ASSIGNMENT": true,
              "ENABLE_DATALINK": true,
              "FLATTEN_COLUMN_VALUES": true,
              "FLATTEN_INDEX_VALUES": false,
              "GENERATE_DEX_METADATA": false,
              "HTML_TABLE_SCHEMA": false,
              "LOG_LEVEL": 30,
              "MAX_RENDER_SIZE_BYTES": 104857600,
              "MAX_STRING_LENGTH": 250,
              "NUM_PAST_SAMPLES_TRACKED": 3,
              "RANDOM_STATE": 12648430,
              "RESET_INDEX_VALUES": false,
              "ROW_SAMPLING_METHOD": "random",
              "SAMPLING_FACTOR": 0.1,
              "SAMPLING_METHOD": "random",
              "STRINGIFY_COLUMN_VALUES": true,
              "STRINGIFY_INDEX_VALUES": false
            },
            "sample_history": [],
            "sampling_time": "2023-08-05T05:15:16.042703",
            "user_variable_name": "sector_trends",
            "variable_name": "sector_trends"
          }
        }
      },
      "execution_count": null,
      "source": "from scipy.stats import linregress\n\n# Function to calculate the slope (trend) for each sector\ndef calculate_trend(sector_data):\n    slope, _, _, _, _ = linregress(sector_data['Year'], sector_data['Temperature'])\n    return slope\n\n# Calculate the trend (slope) for each sector\nsector_trends = sector_temperature_trend.groupby('Sector').apply(calculate_trend).reset_index()\nsector_trends.columns = ['Sector', 'Trend']\nsector_trends",
      "outputs": []
    },
    {
      "id": "d2298cb7-e9b7-43b5-86de-91652640200b",
      "cell_type": "code",
      "metadata": {
        "noteable": {
          "cell_type": "code",
          "output_collection_id": "c06feaa7-89ec-4433-9d3a-860363462a66"
        },
        "ExecuteTime": {
          "end_time": "2023-08-05T05:17:27.793706+00:00",
          "start_time": "2023-08-05T05:17:27.360687+00:00"
        }
      },
      "execution_count": null,
      "source": "# Calculate the mean precipitation for each sector by year\nsector_precipitation_trend = italy_weather_data.groupby(['Sector', 'Year'])['Precipitation'].mean().reset_index()\n\n# Plot the trend in precipitations by sector\nplt.figure(figsize=(12, 6))\nsns.lineplot(x='Year', y='Precipitation', hue='Sector', data=sector_precipitation_trend)\nplt.title('Trend in Average Precipitations by Sector in Italy (2006-2021)')\nplt.xlabel('Year')\nplt.ylabel('Average Precipitation (mm)')\nplt.legend(title='Sector')\nplt.show()",
      "outputs": []
    },
    {
      "id": "2a8b5276-33e1-4418-94c1-b27bd208187f",
      "cell_type": "code",
      "metadata": {
        "noteable": {
          "cell_type": "code",
          "output_collection_id": "c694cb66-7ee9-41ba-94da-0a7c38ef664d"
        },
        "ExecuteTime": {
          "end_time": "2023-08-05T05:17:56.537152+00:00",
          "start_time": "2023-08-05T05:17:56.378073+00:00"
        }
      },
      "execution_count": null,
      "source": "# Check the data types of the 'Precipitation' column\nprecipitation_data_type = italy_weather_data['Precipitation'].dtypes\nprecipitation_data_type",
      "outputs": []
    },
    {
      "id": "6c3fe7b1-980b-45ab-bf40-59086f0198fa",
      "cell_type": "code",
      "metadata": {
        "noteable": {
          "cell_type": "code",
          "output_collection_id": "174234c5-db9d-4084-89c7-db948c5bf0cc"
        },
        "ExecuteTime": {
          "end_time": "2023-08-05T05:18:17.703706+00:00",
          "start_time": "2023-08-05T05:18:17.472120+00:00"
        },
        "datalink": {
          "670becc3-bdb7-4eaf-a884-4c14ba6f13ec": {
            "applied_filters": [],
            "dataframe_info": {
              "default_index_used": true,
              "orig_num_cols": 6,
              "orig_num_rows": 33,
              "orig_size_bytes": 1848,
              "truncated_num_cols": 6,
              "truncated_num_rows": 33,
              "truncated_size_bytes": 1848,
              "truncated_string_columns": []
            },
            "display_id": "670becc3-bdb7-4eaf-a884-4c14ba6f13ec",
            "dx_settings": {
              "ALLOW_NOTEABLE_ATTRS": true,
              "COLUMN_SAMPLING_METHOD": "outer",
              "DB_LOCATION": ":memory:",
              "DEV_MODE": false,
              "DISPLAY_MAX_COLUMNS": 100,
              "DISPLAY_MAX_ROWS": 50000,
              "DISPLAY_MODE": "simple",
              "ENABLE_ASSIGNMENT": true,
              "ENABLE_DATALINK": true,
              "FLATTEN_COLUMN_VALUES": true,
              "FLATTEN_INDEX_VALUES": false,
              "GENERATE_DEX_METADATA": false,
              "HTML_TABLE_SCHEMA": false,
              "LOG_LEVEL": 30,
              "MAX_RENDER_SIZE_BYTES": 104857600,
              "MAX_STRING_LENGTH": 250,
              "NUM_PAST_SAMPLES_TRACKED": 3,
              "RANDOM_STATE": 12648430,
              "RESET_INDEX_VALUES": false,
              "ROW_SAMPLING_METHOD": "random",
              "SAMPLING_FACTOR": 0.1,
              "SAMPLING_METHOD": "random",
              "STRINGIFY_COLUMN_VALUES": true,
              "STRINGIFY_INDEX_VALUES": false
            },
            "sample_history": [],
            "sampling_time": "2023-08-05T05:18:17.546068",
            "user_variable_name": "missing_precipitations",
            "variable_name": "missing_precipitations"
          }
        }
      },
      "execution_count": null,
      "source": "# Convert the 'Precipitation' column to a numeric data type, handling any non-numeric values\nitaly_weather_data['Precipitation'] = pd.to_numeric(italy_weather_data['Precipitation'], errors='coerce')\n\n# Check for any missing values in the 'Precipitation' column after conversion\nmissing_precipitations = italy_weather_data[italy_weather_data['Precipitation'].isna()]\nmissing_precipitations",
      "outputs": []
    },
    {
      "id": "e7fa8e45-fae8-4376-b422-42d63194e5cd",
      "cell_type": "code",
      "metadata": {
        "noteable": {
          "cell_type": "code",
          "output_collection_id": "8189c6ba-2ad1-40fe-a652-6edef4b651ed"
        },
        "ExecuteTime": {
          "end_time": "2023-08-05T05:18:57.093305+00:00",
          "start_time": "2023-08-05T05:18:56.425973+00:00"
        }
      },
      "execution_count": null,
      "source": "# Remove rows with missing values in the 'Precipitation' column\nitaly_weather_data = italy_weather_data.dropna(subset=['Precipitation'])\n\n# Calculate the mean precipitation for each sector by year\nsector_precipitation_trend = italy_weather_data.groupby(['Sector', 'Year'])['Precipitation'].mean().reset_index()\n\n# Plot the trend in precipitations by sector\nplt.figure(figsize=(12, 6))\nsns.lineplot(x='Year', y='Precipitation', hue='Sector', data=sector_precipitation_trend)\nplt.title('Trend in Average Precipitations by Sector in Italy (2006-2021)')\nplt.xlabel('Year')\nplt.ylabel('Average Precipitation (mm)')\nplt.legend(title='Sector')\nplt.show()",
      "outputs": []
    },
    {
      "id": "62e1e08a-c3bf-44f1-8b25-81162df2e0da",
      "cell_type": "code",
      "metadata": {
        "noteable": {
          "cell_type": "code",
          "output_collection_id": "623f08c3-2777-4bfe-b756-8c08d3fe3078"
        },
        "ExecuteTime": {
          "end_time": "2023-08-05T05:20:07.696629+00:00",
          "start_time": "2023-08-05T05:20:07.472726+00:00"
        },
        "datalink": {
          "fdf187d0-594e-4ae7-91c7-2f70aab92946": {
            "applied_filters": [],
            "dataframe_info": {
              "default_index_used": true,
              "orig_num_cols": 2,
              "orig_num_rows": 4,
              "orig_size_bytes": 96,
              "truncated_num_cols": 2,
              "truncated_num_rows": 4,
              "truncated_size_bytes": 96,
              "truncated_string_columns": []
            },
            "display_id": "fdf187d0-594e-4ae7-91c7-2f70aab92946",
            "dx_settings": {
              "ALLOW_NOTEABLE_ATTRS": true,
              "COLUMN_SAMPLING_METHOD": "outer",
              "DB_LOCATION": ":memory:",
              "DEV_MODE": false,
              "DISPLAY_MAX_COLUMNS": 100,
              "DISPLAY_MAX_ROWS": 50000,
              "DISPLAY_MODE": "simple",
              "ENABLE_ASSIGNMENT": true,
              "ENABLE_DATALINK": true,
              "FLATTEN_COLUMN_VALUES": true,
              "FLATTEN_INDEX_VALUES": false,
              "GENERATE_DEX_METADATA": false,
              "HTML_TABLE_SCHEMA": false,
              "LOG_LEVEL": 30,
              "MAX_RENDER_SIZE_BYTES": 104857600,
              "MAX_STRING_LENGTH": 250,
              "NUM_PAST_SAMPLES_TRACKED": 3,
              "RANDOM_STATE": 12648430,
              "RESET_INDEX_VALUES": false,
              "ROW_SAMPLING_METHOD": "random",
              "SAMPLING_FACTOR": 0.1,
              "SAMPLING_METHOD": "random",
              "STRINGIFY_COLUMN_VALUES": true,
              "STRINGIFY_INDEX_VALUES": false
            },
            "sample_history": [],
            "sampling_time": "2023-08-05T05:20:07.539251",
            "user_variable_name": "sector_precipitation_trends",
            "variable_name": "sector_precipitation_trends"
          }
        }
      },
      "execution_count": null,
      "source": "# Function to calculate the slope (trend) for each sector for precipitations\ndef calculate_precipitation_trend(sector_data):\n    slope, _, _, _, _ = linregress(sector_data['Year'], sector_data['Precipitation'])\n    return slope\n\n# Calculate the trend (slope) for each sector for precipitations\nsector_precipitation_trends = sector_precipitation_trend.groupby('Sector').apply(calculate_precipitation_trend).reset_index()\nsector_precipitation_trends.columns = ['Sector', 'Trend']\nsector_precipitation_trends",
      "outputs": []
    },
    {
      "id": "4867772b-cf01-4964-a780-1b25ff55025e",
      "cell_type": "code",
      "metadata": {
        "noteable": {
          "cell_type": "code",
          "output_collection_id": "0e3c0f2f-b8a2-4fc9-ada4-06d506d32fc3"
        },
        "ExecuteTime": {
          "end_time": "2023-08-05T05:21:58.397595+00:00",
          "start_time": "2023-08-05T05:21:58.176118+00:00"
        },
        "datalink": {
          "c08b02ef-9863-43a1-acff-e82bc5824067": {
            "applied_filters": [],
            "dataframe_info": {
              "default_index_used": true,
              "orig_num_cols": 2,
              "orig_num_rows": 5,
              "orig_size_bytes": 120,
              "truncated_num_cols": 2,
              "truncated_num_rows": 5,
              "truncated_size_bytes": 120,
              "truncated_string_columns": []
            },
            "display_id": "c08b02ef-9863-43a1-acff-e82bc5824067",
            "dx_settings": {
              "ALLOW_NOTEABLE_ATTRS": true,
              "COLUMN_SAMPLING_METHOD": "outer",
              "DB_LOCATION": ":memory:",
              "DEV_MODE": false,
              "DISPLAY_MAX_COLUMNS": 100,
              "DISPLAY_MAX_ROWS": 50000,
              "DISPLAY_MODE": "simple",
              "ENABLE_ASSIGNMENT": true,
              "ENABLE_DATALINK": true,
              "FLATTEN_COLUMN_VALUES": true,
              "FLATTEN_INDEX_VALUES": false,
              "GENERATE_DEX_METADATA": false,
              "HTML_TABLE_SCHEMA": false,
              "LOG_LEVEL": 30,
              "MAX_RENDER_SIZE_BYTES": 104857600,
              "MAX_STRING_LENGTH": 250,
              "NUM_PAST_SAMPLES_TRACKED": 3,
              "RANDOM_STATE": 12648430,
              "RESET_INDEX_VALUES": false,
              "ROW_SAMPLING_METHOD": "random",
              "SAMPLING_FACTOR": 0.1,
              "SAMPLING_METHOD": "random",
              "STRINGIFY_COLUMN_VALUES": true,
              "STRINGIFY_INDEX_VALUES": false
            },
            "sample_history": [],
            "sampling_time": "2023-08-05T05:21:58.240636",
            "user_variable_name": "top_5_hottest_provinces",
            "variable_name": "top_5_hottest_provinces"
          }
        }
      },
      "execution_count": null,
      "source": "# Calculate the mean temperature for each province over the entire period\ntop_provinces_temperature = italy_weather_data.groupby('Province')['Temperature'].mean().reset_index()\n\n# Sort by temperature to get the top 5 hottest provinces\ntop_5_hottest_provinces = top_provinces_temperature.nlargest(5, 'Temperature')\ntop_5_hottest_provinces",
      "outputs": []
    },
    {
      "id": "5b80926f-d673-4d6f-a43f-21c5f0952e7f",
      "cell_type": "code",
      "metadata": {
        "noteable": {
          "cell_type": "code",
          "output_collection_id": "47894760-0425-4dcf-bffc-b293178e4c95"
        },
        "ExecuteTime": {
          "end_time": "2023-08-05T05:22:45.602197+00:00",
          "start_time": "2023-08-05T05:22:45.372498+00:00"
        },
        "datalink": {
          "65cefd17-7985-4622-9591-fc56d9500512": {
            "applied_filters": [],
            "dataframe_info": {
              "default_index_used": true,
              "orig_num_cols": 2,
              "orig_num_rows": 5,
              "orig_size_bytes": 120,
              "truncated_num_cols": 2,
              "truncated_num_rows": 5,
              "truncated_size_bytes": 120,
              "truncated_string_columns": []
            },
            "display_id": "65cefd17-7985-4622-9591-fc56d9500512",
            "dx_settings": {
              "ALLOW_NOTEABLE_ATTRS": true,
              "COLUMN_SAMPLING_METHOD": "outer",
              "DB_LOCATION": ":memory:",
              "DEV_MODE": false,
              "DISPLAY_MAX_COLUMNS": 100,
              "DISPLAY_MAX_ROWS": 50000,
              "DISPLAY_MODE": "simple",
              "ENABLE_ASSIGNMENT": true,
              "ENABLE_DATALINK": true,
              "FLATTEN_COLUMN_VALUES": true,
              "FLATTEN_INDEX_VALUES": false,
              "GENERATE_DEX_METADATA": false,
              "HTML_TABLE_SCHEMA": false,
              "LOG_LEVEL": 30,
              "MAX_RENDER_SIZE_BYTES": 104857600,
              "MAX_STRING_LENGTH": 250,
              "NUM_PAST_SAMPLES_TRACKED": 3,
              "RANDOM_STATE": 12648430,
              "RESET_INDEX_VALUES": false,
              "ROW_SAMPLING_METHOD": "random",
              "SAMPLING_FACTOR": 0.1,
              "SAMPLING_METHOD": "random",
              "STRINGIFY_COLUMN_VALUES": true,
              "STRINGIFY_INDEX_VALUES": false
            },
            "sample_history": [],
            "sampling_time": "2023-08-05T05:22:45.446161",
            "user_variable_name": "top_5_provinces_trends",
            "variable_name": "top_5_provinces_trends"
          }
        }
      },
      "execution_count": null,
      "source": "# Function to calculate the trend (slope) for each province\ndef calculate_province_trend(province_data):\n    slope, _, _, _, _ = linregress(province_data['Year'], province_data['Temperature'])\n    return slope\n\n# Filter data for the top 5 hottest provinces\ntop_5_provinces_data = italy_weather_data[italy_weather_data['Province'].isin(top_5_hottest_provinces['Province'])]\n\n# Calculate the trend (slope) for each of the top 5 hottest provinces\ntop_5_provinces_trends = top_5_provinces_data.groupby('Province').apply(calculate_province_trend).reset_index()\ntop_5_provinces_trends.columns = ['Province', 'Trend']\ntop_5_provinces_trends",
      "outputs": []
    },
    {
      "id": "9000d267-0287-4c81-8eac-3c6ab3105fa6",
      "cell_type": "code",
      "metadata": {
        "noteable": {
          "cell_type": "code",
          "output_collection_id": "84627f2a-415a-4e9b-8a95-a1a1ae8fe00b"
        },
        "ExecuteTime": {
          "end_time": "2023-08-05T11:35:27.996910+00:00",
          "start_time": "2023-08-05T11:35:27.435353+00:00"
        }
      },
      "execution_count": null,
      "source": "# Calculate the mean temperature for Italy by year\nitaly_temperature_trend = italy_weather_data.groupby('Year')['Temperature'].mean().reset_index()\n\n# Perform linear regression to calculate the trend (slope)\nslope, _, _, _, _ = linregress(italy_temperature_trend['Year'], italy_temperature_trend['Temperature'])\n\n# The slope represents the rate of change in average temperatures for Italy\nslope",
      "outputs": []
    },
    {
      "id": "5dab3036-700d-493b-b5dd-15b84cc63ba5",
      "cell_type": "code",
      "metadata": {
        "noteable": {
          "cell_type": "code",
          "output_collection_id": "42ae2099-b28b-46f3-8e84-3103efed16e3"
        },
        "ExecuteTime": {
          "end_time": "2023-08-05T12:02:56.573531+00:00",
          "start_time": "2023-08-05T12:02:56.379880+00:00"
        }
      },
      "execution_count": null,
      "source": "# Define the sectors\nnorth = ['Piemonte', 'Valle d\\'Aosta', 'Lombardia', 'Trentino-Alto Adige', 'Veneto', 'Friuli-Venezia Giulia', 'Liguria', 'Emilia-Romagna']\ncenter = ['Toscana', 'Umbria', 'Marche', 'Lazio']\nsouth = ['Abruzzo', 'Molise', 'Campania', 'Puglia', 'Basilicata', 'Calabria']\nislands = ['Sicilia', 'Sardegna']\n\n# Create a new column 'sector' based on the region\ndf['sector'] = np.where(df['region'].isin(north), 'North',\n                        np.where(df['region'].isin(center), 'Center',\n                                np.where(df['region'].isin(south), 'South',\n                                        np.where(df['region'].isin(islands), 'Islands', 'Undefined'))))\n\n# Calculate the average temperature for each sector for each year\ndf_avg = df.groupby(['year', 'sector'])['avg_temp'].mean().reset_index()\n\n# Plot the results\nplt.figure(figsize=(10, 6))\nfor sector in df_avg['sector'].unique():\n    data = df_avg[df_avg['sector'] == sector]\n    plt.plot(data['year'], data['avg_temp'], label=sector)\nplt.xlabel('Year')\nplt.ylabel('Average Temperature (°C)')\nplt.title('Average Temperature in Italy by Sector')\nplt.legend()\nplt.grid(True)\nplt.show()",
      "outputs": []
    },
    {
      "id": "de56f9e9-ad01-43d8-82c4-fa10d2bcc0aa",
      "cell_type": "code",
      "metadata": {
        "noteable": {
          "cell_type": "code",
          "output_collection_id": "157e70ed-a737-4655-bc14-301b7d8d60fe"
        },
        "ExecuteTime": {
          "end_time": "2023-08-05T12:03:42.818868+00:00",
          "start_time": "2023-08-05T12:03:42.614842+00:00"
        }
      },
      "execution_count": null,
      "source": "# Define the sectors\nnorth = ['Piemonte', 'Valle d\\'Aosta', 'Lombardia', 'Trentino-Alto Adige', 'Veneto', 'Friuli-Venezia Giulia', 'Liguria', 'Emilia-Romagna']\ncenter = ['Toscana', 'Umbria', 'Marche', 'Lazio']\nsouth = ['Abruzzo', 'Molise', 'Campania', 'Puglia', 'Basilicata', 'Calabria']\nislands = ['Sicilia', 'Sardegna']\n\n# Create a new column 'sector' based on the region\ndf_data['sector'] = np.where(df_data['region'].isin(north), 'North',\n                        np.where(df_data['region'].isin(center), 'Center',\n                                np.where(df_data['region'].isin(south), 'South',\n                                        np.where(df_data['region'].isin(islands), 'Islands', 'Undefined'))))\n\n# Calculate the average temperature for each sector for each year\ndf_avg = df_data.groupby(['Year', 'sector'])['Temperature'].mean().reset_index()\n\n# Plot the results\nimport matplotlib.pyplot as plt\nplt.figure(figsize=(10, 6))\nfor sector in df_avg['sector'].unique():\n    data = df_avg[df_avg['sector'] == sector]\n    plt.plot(data['Year'], data['Temperature'], label=sector)\nplt.xlabel('Year')\nplt.ylabel('Average Temperature (°C)')\nplt.title('Average Temperature in Italy by Sector')\nplt.legend()\nplt.grid(True)\nplt.show()",
      "outputs": []
    },
    {
      "id": "988c470b-e8da-49da-aaee-1da825c9e9b5",
      "cell_type": "code",
      "metadata": {
        "noteable": {
          "cell_type": "code",
          "output_collection_id": "28b27499-9c59-40de-87f6-0925e5d22cbe"
        },
        "ExecuteTime": {
          "end_time": "2023-08-05T12:04:47.670391+00:00",
          "start_time": "2023-08-05T12:04:47.479325+00:00"
        }
      },
      "execution_count": null,
      "source": "# Map 'City' to 'Region'\ndf_data['Region'] = df_data['City'].map(province_to_region)\n\n# Define the sectors\nnorth = ['Piemonte', 'Valle d\\'Aosta', 'Lombardia', 'Trentino-Alto Adige', 'Veneto', 'Friuli-Venezia Giulia', 'Liguria', 'Emilia-Romagna']\ncenter = ['Toscana', 'Umbria', 'Marche', 'Lazio']\nsouth = ['Abruzzo', 'Molise', 'Campania', 'Puglia', 'Basilicata', 'Calabria']\nislands = ['Sicilia', 'Sardegna']\n\n# Create a new column 'sector' based on the region\ndf_data['sector'] = np.where(df_data['Region'].isin(north), 'North',\n                        np.where(df_data['Region'].isin(center), 'Center',\n                                np.where(df_data['Region'].isin(south), 'South',\n                                        np.where(df_data['Region'].isin(islands), 'Islands', 'Undefined'))))\n\n# Calculate the average temperature for each sector for each year\ndf_avg = df_data.groupby(['Year', 'sector'])['Temperature'].mean().reset_index()\n\n# Plot the results\nimport matplotlib.pyplot as plt\nplt.figure(figsize=(10, 6))\nfor sector in df_avg['sector'].unique():\n    data = df_avg[df_avg['sector'] == sector]\n    plt.plot(data['Year'], data['Temperature'], label=sector)\nplt.xlabel('Year')\nplt.ylabel('Average Temperature (°C)')\nplt.title('Average Temperature in Italy by Sector')\nplt.legend()\nplt.grid(True)\nplt.show()",
      "outputs": []
    },
    {
      "id": "7ac12e7c-42ce-4f85-8bc8-e9f80321d957",
      "cell_type": "code",
      "metadata": {
        "noteable": {
          "cell_type": "code",
          "output_collection_id": "d0c9bace-a08f-4954-b641-78e09304284b"
        },
        "ExecuteTime": {
          "end_time": "2023-08-05T12:05:31.205245+00:00",
          "start_time": "2023-08-05T12:05:31.010487+00:00"
        }
      },
      "execution_count": null,
      "source": "# Define the sectors\nnorth = ['Piemonte', 'Valle d\\'Aosta', 'Lombardia', 'Trentino-Alto Adige', 'Veneto', 'Friuli-Venezia Giulia', 'Liguria', 'Emilia-Romagna']\ncenter = ['Toscana', 'Umbria', 'Marche', 'Lazio']\nsouth = ['Abruzzo', 'Molise', 'Campania', 'Puglia', 'Basilicata', 'Calabria']\nislands = ['Sicilia', 'Sardegna']\n\n# Create a new column 'sector' based on the region\ndf_data['sector'] = np.where(df_data['Region'].isin(north), 'North',\n                        np.where(df_data['Region'].isin(center), 'Center',\n                                np.where(df_data['Region'].isin(south), 'South',\n                                        np.where(df_data['Region'].isin(islands), 'Islands', 'Undefined'))))\n\n# Calculate the average temperature for each sector for each year\ndf_avg = df_data.groupby(['Year', 'sector'])['Temperature'].mean().reset_index()\n\n# Plot the results\nimport matplotlib.pyplot as plt\nplt.figure(figsize=(10, 6))\nfor sector in df_avg['sector'].unique():\n    data = df_avg[df_avg['sector'] == sector]\n    plt.plot(data['Year'], data['Temperature'], label=sector)\nplt.xlabel('Year')\nplt.ylabel('Average Temperature (°C)')\nplt.title('Average Temperature in Italy by Sector')\nplt.legend()\nplt.grid(True)\nplt.show()",
      "outputs": []
    },
    {
      "id": "64032553-3095-49d4-95b2-fd31d923db04",
      "cell_type": "code",
      "metadata": {
        "noteable": {
          "cell_type": "code",
          "output_collection_id": "3c0bab0b-f42f-4e2d-a947-6dcbc497d610"
        },
        "ExecuteTime": {
          "end_time": "2023-08-05T12:06:14.723732+00:00",
          "start_time": "2023-08-05T12:06:14.533307+00:00"
        }
      },
      "execution_count": null,
      "source": "# Define the sectors\nnorth = ['Piemonte', 'Valle d\\'Aosta', 'Lombardia', 'Trentino-Alto Adige', 'Veneto', 'Friuli-Venezia Giulia', 'Liguria', 'Emilia-Romagna']\ncenter = ['Toscana', 'Umbria', 'Marche', 'Lazio']\nsouth = ['Abruzzo', 'Molise', 'Campania', 'Puglia', 'Basilicata', 'Calabria']\nislands = ['Sicilia', 'Sardegna']\n\n# Create a new column 'sector' based on the region\ndf_data['sector'] = np.where(df_data['Region'].isin(north), 'North',\n                        np.where(df_data['Region'].isin(center), 'Center',\n                                np.where(df_data['Region'].isin(south), 'South',\n                                        np.where(df_data['Region'].isin(islands), 'Islands', 'Undefined'))))\n\n# Calculate the average temperature for each sector for each year\ndf_avg = df_data.groupby(['Year', 'sector'])['Temperature'].mean().reset_index()\n\n# Plot the results\nimport matplotlib.pyplot as plt\nplt.figure(figsize=(10, 6))\nfor sector in df_avg['sector'].unique():\n    data = df_avg[df_avg['sector'] == sector]\n    plt.plot(data['Year'], data['Temperature'], label=sector)\nplt.xlabel('Year')\nplt.ylabel('Average Temperature (°C)')\nplt.title('Average Temperature in Italy by Sector')\nplt.legend()\nplt.grid(True)\nplt.show()",
      "outputs": []
    },
    {
      "id": "31153bd6-1fc8-4d56-8aa5-d652e31a7727",
      "cell_type": "code",
      "metadata": {
        "noteable": {
          "cell_type": "code",
          "output_collection_id": "7af99e6c-716c-4194-9e39-8e4d50662ce7"
        },
        "ExecuteTime": {
          "end_time": "2023-08-05T12:06:59.724631+00:00",
          "start_time": "2023-08-05T12:06:59.534206+00:00"
        }
      },
      "execution_count": null,
      "source": "# Define the sectors\nnorth = ['Piemonte', 'Valle d\\'Aosta', 'Lombardia', 'Trentino-Alto Adige', 'Veneto', 'Friuli-Venezia Giulia', 'Liguria', 'Emilia-Romagna']\ncenter = ['Toscana', 'Umbria', 'Marche', 'Lazio']\nsouth = ['Abruzzo', 'Molise', 'Campania', 'Puglia', 'Basilicata', 'Calabria']\nislands = ['Sicilia', 'Sardegna']\n\n# Create a new column 'sector' based on the region\ndf_data['sector'] = np.where(df_data['Region'].isin(north), 'North',\n                        np.where(df_data['Region'].isin(center), 'Center',\n                                np.where(df_data['Region'].isin(south), 'South',\n                                        np.where(df_data['Region'].isin(islands), 'Islands', 'Undefined'))))\n\n# Calculate the average temperature for each sector for each year\ndf_avg = df_data.groupby(['Year', 'sector'])['Temperature'].mean().reset_index()\n\n# Plot the results\nimport matplotlib.pyplot as plt\nplt.figure(figsize=(10, 6))\nfor sector in df_avg['sector'].unique():\n    data = df_avg[df_avg['sector'] == sector]\n    plt.plot(data['Year'], data['Temperature'], label=sector)\nplt.xlabel('Year')\nplt.ylabel('Average Temperature (°C)')\nplt.title('Average Temperature in Italy by Sector')\nplt.legend()\nplt.grid(True)\nplt.show()",
      "outputs": []
    },
    {
      "id": "d253aa1c-9fb7-4d15-8954-e023c5fa07a3",
      "cell_type": "code",
      "metadata": {
        "noteable": {
          "cell_type": "code",
          "output_collection_id": "def6b3c2-da52-4508-8677-2fb8191a4d0b"
        },
        "ExecuteTime": {
          "end_time": "2023-08-05T12:07:45.217886+00:00",
          "start_time": "2023-08-05T12:07:45.027880+00:00"
        }
      },
      "execution_count": null,
      "source": "# Define the sectors\nnorth = ['Piemonte', 'Valle d\\'Aosta', 'Lombardia', 'Trentino-Alto Adige', 'Veneto', 'Friuli-Venezia Giulia', 'Liguria', 'Emilia-Romagna']\ncenter = ['Toscana', 'Umbria', 'Marche', 'Lazio']\nsouth = ['Abruzzo', 'Molise', 'Campania', 'Puglia', 'Basilicata', 'Calabria']\nislands = ['Sicilia', 'Sardegna']\n\n# Create a new column 'sector' based on the region\ndf_data['sector'] = np.where(df_data['Region'].isin(north), 'North',\n                        np.where(df_data['Region'].isin(center), 'Center',\n                                np.where(df_data['Region'].isin(south), 'South',\n                                        np.where(df_data['Region'].isin(islands), 'Islands', 'Undefined'))))\n\n# Calculate the average temperature for each sector for each year\ndf_avg = df_data.groupby(['Year', 'sector'])['Temperature'].mean().reset_index()\n\n# Plot the results\nimport matplotlib.pyplot as plt\nplt.figure(figsize=(10, 6))\nfor sector in df_avg['sector'].unique():\n    data = df_avg[df_avg['sector'] == sector]\n    plt.plot(data['Year'], data['Temperature'], label=sector)\nplt.xlabel('Year')\nplt.ylabel('Average Temperature (°C)')\nplt.title('Average Temperature in Italy by Sector')\nplt.legend()\nplt.grid(True)\nplt.show()",
      "outputs": []
    },
    {
      "id": "798a687e-2c1b-4f29-9c66-923d39c3efaf",
      "cell_type": "code",
      "metadata": {
        "noteable": {
          "cell_type": "code",
          "output_collection_id": "b4012349-3d79-49c3-8020-77a97a40246b"
        },
        "ExecuteTime": {
          "end_time": "2023-08-05T12:08:30.425704+00:00",
          "start_time": "2023-08-05T12:08:30.233495+00:00"
        }
      },
      "execution_count": null,
      "source": "# Define the sectors\nnorth = ['Piemonte', 'Valle d\\'Aosta', 'Lombardia', 'Trentino-Alto Adige', 'Veneto', 'Friuli-Venezia Giulia', 'Liguria', 'Emilia-Romagna']\ncenter = ['Toscana', 'Umbria', 'Marche', 'Lazio']\nsouth = ['Abruzzo', 'Molise', 'Campania', 'Puglia', 'Basilicata', 'Calabria']\nislands = ['Sicilia', 'Sardegna']\n\n# Create a new column 'sector' based on the region\ndf_data['sector'] = np.where(df_data['Region'].isin(north), 'North',\n                        np.where(df_data['Region'].isin(center), 'Center',\n                                np.where(df_data['Region'].isin(south), 'South',\n                                        np.where(df_data['Region'].isin(islands), 'Islands', 'Undefined'))))\n\n# Calculate the average temperature for each sector for each year\ndf_avg = df_data.groupby(['Year', 'sector'])['Temperature'].mean().reset_index()\n\n# Plot the results\nimport matplotlib.pyplot as plt\nplt.figure(figsize=(10, 6))\nfor sector in df_avg['sector'].unique():\n    data = df_avg[df_avg['sector'] == sector]\n    plt.plot(data['Year'], data['Temperature'], label=sector)\nplt.xlabel('Year')\nplt.ylabel('Average Temperature (°C)')\nplt.title('Average Temperature in Italy by Sector')\nplt.legend()\nplt.grid(True)\nplt.show()",
      "outputs": []
    }
  ]
}