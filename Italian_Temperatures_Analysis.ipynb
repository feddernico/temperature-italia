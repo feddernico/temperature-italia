{
  "nbformat": 4,
  "nbformat_minor": 5,
  "metadata": {
    "noteable-chatgpt": {
      "create_notebook": {
        "openai_conversation_id": "eaee611d-6cc6-5f36-9b62-cfa371307b93",
        "openai_ephemeral_user_id": "be039cd3-9340-5470-933a-47ea4a13b329"
      }
    },
    "kernel_info": {
      "name": "python3"
    },
    "noteable": {
      "last_transaction_id": "fc411572-563c-42b8-9fa0-29861a13bb04"
    },
    "kernelspec": {
      "display_name": "Python 3.9",
      "language": "python",
      "name": "python3"
    }
  },
  "cells": [
    {
      "id": "f9a56a7f-50b3-4dc1-9edb-7e810474f867",
      "cell_type": "code",
      "metadata": {
        "noteable": {
          "cell_type": "code",
          "output_collection_id": "7abc71ae-eb4c-461b-bcd5-6f8e10288959"
        },
        "ExecuteTime": {
          "end_time": "2023-08-05T04:56:19.574168+00:00",
          "start_time": "2023-08-05T04:56:18.296358+00:00"
        }
      },
      "execution_count": null,
      "source": "import pandas as pd\nfile_path = 'Tavole-Dati-Meteoclimatici-Anno-2021.xlsx'\nsheet_name = 'Tavola 1'\nitaly_data = pd.read_excel(file_path, sheet_name=sheet_name, header=3)\nitaly_data.columns = ['Province'] + [f'Year_{year}' for year in range(1921, 2022)]\nitaly_data = italy_data.melt(id_vars=['Province'], var_name='Year', value_name='Temperature')\nitaly_data['Year'] = italy_data['Year'].str.extract('Year_(\\d+)').astype(int)\nitaly_data.head()",
      "outputs": []
    },
    {
      "id": "45e4f14a-6b5e-4956-83ed-9ce188230e8c",
      "cell_type": "code",
      "metadata": {
        "noteable": {
          "cell_type": "code",
          "output_collection_id": "8d3a27d2-1907-4ad6-b20b-25168b620de2"
        },
        "ExecuteTime": {
          "end_time": "2023-08-05T04:56:31.150847+00:00",
          "start_time": "2023-08-05T04:56:30.872173+00:00"
        }
      },
      "execution_count": null,
      "source": "xls = pd.ExcelFile(file_path)\nsheet_names = xls.sheet_names\nsheet_names",
      "outputs": []
    },
    {
      "id": "6a9d9698-3651-4bfd-bb74-aa784efdb0a2",
      "cell_type": "code",
      "metadata": {
        "noteable": {
          "cell_type": "code",
          "output_collection_id": "22da0c57-0ab2-4834-b0fc-e6ca2f576b52"
        },
        "ExecuteTime": {
          "end_time": "2023-08-05T04:56:49.549282+00:00",
          "start_time": "2023-08-05T04:56:48.272546+00:00"
        }
      },
      "execution_count": null,
      "source": "sheet_name = 'Tavola_1'\nitaly_data = pd.read_excel(file_path, sheet_name=sheet_name, header=3)\nitaly_data.columns = ['Province'] + [f'Year_{year}' for year in range(1921, 2022)]\nitaly_data = italy_data.melt(id_vars=['Province'], var_name='Year', value_name='Temperature')\nitaly_data['Year'] = italy_data['Year'].str.extract('Year_(\\d+)').astype(int)\nitaly_data.head()",
      "outputs": []
    },
    {
      "id": "e7d49ea8-5080-400e-9f7f-7200ef213476",
      "cell_type": "code",
      "metadata": {
        "noteable": {
          "cell_type": "code",
          "output_collection_id": "cec65313-77db-441e-b7ab-dc260c4e02a3"
        },
        "ExecuteTime": {
          "end_time": "2023-08-05T04:57:01.722581+00:00",
          "start_time": "2023-08-05T04:57:01.168400+00:00"
        },
        "datalink": {
          "13ca33da-5720-474b-a948-5dbf62821a67": {
            "applied_filters": [],
            "dataframe_info": {
              "default_index_used": true,
              "orig_num_cols": 34,
              "orig_num_rows": 5,
              "orig_size_bytes": 1400,
              "truncated_num_cols": 34,
              "truncated_num_rows": 5,
              "truncated_size_bytes": 1400,
              "truncated_string_columns": []
            },
            "display_id": "13ca33da-5720-474b-a948-5dbf62821a67",
            "dx_settings": {
              "ALLOW_NOTEABLE_ATTRS": true,
              "COLUMN_SAMPLING_METHOD": "outer",
              "DB_LOCATION": ":memory:",
              "DEV_MODE": false,
              "DISPLAY_MAX_COLUMNS": 100,
              "DISPLAY_MAX_ROWS": 50000,
              "DISPLAY_MODE": "simple",
              "ENABLE_ASSIGNMENT": true,
              "ENABLE_DATALINK": true,
              "FLATTEN_COLUMN_VALUES": true,
              "FLATTEN_INDEX_VALUES": false,
              "GENERATE_DEX_METADATA": false,
              "HTML_TABLE_SCHEMA": false,
              "LOG_LEVEL": 30,
              "MAX_RENDER_SIZE_BYTES": 104857600,
              "MAX_STRING_LENGTH": 250,
              "NUM_PAST_SAMPLES_TRACKED": 3,
              "RANDOM_STATE": 12648430,
              "RESET_INDEX_VALUES": false,
              "ROW_SAMPLING_METHOD": "random",
              "SAMPLING_FACTOR": 0.1,
              "SAMPLING_METHOD": "random",
              "STRINGIFY_COLUMN_VALUES": true,
              "STRINGIFY_INDEX_VALUES": false
            },
            "sample_history": [],
            "sampling_time": "2023-08-05T04:57:01.559125",
            "user_variable_name": null,
            "variable_name": "unk_dataframe_f0c6e89786d54f22a7b78e4775543142"
          }
        }
      },
      "execution_count": null,
      "source": "italy_data_preview = pd.read_excel(file_path, sheet_name=sheet_name, header=None)\nitaly_data_preview.head(5)",
      "outputs": []
    },
    {
      "id": "148f997e-9d9f-45b3-bfaa-9b9308729849",
      "cell_type": "code",
      "metadata": {
        "noteable": {
          "cell_type": "code",
          "output_collection_id": "9132e145-46cc-459f-9eeb-c67372ba9958"
        },
        "ExecuteTime": {
          "end_time": "2023-08-05T04:57:16.422347+00:00",
          "start_time": "2023-08-05T04:57:15.990060+00:00"
        }
      },
      "execution_count": null,
      "source": "italy_data = pd.read_excel(file_path, sheet_name=sheet_name, header=3)\nitaly_data.columns = ['Province'] + [str(year) for year in range(2006, 2022)]\nitaly_data = italy_data.melt(id_vars=['Province'], var_name='Year', value_name='Temperature')\nitaly_data['Year'] = italy_data['Year'].astype(int)\nitaly_data.head()",
      "outputs": []
    },
    {
      "id": "bfdac65f-9c3a-49ce-85d7-1ac863248536",
      "cell_type": "code",
      "metadata": {
        "noteable": {
          "cell_type": "code",
          "output_collection_id": "989fd5d1-1c92-41a0-88d3-45ac6fa640fa"
        },
        "ExecuteTime": {
          "end_time": "2023-08-05T04:57:29.050074+00:00",
          "start_time": "2023-08-05T04:57:28.705351+00:00"
        }
      },
      "execution_count": null,
      "source": "italy_data = pd.read_excel(file_path, sheet_name=sheet_name, header=3)\nitaly_data.columns",
      "outputs": []
    }
  ]
}