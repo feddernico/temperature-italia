{
  "nbformat": 4,
  "nbformat_minor": 5,
  "metadata": {
    "noteable-chatgpt": {
      "create_notebook": {
        "openai_conversation_id": "eaee611d-6cc6-5f36-9b62-cfa371307b93",
        "openai_ephemeral_user_id": "be039cd3-9340-5470-933a-47ea4a13b329"
      }
    },
    "kernel_info": {
      "name": "python3"
    },
    "noteable": {
      "last_transaction_id": "6922ac31-f622-444b-9bb5-950164e969b1"
    },
    "kernelspec": {
      "display_name": "Python 3.9",
      "language": "python",
      "name": "python3"
    }
  },
  "cells": [
    {
      "id": "f9a56a7f-50b3-4dc1-9edb-7e810474f867",
      "cell_type": "code",
      "metadata": {
        "noteable": {
          "cell_type": "code",
          "output_collection_id": "7abc71ae-eb4c-461b-bcd5-6f8e10288959"
        },
        "ExecuteTime": {
          "end_time": "2023-08-05T04:56:19.574168+00:00",
          "start_time": "2023-08-05T04:56:18.296358+00:00"
        }
      },
      "execution_count": null,
      "source": "import pandas as pd\nfile_path = 'Tavole-Dati-Meteoclimatici-Anno-2021.xlsx'\nsheet_name = 'Tavola 1'\nitaly_data = pd.read_excel(file_path, sheet_name=sheet_name, header=3)\nitaly_data.columns = ['Province'] + [f'Year_{year}' for year in range(1921, 2022)]\nitaly_data = italy_data.melt(id_vars=['Province'], var_name='Year', value_name='Temperature')\nitaly_data['Year'] = italy_data['Year'].str.extract('Year_(\\d+)').astype(int)\nitaly_data.head()",
      "outputs": []
    },
    {
      "id": "45e4f14a-6b5e-4956-83ed-9ce188230e8c",
      "cell_type": "code",
      "metadata": {
        "noteable": {
          "cell_type": "code",
          "output_collection_id": "8d3a27d2-1907-4ad6-b20b-25168b620de2"
        },
        "ExecuteTime": {
          "end_time": "2023-08-05T04:56:31.150847+00:00",
          "start_time": "2023-08-05T04:56:30.872173+00:00"
        }
      },
      "execution_count": null,
      "source": "xls = pd.ExcelFile(file_path)\nsheet_names = xls.sheet_names\nsheet_names",
      "outputs": []
    }
  ]
}