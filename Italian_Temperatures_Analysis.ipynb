{
  "nbformat": 4,
  "nbformat_minor": 5,
  "metadata": {
    "noteable-chatgpt": {
      "create_notebook": {
        "openai_conversation_id": "eaee611d-6cc6-5f36-9b62-cfa371307b93",
        "openai_ephemeral_user_id": "be039cd3-9340-5470-933a-47ea4a13b329"
      }
    },
    "kernel_info": {
      "name": "python3"
    },
    "noteable": {
      "last_transaction_id": "b8986598-64c2-4ff9-89e1-21421b7941f0"
    },
    "kernelspec": {
      "display_name": "Python 3.9",
      "language": "python",
      "name": "python3"
    },
    "selected_hardware_size": "small"
  },
  "cells": [
    {
      "id": "f9a56a7f-50b3-4dc1-9edb-7e810474f867",
      "cell_type": "code",
      "metadata": {
        "noteable": {
          "cell_type": "code",
          "output_collection_id": "7abc71ae-eb4c-461b-bcd5-6f8e10288959"
        },
        "ExecuteTime": {
          "end_time": "2023-08-05T04:56:19.574168+00:00",
          "start_time": "2023-08-05T04:56:18.296358+00:00"
        }
      },
      "execution_count": null,
      "source": "\nsheet_name = 'Tavola 1'\nitaly_data = pd.read_excel(file_path, sheet_name=sheet_name, header=3)\nitaly_data.columns = ['Province'] + [f'Year_{year}' for year in range(1921, 2022)]\nitaly_data = italy_data.melt(id_vars=['Province'], var_name='Year', value_name='Temperature')\nitaly_data['Year'] = italy_data['Year'].str.extract('Year_(\\d+)').astype(int)\nitaly_data.head()",
      "outputs": []
    },
    {
      "id": "45e4f14a-6b5e-4956-83ed-9ce188230e8c",
      "cell_type": "code",
      "metadata": {
        "noteable": {
          "cell_type": "code",
          "output_collection_id": "50e98beb-e963-4896-b984-6f766e7d45d0"
        },
        "ExecuteTime": {
          "end_time": "2023-08-05T11:47:05.264083+00:00",
          "start_time": "2023-08-05T11:47:04.731357+00:00"
        }
      },
      "execution_count": null,
      "source": "import pandas as pd\nfile_path = 'Tavole-Dati-Meteoclimatici-Anno-2021.xlsx'\nxls = pd.ExcelFile(file_path)\nsheet_names = xls.sheet_names\nsheet_names",
      "outputs": []
    },
    {
      "id": "6a9d9698-3651-4bfd-bb74-aa784efdb0a2",
      "cell_type": "code",
      "metadata": {
        "noteable": {
          "cell_type": "code",
          "output_collection_id": "5e5ef3e6-d219-46d1-8cf4-7034a75299de"
        },
        "ExecuteTime": {
          "end_time": "2023-08-05T11:47:25.305603+00:00",
          "start_time": "2023-08-05T11:47:24.052082+00:00"
        }
      },
      "execution_count": null,
      "source": "sheet_name = 'Tavola_1'\nitaly_data = pd.read_excel(file_path, sheet_name=sheet_name, header=3)\nitaly_data.columns = ['Province'] + [f'Year_{year}' for year in range(1921, 2022)]\nitaly_data = italy_data.melt(id_vars=['Province'], var_name='Year', value_name='Temperature')\nitaly_data['Year'] = italy_data['Year'].str.extract('Year_(\\d+)').astype(int)\nitaly_data.head()",
      "outputs": []
    },
    {
      "id": "e7d49ea8-5080-400e-9f7f-7200ef213476",
      "cell_type": "code",
      "metadata": {
        "noteable": {
          "cell_type": "code",
          "output_collection_id": "cec65313-77db-441e-b7ab-dc260c4e02a3"
        },
        "ExecuteTime": {
          "end_time": "2023-08-05T04:57:01.722581+00:00",
          "start_time": "2023-08-05T04:57:01.168400+00:00"
        },
        "datalink": {
          "13ca33da-5720-474b-a948-5dbf62821a67": {
            "applied_filters": [],
            "dataframe_info": {
              "default_index_used": true,
              "orig_num_cols": 34,
              "orig_num_rows": 5,
              "orig_size_bytes": 1400,
              "truncated_num_cols": 34,
              "truncated_num_rows": 5,
              "truncated_size_bytes": 1400,
              "truncated_string_columns": []
            },
            "display_id": "13ca33da-5720-474b-a948-5dbf62821a67",
            "dx_settings": {
              "ALLOW_NOTEABLE_ATTRS": true,
              "COLUMN_SAMPLING_METHOD": "outer",
              "DB_LOCATION": ":memory:",
              "DEV_MODE": false,
              "DISPLAY_MAX_COLUMNS": 100,
              "DISPLAY_MAX_ROWS": 50000,
              "DISPLAY_MODE": "simple",
              "ENABLE_ASSIGNMENT": true,
              "ENABLE_DATALINK": true,
              "FLATTEN_COLUMN_VALUES": true,
              "FLATTEN_INDEX_VALUES": false,
              "GENERATE_DEX_METADATA": false,
              "HTML_TABLE_SCHEMA": false,
              "LOG_LEVEL": 30,
              "MAX_RENDER_SIZE_BYTES": 104857600,
              "MAX_STRING_LENGTH": 250,
              "NUM_PAST_SAMPLES_TRACKED": 3,
              "RANDOM_STATE": 12648430,
              "RESET_INDEX_VALUES": false,
              "ROW_SAMPLING_METHOD": "random",
              "SAMPLING_FACTOR": 0.1,
              "SAMPLING_METHOD": "random",
              "STRINGIFY_COLUMN_VALUES": true,
              "STRINGIFY_INDEX_VALUES": false
            },
            "sample_history": [],
            "sampling_time": "2023-08-05T04:57:01.559125",
            "user_variable_name": null,
            "variable_name": "unk_dataframe_f0c6e89786d54f22a7b78e4775543142"
          }
        }
      },
      "execution_count": null,
      "source": "italy_data_preview = pd.read_excel(file_path, sheet_name=sheet_name, header=None)\nitaly_data_preview.head(5)",
      "outputs": []
    },
    {
      "id": "148f997e-9d9f-45b3-bfaa-9b9308729849",
      "cell_type": "code",
      "metadata": {
        "noteable": {
          "cell_type": "code",
          "output_collection_id": "9132e145-46cc-459f-9eeb-c67372ba9958"
        },
        "ExecuteTime": {
          "end_time": "2023-08-05T04:57:16.422347+00:00",
          "start_time": "2023-08-05T04:57:15.990060+00:00"
        }
      },
      "execution_count": null,
      "source": "italy_data = pd.read_excel(file_path, sheet_name=sheet_name, header=3)\nitaly_data.columns = ['Province'] + [str(year) for year in range(2006, 2022)]\nitaly_data = italy_data.melt(id_vars=['Province'], var_name='Year', value_name='Temperature')\nitaly_data['Year'] = italy_data['Year'].astype(int)\nitaly_data.head()",
      "outputs": []
    },
    {
      "id": "bfdac65f-9c3a-49ce-85d7-1ac863248536",
      "cell_type": "code",
      "metadata": {
        "noteable": {
          "cell_type": "code",
          "output_collection_id": "989fd5d1-1c92-41a0-88d3-45ac6fa640fa"
        },
        "ExecuteTime": {
          "end_time": "2023-08-05T04:57:29.050074+00:00",
          "start_time": "2023-08-05T04:57:28.705351+00:00"
        }
      },
      "execution_count": null,
      "source": "italy_data = pd.read_excel(file_path, sheet_name=sheet_name, header=3)\nitaly_data.columns",
      "outputs": []
    },
    {
      "id": "ca68f073-6316-4d49-96c3-c140a7e8f36b",
      "cell_type": "code",
      "metadata": {
        "noteable": {
          "cell_type": "code",
          "output_collection_id": "d8c25a17-ac82-4071-8582-214990e4d919"
        },
        "ExecuteTime": {
          "end_time": "2023-08-05T04:57:51.282569+00:00",
          "start_time": "2023-08-05T04:57:51.062545+00:00"
        },
        "datalink": {
          "c11f70c1-942b-4924-aec5-369fbae05bbc": {
            "applied_filters": [],
            "dataframe_info": {
              "default_index_used": true,
              "orig_num_cols": 3,
              "orig_num_rows": 5,
              "orig_size_bytes": 160,
              "truncated_num_cols": 3,
              "truncated_num_rows": 5,
              "truncated_size_bytes": 160,
              "truncated_string_columns": []
            },
            "display_id": "c11f70c1-942b-4924-aec5-369fbae05bbc",
            "dx_settings": {
              "ALLOW_NOTEABLE_ATTRS": true,
              "COLUMN_SAMPLING_METHOD": "outer",
              "DB_LOCATION": ":memory:",
              "DEV_MODE": false,
              "DISPLAY_MAX_COLUMNS": 100,
              "DISPLAY_MAX_ROWS": 50000,
              "DISPLAY_MODE": "simple",
              "ENABLE_ASSIGNMENT": true,
              "ENABLE_DATALINK": true,
              "FLATTEN_COLUMN_VALUES": true,
              "FLATTEN_INDEX_VALUES": false,
              "GENERATE_DEX_METADATA": false,
              "HTML_TABLE_SCHEMA": false,
              "LOG_LEVEL": 30,
              "MAX_RENDER_SIZE_BYTES": 104857600,
              "MAX_STRING_LENGTH": 250,
              "NUM_PAST_SAMPLES_TRACKED": 3,
              "RANDOM_STATE": 12648430,
              "RESET_INDEX_VALUES": false,
              "ROW_SAMPLING_METHOD": "random",
              "SAMPLING_FACTOR": 0.1,
              "SAMPLING_METHOD": "random",
              "STRINGIFY_COLUMN_VALUES": true,
              "STRINGIFY_INDEX_VALUES": false
            },
            "sample_history": [],
            "sampling_time": "2023-08-05T04:57:51.126087",
            "user_variable_name": null,
            "variable_name": "unk_dataframe_0a4aab5043604439b8e4f383825e68dd"
          }
        }
      },
      "execution_count": null,
      "source": "italy_data.rename(columns={'Unnamed: 0': 'Province'}, inplace=True)\ntemperature_data = italy_data[['Province'] + [year for year in range(2006, 2022)]]\ntemperature_data = temperature_data.melt(id_vars=['Province'], var_name='Year', value_name='Temperature')\ntemperature_data['Year'] = temperature_data['Year'].astype(int)\ntemperature_data.head()",
      "outputs": []
    },
    {
      "id": "00538b76-8e5e-494f-a398-2091f76d780e",
      "cell_type": "code",
      "metadata": {
        "noteable": {
          "cell_type": "code",
          "output_collection_id": "7ac66c83-162c-4e03-b1f7-aca840bb9522"
        },
        "ExecuteTime": {
          "end_time": "2023-08-05T04:59:13.029732+00:00",
          "start_time": "2023-08-05T04:59:12.816239+00:00"
        },
        "datalink": {
          "6d8f4db6-e486-42bc-bb18-381f527794a7": {
            "applied_filters": [],
            "dataframe_info": {
              "default_index_used": true,
              "orig_num_cols": 4,
              "orig_num_rows": 5,
              "orig_size_bytes": 200,
              "truncated_num_cols": 4,
              "truncated_num_rows": 5,
              "truncated_size_bytes": 200,
              "truncated_string_columns": []
            },
            "display_id": "6d8f4db6-e486-42bc-bb18-381f527794a7",
            "dx_settings": {
              "ALLOW_NOTEABLE_ATTRS": true,
              "COLUMN_SAMPLING_METHOD": "outer",
              "DB_LOCATION": ":memory:",
              "DEV_MODE": false,
              "DISPLAY_MAX_COLUMNS": 100,
              "DISPLAY_MAX_ROWS": 50000,
              "DISPLAY_MODE": "simple",
              "ENABLE_ASSIGNMENT": true,
              "ENABLE_DATALINK": true,
              "FLATTEN_COLUMN_VALUES": true,
              "FLATTEN_INDEX_VALUES": false,
              "GENERATE_DEX_METADATA": false,
              "HTML_TABLE_SCHEMA": false,
              "LOG_LEVEL": 30,
              "MAX_RENDER_SIZE_BYTES": 104857600,
              "MAX_STRING_LENGTH": 250,
              "NUM_PAST_SAMPLES_TRACKED": 3,
              "RANDOM_STATE": 12648430,
              "RESET_INDEX_VALUES": false,
              "ROW_SAMPLING_METHOD": "random",
              "SAMPLING_FACTOR": 0.1,
              "SAMPLING_METHOD": "random",
              "STRINGIFY_COLUMN_VALUES": true,
              "STRINGIFY_INDEX_VALUES": false
            },
            "sample_history": [],
            "sampling_time": "2023-08-05T04:59:12.873057",
            "user_variable_name": null,
            "variable_name": "unk_dataframe_6223969fabe548aba1985dc8d80c268a"
          }
        }
      },
      "execution_count": null,
      "source": "precipitation_data = italy_data[['Province'] + [f'{year}.1' for year in range(2006, 2022)]]\nprecipitation_data.columns = ['Province'] + [str(year) for year in range(2006, 2022)]\nprecipitation_data = precipitation_data.melt(id_vars=['Province'], var_name='Year', value_name='Precipitation')\nprecipitation_data['Year'] = precipitation_data['Year'].astype(int)\nitaly_weather_data = pd.merge(temperature_data, precipitation_data, on=['Province', 'Year'])\nitaly_weather_data.head()",
      "outputs": []
    },
    {
      "id": "65b60f97-0ef9-4d86-9ca0-2c0e97ff01c7",
      "cell_type": "code",
      "metadata": {
        "noteable": {
          "cell_type": "code",
          "output_collection_id": "64c9604b-0023-49f9-9e83-40028c52dee4"
        },
        "ExecuteTime": {
          "end_time": "2023-08-05T05:00:18.380519+00:00",
          "start_time": "2023-08-05T05:00:18.214073+00:00"
        }
      },
      "execution_count": null,
      "source": "northern_region_mapping = {\n    'Alessandria': 'Piedmont', 'Asti': 'Piedmont', 'Biella': 'Piedmont', 'Cuneo': 'Piedmont', 'Novara': 'Piedmont', 'Turin': 'Piedmont', 'Verbano-Cusio-Ossola': 'Piedmont', 'Vercelli': 'Piedmont',\n    'Bergamo': 'Lombardy', 'Brescia': 'Lombardy', 'Como': 'Lombardy', 'Cremona': 'Lombardy', 'Lecco': 'Lombardy', 'Lodi': 'Lombardy', 'Mantua': 'Lombardy', 'Milan': 'Lombardy', 'Monza and Brianza': 'Lombardy', 'Pavia': 'Lombardy', 'Sondrio': 'Lombardy', 'Varese': 'Lombardy',\n    'Bologna': 'Emilia-Romagna', 'Ferrara': 'Emilia-Romagna', 'Forlì-Cesena': 'Emilia-Romagna', 'Modena': 'Emilia-Romagna', 'Parma': 'Emilia-Romagna', 'Piacenza': 'Emilia-Romagna', 'Ravenna': 'Emilia-Romagna', 'Reggio Emilia': 'Emilia-Romagna', 'Rimini': 'Emilia-Romagna',\n    'Genoa': 'Liguria', 'Imperia': 'Liguria', 'La Spezia': 'Liguria', 'Savona': 'Liguria',\n    'Bolzano': 'Trentino-Alto Adige', 'Trento': 'Trentino-Alto Adige',\n    'Belluno': 'Veneto', 'Padua': 'Veneto', 'Rovigo': 'Veneto', 'Treviso': 'Veneto', 'Venice': 'Veneto', 'Verona': 'Veneto', 'Vicenza': 'Veneto',\n    'Gorizia': 'Friuli-Venezia Giulia', 'Pordenone': 'Friuli-Venezia Giulia', 'Trieste': 'Friuli-Venezia Giulia', 'Udine': 'Friuli-Venezia Giulia',\n    'Aosta': 'Aosta Valley'\n}\nnorthern_region_mapping",
      "outputs": []
    },
    {
      "id": "d95bffd2-f989-4a7d-bd59-ec1ba7f0ce55",
      "cell_type": "code",
      "metadata": {
        "noteable": {
          "cell_type": "code",
          "output_collection_id": "096801e5-54c4-4212-8949-3ee3a4b3cf5f"
        },
        "ExecuteTime": {
          "end_time": "2023-08-05T05:00:57.708280+00:00",
          "start_time": "2023-08-05T05:00:57.541594+00:00"
        }
      },
      "execution_count": null,
      "source": "central_region_mapping = {\n    'Ancona': 'Marche', 'Ascoli Piceno': 'Marche', 'Fermo': 'Marche', 'Macerata': 'Marche', 'Pesaro and Urbino': 'Marche',\n    'Arezzo': 'Tuscany', 'Florence': 'Tuscany', 'Grosseto': 'Tuscany', 'Livorno': 'Tuscany', 'Lucca': 'Tuscany', 'Massa and Carrara': 'Tuscany', 'Pisa': 'Tuscany', 'Pistoia': 'Tuscany', 'Prato': 'Tuscany', 'Siena': 'Tuscany',\n    'Frosinone': 'Lazio', 'Latina': 'Lazio', 'Rieti': 'Lazio', 'Rome': 'Lazio', 'Viterbo': 'Lazio',\n    'Perugia': 'Umbria', 'Terni': 'Umbria'\n}\nsouthern_region_mapping = {\n    'Avellino': 'Campania', 'Benevento': 'Campania', 'Caserta': 'Campania', 'Naples': 'Campania', 'Salerno': 'Campania',\n    'Bari': 'Apulia', 'Barletta-Andria-Trani': 'Apulia', 'Brindisi': 'Apulia', 'Foggia': 'Apulia', 'Lecce': 'Apulia', 'Taranto': 'Apulia',\n    'Matera': 'Basilicata', 'Potenza': 'Basilicata',\n    'Catanzaro': 'Calabria', 'Cosenza': 'Calabria', 'Crotone': 'Calabria', 'Reggio Calabria': 'Calabria', 'Vibo Valentia': 'Calabria',\n    'Agrigento': 'Sicily', 'Caltanissetta': 'Sicily', 'Catania': 'Sicily', 'Enna': 'Sicily', 'Messina': 'Sicily', 'Palermo': 'Sicily', 'Ragusa': 'Sicily', 'Syracuse': 'Sicily', 'Trapani': 'Sicily'\n}\ninsular_region_mapping = {\n    'Cagliari': 'Sardinia', 'Nuoro': 'Sardinia', 'Oristano': 'Sardinia', 'Sassari': 'Sardinia', 'South Sardinia': 'Sardinia'\n}\ncentral_region_mapping, southern_region_mapping, insular_region_mapping",
      "outputs": []
    },
    {
      "id": "7d790212-ed4b-41d6-aa59-f06161134a7e",
      "cell_type": "code",
      "metadata": {
        "noteable": {
          "cell_type": "code",
          "output_collection_id": "9c34bf77-2fc7-44ea-987c-0efe7b1f9931"
        },
        "ExecuteTime": {
          "end_time": "2023-08-05T05:01:22.109680+00:00",
          "start_time": "2023-08-05T05:01:21.871497+00:00"
        },
        "datalink": {
          "ef7ffb58-b3b2-4985-9ed2-f33e3b05ea4f": {
            "applied_filters": [],
            "dataframe_info": {
              "default_index_used": true,
              "orig_num_cols": 6,
              "orig_num_rows": 5,
              "orig_size_bytes": 280,
              "truncated_num_cols": 6,
              "truncated_num_rows": 5,
              "truncated_size_bytes": 280,
              "truncated_string_columns": []
            },
            "display_id": "ef7ffb58-b3b2-4985-9ed2-f33e3b05ea4f",
            "dx_settings": {
              "ALLOW_NOTEABLE_ATTRS": true,
              "COLUMN_SAMPLING_METHOD": "outer",
              "DB_LOCATION": ":memory:",
              "DEV_MODE": false,
              "DISPLAY_MAX_COLUMNS": 100,
              "DISPLAY_MAX_ROWS": 50000,
              "DISPLAY_MODE": "simple",
              "ENABLE_ASSIGNMENT": true,
              "ENABLE_DATALINK": true,
              "FLATTEN_COLUMN_VALUES": true,
              "FLATTEN_INDEX_VALUES": false,
              "GENERATE_DEX_METADATA": false,
              "HTML_TABLE_SCHEMA": false,
              "LOG_LEVEL": 30,
              "MAX_RENDER_SIZE_BYTES": 104857600,
              "MAX_STRING_LENGTH": 250,
              "NUM_PAST_SAMPLES_TRACKED": 3,
              "RANDOM_STATE": 12648430,
              "RESET_INDEX_VALUES": false,
              "ROW_SAMPLING_METHOD": "random",
              "SAMPLING_FACTOR": 0.1,
              "SAMPLING_METHOD": "random",
              "STRINGIFY_COLUMN_VALUES": true,
              "STRINGIFY_INDEX_VALUES": false
            },
            "sample_history": [],
            "sampling_time": "2023-08-05T05:01:21.952083",
            "user_variable_name": null,
            "variable_name": "unk_dataframe_58b9e3a12f4842f7a567e783abc0ebc1"
          }
        }
      },
      "execution_count": null,
      "source": "# Combine all region mappings\nregion_mapping = {**northern_region_mapping, **central_region_mapping, **southern_region_mapping, **insular_region_mapping}\nitaly_weather_data['Region'] = italy_weather_data['Province'].map(region_mapping)\n\n# Define sector mapping based on region\nsector_mapping = {\n    'Piedmont': 'Northern', 'Lombardy': 'Northern', 'Emilia-Romagna': 'Northern', 'Liguria': 'Northern', 'Trentino-Alto Adige': 'Northern', 'Veneto': 'Northern', 'Friuli-Venezia Giulia': 'Northern', 'Aosta Valley': 'Northern',\n    'Marche': 'Central', 'Tuscany': 'Central', 'Lazio': 'Central', 'Umbria': 'Central',\n    'Campania': 'Southern', 'Apulia': 'Southern', 'Basilicata': 'Southern', 'Calabria': 'Southern', 'Sicily': 'Southern',\n    'Sardinia': 'Insular'\n}\nitaly_weather_data['Sector'] = italy_weather_data['Region'].map(sector_mapping)\nitaly_weather_data.head()",
      "outputs": []
    },
    {
      "id": "af8f45db-ffcf-4a16-992e-44aba9ead819",
      "cell_type": "code",
      "metadata": {
        "noteable": {
          "cell_type": "code",
          "output_collection_id": "1f6f0dfc-4c1c-41c0-8c61-62750ae1fda3"
        },
        "ExecuteTime": {
          "end_time": "2023-08-05T05:01:57.240140+00:00",
          "start_time": "2023-08-05T05:01:57.015823+00:00"
        },
        "datalink": {
          "b5b0a34a-54a5-4dd2-978f-063173588e39": {
            "applied_filters": [],
            "dataframe_info": {
              "default_index_used": true,
              "orig_num_cols": 6,
              "orig_num_rows": 5,
              "orig_size_bytes": 280,
              "truncated_num_cols": 6,
              "truncated_num_rows": 5,
              "truncated_size_bytes": 280,
              "truncated_string_columns": []
            },
            "display_id": "b5b0a34a-54a5-4dd2-978f-063173588e39",
            "dx_settings": {
              "ALLOW_NOTEABLE_ATTRS": true,
              "COLUMN_SAMPLING_METHOD": "outer",
              "DB_LOCATION": ":memory:",
              "DEV_MODE": false,
              "DISPLAY_MAX_COLUMNS": 100,
              "DISPLAY_MAX_ROWS": 50000,
              "DISPLAY_MODE": "simple",
              "ENABLE_ASSIGNMENT": true,
              "ENABLE_DATALINK": true,
              "FLATTEN_COLUMN_VALUES": true,
              "FLATTEN_INDEX_VALUES": false,
              "GENERATE_DEX_METADATA": false,
              "HTML_TABLE_SCHEMA": false,
              "LOG_LEVEL": 30,
              "MAX_RENDER_SIZE_BYTES": 104857600,
              "MAX_STRING_LENGTH": 250,
              "NUM_PAST_SAMPLES_TRACKED": 3,
              "RANDOM_STATE": 12648430,
              "RESET_INDEX_VALUES": false,
              "ROW_SAMPLING_METHOD": "random",
              "SAMPLING_FACTOR": 0.1,
              "SAMPLING_METHOD": "random",
              "STRINGIFY_COLUMN_VALUES": true,
              "STRINGIFY_INDEX_VALUES": false
            },
            "sample_history": [],
            "sampling_time": "2023-08-05T05:01:57.082038",
            "user_variable_name": null,
            "variable_name": "unk_dataframe_29199a5eea38436db0a3f0c37ede0fc6"
          }
        }
      },
      "execution_count": null,
      "source": "# Update the mapping for 'Torino'\nnorthern_region_mapping['Torino'] = 'Piedmont'\n\n# Combine all region mappings again\nregion_mapping = {**northern_region_mapping, **central_region_mapping, **southern_region_mapping, **insular_region_mapping}\nitaly_weather_data['Region'] = italy_weather_data['Province'].map(region_mapping)\n\n# Apply sector mapping based on region\nitaly_weather_data['Sector'] = italy_weather_data['Region'].map(sector_mapping)\nitaly_weather_data.head()",
      "outputs": []
    },
    {
      "id": "2f8d3a68-d5f3-4bea-a09c-35bc4ecc2c5b",
      "cell_type": "code",
      "metadata": {
        "noteable": {
          "cell_type": "code",
          "output_collection_id": "c8c0eeaf-dbb2-4dc3-823a-320123c584a7"
        },
        "ExecuteTime": {
          "end_time": "2023-08-05T05:02:52.081499+00:00",
          "start_time": "2023-08-05T05:02:49.710664+00:00"
        }
      },
      "execution_count": null,
      "source": "import seaborn as sns\nimport matplotlib.pyplot as plt\n\n# Calculate the mean temperature for each sector by year\nsector_temperature_trend = italy_weather_data.groupby(['Sector', 'Year'])['Temperature'].mean().reset_index()\n\n# Plot the trend in temperatures by sector\nplt.figure(figsize=(12, 6))\nsns.lineplot(x='Year', y='Temperature', hue='Sector', data=sector_temperature_trend)\nplt.title('Trend in Average Temperatures by Sector in Italy (2006-2021)')\nplt.xlabel('Year')\nplt.ylabel('Average Temperature (°C)')\nplt.legend(title='Sector')\nplt.show()",
      "outputs": []
    },
    {
      "id": "3c2c1c24-e1cc-4767-9242-e6965d7736cd",
      "cell_type": "code",
      "metadata": {
        "noteable": {
          "cell_type": "code",
          "output_collection_id": "c3610375-23ec-4bc6-943f-d27eddf7e257"
        },
        "ExecuteTime": {
          "end_time": "2023-08-05T05:03:04.856424+00:00",
          "start_time": "2023-08-05T05:03:04.610773+00:00"
        },
        "datalink": {
          "87dcf5e7-ff37-4230-95c2-48aabc49ecb0": {
            "applied_filters": [],
            "dataframe_info": {
              "default_index_used": true,
              "orig_num_cols": 6,
              "orig_num_rows": 464,
              "orig_size_bytes": 25984,
              "truncated_num_cols": 6,
              "truncated_num_rows": 464,
              "truncated_size_bytes": 25984,
              "truncated_string_columns": []
            },
            "display_id": "87dcf5e7-ff37-4230-95c2-48aabc49ecb0",
            "dx_settings": {
              "ALLOW_NOTEABLE_ATTRS": true,
              "COLUMN_SAMPLING_METHOD": "outer",
              "DB_LOCATION": ":memory:",
              "DEV_MODE": false,
              "DISPLAY_MAX_COLUMNS": 100,
              "DISPLAY_MAX_ROWS": 50000,
              "DISPLAY_MODE": "simple",
              "ENABLE_ASSIGNMENT": true,
              "ENABLE_DATALINK": true,
              "FLATTEN_COLUMN_VALUES": true,
              "FLATTEN_INDEX_VALUES": false,
              "GENERATE_DEX_METADATA": false,
              "HTML_TABLE_SCHEMA": false,
              "LOG_LEVEL": 30,
              "MAX_RENDER_SIZE_BYTES": 104857600,
              "MAX_STRING_LENGTH": 250,
              "NUM_PAST_SAMPLES_TRACKED": 3,
              "RANDOM_STATE": 12648430,
              "RESET_INDEX_VALUES": false,
              "ROW_SAMPLING_METHOD": "random",
              "SAMPLING_FACTOR": 0.1,
              "SAMPLING_METHOD": "random",
              "STRINGIFY_COLUMN_VALUES": true,
              "STRINGIFY_INDEX_VALUES": false
            },
            "sample_history": [],
            "sampling_time": "2023-08-05T05:03:04.692247",
            "user_variable_name": "missing_values",
            "variable_name": "missing_values"
          }
        }
      },
      "execution_count": null,
      "source": "# Check for missing values in the 'Temperature' and 'Sector' columns\nmissing_values = italy_weather_data[italy_weather_data['Temperature'].isna() | italy_weather_data['Sector'].isna()]\nmissing_values",
      "outputs": []
    },
    {
      "id": "adcc8917-e8f2-4e39-ae6c-29679614ccba",
      "cell_type": "code",
      "metadata": {
        "noteable": {
          "cell_type": "code",
          "output_collection_id": "b16a61ad-074a-4d6b-b421-d6c121998b17"
        },
        "ExecuteTime": {
          "end_time": "2023-08-05T05:03:19.449157+00:00",
          "start_time": "2023-08-05T05:03:19.289558+00:00"
        }
      },
      "execution_count": null,
      "source": "# List unique province names from the dataset\nunique_provinces = italy_weather_data['Province'].unique()\nunique_provinces",
      "outputs": []
    },
    {
      "id": "a621acaf-0822-4d86-9113-d1760b259be3",
      "cell_type": "code",
      "metadata": {
        "noteable": {
          "cell_type": "code",
          "output_collection_id": "a30f5ef8-bbdf-4208-91c3-891f0f1ed983"
        },
        "ExecuteTime": {
          "end_time": "2023-08-05T05:06:29.844205+00:00",
          "start_time": "2023-08-05T05:06:29.600024+00:00"
        },
        "datalink": {
          "481ffe8c-69a8-4ade-a725-7c6c7531ce44": {
            "applied_filters": [],
            "dataframe_info": {
              "default_index_used": true,
              "orig_num_cols": 6,
              "orig_num_rows": 352,
              "orig_size_bytes": 19712,
              "truncated_num_cols": 6,
              "truncated_num_rows": 352,
              "truncated_size_bytes": 19712,
              "truncated_string_columns": []
            },
            "display_id": "481ffe8c-69a8-4ade-a725-7c6c7531ce44",
            "dx_settings": {
              "ALLOW_NOTEABLE_ATTRS": true,
              "COLUMN_SAMPLING_METHOD": "outer",
              "DB_LOCATION": ":memory:",
              "DEV_MODE": false,
              "DISPLAY_MAX_COLUMNS": 100,
              "DISPLAY_MAX_ROWS": 50000,
              "DISPLAY_MODE": "simple",
              "ENABLE_ASSIGNMENT": true,
              "ENABLE_DATALINK": true,
              "FLATTEN_COLUMN_VALUES": true,
              "FLATTEN_INDEX_VALUES": false,
              "GENERATE_DEX_METADATA": false,
              "HTML_TABLE_SCHEMA": false,
              "LOG_LEVEL": 30,
              "MAX_RENDER_SIZE_BYTES": 104857600,
              "MAX_STRING_LENGTH": 250,
              "NUM_PAST_SAMPLES_TRACKED": 3,
              "RANDOM_STATE": 12648430,
              "RESET_INDEX_VALUES": false,
              "ROW_SAMPLING_METHOD": "random",
              "SAMPLING_FACTOR": 0.1,
              "SAMPLING_METHOD": "random",
              "STRINGIFY_COLUMN_VALUES": true,
              "STRINGIFY_INDEX_VALUES": false
            },
            "sample_history": [],
            "sampling_time": "2023-08-05T05:06:29.682509",
            "user_variable_name": "missing_values_updated",
            "variable_name": "missing_values_updated"
          }
        }
      },
      "execution_count": null,
      "source": "# Update the region mapping with the provided corrections\nregion_mapping['Ravenna '] = 'Emilia-Romagna'\nregion_mapping['Pesaro urbino'] = 'Emilia-Romagna'\nregion_mapping['Massa Carrara'] = 'Tuscany'\nregion_mapping['Reggio nell\\'Emilia'] = 'Emilia-Romagna'\nregion_mapping['Andria'] = 'Apulia'\nregion_mapping['Barletta'] = 'Apulia'\nregion_mapping['Trani'] = 'Apulia'\n\n# Reapply the region mapping to the dataset\nitaly_weather_data['Region'] = italy_weather_data['Province'].map(region_mapping)\n# Reapply the sector mapping based on the updated region mapping\nitaly_weather_data['Sector'] = italy_weather_data['Region'].map(sector_mapping)\n\n# Check for any remaining missing values in the 'Region' and 'Sector' columns\nmissing_values_updated = italy_weather_data[italy_weather_data['Region'].isna() | italy_weather_data['Sector'].isna()]\nmissing_values_updated",
      "outputs": []
    },
    {
      "id": "65a5d212-7b1e-463e-b10c-78264a108864",
      "cell_type": "code",
      "metadata": {
        "noteable": {
          "cell_type": "code",
          "output_collection_id": "e4773951-5eb1-45b5-a5ff-530b2caee2b7"
        },
        "ExecuteTime": {
          "end_time": "2023-08-05T05:09:48.706055+00:00",
          "start_time": "2023-08-05T05:09:48.471879+00:00"
        },
        "datalink": {
          "0ba10b0c-4fdc-45a3-b851-1678497006c1": {
            "applied_filters": [],
            "dataframe_info": {
              "default_index_used": true,
              "orig_num_cols": 6,
              "orig_num_rows": 192,
              "orig_size_bytes": 10752,
              "truncated_num_cols": 6,
              "truncated_num_rows": 192,
              "truncated_size_bytes": 10752,
              "truncated_string_columns": []
            },
            "display_id": "0ba10b0c-4fdc-45a3-b851-1678497006c1",
            "dx_settings": {
              "ALLOW_NOTEABLE_ATTRS": true,
              "COLUMN_SAMPLING_METHOD": "outer",
              "DB_LOCATION": ":memory:",
              "DEV_MODE": false,
              "DISPLAY_MAX_COLUMNS": 100,
              "DISPLAY_MAX_ROWS": 50000,
              "DISPLAY_MODE": "simple",
              "ENABLE_ASSIGNMENT": true,
              "ENABLE_DATALINK": true,
              "FLATTEN_COLUMN_VALUES": true,
              "FLATTEN_INDEX_VALUES": false,
              "GENERATE_DEX_METADATA": false,
              "HTML_TABLE_SCHEMA": false,
              "LOG_LEVEL": 30,
              "MAX_RENDER_SIZE_BYTES": 104857600,
              "MAX_STRING_LENGTH": 250,
              "NUM_PAST_SAMPLES_TRACKED": 3,
              "RANDOM_STATE": 12648430,
              "RESET_INDEX_VALUES": false,
              "ROW_SAMPLING_METHOD": "random",
              "SAMPLING_FACTOR": 0.1,
              "SAMPLING_METHOD": "random",
              "STRINGIFY_COLUMN_VALUES": true,
              "STRINGIFY_INDEX_VALUES": false
            },
            "sample_history": [],
            "sampling_time": "2023-08-05T05:09:48.546959",
            "user_variable_name": "missing_values_final",
            "variable_name": "missing_values_final"
          }
        }
      },
      "execution_count": null,
      "source": "# Update the region mapping with the additional corrections\nregion_mapping['Verbania'] = 'Lombardy'\nregion_mapping['Milano'] = 'Lombardy'\nregion_mapping['Mantova'] = 'Lombardy'\nregion_mapping['Monza'] = 'Lombardy'\nregion_mapping['Venezia'] = 'Veneto'\nregion_mapping['Padova'] = 'Veneto'\nregion_mapping['Genova'] = 'Liguria'\nregion_mapping['Forlì'] = 'Emilia-Romagna'\nregion_mapping['Firenze'] = 'Tuscany'\nregion_mapping['Roma'] = 'Lazio'\n\n# Reapply the region and sector mappings to the dataset\nitaly_weather_data['Region'] = italy_weather_data['Province'].map(region_mapping)\nitaly_weather_data['Sector'] = italy_weather_data['Region'].map(sector_mapping)\n\n# Check for any remaining missing values in the 'Region' and 'Sector' columns\nmissing_values_final = italy_weather_data[italy_weather_data['Region'].isna() | italy_weather_data['Sector'].isna()]\nmissing_values_final",
      "outputs": []
    },
    {
      "id": "c870dd0e-e93e-4d98-bde8-8fffc12f6d48",
      "cell_type": "code",
      "metadata": {
        "noteable": {
          "cell_type": "code",
          "output_collection_id": "dfe08c75-6bb3-407d-a323-a91457cc0432"
        },
        "ExecuteTime": {
          "end_time": "2023-08-05T05:10:36.314418+00:00",
          "start_time": "2023-08-05T05:10:36.071972+00:00"
        },
        "datalink": {
          "d136a0a3-ff14-42f9-ac2f-c7c3044aabe6": {
            "applied_filters": [],
            "dataframe_info": {
              "default_index_used": true,
              "orig_num_cols": 6,
              "orig_num_rows": 128,
              "orig_size_bytes": 7168,
              "truncated_num_cols": 6,
              "truncated_num_rows": 128,
              "truncated_size_bytes": 7168,
              "truncated_string_columns": []
            },
            "display_id": "d136a0a3-ff14-42f9-ac2f-c7c3044aabe6",
            "dx_settings": {
              "ALLOW_NOTEABLE_ATTRS": true,
              "COLUMN_SAMPLING_METHOD": "outer",
              "DB_LOCATION": ":memory:",
              "DEV_MODE": false,
              "DISPLAY_MAX_COLUMNS": 100,
              "DISPLAY_MAX_ROWS": 50000,
              "DISPLAY_MODE": "simple",
              "ENABLE_ASSIGNMENT": true,
              "ENABLE_DATALINK": true,
              "FLATTEN_COLUMN_VALUES": true,
              "FLATTEN_INDEX_VALUES": false,
              "GENERATE_DEX_METADATA": false,
              "HTML_TABLE_SCHEMA": false,
              "LOG_LEVEL": 30,
              "MAX_RENDER_SIZE_BYTES": 104857600,
              "MAX_STRING_LENGTH": 250,
              "NUM_PAST_SAMPLES_TRACKED": 3,
              "RANDOM_STATE": 12648430,
              "RESET_INDEX_VALUES": false,
              "ROW_SAMPLING_METHOD": "random",
              "SAMPLING_FACTOR": 0.1,
              "SAMPLING_METHOD": "random",
              "STRINGIFY_COLUMN_VALUES": true,
              "STRINGIFY_INDEX_VALUES": false
            },
            "sample_history": [],
            "sampling_time": "2023-08-05T05:10:36.155591",
            "user_variable_name": "missing_values_final_check",
            "variable_name": "missing_values_final_check"
          }
        }
      },
      "execution_count": null,
      "source": "# Update the region mapping with the remaining corrections\nregion_mapping['L\\'Aquila'] = 'Abruzzo'\nregion_mapping['Teramo'] = 'Abruzzo'\nregion_mapping['Pescara'] = 'Abruzzo'\nregion_mapping['Chieti'] = 'Abruzzo'\nregion_mapping['Campobasso'] = 'Molise'\nregion_mapping['Isernia'] = 'Molise'\nregion_mapping['Napoli'] = 'Campania'\nregion_mapping['Reggio di Calabria'] = 'Calabria'\nregion_mapping['Siracusa'] = 'Sicily'\nregion_mapping['Carbonia'] = 'Sardinia'\n\n# Reapply the region and sector mappings to the dataset\nitaly_weather_data['Region'] = italy_weather_data['Province'].map(region_mapping)\nitaly_weather_data['Sector'] = italy_weather_data['Region'].map(sector_mapping)\n\n# Check for any remaining missing values in the 'Region' and 'Sector' columns\nmissing_values_final_check = italy_weather_data[italy_weather_data['Region'].isna() | italy_weather_data['Sector'].isna()]\nmissing_values_final_check",
      "outputs": []
    },
    {
      "id": "4d6247aa-ad8e-4d66-81b2-6774711f9b51",
      "cell_type": "code",
      "metadata": {
        "noteable": {
          "cell_type": "code",
          "output_collection_id": "304e6817-f46c-4db7-ae72-ba1f3fdb8fd3"
        },
        "ExecuteTime": {
          "end_time": "2023-08-05T05:10:55.897430+00:00",
          "start_time": "2023-08-05T05:10:55.669835+00:00"
        },
        "datalink": {
          "4ed1a2ff-810d-4020-8802-8e42d7f199f4": {
            "applied_filters": [],
            "dataframe_info": {
              "default_index_used": true,
              "orig_num_cols": 6,
              "orig_num_rows": 32,
              "orig_size_bytes": 1792,
              "truncated_num_cols": 6,
              "truncated_num_rows": 32,
              "truncated_size_bytes": 1792,
              "truncated_string_columns": []
            },
            "display_id": "4ed1a2ff-810d-4020-8802-8e42d7f199f4",
            "dx_settings": {
              "ALLOW_NOTEABLE_ATTRS": true,
              "COLUMN_SAMPLING_METHOD": "outer",
              "DB_LOCATION": ":memory:",
              "DEV_MODE": false,
              "DISPLAY_MAX_COLUMNS": 100,
              "DISPLAY_MAX_ROWS": 50000,
              "DISPLAY_MODE": "simple",
              "ENABLE_ASSIGNMENT": true,
              "ENABLE_DATALINK": true,
              "FLATTEN_COLUMN_VALUES": true,
              "FLATTEN_INDEX_VALUES": false,
              "GENERATE_DEX_METADATA": false,
              "HTML_TABLE_SCHEMA": false,
              "LOG_LEVEL": 30,
              "MAX_RENDER_SIZE_BYTES": 104857600,
              "MAX_STRING_LENGTH": 250,
              "NUM_PAST_SAMPLES_TRACKED": 3,
              "RANDOM_STATE": 12648430,
              "RESET_INDEX_VALUES": false,
              "ROW_SAMPLING_METHOD": "random",
              "SAMPLING_FACTOR": 0.1,
              "SAMPLING_METHOD": "random",
              "STRINGIFY_COLUMN_VALUES": true,
              "STRINGIFY_INDEX_VALUES": false
            },
            "sample_history": [],
            "sampling_time": "2023-08-05T05:10:55.739931",
            "user_variable_name": "missing_values_final_check_again",
            "variable_name": "missing_values_final_check_again"
          }
        }
      },
      "execution_count": null,
      "source": "# Correct the sector mapping for 'Abruzzo' and 'Molise'\nsector_mapping['Abruzzo'] = 'Southern'\nsector_mapping['Molise'] = 'Southern'\n\n# Reapply the sector mapping based on the corrected region mapping\nitaly_weather_data['Sector'] = italy_weather_data['Region'].map(sector_mapping)\n\n# Check for any remaining missing values in the 'Region' and 'Sector' columns\nmissing_values_final_check_again = italy_weather_data[italy_weather_data['Region'].isna() | italy_weather_data['Sector'].isna()]\nmissing_values_final_check_again",
      "outputs": []
    },
    {
      "id": "a344c8e8-dd77-436d-bfdf-db33ee23bf49",
      "cell_type": "code",
      "metadata": {
        "noteable": {
          "cell_type": "code",
          "output_collection_id": "9126d407-e297-4eb7-8372-2ee11ff21f62"
        },
        "ExecuteTime": {
          "end_time": "2023-08-05T05:11:35.806635+00:00",
          "start_time": "2023-08-05T05:11:35.201062+00:00"
        }
      },
      "execution_count": null,
      "source": "# Remove rows with missing values in the 'Region' and 'Sector' columns\nitaly_weather_data = italy_weather_data.dropna(subset=['Region', 'Sector'])\n\n# Calculate the mean temperature for each sector by year\nsector_temperature_trend = italy_weather_data.groupby(['Sector', 'Year'])['Temperature'].mean().reset_index()\n\n# Plot the trend in temperatures by sector\nplt.figure(figsize=(12, 6))\nsns.lineplot(x='Year', y='Temperature', hue='Sector', data=sector_temperature_trend)\nplt.title('Trend in Average Temperatures by Sector in Italy (2006-2021)')\nplt.xlabel('Year')\nplt.ylabel('Average Temperature (°C)')\nplt.legend(title='Sector')\nplt.show()",
      "outputs": []
    },
    {
      "id": "5ab5f2aa-23f6-41ed-8e23-2b798f184022",
      "cell_type": "code",
      "metadata": {
        "noteable": {
          "cell_type": "code",
          "output_collection_id": "704bda5b-c2a3-4962-a189-6e8b5bff38f8"
        },
        "ExecuteTime": {
          "end_time": "2023-08-05T05:12:46.972763+00:00",
          "start_time": "2023-08-05T05:12:46.753017+00:00"
        },
        "datalink": {
          "8e914a62-c6f2-4b19-8d78-ff6faa2e4bab": {
            "applied_filters": [],
            "dataframe_info": {
              "default_index_used": false,
              "orig_num_cols": 1,
              "orig_num_rows": 2,
              "orig_size_bytes": 32,
              "truncated_num_cols": 1,
              "truncated_num_rows": 2,
              "truncated_size_bytes": 32,
              "truncated_string_columns": []
            },
            "display_id": "8e914a62-c6f2-4b19-8d78-ff6faa2e4bab",
            "dx_settings": {
              "ALLOW_NOTEABLE_ATTRS": true,
              "COLUMN_SAMPLING_METHOD": "outer",
              "DB_LOCATION": ":memory:",
              "DEV_MODE": false,
              "DISPLAY_MAX_COLUMNS": 100,
              "DISPLAY_MAX_ROWS": 50000,
              "DISPLAY_MODE": "simple",
              "ENABLE_ASSIGNMENT": true,
              "ENABLE_DATALINK": true,
              "FLATTEN_COLUMN_VALUES": true,
              "FLATTEN_INDEX_VALUES": false,
              "GENERATE_DEX_METADATA": false,
              "HTML_TABLE_SCHEMA": false,
              "LOG_LEVEL": 30,
              "MAX_RENDER_SIZE_BYTES": 104857600,
              "MAX_STRING_LENGTH": 250,
              "NUM_PAST_SAMPLES_TRACKED": 3,
              "RANDOM_STATE": 12648430,
              "RESET_INDEX_VALUES": false,
              "ROW_SAMPLING_METHOD": "random",
              "SAMPLING_FACTOR": 0.1,
              "SAMPLING_METHOD": "random",
              "STRINGIFY_COLUMN_VALUES": true,
              "STRINGIFY_INDEX_VALUES": false
            },
            "sample_history": [],
            "sampling_time": "2023-08-05T05:12:46.815154",
            "user_variable_name": null,
            "variable_name": "unk_dataframe_428f498b5fef463c8a9cfe6f9a75ac59"
          }
        }
      },
      "execution_count": null,
      "source": "# Check the data types of the 'Year' and 'Temperature' columns\nyear_temperature_data_types = italy_weather_data[['Year', 'Temperature']].dtypes\nyear_temperature_data_types",
      "outputs": []
    },
    {
      "id": "216ba657-edae-4af8-a085-ba0a7290defd",
      "cell_type": "code",
      "metadata": {
        "noteable": {
          "cell_type": "code",
          "output_collection_id": "f8d4ea6c-4486-41c0-867d-e2babefa1283"
        },
        "ExecuteTime": {
          "end_time": "2023-08-05T05:13:02.566649+00:00",
          "start_time": "2023-08-05T05:13:02.335428+00:00"
        },
        "datalink": {
          "4f4b8d69-f9e5-40ba-ae34-06b41e01f892": {
            "applied_filters": [],
            "dataframe_info": {
              "default_index_used": true,
              "orig_num_cols": 6,
              "orig_num_rows": 75,
              "orig_size_bytes": 4200,
              "truncated_num_cols": 6,
              "truncated_num_rows": 75,
              "truncated_size_bytes": 4200,
              "truncated_string_columns": []
            },
            "display_id": "4f4b8d69-f9e5-40ba-ae34-06b41e01f892",
            "dx_settings": {
              "ALLOW_NOTEABLE_ATTRS": true,
              "COLUMN_SAMPLING_METHOD": "outer",
              "DB_LOCATION": ":memory:",
              "DEV_MODE": false,
              "DISPLAY_MAX_COLUMNS": 100,
              "DISPLAY_MAX_ROWS": 50000,
              "DISPLAY_MODE": "simple",
              "ENABLE_ASSIGNMENT": true,
              "ENABLE_DATALINK": true,
              "FLATTEN_COLUMN_VALUES": true,
              "FLATTEN_INDEX_VALUES": false,
              "GENERATE_DEX_METADATA": false,
              "HTML_TABLE_SCHEMA": false,
              "LOG_LEVEL": 30,
              "MAX_RENDER_SIZE_BYTES": 104857600,
              "MAX_STRING_LENGTH": 250,
              "NUM_PAST_SAMPLES_TRACKED": 3,
              "RANDOM_STATE": 12648430,
              "RESET_INDEX_VALUES": false,
              "ROW_SAMPLING_METHOD": "random",
              "SAMPLING_FACTOR": 0.1,
              "SAMPLING_METHOD": "random",
              "STRINGIFY_COLUMN_VALUES": true,
              "STRINGIFY_INDEX_VALUES": false
            },
            "sample_history": [],
            "sampling_time": "2023-08-05T05:13:02.408649",
            "user_variable_name": "missing_temperatures",
            "variable_name": "missing_temperatures"
          }
        }
      },
      "execution_count": null,
      "source": "# Convert the 'Temperature' column to a numeric data type, handling any non-numeric values\nitaly_weather_data['Temperature'] = pd.to_numeric(italy_weather_data['Temperature'], errors='coerce')\n\n# Check for any missing values in the 'Temperature' column after conversion\nmissing_temperatures = italy_weather_data[italy_weather_data['Temperature'].isna()]\nmissing_temperatures",
      "outputs": []
    },
    {
      "id": "f67937cf-792b-4316-924b-d4bb09554db5",
      "cell_type": "code",
      "metadata": {
        "noteable": {
          "cell_type": "code",
          "output_collection_id": "b90d00ef-d290-47b0-bed5-131abaf2659b"
        },
        "ExecuteTime": {
          "end_time": "2023-08-05T05:14:05.993808+00:00",
          "start_time": "2023-08-05T05:14:05.174003+00:00"
        }
      },
      "execution_count": null,
      "source": "# Remove rows with missing values in the 'Temperature' column\nitaly_weather_data = italy_weather_data.dropna(subset=['Temperature'])\n\n# Calculate the mean temperature for each sector by year\nsector_temperature_trend = italy_weather_data.groupby(['Sector', 'Year'])['Temperature'].mean().reset_index()\n\n# Plot the trend in temperatures by sector\nplt.figure(figsize=(12, 6))\nsns.lineplot(x='Year', y='Temperature', hue='Sector', data=sector_temperature_trend)\nplt.title('Trend in Average Temperatures by Sector in Italy (2006-2021)')\nplt.xlabel('Year')\nplt.ylabel('Average Temperature (°C)')\nplt.legend(title='Sector')\nplt.show()",
      "outputs": []
    },
    {
      "id": "79a94593-a8c4-4c4a-a6ba-fc3cb59ad09b",
      "cell_type": "code",
      "metadata": {
        "noteable": {
          "cell_type": "code",
          "output_collection_id": "2096c81d-2612-4f1b-bf18-267bde77fea3"
        },
        "ExecuteTime": {
          "end_time": "2023-08-05T05:15:16.201019+00:00",
          "start_time": "2023-08-05T05:15:15.969642+00:00"
        },
        "datalink": {
          "c9746991-6db7-46a4-9969-b9d8923bf568": {
            "applied_filters": [],
            "dataframe_info": {
              "default_index_used": true,
              "orig_num_cols": 2,
              "orig_num_rows": 4,
              "orig_size_bytes": 96,
              "truncated_num_cols": 2,
              "truncated_num_rows": 4,
              "truncated_size_bytes": 96,
              "truncated_string_columns": []
            },
            "display_id": "c9746991-6db7-46a4-9969-b9d8923bf568",
            "dx_settings": {
              "ALLOW_NOTEABLE_ATTRS": true,
              "COLUMN_SAMPLING_METHOD": "outer",
              "DB_LOCATION": ":memory:",
              "DEV_MODE": false,
              "DISPLAY_MAX_COLUMNS": 100,
              "DISPLAY_MAX_ROWS": 50000,
              "DISPLAY_MODE": "simple",
              "ENABLE_ASSIGNMENT": true,
              "ENABLE_DATALINK": true,
              "FLATTEN_COLUMN_VALUES": true,
              "FLATTEN_INDEX_VALUES": false,
              "GENERATE_DEX_METADATA": false,
              "HTML_TABLE_SCHEMA": false,
              "LOG_LEVEL": 30,
              "MAX_RENDER_SIZE_BYTES": 104857600,
              "MAX_STRING_LENGTH": 250,
              "NUM_PAST_SAMPLES_TRACKED": 3,
              "RANDOM_STATE": 12648430,
              "RESET_INDEX_VALUES": false,
              "ROW_SAMPLING_METHOD": "random",
              "SAMPLING_FACTOR": 0.1,
              "SAMPLING_METHOD": "random",
              "STRINGIFY_COLUMN_VALUES": true,
              "STRINGIFY_INDEX_VALUES": false
            },
            "sample_history": [],
            "sampling_time": "2023-08-05T05:15:16.042703",
            "user_variable_name": "sector_trends",
            "variable_name": "sector_trends"
          }
        }
      },
      "execution_count": null,
      "source": "from scipy.stats import linregress\n\n# Function to calculate the slope (trend) for each sector\ndef calculate_trend(sector_data):\n    slope, _, _, _, _ = linregress(sector_data['Year'], sector_data['Temperature'])\n    return slope\n\n# Calculate the trend (slope) for each sector\nsector_trends = sector_temperature_trend.groupby('Sector').apply(calculate_trend).reset_index()\nsector_trends.columns = ['Sector', 'Trend']\nsector_trends",
      "outputs": []
    },
    {
      "id": "d2298cb7-e9b7-43b5-86de-91652640200b",
      "cell_type": "code",
      "metadata": {
        "noteable": {
          "cell_type": "code",
          "output_collection_id": "8bc9820d-3108-4837-be5f-16a18f135e25"
        },
        "ExecuteTime": {
          "end_time": "2023-08-05T05:17:27.793706+00:00",
          "start_time": "2023-08-05T05:17:27.360687+00:00"
        }
      },
      "execution_count": null,
      "source": "# Calculate the mean precipitation for each sector by year\nsector_precipitation_trend = italy_weather_data.groupby(['Sector', 'Year'])['Precipitation'].mean().reset_index()\n\n# Plot the trend in precipitations by sector\nplt.figure(figsize=(12, 6))\nsns.lineplot(x='Year', y='Precipitation', hue='Sector', data=sector_precipitation_trend)\nplt.title('Trend in Average Precipitations by Sector in Italy (2006-2021)')\nplt.xlabel('Year')\nplt.ylabel('Average Precipitation (mm)')\nplt.legend(title='Sector')\nplt.show()",
      "outputs": []
    },
    {
      "id": "2a8b5276-33e1-4418-94c1-b27bd208187f",
      "cell_type": "code",
      "metadata": {
        "noteable": {
          "cell_type": "code",
          "output_collection_id": "4c3270be-839f-4fac-946b-fd97ce9f3f5a"
        },
        "ExecuteTime": {
          "end_time": "2023-08-05T05:17:56.537152+00:00",
          "start_time": "2023-08-05T05:17:56.378073+00:00"
        }
      },
      "execution_count": null,
      "source": "# Check the data types of the 'Precipitation' column\nprecipitation_data_type = italy_weather_data['Precipitation'].dtypes\nprecipitation_data_type",
      "outputs": []
    },
    {
      "id": "6c3fe7b1-980b-45ab-bf40-59086f0198fa",
      "cell_type": "code",
      "metadata": {
        "noteable": {
          "cell_type": "code",
          "output_collection_id": "300ea8ad-83e0-44bc-a870-6d9260e27562"
        },
        "ExecuteTime": {
          "end_time": "2023-08-05T05:18:17.703706+00:00",
          "start_time": "2023-08-05T05:18:17.472120+00:00"
        },
        "datalink": {
          "670becc3-bdb7-4eaf-a884-4c14ba6f13ec": {
            "applied_filters": [],
            "dataframe_info": {
              "default_index_used": true,
              "orig_num_cols": 6,
              "orig_num_rows": 33,
              "orig_size_bytes": 1848,
              "truncated_num_cols": 6,
              "truncated_num_rows": 33,
              "truncated_size_bytes": 1848,
              "truncated_string_columns": []
            },
            "display_id": "670becc3-bdb7-4eaf-a884-4c14ba6f13ec",
            "dx_settings": {
              "ALLOW_NOTEABLE_ATTRS": true,
              "COLUMN_SAMPLING_METHOD": "outer",
              "DB_LOCATION": ":memory:",
              "DEV_MODE": false,
              "DISPLAY_MAX_COLUMNS": 100,
              "DISPLAY_MAX_ROWS": 50000,
              "DISPLAY_MODE": "simple",
              "ENABLE_ASSIGNMENT": true,
              "ENABLE_DATALINK": true,
              "FLATTEN_COLUMN_VALUES": true,
              "FLATTEN_INDEX_VALUES": false,
              "GENERATE_DEX_METADATA": false,
              "HTML_TABLE_SCHEMA": false,
              "LOG_LEVEL": 30,
              "MAX_RENDER_SIZE_BYTES": 104857600,
              "MAX_STRING_LENGTH": 250,
              "NUM_PAST_SAMPLES_TRACKED": 3,
              "RANDOM_STATE": 12648430,
              "RESET_INDEX_VALUES": false,
              "ROW_SAMPLING_METHOD": "random",
              "SAMPLING_FACTOR": 0.1,
              "SAMPLING_METHOD": "random",
              "STRINGIFY_COLUMN_VALUES": true,
              "STRINGIFY_INDEX_VALUES": false
            },
            "sample_history": [],
            "sampling_time": "2023-08-05T05:18:17.546068",
            "user_variable_name": "missing_precipitations",
            "variable_name": "missing_precipitations"
          }
        }
      },
      "execution_count": null,
      "source": "# Convert the 'Precipitation' column to a numeric data type, handling any non-numeric values\nitaly_weather_data['Precipitation'] = pd.to_numeric(italy_weather_data['Precipitation'], errors='coerce')\n\n# Check for any missing values in the 'Precipitation' column after conversion\nmissing_precipitations = italy_weather_data[italy_weather_data['Precipitation'].isna()]\nmissing_precipitations",
      "outputs": []
    },
    {
      "id": "e7fa8e45-fae8-4376-b422-42d63194e5cd",
      "cell_type": "code",
      "metadata": {
        "noteable": {
          "cell_type": "code",
          "output_collection_id": "6783d3be-3664-49ed-bd6b-d7664440d088"
        },
        "ExecuteTime": {
          "end_time": "2023-08-05T05:18:57.093305+00:00",
          "start_time": "2023-08-05T05:18:56.425973+00:00"
        }
      },
      "execution_count": null,
      "source": "# Remove rows with missing values in the 'Precipitation' column\nitaly_weather_data = italy_weather_data.dropna(subset=['Precipitation'])\n\n# Calculate the mean precipitation for each sector by year\nsector_precipitation_trend = italy_weather_data.groupby(['Sector', 'Year'])['Precipitation'].mean().reset_index()\n\n# Plot the trend in precipitations by sector\nplt.figure(figsize=(12, 6))\nsns.lineplot(x='Year', y='Precipitation', hue='Sector', data=sector_precipitation_trend)\nplt.title('Trend in Average Precipitations by Sector in Italy (2006-2021)')\nplt.xlabel('Year')\nplt.ylabel('Average Precipitation (mm)')\nplt.legend(title='Sector')\nplt.show()",
      "outputs": []
    },
    {
      "id": "62e1e08a-c3bf-44f1-8b25-81162df2e0da",
      "cell_type": "code",
      "metadata": {
        "noteable": {
          "cell_type": "code",
          "output_collection_id": "8174bb32-7301-4bf9-9225-29437d9e6482"
        },
        "ExecuteTime": {
          "end_time": "2023-08-05T05:20:07.696629+00:00",
          "start_time": "2023-08-05T05:20:07.472726+00:00"
        },
        "datalink": {
          "fdf187d0-594e-4ae7-91c7-2f70aab92946": {
            "applied_filters": [],
            "dataframe_info": {
              "default_index_used": true,
              "orig_num_cols": 2,
              "orig_num_rows": 4,
              "orig_size_bytes": 96,
              "truncated_num_cols": 2,
              "truncated_num_rows": 4,
              "truncated_size_bytes": 96,
              "truncated_string_columns": []
            },
            "display_id": "fdf187d0-594e-4ae7-91c7-2f70aab92946",
            "dx_settings": {
              "ALLOW_NOTEABLE_ATTRS": true,
              "COLUMN_SAMPLING_METHOD": "outer",
              "DB_LOCATION": ":memory:",
              "DEV_MODE": false,
              "DISPLAY_MAX_COLUMNS": 100,
              "DISPLAY_MAX_ROWS": 50000,
              "DISPLAY_MODE": "simple",
              "ENABLE_ASSIGNMENT": true,
              "ENABLE_DATALINK": true,
              "FLATTEN_COLUMN_VALUES": true,
              "FLATTEN_INDEX_VALUES": false,
              "GENERATE_DEX_METADATA": false,
              "HTML_TABLE_SCHEMA": false,
              "LOG_LEVEL": 30,
              "MAX_RENDER_SIZE_BYTES": 104857600,
              "MAX_STRING_LENGTH": 250,
              "NUM_PAST_SAMPLES_TRACKED": 3,
              "RANDOM_STATE": 12648430,
              "RESET_INDEX_VALUES": false,
              "ROW_SAMPLING_METHOD": "random",
              "SAMPLING_FACTOR": 0.1,
              "SAMPLING_METHOD": "random",
              "STRINGIFY_COLUMN_VALUES": true,
              "STRINGIFY_INDEX_VALUES": false
            },
            "sample_history": [],
            "sampling_time": "2023-08-05T05:20:07.539251",
            "user_variable_name": "sector_precipitation_trends",
            "variable_name": "sector_precipitation_trends"
          }
        }
      },
      "execution_count": null,
      "source": "# Function to calculate the slope (trend) for each sector for precipitations\ndef calculate_precipitation_trend(sector_data):\n    slope, _, _, _, _ = linregress(sector_data['Year'], sector_data['Precipitation'])\n    return slope\n\n# Calculate the trend (slope) for each sector for precipitations\nsector_precipitation_trends = sector_precipitation_trend.groupby('Sector').apply(calculate_precipitation_trend).reset_index()\nsector_precipitation_trends.columns = ['Sector', 'Trend']\nsector_precipitation_trends",
      "outputs": []
    },
    {
      "id": "4867772b-cf01-4964-a780-1b25ff55025e",
      "cell_type": "code",
      "metadata": {
        "noteable": {
          "cell_type": "code",
          "output_collection_id": "74122a00-4dbd-44d1-b87d-94c8556993c0"
        },
        "ExecuteTime": {
          "end_time": "2023-08-05T05:21:58.397595+00:00",
          "start_time": "2023-08-05T05:21:58.176118+00:00"
        },
        "datalink": {
          "c08b02ef-9863-43a1-acff-e82bc5824067": {
            "applied_filters": [],
            "dataframe_info": {
              "default_index_used": true,
              "orig_num_cols": 2,
              "orig_num_rows": 5,
              "orig_size_bytes": 120,
              "truncated_num_cols": 2,
              "truncated_num_rows": 5,
              "truncated_size_bytes": 120,
              "truncated_string_columns": []
            },
            "display_id": "c08b02ef-9863-43a1-acff-e82bc5824067",
            "dx_settings": {
              "ALLOW_NOTEABLE_ATTRS": true,
              "COLUMN_SAMPLING_METHOD": "outer",
              "DB_LOCATION": ":memory:",
              "DEV_MODE": false,
              "DISPLAY_MAX_COLUMNS": 100,
              "DISPLAY_MAX_ROWS": 50000,
              "DISPLAY_MODE": "simple",
              "ENABLE_ASSIGNMENT": true,
              "ENABLE_DATALINK": true,
              "FLATTEN_COLUMN_VALUES": true,
              "FLATTEN_INDEX_VALUES": false,
              "GENERATE_DEX_METADATA": false,
              "HTML_TABLE_SCHEMA": false,
              "LOG_LEVEL": 30,
              "MAX_RENDER_SIZE_BYTES": 104857600,
              "MAX_STRING_LENGTH": 250,
              "NUM_PAST_SAMPLES_TRACKED": 3,
              "RANDOM_STATE": 12648430,
              "RESET_INDEX_VALUES": false,
              "ROW_SAMPLING_METHOD": "random",
              "SAMPLING_FACTOR": 0.1,
              "SAMPLING_METHOD": "random",
              "STRINGIFY_COLUMN_VALUES": true,
              "STRINGIFY_INDEX_VALUES": false
            },
            "sample_history": [],
            "sampling_time": "2023-08-05T05:21:58.240636",
            "user_variable_name": "top_5_hottest_provinces",
            "variable_name": "top_5_hottest_provinces"
          }
        }
      },
      "execution_count": null,
      "source": "# Calculate the mean temperature for each province over the entire period\ntop_provinces_temperature = italy_weather_data.groupby('Province')['Temperature'].mean().reset_index()\n\n# Sort by temperature to get the top 5 hottest provinces\ntop_5_hottest_provinces = top_provinces_temperature.nlargest(5, 'Temperature')\ntop_5_hottest_provinces",
      "outputs": []
    },
    {
      "id": "5b80926f-d673-4d6f-a43f-21c5f0952e7f",
      "cell_type": "code",
      "metadata": {
        "noteable": {
          "cell_type": "code",
          "output_collection_id": "ac270e18-5524-4b20-9727-bfb5c932aaa7"
        },
        "ExecuteTime": {
          "end_time": "2023-08-05T05:22:45.602197+00:00",
          "start_time": "2023-08-05T05:22:45.372498+00:00"
        },
        "datalink": {
          "65cefd17-7985-4622-9591-fc56d9500512": {
            "applied_filters": [],
            "dataframe_info": {
              "default_index_used": true,
              "orig_num_cols": 2,
              "orig_num_rows": 5,
              "orig_size_bytes": 120,
              "truncated_num_cols": 2,
              "truncated_num_rows": 5,
              "truncated_size_bytes": 120,
              "truncated_string_columns": []
            },
            "display_id": "65cefd17-7985-4622-9591-fc56d9500512",
            "dx_settings": {
              "ALLOW_NOTEABLE_ATTRS": true,
              "COLUMN_SAMPLING_METHOD": "outer",
              "DB_LOCATION": ":memory:",
              "DEV_MODE": false,
              "DISPLAY_MAX_COLUMNS": 100,
              "DISPLAY_MAX_ROWS": 50000,
              "DISPLAY_MODE": "simple",
              "ENABLE_ASSIGNMENT": true,
              "ENABLE_DATALINK": true,
              "FLATTEN_COLUMN_VALUES": true,
              "FLATTEN_INDEX_VALUES": false,
              "GENERATE_DEX_METADATA": false,
              "HTML_TABLE_SCHEMA": false,
              "LOG_LEVEL": 30,
              "MAX_RENDER_SIZE_BYTES": 104857600,
              "MAX_STRING_LENGTH": 250,
              "NUM_PAST_SAMPLES_TRACKED": 3,
              "RANDOM_STATE": 12648430,
              "RESET_INDEX_VALUES": false,
              "ROW_SAMPLING_METHOD": "random",
              "SAMPLING_FACTOR": 0.1,
              "SAMPLING_METHOD": "random",
              "STRINGIFY_COLUMN_VALUES": true,
              "STRINGIFY_INDEX_VALUES": false
            },
            "sample_history": [],
            "sampling_time": "2023-08-05T05:22:45.446161",
            "user_variable_name": "top_5_provinces_trends",
            "variable_name": "top_5_provinces_trends"
          }
        }
      },
      "execution_count": null,
      "source": "# Function to calculate the trend (slope) for each province\ndef calculate_province_trend(province_data):\n    slope, _, _, _, _ = linregress(province_data['Year'], province_data['Temperature'])\n    return slope\n\n# Filter data for the top 5 hottest provinces\ntop_5_provinces_data = italy_weather_data[italy_weather_data['Province'].isin(top_5_hottest_provinces['Province'])]\n\n# Calculate the trend (slope) for each of the top 5 hottest provinces\ntop_5_provinces_trends = top_5_provinces_data.groupby('Province').apply(calculate_province_trend).reset_index()\ntop_5_provinces_trends.columns = ['Province', 'Trend']\ntop_5_provinces_trends",
      "outputs": []
    },
    {
      "id": "9000d267-0287-4c81-8eac-3c6ab3105fa6",
      "cell_type": "code",
      "metadata": {
        "noteable": {
          "cell_type": "code",
          "output_collection_id": "20484c77-9a8d-45d2-ba2b-f86bf5b939f2"
        },
        "ExecuteTime": {
          "end_time": "2023-08-05T11:35:27.996910+00:00",
          "start_time": "2023-08-05T11:35:27.435353+00:00"
        }
      },
      "execution_count": null,
      "source": "# Calculate the mean temperature for Italy by year\nitaly_temperature_trend = italy_weather_data.groupby('Year')['Temperature'].mean().reset_index()\n\n# Perform linear regression to calculate the trend (slope)\nslope, _, _, _, _ = linregress(italy_temperature_trend['Year'], italy_temperature_trend['Temperature'])\n\n# The slope represents the rate of change in average temperatures for Italy\nslope",
      "outputs": []
    }
  ]
}